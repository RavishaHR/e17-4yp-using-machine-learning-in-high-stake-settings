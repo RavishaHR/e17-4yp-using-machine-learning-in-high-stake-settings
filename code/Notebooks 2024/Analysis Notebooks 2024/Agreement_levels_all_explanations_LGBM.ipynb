{
 "cells": [
  {
   "cell_type": "code",
   "execution_count": 1,
   "id": "a061ffc0-21fb-4f10-857b-ca293887cc63",
   "metadata": {},
   "outputs": [],
   "source": [
    "# Import libraries\n",
    "import os\n",
    "import pandas as pd\n",
    "import pickle\n",
    "import matplotlib.pyplot as plt\n",
    "import random\n",
    "import json\n",
    "from typing import Union\n",
    "import numpy as np\n",
    "import itertools\n",
    "from disagreement import Disagreement\n",
    "import joblib\n",
    "import re"
   ]
  },
  {
   "cell_type": "code",
   "execution_count": 2,
   "id": "15b2d91f-2f2a-4f20-9b17-ed2b46eb80ad",
   "metadata": {},
   "outputs": [],
   "source": [
    "from compactor.MaxNonActivatedCompactor import MaxNonActivatedCompactor\n",
    "from compactor.ActivatedCompactor import ActivatedCompactor\n",
    "from compactor.MaxCompactor import MaxCompactor"
   ]
  },
  {
   "cell_type": "code",
   "execution_count": 1,
   "id": "2b752c83-85f8-405e-82ec-ddeaffb19016",
   "metadata": {},
   "outputs": [
    {
     "name": "stdout",
     "output_type": "stream",
     "text": [
      "lgbm_classifier_numl_100_md_10_lr_0.05_fold_1_2016-01-07.sav\n",
      "lgbm_classifier_numl_100_md_10_lr_0.05_fold_2_2015-09-09.sav\n",
      "lgbm_classifier_numl_100_md_10_lr_0.05_fold_3_2015-05-12.sav\n",
      "lgbm_classifier_numl_100_md_10_lr_0.05_fold_4_2015-01-12.sav\n",
      "lgbm_classifier_numl_100_md_10_lr_0.05_fold_5_2014-09-14.sav\n",
      "lgbm_classifier_numl_100_md_10_lr_0.05_fold_6_2014-05-17.sav\n",
      "test_prediction_fold_1_2016-01-07.csv\n",
      "test_prediction_fold_2_2015-09-09.csv\n",
      "test_prediction_fold_3_2015-05-12.csv\n",
      "test_prediction_fold_4_2015-01-12.csv\n",
      "test_prediction_fold_5_2014-09-14.csv\n",
      "test_prediction_fold_6_2014-05-17.csv\n"
     ]
    }
   ],
   "source": [
    "!ls /storage/scratch/e17-fyp-xai/projects/e17-4yp-using-machine-learning-in-high-stake-settings/code/new/model_outputs/artifacts/lgbm_classifier_numl_100_md_10_lr_0.05/"
   ]
  },
  {
   "cell_type": "code",
   "execution_count": 3,
   "id": "67dc1146-fd99-4f9b-8624-12173aff92c2",
   "metadata": {},
   "outputs": [],
   "source": [
    "root = \"/storage/scratch/e17-fyp-xai/projects/e17-4yp-using-machine-learning-in-high-stake-settings/code/new/model_outputs/\"\n",
    "model_path = \"lgbm_classifier_numl_100_md_10_lr_0.05/\" # Change\n",
    "model_name = \"lgbm_classifier_numl_100_md_10_lr_0.05_fold_4_2015-01-12.sav\" # Change\n",
    "xai_root = root + \"xai/2024/\"\n",
    "art_root = root + \"artifacts/\"\n",
    "analysis_path = root + \"analysis/2024/\"\n",
    "json_file_path = xai_root + model_path + \"all_exp.json\"\n",
    "processed_data_path = \"/storage/scratch/e17-fyp-xai/projects/e17-4yp-using-machine-learning-in-high-stake-settings/code/processed_data/processed_final_data_latest.csv\"\n",
    "\n",
    "fold = 'fold4' # Change\n",
    "model_type = 'lgbm' # Types: nn, xgb, lgbm, lr, rf # Change\n",
    "\n",
    "model_type_save = 'LGBM'\n",
    "\n",
    "save_path = analysis_path + model_path + f\"agreement_levels_all_explanations/{fold}/\""
   ]
  },
  {
   "cell_type": "code",
   "execution_count": 4,
   "id": "cac614b9-6fab-4156-8ae7-7c80cd53c70c",
   "metadata": {},
   "outputs": [
    {
     "name": "stderr",
     "output_type": "stream",
     "text": [
      "2024-03-02 12:57:43.722167: I external/local_tsl/tsl/cuda/cudart_stub.cc:31] Could not find cuda drivers on your machine, GPU will not be used.\n",
      "2024-03-02 12:57:43.769897: E external/local_xla/xla/stream_executor/cuda/cuda_dnn.cc:9261] Unable to register cuDNN factory: Attempting to register factory for plugin cuDNN when one has already been registered\n",
      "2024-03-02 12:57:43.769949: E external/local_xla/xla/stream_executor/cuda/cuda_fft.cc:607] Unable to register cuFFT factory: Attempting to register factory for plugin cuFFT when one has already been registered\n",
      "2024-03-02 12:57:43.771307: E external/local_xla/xla/stream_executor/cuda/cuda_blas.cc:1515] Unable to register cuBLAS factory: Attempting to register factory for plugin cuBLAS when one has already been registered\n",
      "2024-03-02 12:57:43.779267: I external/local_tsl/tsl/cuda/cudart_stub.cc:31] Could not find cuda drivers on your machine, GPU will not be used.\n",
      "2024-03-02 12:57:56.104316: W tensorflow/compiler/tf2tensorrt/utils/py_utils.cc:38] TF-TRT Warning: Could not find TensorRT\n"
     ]
    }
   ],
   "source": [
    "# Change directory and import\n",
    "os.chdir(\"/storage/scratch/e17-fyp-xai/projects/mad_v3/e17-4yp-using-machine-learning-in-high-stake-settings/code/\")\n",
    "import config\n",
    "import helper as hp\n",
    "import data_processor as dp\n",
    "import feature_engineer as fe\n",
    "categorical_cols = config.CATEGORICAL_COLS"
   ]
  },
  {
   "cell_type": "code",
   "execution_count": 6,
   "id": "d482c97d-3688-4fd0-9b9f-873218199d41",
   "metadata": {},
   "outputs": [],
   "source": [
    "# Helper functions\n",
    "# Function to save images\n",
    "def save_image(caption, path):\n",
    "    set_path = f'{path}/{caption}.png'\n",
    "    plt.savefig(set_path)\n",
    "\n",
    "def make_directory(path):\n",
    "    if not os.path.exists(path):\n",
    "        os.makedirs(path)"
   ]
  },
  {
   "cell_type": "code",
   "execution_count": 18,
   "id": "0f0512fe-10ae-415f-8326-e8ce298993f4",
   "metadata": {},
   "outputs": [],
   "source": [
    "make_directory(save_path)"
   ]
  },
  {
   "cell_type": "code",
   "execution_count": 5,
   "id": "c548d4d6-f3f8-4303-8bd7-79fa58b77e77",
   "metadata": {},
   "outputs": [
    {
     "data": {
      "text/plain": [
       "Index(['Unnamed: 0', 'Project ID', 'Project Posted Date', 'Project Type',\n",
       "       'Project Posted Month', 'Project Subject Category Tree', 'Project Cost',\n",
       "       'Project Subject Subcategory Tree', 'Project Grade Level Category',\n",
       "       'Project Resource Category', 'School Metro Type', 'School State',\n",
       "       'Teacher Project Posted Sequence', 'Label', 'Teacher Success Rate',\n",
       "       'Teacher Success Rate Imputed', 'School City Success Rate',\n",
       "       'School City Success Rate Imputed', 'School Success Rate',\n",
       "       'School Success Rate Imputed', 'School County Success Rate',\n",
       "       'School County Success Rate Imputed', 'Project Count in State',\n",
       "       'Project Need Statement Length', 'School City',\n",
       "       'Project Need Statement', 'Resource Vendor Name', 'Teacher Prefix',\n",
       "       'Project Short Description Length', 'School County',\n",
       "       'Project Count in County', 'Project Title', 'Project Essay',\n",
       "       'Resource Cost Percentage', 'Project Essay Length',\n",
       "       'School Percentage Free Lunch', 'Resource Cost',\n",
       "       'Resource Cost Imputed', 'Project Count in City',\n",
       "       'Project Short Description', 'School Percentage Free Lunch Imputed'],\n",
       "      dtype='object')"
      ]
     },
     "execution_count": 5,
     "metadata": {},
     "output_type": "execute_result"
    }
   ],
   "source": [
    "# Read dataframe to get actual label and for the categorical columns\n",
    "processed = pd.read_csv(processed_data_path)\n",
    "processed.columns"
   ]
  },
  {
   "cell_type": "code",
   "execution_count": 6,
   "id": "72745667-81ad-4828-a500-d75257a1c84e",
   "metadata": {},
   "outputs": [],
   "source": [
    "# Load explanations\n",
    "explanations = json.load(open(json_file_path))"
   ]
  },
  {
   "cell_type": "code",
   "execution_count": 7,
   "id": "adf56391-2b8d-40ca-a70a-926068adf1b9",
   "metadata": {},
   "outputs": [
    {
     "name": "stdout",
     "output_type": "stream",
     "text": [
      "['lime_fs_auto_sai_True_nums_1000', 'lime_fs_auto_sai_False_nums_5000', 'treeshap_alg_auto_tr_None', 'treeshap_alg_deep_tr_100']\n"
     ]
    }
   ],
   "source": [
    "xai_keys_list = list(explanations[fold].keys())\n",
    "print(xai_keys_list)"
   ]
  },
  {
   "cell_type": "code",
   "execution_count": 8,
   "id": "876f7d7a-029a-43f8-908c-ddb4fd9e64ab",
   "metadata": {},
   "outputs": [
    {
     "name": "stdout",
     "output_type": "stream",
     "text": [
      "61 122 3 6\n"
     ]
    }
   ],
   "source": [
    "# Set n features values\n",
    "top_keys = list(explanations[fold][xai_keys_list[0]]['top'].keys())\n",
    "bottom_keys = list(explanations[fold][xai_keys_list[0]]['bottom'].keys())\n",
    "top_10_perc_uncompressed = round(len(explanations[fold][xai_keys_list[0]]['top'][top_keys[0]])* 0.1) \n",
    "top_20_perc_uncompressed = round(len(explanations[fold][xai_keys_list[0]]['top'][top_keys[0]])* 0.2)\n",
    "top_10_perc_compressed = round(31* 0.1) \n",
    "top_20_perc_compressed = round(31* 0.2)\n",
    "print(top_10_perc_uncompressed, top_20_perc_uncompressed, top_10_perc_compressed, top_20_perc_compressed)"
   ]
  },
  {
   "cell_type": "code",
   "execution_count": 9,
   "id": "fb385426-b47f-47d4-ac66-8606cf6b1654",
   "metadata": {},
   "outputs": [
    {
     "name": "stdout",
     "output_type": "stream",
     "text": [
      "Index(['Project ID', 'Project Posted Date', 'Project Type',\n",
      "       'Project Posted Month', 'Project Subject Category Tree', 'Project Cost',\n",
      "       'Project Subject Subcategory Tree', 'Project Grade Level Category',\n",
      "       'Project Resource Category', 'School Metro Type', 'School State',\n",
      "       'Teacher Project Posted Sequence', 'Label', 'Teacher Success Rate',\n",
      "       'Teacher Success Rate Imputed', 'School City Success Rate',\n",
      "       'School City Success Rate Imputed', 'School Success Rate',\n",
      "       'School Success Rate Imputed', 'School County Success Rate',\n",
      "       'School County Success Rate Imputed', 'Project Count in State',\n",
      "       'Project Need Statement Length', 'Resource Vendor Name',\n",
      "       'Teacher Prefix', 'Project Short Description Length',\n",
      "       'Project Count in County', 'Resource Cost Percentage',\n",
      "       'Project Essay Length', 'School Percentage Free Lunch', 'Resource Cost',\n",
      "       'Resource Cost Imputed', 'Project Count in City',\n",
      "       'School Percentage Free Lunch Imputed'],\n",
      "      dtype='object')\n",
      "-----\n",
      "Label exist?  0\n",
      "train    2016-01-07 - 2016-07-05\n",
      "test     2016-11-02 - 2016-12-02\n",
      "(238834, 611)\n",
      "(92313, 610)\n",
      "(92313, 609)\n",
      "(92313, 1)\n",
      "(32134, 611)\n",
      "(20079, 610)\n",
      "(20079, 609)\n",
      "(20079, 609)\n",
      "Training set shape =  (92313, 609)\n",
      "Testing set shape =  (20079, 609)\n",
      "-----\n",
      "y_train.columns =  Index(['Label'], dtype='object')\n",
      "y_test.columns =  Index(['Label'], dtype='object')\n",
      "30587\n",
      "92313\n",
      "-----\n",
      "Label exist?  0\n",
      "train    2015-09-09 - 2016-03-07\n",
      "test     2016-07-05 - 2016-08-04\n",
      "(314310, 611)\n",
      "(105920, 610)\n",
      "(105920, 609)\n",
      "(105920, 1)\n",
      "(146069, 611)\n",
      "(18750, 610)\n",
      "(18750, 609)\n",
      "(18750, 609)\n",
      "Training set shape =  (105920, 609)\n",
      "Testing set shape =  (18750, 609)\n",
      "-----\n",
      "y_train.columns =  Index(['Label'], dtype='object')\n",
      "y_test.columns =  Index(['Label'], dtype='object')\n",
      "34114\n",
      "105920\n",
      "-----\n",
      "Label exist?  0\n",
      "train    2015-05-12 - 2015-11-08\n",
      "test     2016-03-07 - 2016-04-06\n",
      "(370969, 611)\n",
      "(99939, 610)\n",
      "(99939, 609)\n",
      "(99939, 1)\n",
      "(207731, 611)\n",
      "(23932, 610)\n",
      "(23932, 609)\n",
      "(23932, 609)\n",
      "Training set shape =  (99939, 609)\n",
      "Testing set shape =  (23932, 609)\n",
      "-----\n",
      "y_train.columns =  Index(['Label'], dtype='object')\n",
      "y_test.columns =  Index(['Label'], dtype='object')\n",
      "34045\n",
      "99939\n",
      "-----\n",
      "Label exist?  0\n",
      "train    2015-01-12 - 2015-07-11\n",
      "test     2015-11-08 - 2015-12-08\n",
      "(416306, 611)\n",
      "(61637, 610)\n",
      "(61637, 609)\n",
      "(61637, 1)\n",
      "(270016, 611)\n",
      "(18400, 610)\n",
      "(18400, 609)\n",
      "(18400, 609)\n",
      "Training set shape =  (61637, 609)\n",
      "Testing set shape =  (18400, 609)\n",
      "-----\n",
      "y_train.columns =  Index(['Label'], dtype='object')\n",
      "y_test.columns =  Index(['Label'], dtype='object')\n",
      "18425\n",
      "61637\n",
      "-----\n",
      "Label exist?  0\n",
      "train    2014-09-14 - 2015-03-13\n",
      "test     2015-07-11 - 2015-08-10\n",
      "(471772, 611)\n",
      "(80838, 610)\n",
      "(80838, 609)\n",
      "(80838, 1)\n",
      "(354423, 611)\n",
      "(12232, 610)\n",
      "(12232, 609)\n",
      "(12232, 609)\n",
      "Training set shape =  (80838, 609)\n",
      "Testing set shape =  (12232, 609)\n",
      "-----\n",
      "y_train.columns =  Index(['Label'], dtype='object')\n",
      "y_test.columns =  Index(['Label'], dtype='object')\n",
      "24897\n",
      "80838\n",
      "-----\n",
      "Label exist?  0\n",
      "train    2014-05-17 - 2014-11-13\n",
      "test     2015-03-13 - 2015-04-12\n",
      "(535150, 611)\n",
      "(100159, 610)\n",
      "(100159, 609)\n",
      "(100159, 1)\n",
      "(390393, 611)\n",
      "(10499, 610)\n",
      "(10499, 609)\n",
      "(10499, 609)\n",
      "Training set shape =  (100159, 609)\n",
      "Testing set shape =  (10499, 609)\n",
      "-----\n",
      "y_train.columns =  Index(['Label'], dtype='object')\n",
      "y_test.columns =  Index(['Label'], dtype='object')\n",
      "35078\n",
      "100159\n",
      "Training features count for NN:  608\n"
     ]
    }
   ],
   "source": [
    "# Get feature names in order\n",
    "raw_data_og = processed.copy(deep=True)\n",
    "data = dp.set_data_types_to_datetime(raw_data_og, [\"Project Posted Date\"])\n",
    "data = hp.filter_dataset_by_date(data)\n",
    "data = data.drop(['School City', 'Project Need Statement', 'School County', 'Project Title',\n",
    "                  'Project Essay', 'Project Short Description', 'Unnamed: 0'], axis=1, errors='ignore')\n",
    "print(data.columns)\n",
    "data_1 = dp.encode_data(data, config.CATEGORICAL_COLS)\n",
    "data_folds, training_features_count = fe.split_data_folds(data_1)"
   ]
  },
  {
   "cell_type": "code",
   "execution_count": 10,
   "id": "0c951e93-a3a0-4873-b507-1c31c9112a3a",
   "metadata": {},
   "outputs": [
    {
     "name": "stdout",
     "output_type": "stream",
     "text": [
      "['Project Posted Month', 'Project Cost', 'Teacher Project Posted Sequence', 'Teacher Success Rate', 'Teacher Success Rate Imputed', 'School City Success Rate', 'School City Success Rate Imputed', 'School Success Rate', 'School Success Rate Imputed', 'School County Success Rate', 'School County Success Rate Imputed', 'Project Count in State', 'Project Need Statement Length', 'Project Short Description Length', 'Project Count in County', 'Resource Cost Percentage', 'Project Essay Length', 'School Percentage Free Lunch', 'Resource Cost', 'Resource Cost Imputed', 'Project Count in City', 'School Percentage Free Lunch Imputed', 'Project Type_Professional Development', 'Project Type_Student-Led', 'Project Type_Teacher-Led', 'Project Subject Category Tree_Applied Learning', 'Project Subject Category Tree_Applied Learning, Health & Sports', 'Project Subject Category Tree_Applied Learning, History & Civics', 'Project Subject Category Tree_Applied Learning, Literacy & Language', 'Project Subject Category Tree_Applied Learning, Math & Science', 'Project Subject Category Tree_Applied Learning, Music & The Arts', 'Project Subject Category Tree_Applied Learning, Special Needs', 'Project Subject Category Tree_Applied Learning, Warmth, Care & Hunger', 'Project Subject Category Tree_Health & Sports', 'Project Subject Category Tree_Health & Sports, Applied Learning', 'Project Subject Category Tree_Health & Sports, History & Civics', 'Project Subject Category Tree_Health & Sports, Literacy & Language', 'Project Subject Category Tree_Health & Sports, Math & Science', 'Project Subject Category Tree_Health & Sports, Music & The Arts', 'Project Subject Category Tree_Health & Sports, Special Needs', 'Project Subject Category Tree_Health & Sports, Warmth, Care & Hunger', 'Project Subject Category Tree_History & Civics', 'Project Subject Category Tree_History & Civics, Applied Learning', 'Project Subject Category Tree_History & Civics, Health & Sports', 'Project Subject Category Tree_History & Civics, Literacy & Language', 'Project Subject Category Tree_History & Civics, Math & Science', 'Project Subject Category Tree_History & Civics, Music & The Arts', 'Project Subject Category Tree_History & Civics, Special Needs', 'Project Subject Category Tree_History & Civics, Warmth, Care & Hunger', 'Project Subject Category Tree_Literacy & Language', 'Project Subject Category Tree_Literacy & Language, Applied Learning', 'Project Subject Category Tree_Literacy & Language, Health & Sports', 'Project Subject Category Tree_Literacy & Language, History & Civics', 'Project Subject Category Tree_Literacy & Language, Math & Science', 'Project Subject Category Tree_Literacy & Language, Music & The Arts', 'Project Subject Category Tree_Literacy & Language, Special Needs', 'Project Subject Category Tree_Literacy & Language, Warmth, Care & Hunger', 'Project Subject Category Tree_Math & Science', 'Project Subject Category Tree_Math & Science, Applied Learning', 'Project Subject Category Tree_Math & Science, Health & Sports', 'Project Subject Category Tree_Math & Science, History & Civics', 'Project Subject Category Tree_Math & Science, Literacy & Language', 'Project Subject Category Tree_Math & Science, Music & The Arts', 'Project Subject Category Tree_Math & Science, Special Needs', 'Project Subject Category Tree_Math & Science, Warmth, Care & Hunger', 'Project Subject Category Tree_Music & The Arts', 'Project Subject Category Tree_Music & The Arts, Applied Learning', 'Project Subject Category Tree_Music & The Arts, Health & Sports', 'Project Subject Category Tree_Music & The Arts, History & Civics', 'Project Subject Category Tree_Music & The Arts, Special Needs', 'Project Subject Category Tree_Music & The Arts, Warmth, Care & Hunger', 'Project Subject Category Tree_Special Needs', 'Project Subject Category Tree_Special Needs, Health & Sports', 'Project Subject Category Tree_Special Needs, Music & The Arts', 'Project Subject Category Tree_Special Needs, Warmth, Care & Hunger', 'Project Subject Category Tree_Unknown', 'Project Subject Category Tree_Warmth, Care & Hunger', 'Project Subject Subcategory Tree_Applied Sciences', 'Project Subject Subcategory Tree_Applied Sciences, Character Education', 'Project Subject Subcategory Tree_Applied Sciences, Civics & Government', 'Project Subject Subcategory Tree_Applied Sciences, College & Career Prep', 'Project Subject Subcategory Tree_Applied Sciences, Community Service', 'Project Subject Subcategory Tree_Applied Sciences, ESL', 'Project Subject Subcategory Tree_Applied Sciences, Early Development', 'Project Subject Subcategory Tree_Applied Sciences, Economics', 'Project Subject Subcategory Tree_Applied Sciences, Environmental Science', 'Project Subject Subcategory Tree_Applied Sciences, Extracurricular', 'Project Subject Subcategory Tree_Applied Sciences, Financial Literacy', 'Project Subject Subcategory Tree_Applied Sciences, Foreign Languages', 'Project Subject Subcategory Tree_Applied Sciences, Gym & Fitness', 'Project Subject Subcategory Tree_Applied Sciences, Health & Life Science', 'Project Subject Subcategory Tree_Applied Sciences, Health & Wellness', 'Project Subject Subcategory Tree_Applied Sciences, History & Geography', 'Project Subject Subcategory Tree_Applied Sciences, Literacy', 'Project Subject Subcategory Tree_Applied Sciences, Literature & Writing', 'Project Subject Subcategory Tree_Applied Sciences, Mathematics', 'Project Subject Subcategory Tree_Applied Sciences, Music', 'Project Subject Subcategory Tree_Applied Sciences, Nutrition Education', 'Project Subject Subcategory Tree_Applied Sciences, Other', 'Project Subject Subcategory Tree_Applied Sciences, Parent Involvement', 'Project Subject Subcategory Tree_Applied Sciences, Performing Arts', 'Project Subject Subcategory Tree_Applied Sciences, Social Sciences', 'Project Subject Subcategory Tree_Applied Sciences, Special Needs', 'Project Subject Subcategory Tree_Applied Sciences, Team Sports', 'Project Subject Subcategory Tree_Applied Sciences, Visual Arts', 'Project Subject Subcategory Tree_Applied Sciences, Warmth, Care & Hunger', 'Project Subject Subcategory Tree_Character Education', 'Project Subject Subcategory Tree_Character Education, Civics & Government', 'Project Subject Subcategory Tree_Character Education, College & Career Prep', 'Project Subject Subcategory Tree_Character Education, Community Service', 'Project Subject Subcategory Tree_Character Education, ESL', 'Project Subject Subcategory Tree_Character Education, Early Development', 'Project Subject Subcategory Tree_Character Education, Economics', 'Project Subject Subcategory Tree_Character Education, Environmental Science', 'Project Subject Subcategory Tree_Character Education, Extracurricular', 'Project Subject Subcategory Tree_Character Education, Financial Literacy', 'Project Subject Subcategory Tree_Character Education, Foreign Languages', 'Project Subject Subcategory Tree_Character Education, Gym & Fitness', 'Project Subject Subcategory Tree_Character Education, Health & Life Science', 'Project Subject Subcategory Tree_Character Education, Health & Wellness', 'Project Subject Subcategory Tree_Character Education, History & Geography', 'Project Subject Subcategory Tree_Character Education, Literacy', 'Project Subject Subcategory Tree_Character Education, Literature & Writing', 'Project Subject Subcategory Tree_Character Education, Mathematics', 'Project Subject Subcategory Tree_Character Education, Music', 'Project Subject Subcategory Tree_Character Education, Nutrition Education', 'Project Subject Subcategory Tree_Character Education, Other', 'Project Subject Subcategory Tree_Character Education, Parent Involvement', 'Project Subject Subcategory Tree_Character Education, Performing Arts', 'Project Subject Subcategory Tree_Character Education, Social Sciences', 'Project Subject Subcategory Tree_Character Education, Special Needs', 'Project Subject Subcategory Tree_Character Education, Team Sports', 'Project Subject Subcategory Tree_Character Education, Visual Arts', 'Project Subject Subcategory Tree_Character Education, Warmth, Care & Hunger', 'Project Subject Subcategory Tree_Civics & Government', 'Project Subject Subcategory Tree_Civics & Government, College & Career Prep', 'Project Subject Subcategory Tree_Civics & Government, Community Service', 'Project Subject Subcategory Tree_Civics & Government, ESL', 'Project Subject Subcategory Tree_Civics & Government, Early Development', 'Project Subject Subcategory Tree_Civics & Government, Economics', 'Project Subject Subcategory Tree_Civics & Government, Environmental Science', 'Project Subject Subcategory Tree_Civics & Government, Extracurricular', 'Project Subject Subcategory Tree_Civics & Government, Financial Literacy', 'Project Subject Subcategory Tree_Civics & Government, Foreign Languages', 'Project Subject Subcategory Tree_Civics & Government, Gym & Fitness', 'Project Subject Subcategory Tree_Civics & Government, Health & Life Science', 'Project Subject Subcategory Tree_Civics & Government, Health & Wellness', 'Project Subject Subcategory Tree_Civics & Government, History & Geography', 'Project Subject Subcategory Tree_Civics & Government, Literacy', 'Project Subject Subcategory Tree_Civics & Government, Literature & Writing', 'Project Subject Subcategory Tree_Civics & Government, Mathematics', 'Project Subject Subcategory Tree_Civics & Government, Music', 'Project Subject Subcategory Tree_Civics & Government, Nutrition Education', 'Project Subject Subcategory Tree_Civics & Government, Other', 'Project Subject Subcategory Tree_Civics & Government, Parent Involvement', 'Project Subject Subcategory Tree_Civics & Government, Performing Arts', 'Project Subject Subcategory Tree_Civics & Government, Social Sciences', 'Project Subject Subcategory Tree_Civics & Government, Special Needs', 'Project Subject Subcategory Tree_Civics & Government, Team Sports', 'Project Subject Subcategory Tree_Civics & Government, Visual Arts', 'Project Subject Subcategory Tree_Civics & Government, Warmth, Care & Hunger', 'Project Subject Subcategory Tree_College & Career Prep', 'Project Subject Subcategory Tree_College & Career Prep, Community Service', 'Project Subject Subcategory Tree_College & Career Prep, ESL', 'Project Subject Subcategory Tree_College & Career Prep, Early Development', 'Project Subject Subcategory Tree_College & Career Prep, Economics', 'Project Subject Subcategory Tree_College & Career Prep, Environmental Science', 'Project Subject Subcategory Tree_College & Career Prep, Extracurricular', 'Project Subject Subcategory Tree_College & Career Prep, Financial Literacy', 'Project Subject Subcategory Tree_College & Career Prep, Foreign Languages', 'Project Subject Subcategory Tree_College & Career Prep, Gym & Fitness', 'Project Subject Subcategory Tree_College & Career Prep, Health & Life Science', 'Project Subject Subcategory Tree_College & Career Prep, Health & Wellness', 'Project Subject Subcategory Tree_College & Career Prep, History & Geography', 'Project Subject Subcategory Tree_College & Career Prep, Literacy', 'Project Subject Subcategory Tree_College & Career Prep, Literature & Writing', 'Project Subject Subcategory Tree_College & Career Prep, Mathematics', 'Project Subject Subcategory Tree_College & Career Prep, Music', 'Project Subject Subcategory Tree_College & Career Prep, Nutrition Education', 'Project Subject Subcategory Tree_College & Career Prep, Other', 'Project Subject Subcategory Tree_College & Career Prep, Parent Involvement', 'Project Subject Subcategory Tree_College & Career Prep, Performing Arts', 'Project Subject Subcategory Tree_College & Career Prep, Social Sciences', 'Project Subject Subcategory Tree_College & Career Prep, Special Needs', 'Project Subject Subcategory Tree_College & Career Prep, Team Sports', 'Project Subject Subcategory Tree_College & Career Prep, Visual Arts', 'Project Subject Subcategory Tree_College & Career Prep, Warmth, Care & Hunger', 'Project Subject Subcategory Tree_Community Service', 'Project Subject Subcategory Tree_Community Service, ESL', 'Project Subject Subcategory Tree_Community Service, Early Development', 'Project Subject Subcategory Tree_Community Service, Economics', 'Project Subject Subcategory Tree_Community Service, Environmental Science', 'Project Subject Subcategory Tree_Community Service, Extracurricular', 'Project Subject Subcategory Tree_Community Service, Financial Literacy', 'Project Subject Subcategory Tree_Community Service, Foreign Languages', 'Project Subject Subcategory Tree_Community Service, Gym & Fitness', 'Project Subject Subcategory Tree_Community Service, Health & Life Science', 'Project Subject Subcategory Tree_Community Service, Health & Wellness', 'Project Subject Subcategory Tree_Community Service, History & Geography', 'Project Subject Subcategory Tree_Community Service, Literacy', 'Project Subject Subcategory Tree_Community Service, Literature & Writing', 'Project Subject Subcategory Tree_Community Service, Mathematics', 'Project Subject Subcategory Tree_Community Service, Music', 'Project Subject Subcategory Tree_Community Service, Nutrition Education', 'Project Subject Subcategory Tree_Community Service, Other', 'Project Subject Subcategory Tree_Community Service, Parent Involvement', 'Project Subject Subcategory Tree_Community Service, Performing Arts', 'Project Subject Subcategory Tree_Community Service, Social Sciences', 'Project Subject Subcategory Tree_Community Service, Special Needs', 'Project Subject Subcategory Tree_Community Service, Team Sports', 'Project Subject Subcategory Tree_Community Service, Visual Arts', 'Project Subject Subcategory Tree_Community Service, Warmth, Care & Hunger', 'Project Subject Subcategory Tree_ESL', 'Project Subject Subcategory Tree_ESL, Early Development', 'Project Subject Subcategory Tree_ESL, Economics', 'Project Subject Subcategory Tree_ESL, Environmental Science', 'Project Subject Subcategory Tree_ESL, Extracurricular', 'Project Subject Subcategory Tree_ESL, Financial Literacy', 'Project Subject Subcategory Tree_ESL, Foreign Languages', 'Project Subject Subcategory Tree_ESL, Gym & Fitness', 'Project Subject Subcategory Tree_ESL, Health & Life Science', 'Project Subject Subcategory Tree_ESL, Health & Wellness', 'Project Subject Subcategory Tree_ESL, History & Geography', 'Project Subject Subcategory Tree_ESL, Literacy', 'Project Subject Subcategory Tree_ESL, Literature & Writing', 'Project Subject Subcategory Tree_ESL, Mathematics', 'Project Subject Subcategory Tree_ESL, Music', 'Project Subject Subcategory Tree_ESL, Nutrition Education', 'Project Subject Subcategory Tree_ESL, Other', 'Project Subject Subcategory Tree_ESL, Parent Involvement', 'Project Subject Subcategory Tree_ESL, Performing Arts', 'Project Subject Subcategory Tree_ESL, Social Sciences', 'Project Subject Subcategory Tree_ESL, Special Needs', 'Project Subject Subcategory Tree_ESL, Team Sports', 'Project Subject Subcategory Tree_ESL, Visual Arts', 'Project Subject Subcategory Tree_ESL, Warmth, Care & Hunger', 'Project Subject Subcategory Tree_Early Development', 'Project Subject Subcategory Tree_Early Development, Economics', 'Project Subject Subcategory Tree_Early Development, Environmental Science', 'Project Subject Subcategory Tree_Early Development, Extracurricular', 'Project Subject Subcategory Tree_Early Development, Financial Literacy', 'Project Subject Subcategory Tree_Early Development, Foreign Languages', 'Project Subject Subcategory Tree_Early Development, Gym & Fitness', 'Project Subject Subcategory Tree_Early Development, Health & Life Science', 'Project Subject Subcategory Tree_Early Development, Health & Wellness', 'Project Subject Subcategory Tree_Early Development, History & Geography', 'Project Subject Subcategory Tree_Early Development, Literacy', 'Project Subject Subcategory Tree_Early Development, Literature & Writing', 'Project Subject Subcategory Tree_Early Development, Mathematics', 'Project Subject Subcategory Tree_Early Development, Music', 'Project Subject Subcategory Tree_Early Development, Nutrition Education', 'Project Subject Subcategory Tree_Early Development, Other', 'Project Subject Subcategory Tree_Early Development, Parent Involvement', 'Project Subject Subcategory Tree_Early Development, Performing Arts', 'Project Subject Subcategory Tree_Early Development, Social Sciences', 'Project Subject Subcategory Tree_Early Development, Special Needs', 'Project Subject Subcategory Tree_Early Development, Team Sports', 'Project Subject Subcategory Tree_Early Development, Visual Arts', 'Project Subject Subcategory Tree_Early Development, Warmth, Care & Hunger', 'Project Subject Subcategory Tree_Economics', 'Project Subject Subcategory Tree_Economics, Environmental Science', 'Project Subject Subcategory Tree_Economics, Extracurricular', 'Project Subject Subcategory Tree_Economics, Financial Literacy', 'Project Subject Subcategory Tree_Economics, Foreign Languages', 'Project Subject Subcategory Tree_Economics, Gym & Fitness', 'Project Subject Subcategory Tree_Economics, Health & Life Science', 'Project Subject Subcategory Tree_Economics, Health & Wellness', 'Project Subject Subcategory Tree_Economics, History & Geography', 'Project Subject Subcategory Tree_Economics, Literacy', 'Project Subject Subcategory Tree_Economics, Literature & Writing', 'Project Subject Subcategory Tree_Economics, Mathematics', 'Project Subject Subcategory Tree_Economics, Music', 'Project Subject Subcategory Tree_Economics, Nutrition Education', 'Project Subject Subcategory Tree_Economics, Other', 'Project Subject Subcategory Tree_Economics, Parent Involvement', 'Project Subject Subcategory Tree_Economics, Performing Arts', 'Project Subject Subcategory Tree_Economics, Social Sciences', 'Project Subject Subcategory Tree_Economics, Special Needs', 'Project Subject Subcategory Tree_Economics, Team Sports', 'Project Subject Subcategory Tree_Economics, Visual Arts', 'Project Subject Subcategory Tree_Environmental Science', 'Project Subject Subcategory Tree_Environmental Science, Extracurricular', 'Project Subject Subcategory Tree_Environmental Science, Financial Literacy', 'Project Subject Subcategory Tree_Environmental Science, Foreign Languages', 'Project Subject Subcategory Tree_Environmental Science, Gym & Fitness', 'Project Subject Subcategory Tree_Environmental Science, Health & Life Science', 'Project Subject Subcategory Tree_Environmental Science, Health & Wellness', 'Project Subject Subcategory Tree_Environmental Science, History & Geography', 'Project Subject Subcategory Tree_Environmental Science, Literacy', 'Project Subject Subcategory Tree_Environmental Science, Literature & Writing', 'Project Subject Subcategory Tree_Environmental Science, Mathematics', 'Project Subject Subcategory Tree_Environmental Science, Music', 'Project Subject Subcategory Tree_Environmental Science, Nutrition Education', 'Project Subject Subcategory Tree_Environmental Science, Other', 'Project Subject Subcategory Tree_Environmental Science, Parent Involvement', 'Project Subject Subcategory Tree_Environmental Science, Performing Arts', 'Project Subject Subcategory Tree_Environmental Science, Social Sciences', 'Project Subject Subcategory Tree_Environmental Science, Special Needs', 'Project Subject Subcategory Tree_Environmental Science, Team Sports', 'Project Subject Subcategory Tree_Environmental Science, Visual Arts', 'Project Subject Subcategory Tree_Environmental Science, Warmth, Care & Hunger', 'Project Subject Subcategory Tree_Extracurricular', 'Project Subject Subcategory Tree_Extracurricular, Financial Literacy', 'Project Subject Subcategory Tree_Extracurricular, Foreign Languages', 'Project Subject Subcategory Tree_Extracurricular, Gym & Fitness', 'Project Subject Subcategory Tree_Extracurricular, Health & Life Science', 'Project Subject Subcategory Tree_Extracurricular, Health & Wellness', 'Project Subject Subcategory Tree_Extracurricular, History & Geography', 'Project Subject Subcategory Tree_Extracurricular, Literacy', 'Project Subject Subcategory Tree_Extracurricular, Literature & Writing', 'Project Subject Subcategory Tree_Extracurricular, Mathematics', 'Project Subject Subcategory Tree_Extracurricular, Music', 'Project Subject Subcategory Tree_Extracurricular, Nutrition Education', 'Project Subject Subcategory Tree_Extracurricular, Other', 'Project Subject Subcategory Tree_Extracurricular, Parent Involvement', 'Project Subject Subcategory Tree_Extracurricular, Performing Arts', 'Project Subject Subcategory Tree_Extracurricular, Social Sciences', 'Project Subject Subcategory Tree_Extracurricular, Special Needs', 'Project Subject Subcategory Tree_Extracurricular, Team Sports', 'Project Subject Subcategory Tree_Extracurricular, Visual Arts', 'Project Subject Subcategory Tree_Extracurricular, Warmth, Care & Hunger', 'Project Subject Subcategory Tree_Financial Literacy', 'Project Subject Subcategory Tree_Financial Literacy, Foreign Languages', 'Project Subject Subcategory Tree_Financial Literacy, Gym & Fitness', 'Project Subject Subcategory Tree_Financial Literacy, Health & Life Science', 'Project Subject Subcategory Tree_Financial Literacy, Health & Wellness', 'Project Subject Subcategory Tree_Financial Literacy, History & Geography', 'Project Subject Subcategory Tree_Financial Literacy, Literacy', 'Project Subject Subcategory Tree_Financial Literacy, Literature & Writing', 'Project Subject Subcategory Tree_Financial Literacy, Mathematics', 'Project Subject Subcategory Tree_Financial Literacy, Music', 'Project Subject Subcategory Tree_Financial Literacy, Nutrition Education', 'Project Subject Subcategory Tree_Financial Literacy, Other', 'Project Subject Subcategory Tree_Financial Literacy, Parent Involvement', 'Project Subject Subcategory Tree_Financial Literacy, Performing Arts', 'Project Subject Subcategory Tree_Financial Literacy, Social Sciences', 'Project Subject Subcategory Tree_Financial Literacy, Special Needs', 'Project Subject Subcategory Tree_Financial Literacy, Team Sports', 'Project Subject Subcategory Tree_Financial Literacy, Visual Arts', 'Project Subject Subcategory Tree_Financial Literacy, Warmth, Care & Hunger', 'Project Subject Subcategory Tree_Foreign Languages', 'Project Subject Subcategory Tree_Foreign Languages, Gym & Fitness', 'Project Subject Subcategory Tree_Foreign Languages, Health & Life Science', 'Project Subject Subcategory Tree_Foreign Languages, Health & Wellness', 'Project Subject Subcategory Tree_Foreign Languages, History & Geography', 'Project Subject Subcategory Tree_Foreign Languages, Literacy', 'Project Subject Subcategory Tree_Foreign Languages, Literature & Writing', 'Project Subject Subcategory Tree_Foreign Languages, Mathematics', 'Project Subject Subcategory Tree_Foreign Languages, Music', 'Project Subject Subcategory Tree_Foreign Languages, Nutrition Education', 'Project Subject Subcategory Tree_Foreign Languages, Other', 'Project Subject Subcategory Tree_Foreign Languages, Parent Involvement', 'Project Subject Subcategory Tree_Foreign Languages, Performing Arts', 'Project Subject Subcategory Tree_Foreign Languages, Social Sciences', 'Project Subject Subcategory Tree_Foreign Languages, Special Needs', 'Project Subject Subcategory Tree_Foreign Languages, Team Sports', 'Project Subject Subcategory Tree_Foreign Languages, Visual Arts', 'Project Subject Subcategory Tree_Gym & Fitness', 'Project Subject Subcategory Tree_Gym & Fitness, Health & Life Science', 'Project Subject Subcategory Tree_Gym & Fitness, Health & Wellness', 'Project Subject Subcategory Tree_Gym & Fitness, History & Geography', 'Project Subject Subcategory Tree_Gym & Fitness, Literacy', 'Project Subject Subcategory Tree_Gym & Fitness, Literature & Writing', 'Project Subject Subcategory Tree_Gym & Fitness, Mathematics', 'Project Subject Subcategory Tree_Gym & Fitness, Music', 'Project Subject Subcategory Tree_Gym & Fitness, Nutrition Education', 'Project Subject Subcategory Tree_Gym & Fitness, Other', 'Project Subject Subcategory Tree_Gym & Fitness, Parent Involvement', 'Project Subject Subcategory Tree_Gym & Fitness, Performing Arts', 'Project Subject Subcategory Tree_Gym & Fitness, Social Sciences', 'Project Subject Subcategory Tree_Gym & Fitness, Special Needs', 'Project Subject Subcategory Tree_Gym & Fitness, Team Sports', 'Project Subject Subcategory Tree_Gym & Fitness, Visual Arts', 'Project Subject Subcategory Tree_Gym & Fitness, Warmth, Care & Hunger', 'Project Subject Subcategory Tree_Health & Life Science', 'Project Subject Subcategory Tree_Health & Life Science, Health & Wellness', 'Project Subject Subcategory Tree_Health & Life Science, History & Geography', 'Project Subject Subcategory Tree_Health & Life Science, Literacy', 'Project Subject Subcategory Tree_Health & Life Science, Literature & Writing', 'Project Subject Subcategory Tree_Health & Life Science, Mathematics', 'Project Subject Subcategory Tree_Health & Life Science, Music', 'Project Subject Subcategory Tree_Health & Life Science, Nutrition Education', 'Project Subject Subcategory Tree_Health & Life Science, Other', 'Project Subject Subcategory Tree_Health & Life Science, Parent Involvement', 'Project Subject Subcategory Tree_Health & Life Science, Performing Arts', 'Project Subject Subcategory Tree_Health & Life Science, Social Sciences', 'Project Subject Subcategory Tree_Health & Life Science, Special Needs', 'Project Subject Subcategory Tree_Health & Life Science, Team Sports', 'Project Subject Subcategory Tree_Health & Life Science, Visual Arts', 'Project Subject Subcategory Tree_Health & Life Science, Warmth, Care & Hunger', 'Project Subject Subcategory Tree_Health & Wellness', 'Project Subject Subcategory Tree_Health & Wellness, History & Geography', 'Project Subject Subcategory Tree_Health & Wellness, Literacy', 'Project Subject Subcategory Tree_Health & Wellness, Literature & Writing', 'Project Subject Subcategory Tree_Health & Wellness, Mathematics', 'Project Subject Subcategory Tree_Health & Wellness, Music', 'Project Subject Subcategory Tree_Health & Wellness, Nutrition Education', 'Project Subject Subcategory Tree_Health & Wellness, Other', 'Project Subject Subcategory Tree_Health & Wellness, Parent Involvement', 'Project Subject Subcategory Tree_Health & Wellness, Performing Arts', 'Project Subject Subcategory Tree_Health & Wellness, Social Sciences', 'Project Subject Subcategory Tree_Health & Wellness, Special Needs', 'Project Subject Subcategory Tree_Health & Wellness, Team Sports', 'Project Subject Subcategory Tree_Health & Wellness, Visual Arts', 'Project Subject Subcategory Tree_Health & Wellness, Warmth, Care & Hunger', 'Project Subject Subcategory Tree_History & Geography', 'Project Subject Subcategory Tree_History & Geography, Literacy', 'Project Subject Subcategory Tree_History & Geography, Literature & Writing', 'Project Subject Subcategory Tree_History & Geography, Mathematics', 'Project Subject Subcategory Tree_History & Geography, Music', 'Project Subject Subcategory Tree_History & Geography, Nutrition Education', 'Project Subject Subcategory Tree_History & Geography, Other', 'Project Subject Subcategory Tree_History & Geography, Parent Involvement', 'Project Subject Subcategory Tree_History & Geography, Performing Arts', 'Project Subject Subcategory Tree_History & Geography, Social Sciences', 'Project Subject Subcategory Tree_History & Geography, Special Needs', 'Project Subject Subcategory Tree_History & Geography, Team Sports', 'Project Subject Subcategory Tree_History & Geography, Visual Arts', 'Project Subject Subcategory Tree_History & Geography, Warmth, Care & Hunger', 'Project Subject Subcategory Tree_Literacy', 'Project Subject Subcategory Tree_Literacy, Literature & Writing', 'Project Subject Subcategory Tree_Literacy, Mathematics', 'Project Subject Subcategory Tree_Literacy, Music', 'Project Subject Subcategory Tree_Literacy, Nutrition Education', 'Project Subject Subcategory Tree_Literacy, Other', 'Project Subject Subcategory Tree_Literacy, Parent Involvement', 'Project Subject Subcategory Tree_Literacy, Performing Arts', 'Project Subject Subcategory Tree_Literacy, Social Sciences', 'Project Subject Subcategory Tree_Literacy, Special Needs', 'Project Subject Subcategory Tree_Literacy, Team Sports', 'Project Subject Subcategory Tree_Literacy, Visual Arts', 'Project Subject Subcategory Tree_Literacy, Warmth, Care & Hunger', 'Project Subject Subcategory Tree_Literature & Writing', 'Project Subject Subcategory Tree_Literature & Writing, Mathematics', 'Project Subject Subcategory Tree_Literature & Writing, Music', 'Project Subject Subcategory Tree_Literature & Writing, Nutrition Education', 'Project Subject Subcategory Tree_Literature & Writing, Other', 'Project Subject Subcategory Tree_Literature & Writing, Parent Involvement', 'Project Subject Subcategory Tree_Literature & Writing, Performing Arts', 'Project Subject Subcategory Tree_Literature & Writing, Social Sciences', 'Project Subject Subcategory Tree_Literature & Writing, Special Needs', 'Project Subject Subcategory Tree_Literature & Writing, Team Sports', 'Project Subject Subcategory Tree_Literature & Writing, Visual Arts', 'Project Subject Subcategory Tree_Literature & Writing, Warmth, Care & Hunger', 'Project Subject Subcategory Tree_Mathematics', 'Project Subject Subcategory Tree_Mathematics, Music', 'Project Subject Subcategory Tree_Mathematics, Nutrition Education', 'Project Subject Subcategory Tree_Mathematics, Other', 'Project Subject Subcategory Tree_Mathematics, Parent Involvement', 'Project Subject Subcategory Tree_Mathematics, Performing Arts', 'Project Subject Subcategory Tree_Mathematics, Social Sciences', 'Project Subject Subcategory Tree_Mathematics, Special Needs', 'Project Subject Subcategory Tree_Mathematics, Team Sports', 'Project Subject Subcategory Tree_Mathematics, Visual Arts', 'Project Subject Subcategory Tree_Mathematics, Warmth, Care & Hunger', 'Project Subject Subcategory Tree_Music', 'Project Subject Subcategory Tree_Music, Nutrition Education', 'Project Subject Subcategory Tree_Music, Other', 'Project Subject Subcategory Tree_Music, Parent Involvement', 'Project Subject Subcategory Tree_Music, Performing Arts', 'Project Subject Subcategory Tree_Music, Social Sciences', 'Project Subject Subcategory Tree_Music, Special Needs', 'Project Subject Subcategory Tree_Music, Team Sports', 'Project Subject Subcategory Tree_Music, Visual Arts', 'Project Subject Subcategory Tree_Nutrition Education', 'Project Subject Subcategory Tree_Nutrition Education, Other', 'Project Subject Subcategory Tree_Nutrition Education, Parent Involvement', 'Project Subject Subcategory Tree_Nutrition Education, Performing Arts', 'Project Subject Subcategory Tree_Nutrition Education, Social Sciences', 'Project Subject Subcategory Tree_Nutrition Education, Special Needs', 'Project Subject Subcategory Tree_Nutrition Education, Team Sports', 'Project Subject Subcategory Tree_Nutrition Education, Visual Arts', 'Project Subject Subcategory Tree_Nutrition Education, Warmth, Care & Hunger', 'Project Subject Subcategory Tree_Other', 'Project Subject Subcategory Tree_Other, Parent Involvement', 'Project Subject Subcategory Tree_Other, Performing Arts', 'Project Subject Subcategory Tree_Other, Social Sciences', 'Project Subject Subcategory Tree_Other, Special Needs', 'Project Subject Subcategory Tree_Other, Team Sports', 'Project Subject Subcategory Tree_Other, Visual Arts', 'Project Subject Subcategory Tree_Other, Warmth, Care & Hunger', 'Project Subject Subcategory Tree_Parent Involvement', 'Project Subject Subcategory Tree_Parent Involvement, Performing Arts', 'Project Subject Subcategory Tree_Parent Involvement, Social Sciences', 'Project Subject Subcategory Tree_Parent Involvement, Special Needs', 'Project Subject Subcategory Tree_Parent Involvement, Team Sports', 'Project Subject Subcategory Tree_Parent Involvement, Visual Arts', 'Project Subject Subcategory Tree_Parent Involvement, Warmth, Care & Hunger', 'Project Subject Subcategory Tree_Performing Arts', 'Project Subject Subcategory Tree_Performing Arts, Social Sciences', 'Project Subject Subcategory Tree_Performing Arts, Special Needs', 'Project Subject Subcategory Tree_Performing Arts, Team Sports', 'Project Subject Subcategory Tree_Performing Arts, Visual Arts', 'Project Subject Subcategory Tree_Social Sciences', 'Project Subject Subcategory Tree_Social Sciences, Special Needs', 'Project Subject Subcategory Tree_Social Sciences, Team Sports', 'Project Subject Subcategory Tree_Social Sciences, Visual Arts', 'Project Subject Subcategory Tree_Social Sciences, Warmth, Care & Hunger', 'Project Subject Subcategory Tree_Special Needs', 'Project Subject Subcategory Tree_Special Needs, Team Sports', 'Project Subject Subcategory Tree_Special Needs, Visual Arts', 'Project Subject Subcategory Tree_Special Needs, Warmth, Care & Hunger', 'Project Subject Subcategory Tree_Team Sports', 'Project Subject Subcategory Tree_Team Sports, Visual Arts', 'Project Subject Subcategory Tree_Unknown', 'Project Subject Subcategory Tree_Visual Arts', 'Project Subject Subcategory Tree_Visual Arts, Warmth, Care & Hunger', 'Project Subject Subcategory Tree_Warmth, Care & Hunger', 'Project Grade Level Category_Grades 3-5', 'Project Grade Level Category_Grades 6-8', 'Project Grade Level Category_Grades 9-12', 'Project Grade Level Category_Grades PreK-2', 'Project Grade Level Category_unknown', 'Project Resource Category_Books', 'Project Resource Category_Other', 'Project Resource Category_Supplies', 'Project Resource Category_Technology', 'Project Resource Category_Trips', 'Project Resource Category_Unknown', 'Project Resource Category_Visitors', 'School Metro Type_Unknown', 'School Metro Type_rural', 'School Metro Type_suburban', 'School Metro Type_town', 'School Metro Type_unknown', 'School Metro Type_urban', 'School State_Alabama', 'School State_Alaska', 'School State_Arizona', 'School State_Arkansas', 'School State_California', 'School State_Colorado', 'School State_Connecticut', 'School State_Delaware', 'School State_District of Columbia', 'School State_Florida', 'School State_Georgia', 'School State_Hawaii', 'School State_Idaho', 'School State_Illinois', 'School State_Indiana', 'School State_Iowa', 'School State_Kansas', 'School State_Kentucky', 'School State_Louisiana', 'School State_Maine', 'School State_Maryland', 'School State_Massachusetts', 'School State_Michigan', 'School State_Minnesota', 'School State_Mississippi', 'School State_Missouri', 'School State_Montana', 'School State_Nebraska', 'School State_Nevada', 'School State_New Hampshire', 'School State_New Jersey', 'School State_New Mexico', 'School State_New York', 'School State_North Carolina', 'School State_North Dakota', 'School State_Ohio', 'School State_Oklahoma', 'School State_Oregon', 'School State_Pennsylvania', 'School State_Rhode Island', 'School State_South Carolina', 'School State_South Dakota', 'School State_Tennessee', 'School State_Texas', 'School State_Unknown', 'School State_Utah', 'School State_Vermont', 'School State_Virginia', 'School State_Washington', 'School State_West Virginia', 'School State_Wisconsin', 'School State_Wyoming', 'Teacher Prefix_Dr.', 'Teacher Prefix_Mr.', 'Teacher Prefix_Mrs.', 'Teacher Prefix_Ms.', 'Teacher Prefix_Mx.', 'Teacher Prefix_Teacher', 'Teacher Prefix_Unknown', 'Resource Vendor Name_AKJ Education', 'Resource Vendor Name_Amazon Business', 'Resource Vendor Name_Best Buy Education', 'Resource Vendor Name_Blick Art Materials', 'Resource Vendor Name_Britannica Digital Learning', 'Resource Vendor Name_CDW-G', 'Resource Vendor Name_Carolina Biological Supply Company', \"Resource Vendor Name_DICK'S Sporting Goods\", 'Resource Vendor Name_Frey Scientific', 'Resource Vendor Name_Grainger', 'Resource Vendor Name_Kaplan Early Learning Company', 'Resource Vendor Name_Lakeshore Learning Materials', 'Resource Vendor Name_MakerBot', 'Resource Vendor Name_Nasco', 'Resource Vendor Name_Quill.com', 'Resource Vendor Name_Sargent-Welch', 'Resource Vendor Name_Scholastic Classroom Magazines', 'Resource Vendor Name_School Specialty', 'Resource Vendor Name_Staples Advantage', 'Resource Vendor Name_TIME for Kids', \"Resource Vendor Name_Teachers' School Supply\", 'Resource Vendor Name_Unknown', 'Resource Vendor Name_Woodwind and Brasswind']\n",
      "608\n"
     ]
    }
   ],
   "source": [
    "feature_names_list = data_folds[0].get(\"x_test\").drop(columns=['Project ID'], errors='ignore').keys().to_list()\n",
    "#print(feature_names_list)\n",
    "print(len(feature_names_list))"
   ]
  },
  {
   "cell_type": "code",
   "execution_count": 11,
   "id": "fe6a5431-c87c-4d79-a5bb-d752a22bc1cc",
   "metadata": {},
   "outputs": [],
   "source": [
    "def disagreement_average(explanations1: dict, explanations2: dict, both_local: bool, k: int, features_F: list, method = None, raw_data = None, debug = False) -> dict:\n",
    "    \n",
    "    disagreement_mean = {'feature_agreement': 0.0,\n",
    "                         'rank_agreement': 0.0,\n",
    "                         'sign_agreement': 0.0,\n",
    "                         'signed_rank_agreement': 0.0}\n",
    "\n",
    "    # explanations_1 is always local\n",
    "    # explanations_2 can either be local or global\n",
    "    \n",
    "    for project_id in explanations1.keys():\n",
    "        if debug:\n",
    "            print(f\"******************Project ID: {project_id}************************\")\n",
    "            print(\"Explanation 1 - always local - length: \", len(explanations1[project_id]))\n",
    "            print(\"Explanation 2 - length: \", len(explanations2))\n",
    "            print(\"Explanation 1 - always local: \", explanations1[project_id])\n",
    "            print(\"Explanation 2: \", explanations2)\n",
    "        \n",
    "        disagreement_calc = None\n",
    "\n",
    "       \n",
    "        # Initialize disagreement calculation\n",
    "        if both_local:\n",
    "            disagreement_calc = Disagreement(explanations1[project_id], explanations2[project_id])\n",
    "        else:\n",
    "            disagreement_calc = Disagreement(explanations2, explanations1[project_id])\n",
    "        \n",
    "        if debug:\n",
    "            print(\"Initial Explanation 1 \\n\", disagreement_calc.sorted_explanation1[:k])\n",
    "            print(\"Initial Explanation 2 \\n\", disagreement_calc.sorted_explanation2[:k])\n",
    "            \n",
    "        if method==\"max\":\n",
    "            max_compactor = MaxCompactor(categorical_cols)\n",
    "            disagreement_calc.compact_features(max_compactor)\n",
    "            \n",
    "            \n",
    "        elif method == \"activated\" and raw_data is not None:\n",
    "            activated_features = {}\n",
    "            for feature in categorical_cols:\n",
    "                sub_feature = raw_data[raw_data['Project ID'] == project_id ][feature].values[0]\n",
    "                activated_features[feature] = f\"{feature}_{sub_feature}\"\n",
    "\n",
    "            activated_compactor = ActivatedCompactor(activated_features)\n",
    "            disagreement_calc.compact_features(activated_compactor)\n",
    "            \n",
    "        elif method == \"maxnonactivated\" and raw_data is not None:\n",
    "            activated_features = {}\n",
    "            for feature in categorical_cols:\n",
    "                sub_feature = raw_data[raw_data['Project ID'] == project_id ][feature].values[0]\n",
    "                activated_features[feature] = f\"{feature}_{sub_feature}\"\n",
    "            max_non_activated_compactor = MaxNonActivatedCompactor(activated_features)\n",
    "            disagreement_calc.compact_features(max_non_activated_compactor)\n",
    "            \n",
    "        if debug:\n",
    "            print(\"After Compact Explanation 1 \\n\",disagreement_calc.sorted_explanation1[:k])\n",
    "            print(\"After Compact Explanation 2 \\n\",disagreement_calc.sorted_explanation2[:k])\n",
    "            \n",
    "            \n",
    "        disagreement = disagreement_calc.get_disagreement(k, features_F)\n",
    "        \n",
    "        if debug:\n",
    "            print(\"Disagreement : \", disagreement)\n",
    "        \n",
    "        for key in list(disagreement_mean.keys()):\n",
    "            if disagreement[key] == None:\n",
    "                raise ValueError(f\"The value for key '{key}' in disagreement_mean is None.\")\n",
    "            disagreement_mean[key] += disagreement[key]\n",
    "        \n",
    "        if debug:\n",
    "            print(\"****************************************\")\n",
    "\n",
    "    for key in list(disagreement_mean.keys()):\n",
    "        disagreement_mean[key] = round(disagreement_mean[key] / len(explanations1.keys()),3)\n",
    "    \n",
    "    if debug:\n",
    "        print(\"*********************************************\")\n",
    "        print(disagreement_mean)\n",
    "        print(\"*********************************************\")\n",
    "\n",
    "    \n",
    "    return disagreement_mean"
   ]
  },
  {
   "cell_type": "code",
   "execution_count": 13,
   "id": "6780f2e2-349a-4895-9c04-981b86946068",
   "metadata": {},
   "outputs": [],
   "source": [
    "def load_model_and_feat(model_path, model_name, model_type):\n",
    "    # Load the model\n",
    "    model = None\n",
    "    importance = None\n",
    "    feat_names = None\n",
    "    \n",
    "    if model_type == 'nn':\n",
    "        model_file_path = f'{model_path}{model_name}' \n",
    "        model = keras.models.load_model(model_file_path)\n",
    "        # Skip the rest\n",
    "\n",
    "    elif model_type == 'lgbm':\n",
    "        model_file_path = f'{model_path}{model_name}'\n",
    "        model = joblib.load(model_file_path)\n",
    "        # Load the feature importance array\n",
    "        importance = model.feature_importances_\n",
    "        # Get the feature names\n",
    "        #feat_names = model.feature_name_\n",
    "        feat_names = feature_names_list\n",
    "\n",
    "    elif model_type == 'lr':\n",
    "        model_file_path = f'{model_path}{model_name}'\n",
    "        model = joblib.load(model_file_path)\n",
    "        # Load the feature importance array\n",
    "        importance = model.coef_[0]\n",
    "        # Get the feature names\n",
    "        feat_names = model.feature_names_in_\n",
    "    \n",
    "    else:\n",
    "        model_file_path = f'{model_path}{model_name}'\n",
    "        model = joblib.load(model_file_path)\n",
    "        # Load the feature importance array\n",
    "        importance = model.feature_importances_\n",
    "        # Get the feature names\n",
    "        feat_names = model.feature_names_in_\n",
    "    \n",
    "    return importance, feat_names"
   ]
  },
  {
   "cell_type": "code",
   "execution_count": 14,
   "id": "32a40580-f0b5-4ccd-8209-cefd30559231",
   "metadata": {},
   "outputs": [],
   "source": [
    "# Function to select the top k features and plot\n",
    "def select_top_features(importance, feat_names):\n",
    "    # Create df and sort\n",
    "    df = pd.DataFrame({\"Feature\": feat_names, \"Importance\": importance})\n",
    "    #df_sorted = df.sort_values(\"Importance\", ascending=False)\n",
    "    df_sorted = df.reindex(df.Importance.abs().sort_values(ascending=False).index)\n",
    "    return df_sorted"
   ]
  },
  {
   "cell_type": "code",
   "execution_count": 15,
   "id": "95143e09-79a6-454a-9843-379d5c8b2c0d",
   "metadata": {
    "scrolled": true
   },
   "outputs": [
    {
     "name": "stdout",
     "output_type": "stream",
     "text": [
      "['Project Posted Month', 'Project Cost', 'Teacher Project Posted Sequence', 'Teacher Success Rate', 'Teacher Success Rate Imputed', 'School City Success Rate', 'School City Success Rate Imputed', 'School Success Rate', 'School Success Rate Imputed', 'School County Success Rate', 'School County Success Rate Imputed', 'Project Count in State', 'Project Need Statement Length', 'Project Short Description Length', 'Project Count in County', 'Resource Cost Percentage', 'Project Essay Length', 'School Percentage Free Lunch', 'Resource Cost', 'Resource Cost Imputed', 'Project Count in City', 'School Percentage Free Lunch Imputed', 'Project Type_Professional Development', 'Project Type_Student-Led', 'Project Type_Teacher-Led', 'Project Subject Category Tree_Applied Learning', 'Project Subject Category Tree_Applied Learning, Health & Sports', 'Project Subject Category Tree_Applied Learning, History & Civics', 'Project Subject Category Tree_Applied Learning, Literacy & Language', 'Project Subject Category Tree_Applied Learning, Math & Science', 'Project Subject Category Tree_Applied Learning, Music & The Arts', 'Project Subject Category Tree_Applied Learning, Special Needs', 'Project Subject Category Tree_Applied Learning, Warmth, Care & Hunger', 'Project Subject Category Tree_Health & Sports', 'Project Subject Category Tree_Health & Sports, Applied Learning', 'Project Subject Category Tree_Health & Sports, History & Civics', 'Project Subject Category Tree_Health & Sports, Literacy & Language', 'Project Subject Category Tree_Health & Sports, Math & Science', 'Project Subject Category Tree_Health & Sports, Music & The Arts', 'Project Subject Category Tree_Health & Sports, Special Needs', 'Project Subject Category Tree_Health & Sports, Warmth, Care & Hunger', 'Project Subject Category Tree_History & Civics', 'Project Subject Category Tree_History & Civics, Applied Learning', 'Project Subject Category Tree_History & Civics, Health & Sports', 'Project Subject Category Tree_History & Civics, Literacy & Language', 'Project Subject Category Tree_History & Civics, Math & Science', 'Project Subject Category Tree_History & Civics, Music & The Arts', 'Project Subject Category Tree_History & Civics, Special Needs', 'Project Subject Category Tree_History & Civics, Warmth, Care & Hunger', 'Project Subject Category Tree_Literacy & Language', 'Project Subject Category Tree_Literacy & Language, Applied Learning', 'Project Subject Category Tree_Literacy & Language, Health & Sports', 'Project Subject Category Tree_Literacy & Language, History & Civics', 'Project Subject Category Tree_Literacy & Language, Math & Science', 'Project Subject Category Tree_Literacy & Language, Music & The Arts', 'Project Subject Category Tree_Literacy & Language, Special Needs', 'Project Subject Category Tree_Literacy & Language, Warmth, Care & Hunger', 'Project Subject Category Tree_Math & Science', 'Project Subject Category Tree_Math & Science, Applied Learning', 'Project Subject Category Tree_Math & Science, Health & Sports', 'Project Subject Category Tree_Math & Science, History & Civics', 'Project Subject Category Tree_Math & Science, Literacy & Language', 'Project Subject Category Tree_Math & Science, Music & The Arts', 'Project Subject Category Tree_Math & Science, Special Needs', 'Project Subject Category Tree_Math & Science, Warmth, Care & Hunger', 'Project Subject Category Tree_Music & The Arts', 'Project Subject Category Tree_Music & The Arts, Applied Learning', 'Project Subject Category Tree_Music & The Arts, Health & Sports', 'Project Subject Category Tree_Music & The Arts, History & Civics', 'Project Subject Category Tree_Music & The Arts, Special Needs', 'Project Subject Category Tree_Music & The Arts, Warmth, Care & Hunger', 'Project Subject Category Tree_Special Needs', 'Project Subject Category Tree_Special Needs, Health & Sports', 'Project Subject Category Tree_Special Needs, Music & The Arts', 'Project Subject Category Tree_Special Needs, Warmth, Care & Hunger', 'Project Subject Category Tree_Unknown', 'Project Subject Category Tree_Warmth, Care & Hunger', 'Project Subject Subcategory Tree_Applied Sciences', 'Project Subject Subcategory Tree_Applied Sciences, Character Education', 'Project Subject Subcategory Tree_Applied Sciences, Civics & Government', 'Project Subject Subcategory Tree_Applied Sciences, College & Career Prep', 'Project Subject Subcategory Tree_Applied Sciences, Community Service', 'Project Subject Subcategory Tree_Applied Sciences, ESL', 'Project Subject Subcategory Tree_Applied Sciences, Early Development', 'Project Subject Subcategory Tree_Applied Sciences, Economics', 'Project Subject Subcategory Tree_Applied Sciences, Environmental Science', 'Project Subject Subcategory Tree_Applied Sciences, Extracurricular', 'Project Subject Subcategory Tree_Applied Sciences, Financial Literacy', 'Project Subject Subcategory Tree_Applied Sciences, Foreign Languages', 'Project Subject Subcategory Tree_Applied Sciences, Gym & Fitness', 'Project Subject Subcategory Tree_Applied Sciences, Health & Life Science', 'Project Subject Subcategory Tree_Applied Sciences, Health & Wellness', 'Project Subject Subcategory Tree_Applied Sciences, History & Geography', 'Project Subject Subcategory Tree_Applied Sciences, Literacy', 'Project Subject Subcategory Tree_Applied Sciences, Literature & Writing', 'Project Subject Subcategory Tree_Applied Sciences, Mathematics', 'Project Subject Subcategory Tree_Applied Sciences, Music', 'Project Subject Subcategory Tree_Applied Sciences, Nutrition Education', 'Project Subject Subcategory Tree_Applied Sciences, Other', 'Project Subject Subcategory Tree_Applied Sciences, Parent Involvement', 'Project Subject Subcategory Tree_Applied Sciences, Performing Arts', 'Project Subject Subcategory Tree_Applied Sciences, Social Sciences', 'Project Subject Subcategory Tree_Applied Sciences, Special Needs', 'Project Subject Subcategory Tree_Applied Sciences, Team Sports', 'Project Subject Subcategory Tree_Applied Sciences, Visual Arts', 'Project Subject Subcategory Tree_Applied Sciences, Warmth, Care & Hunger', 'Project Subject Subcategory Tree_Character Education', 'Project Subject Subcategory Tree_Character Education, Civics & Government', 'Project Subject Subcategory Tree_Character Education, College & Career Prep', 'Project Subject Subcategory Tree_Character Education, Community Service', 'Project Subject Subcategory Tree_Character Education, ESL', 'Project Subject Subcategory Tree_Character Education, Early Development', 'Project Subject Subcategory Tree_Character Education, Economics', 'Project Subject Subcategory Tree_Character Education, Environmental Science', 'Project Subject Subcategory Tree_Character Education, Extracurricular', 'Project Subject Subcategory Tree_Character Education, Financial Literacy', 'Project Subject Subcategory Tree_Character Education, Foreign Languages', 'Project Subject Subcategory Tree_Character Education, Gym & Fitness', 'Project Subject Subcategory Tree_Character Education, Health & Life Science', 'Project Subject Subcategory Tree_Character Education, Health & Wellness', 'Project Subject Subcategory Tree_Character Education, History & Geography', 'Project Subject Subcategory Tree_Character Education, Literacy', 'Project Subject Subcategory Tree_Character Education, Literature & Writing', 'Project Subject Subcategory Tree_Character Education, Mathematics', 'Project Subject Subcategory Tree_Character Education, Music', 'Project Subject Subcategory Tree_Character Education, Nutrition Education', 'Project Subject Subcategory Tree_Character Education, Other', 'Project Subject Subcategory Tree_Character Education, Parent Involvement', 'Project Subject Subcategory Tree_Character Education, Performing Arts', 'Project Subject Subcategory Tree_Character Education, Social Sciences', 'Project Subject Subcategory Tree_Character Education, Special Needs', 'Project Subject Subcategory Tree_Character Education, Team Sports', 'Project Subject Subcategory Tree_Character Education, Visual Arts', 'Project Subject Subcategory Tree_Character Education, Warmth, Care & Hunger', 'Project Subject Subcategory Tree_Civics & Government', 'Project Subject Subcategory Tree_Civics & Government, College & Career Prep', 'Project Subject Subcategory Tree_Civics & Government, Community Service', 'Project Subject Subcategory Tree_Civics & Government, ESL', 'Project Subject Subcategory Tree_Civics & Government, Early Development', 'Project Subject Subcategory Tree_Civics & Government, Economics', 'Project Subject Subcategory Tree_Civics & Government, Environmental Science', 'Project Subject Subcategory Tree_Civics & Government, Extracurricular', 'Project Subject Subcategory Tree_Civics & Government, Financial Literacy', 'Project Subject Subcategory Tree_Civics & Government, Foreign Languages', 'Project Subject Subcategory Tree_Civics & Government, Gym & Fitness', 'Project Subject Subcategory Tree_Civics & Government, Health & Life Science', 'Project Subject Subcategory Tree_Civics & Government, Health & Wellness', 'Project Subject Subcategory Tree_Civics & Government, History & Geography', 'Project Subject Subcategory Tree_Civics & Government, Literacy', 'Project Subject Subcategory Tree_Civics & Government, Literature & Writing', 'Project Subject Subcategory Tree_Civics & Government, Mathematics', 'Project Subject Subcategory Tree_Civics & Government, Music', 'Project Subject Subcategory Tree_Civics & Government, Nutrition Education', 'Project Subject Subcategory Tree_Civics & Government, Other', 'Project Subject Subcategory Tree_Civics & Government, Parent Involvement', 'Project Subject Subcategory Tree_Civics & Government, Performing Arts', 'Project Subject Subcategory Tree_Civics & Government, Social Sciences', 'Project Subject Subcategory Tree_Civics & Government, Special Needs', 'Project Subject Subcategory Tree_Civics & Government, Team Sports', 'Project Subject Subcategory Tree_Civics & Government, Visual Arts', 'Project Subject Subcategory Tree_Civics & Government, Warmth, Care & Hunger', 'Project Subject Subcategory Tree_College & Career Prep', 'Project Subject Subcategory Tree_College & Career Prep, Community Service', 'Project Subject Subcategory Tree_College & Career Prep, ESL', 'Project Subject Subcategory Tree_College & Career Prep, Early Development', 'Project Subject Subcategory Tree_College & Career Prep, Economics', 'Project Subject Subcategory Tree_College & Career Prep, Environmental Science', 'Project Subject Subcategory Tree_College & Career Prep, Extracurricular', 'Project Subject Subcategory Tree_College & Career Prep, Financial Literacy', 'Project Subject Subcategory Tree_College & Career Prep, Foreign Languages', 'Project Subject Subcategory Tree_College & Career Prep, Gym & Fitness', 'Project Subject Subcategory Tree_College & Career Prep, Health & Life Science', 'Project Subject Subcategory Tree_College & Career Prep, Health & Wellness', 'Project Subject Subcategory Tree_College & Career Prep, History & Geography', 'Project Subject Subcategory Tree_College & Career Prep, Literacy', 'Project Subject Subcategory Tree_College & Career Prep, Literature & Writing', 'Project Subject Subcategory Tree_College & Career Prep, Mathematics', 'Project Subject Subcategory Tree_College & Career Prep, Music', 'Project Subject Subcategory Tree_College & Career Prep, Nutrition Education', 'Project Subject Subcategory Tree_College & Career Prep, Other', 'Project Subject Subcategory Tree_College & Career Prep, Parent Involvement', 'Project Subject Subcategory Tree_College & Career Prep, Performing Arts', 'Project Subject Subcategory Tree_College & Career Prep, Social Sciences', 'Project Subject Subcategory Tree_College & Career Prep, Special Needs', 'Project Subject Subcategory Tree_College & Career Prep, Team Sports', 'Project Subject Subcategory Tree_College & Career Prep, Visual Arts', 'Project Subject Subcategory Tree_College & Career Prep, Warmth, Care & Hunger', 'Project Subject Subcategory Tree_Community Service', 'Project Subject Subcategory Tree_Community Service, ESL', 'Project Subject Subcategory Tree_Community Service, Early Development', 'Project Subject Subcategory Tree_Community Service, Economics', 'Project Subject Subcategory Tree_Community Service, Environmental Science', 'Project Subject Subcategory Tree_Community Service, Extracurricular', 'Project Subject Subcategory Tree_Community Service, Financial Literacy', 'Project Subject Subcategory Tree_Community Service, Foreign Languages', 'Project Subject Subcategory Tree_Community Service, Gym & Fitness', 'Project Subject Subcategory Tree_Community Service, Health & Life Science', 'Project Subject Subcategory Tree_Community Service, Health & Wellness', 'Project Subject Subcategory Tree_Community Service, History & Geography', 'Project Subject Subcategory Tree_Community Service, Literacy', 'Project Subject Subcategory Tree_Community Service, Literature & Writing', 'Project Subject Subcategory Tree_Community Service, Mathematics', 'Project Subject Subcategory Tree_Community Service, Music', 'Project Subject Subcategory Tree_Community Service, Nutrition Education', 'Project Subject Subcategory Tree_Community Service, Other', 'Project Subject Subcategory Tree_Community Service, Parent Involvement', 'Project Subject Subcategory Tree_Community Service, Performing Arts', 'Project Subject Subcategory Tree_Community Service, Social Sciences', 'Project Subject Subcategory Tree_Community Service, Special Needs', 'Project Subject Subcategory Tree_Community Service, Team Sports', 'Project Subject Subcategory Tree_Community Service, Visual Arts', 'Project Subject Subcategory Tree_Community Service, Warmth, Care & Hunger', 'Project Subject Subcategory Tree_ESL', 'Project Subject Subcategory Tree_ESL, Early Development', 'Project Subject Subcategory Tree_ESL, Economics', 'Project Subject Subcategory Tree_ESL, Environmental Science', 'Project Subject Subcategory Tree_ESL, Extracurricular', 'Project Subject Subcategory Tree_ESL, Financial Literacy', 'Project Subject Subcategory Tree_ESL, Foreign Languages', 'Project Subject Subcategory Tree_ESL, Gym & Fitness', 'Project Subject Subcategory Tree_ESL, Health & Life Science', 'Project Subject Subcategory Tree_ESL, Health & Wellness', 'Project Subject Subcategory Tree_ESL, History & Geography', 'Project Subject Subcategory Tree_ESL, Literacy', 'Project Subject Subcategory Tree_ESL, Literature & Writing', 'Project Subject Subcategory Tree_ESL, Mathematics', 'Project Subject Subcategory Tree_ESL, Music', 'Project Subject Subcategory Tree_ESL, Nutrition Education', 'Project Subject Subcategory Tree_ESL, Other', 'Project Subject Subcategory Tree_ESL, Parent Involvement', 'Project Subject Subcategory Tree_ESL, Performing Arts', 'Project Subject Subcategory Tree_ESL, Social Sciences', 'Project Subject Subcategory Tree_ESL, Special Needs', 'Project Subject Subcategory Tree_ESL, Team Sports', 'Project Subject Subcategory Tree_ESL, Visual Arts', 'Project Subject Subcategory Tree_ESL, Warmth, Care & Hunger', 'Project Subject Subcategory Tree_Early Development', 'Project Subject Subcategory Tree_Early Development, Economics', 'Project Subject Subcategory Tree_Early Development, Environmental Science', 'Project Subject Subcategory Tree_Early Development, Extracurricular', 'Project Subject Subcategory Tree_Early Development, Financial Literacy', 'Project Subject Subcategory Tree_Early Development, Foreign Languages', 'Project Subject Subcategory Tree_Early Development, Gym & Fitness', 'Project Subject Subcategory Tree_Early Development, Health & Life Science', 'Project Subject Subcategory Tree_Early Development, Health & Wellness', 'Project Subject Subcategory Tree_Early Development, History & Geography', 'Project Subject Subcategory Tree_Early Development, Literacy', 'Project Subject Subcategory Tree_Early Development, Literature & Writing', 'Project Subject Subcategory Tree_Early Development, Mathematics', 'Project Subject Subcategory Tree_Early Development, Music', 'Project Subject Subcategory Tree_Early Development, Nutrition Education', 'Project Subject Subcategory Tree_Early Development, Other', 'Project Subject Subcategory Tree_Early Development, Parent Involvement', 'Project Subject Subcategory Tree_Early Development, Performing Arts', 'Project Subject Subcategory Tree_Early Development, Social Sciences', 'Project Subject Subcategory Tree_Early Development, Special Needs', 'Project Subject Subcategory Tree_Early Development, Team Sports', 'Project Subject Subcategory Tree_Early Development, Visual Arts', 'Project Subject Subcategory Tree_Early Development, Warmth, Care & Hunger', 'Project Subject Subcategory Tree_Economics', 'Project Subject Subcategory Tree_Economics, Environmental Science', 'Project Subject Subcategory Tree_Economics, Extracurricular', 'Project Subject Subcategory Tree_Economics, Financial Literacy', 'Project Subject Subcategory Tree_Economics, Foreign Languages', 'Project Subject Subcategory Tree_Economics, Gym & Fitness', 'Project Subject Subcategory Tree_Economics, Health & Life Science', 'Project Subject Subcategory Tree_Economics, Health & Wellness', 'Project Subject Subcategory Tree_Economics, History & Geography', 'Project Subject Subcategory Tree_Economics, Literacy', 'Project Subject Subcategory Tree_Economics, Literature & Writing', 'Project Subject Subcategory Tree_Economics, Mathematics', 'Project Subject Subcategory Tree_Economics, Music', 'Project Subject Subcategory Tree_Economics, Nutrition Education', 'Project Subject Subcategory Tree_Economics, Other', 'Project Subject Subcategory Tree_Economics, Parent Involvement', 'Project Subject Subcategory Tree_Economics, Performing Arts', 'Project Subject Subcategory Tree_Economics, Social Sciences', 'Project Subject Subcategory Tree_Economics, Special Needs', 'Project Subject Subcategory Tree_Economics, Team Sports', 'Project Subject Subcategory Tree_Economics, Visual Arts', 'Project Subject Subcategory Tree_Environmental Science', 'Project Subject Subcategory Tree_Environmental Science, Extracurricular', 'Project Subject Subcategory Tree_Environmental Science, Financial Literacy', 'Project Subject Subcategory Tree_Environmental Science, Foreign Languages', 'Project Subject Subcategory Tree_Environmental Science, Gym & Fitness', 'Project Subject Subcategory Tree_Environmental Science, Health & Life Science', 'Project Subject Subcategory Tree_Environmental Science, Health & Wellness', 'Project Subject Subcategory Tree_Environmental Science, History & Geography', 'Project Subject Subcategory Tree_Environmental Science, Literacy', 'Project Subject Subcategory Tree_Environmental Science, Literature & Writing', 'Project Subject Subcategory Tree_Environmental Science, Mathematics', 'Project Subject Subcategory Tree_Environmental Science, Music', 'Project Subject Subcategory Tree_Environmental Science, Nutrition Education', 'Project Subject Subcategory Tree_Environmental Science, Other', 'Project Subject Subcategory Tree_Environmental Science, Parent Involvement', 'Project Subject Subcategory Tree_Environmental Science, Performing Arts', 'Project Subject Subcategory Tree_Environmental Science, Social Sciences', 'Project Subject Subcategory Tree_Environmental Science, Special Needs', 'Project Subject Subcategory Tree_Environmental Science, Team Sports', 'Project Subject Subcategory Tree_Environmental Science, Visual Arts', 'Project Subject Subcategory Tree_Environmental Science, Warmth, Care & Hunger', 'Project Subject Subcategory Tree_Extracurricular', 'Project Subject Subcategory Tree_Extracurricular, Financial Literacy', 'Project Subject Subcategory Tree_Extracurricular, Foreign Languages', 'Project Subject Subcategory Tree_Extracurricular, Gym & Fitness', 'Project Subject Subcategory Tree_Extracurricular, Health & Life Science', 'Project Subject Subcategory Tree_Extracurricular, Health & Wellness', 'Project Subject Subcategory Tree_Extracurricular, History & Geography', 'Project Subject Subcategory Tree_Extracurricular, Literacy', 'Project Subject Subcategory Tree_Extracurricular, Literature & Writing', 'Project Subject Subcategory Tree_Extracurricular, Mathematics', 'Project Subject Subcategory Tree_Extracurricular, Music', 'Project Subject Subcategory Tree_Extracurricular, Nutrition Education', 'Project Subject Subcategory Tree_Extracurricular, Other', 'Project Subject Subcategory Tree_Extracurricular, Parent Involvement', 'Project Subject Subcategory Tree_Extracurricular, Performing Arts', 'Project Subject Subcategory Tree_Extracurricular, Social Sciences', 'Project Subject Subcategory Tree_Extracurricular, Special Needs', 'Project Subject Subcategory Tree_Extracurricular, Team Sports', 'Project Subject Subcategory Tree_Extracurricular, Visual Arts', 'Project Subject Subcategory Tree_Extracurricular, Warmth, Care & Hunger', 'Project Subject Subcategory Tree_Financial Literacy', 'Project Subject Subcategory Tree_Financial Literacy, Foreign Languages', 'Project Subject Subcategory Tree_Financial Literacy, Gym & Fitness', 'Project Subject Subcategory Tree_Financial Literacy, Health & Life Science', 'Project Subject Subcategory Tree_Financial Literacy, Health & Wellness', 'Project Subject Subcategory Tree_Financial Literacy, History & Geography', 'Project Subject Subcategory Tree_Financial Literacy, Literacy', 'Project Subject Subcategory Tree_Financial Literacy, Literature & Writing', 'Project Subject Subcategory Tree_Financial Literacy, Mathematics', 'Project Subject Subcategory Tree_Financial Literacy, Music', 'Project Subject Subcategory Tree_Financial Literacy, Nutrition Education', 'Project Subject Subcategory Tree_Financial Literacy, Other', 'Project Subject Subcategory Tree_Financial Literacy, Parent Involvement', 'Project Subject Subcategory Tree_Financial Literacy, Performing Arts', 'Project Subject Subcategory Tree_Financial Literacy, Social Sciences', 'Project Subject Subcategory Tree_Financial Literacy, Special Needs', 'Project Subject Subcategory Tree_Financial Literacy, Team Sports', 'Project Subject Subcategory Tree_Financial Literacy, Visual Arts', 'Project Subject Subcategory Tree_Financial Literacy, Warmth, Care & Hunger', 'Project Subject Subcategory Tree_Foreign Languages', 'Project Subject Subcategory Tree_Foreign Languages, Gym & Fitness', 'Project Subject Subcategory Tree_Foreign Languages, Health & Life Science', 'Project Subject Subcategory Tree_Foreign Languages, Health & Wellness', 'Project Subject Subcategory Tree_Foreign Languages, History & Geography', 'Project Subject Subcategory Tree_Foreign Languages, Literacy', 'Project Subject Subcategory Tree_Foreign Languages, Literature & Writing', 'Project Subject Subcategory Tree_Foreign Languages, Mathematics', 'Project Subject Subcategory Tree_Foreign Languages, Music', 'Project Subject Subcategory Tree_Foreign Languages, Nutrition Education', 'Project Subject Subcategory Tree_Foreign Languages, Other', 'Project Subject Subcategory Tree_Foreign Languages, Parent Involvement', 'Project Subject Subcategory Tree_Foreign Languages, Performing Arts', 'Project Subject Subcategory Tree_Foreign Languages, Social Sciences', 'Project Subject Subcategory Tree_Foreign Languages, Special Needs', 'Project Subject Subcategory Tree_Foreign Languages, Team Sports', 'Project Subject Subcategory Tree_Foreign Languages, Visual Arts', 'Project Subject Subcategory Tree_Gym & Fitness', 'Project Subject Subcategory Tree_Gym & Fitness, Health & Life Science', 'Project Subject Subcategory Tree_Gym & Fitness, Health & Wellness', 'Project Subject Subcategory Tree_Gym & Fitness, History & Geography', 'Project Subject Subcategory Tree_Gym & Fitness, Literacy', 'Project Subject Subcategory Tree_Gym & Fitness, Literature & Writing', 'Project Subject Subcategory Tree_Gym & Fitness, Mathematics', 'Project Subject Subcategory Tree_Gym & Fitness, Music', 'Project Subject Subcategory Tree_Gym & Fitness, Nutrition Education', 'Project Subject Subcategory Tree_Gym & Fitness, Other', 'Project Subject Subcategory Tree_Gym & Fitness, Parent Involvement', 'Project Subject Subcategory Tree_Gym & Fitness, Performing Arts', 'Project Subject Subcategory Tree_Gym & Fitness, Social Sciences', 'Project Subject Subcategory Tree_Gym & Fitness, Special Needs', 'Project Subject Subcategory Tree_Gym & Fitness, Team Sports', 'Project Subject Subcategory Tree_Gym & Fitness, Visual Arts', 'Project Subject Subcategory Tree_Gym & Fitness, Warmth, Care & Hunger', 'Project Subject Subcategory Tree_Health & Life Science', 'Project Subject Subcategory Tree_Health & Life Science, Health & Wellness', 'Project Subject Subcategory Tree_Health & Life Science, History & Geography', 'Project Subject Subcategory Tree_Health & Life Science, Literacy', 'Project Subject Subcategory Tree_Health & Life Science, Literature & Writing', 'Project Subject Subcategory Tree_Health & Life Science, Mathematics', 'Project Subject Subcategory Tree_Health & Life Science, Music', 'Project Subject Subcategory Tree_Health & Life Science, Nutrition Education', 'Project Subject Subcategory Tree_Health & Life Science, Other', 'Project Subject Subcategory Tree_Health & Life Science, Parent Involvement', 'Project Subject Subcategory Tree_Health & Life Science, Performing Arts', 'Project Subject Subcategory Tree_Health & Life Science, Social Sciences', 'Project Subject Subcategory Tree_Health & Life Science, Special Needs', 'Project Subject Subcategory Tree_Health & Life Science, Team Sports', 'Project Subject Subcategory Tree_Health & Life Science, Visual Arts', 'Project Subject Subcategory Tree_Health & Life Science, Warmth, Care & Hunger', 'Project Subject Subcategory Tree_Health & Wellness', 'Project Subject Subcategory Tree_Health & Wellness, History & Geography', 'Project Subject Subcategory Tree_Health & Wellness, Literacy', 'Project Subject Subcategory Tree_Health & Wellness, Literature & Writing', 'Project Subject Subcategory Tree_Health & Wellness, Mathematics', 'Project Subject Subcategory Tree_Health & Wellness, Music', 'Project Subject Subcategory Tree_Health & Wellness, Nutrition Education', 'Project Subject Subcategory Tree_Health & Wellness, Other', 'Project Subject Subcategory Tree_Health & Wellness, Parent Involvement', 'Project Subject Subcategory Tree_Health & Wellness, Performing Arts', 'Project Subject Subcategory Tree_Health & Wellness, Social Sciences', 'Project Subject Subcategory Tree_Health & Wellness, Special Needs', 'Project Subject Subcategory Tree_Health & Wellness, Team Sports', 'Project Subject Subcategory Tree_Health & Wellness, Visual Arts', 'Project Subject Subcategory Tree_Health & Wellness, Warmth, Care & Hunger', 'Project Subject Subcategory Tree_History & Geography', 'Project Subject Subcategory Tree_History & Geography, Literacy', 'Project Subject Subcategory Tree_History & Geography, Literature & Writing', 'Project Subject Subcategory Tree_History & Geography, Mathematics', 'Project Subject Subcategory Tree_History & Geography, Music', 'Project Subject Subcategory Tree_History & Geography, Nutrition Education', 'Project Subject Subcategory Tree_History & Geography, Other', 'Project Subject Subcategory Tree_History & Geography, Parent Involvement', 'Project Subject Subcategory Tree_History & Geography, Performing Arts', 'Project Subject Subcategory Tree_History & Geography, Social Sciences', 'Project Subject Subcategory Tree_History & Geography, Special Needs', 'Project Subject Subcategory Tree_History & Geography, Team Sports', 'Project Subject Subcategory Tree_History & Geography, Visual Arts', 'Project Subject Subcategory Tree_History & Geography, Warmth, Care & Hunger', 'Project Subject Subcategory Tree_Literacy', 'Project Subject Subcategory Tree_Literacy, Literature & Writing', 'Project Subject Subcategory Tree_Literacy, Mathematics', 'Project Subject Subcategory Tree_Literacy, Music', 'Project Subject Subcategory Tree_Literacy, Nutrition Education', 'Project Subject Subcategory Tree_Literacy, Other', 'Project Subject Subcategory Tree_Literacy, Parent Involvement', 'Project Subject Subcategory Tree_Literacy, Performing Arts', 'Project Subject Subcategory Tree_Literacy, Social Sciences', 'Project Subject Subcategory Tree_Literacy, Special Needs', 'Project Subject Subcategory Tree_Literacy, Team Sports', 'Project Subject Subcategory Tree_Literacy, Visual Arts', 'Project Subject Subcategory Tree_Literacy, Warmth, Care & Hunger', 'Project Subject Subcategory Tree_Literature & Writing', 'Project Subject Subcategory Tree_Literature & Writing, Mathematics', 'Project Subject Subcategory Tree_Literature & Writing, Music', 'Project Subject Subcategory Tree_Literature & Writing, Nutrition Education', 'Project Subject Subcategory Tree_Literature & Writing, Other', 'Project Subject Subcategory Tree_Literature & Writing, Parent Involvement', 'Project Subject Subcategory Tree_Literature & Writing, Performing Arts', 'Project Subject Subcategory Tree_Literature & Writing, Social Sciences', 'Project Subject Subcategory Tree_Literature & Writing, Special Needs', 'Project Subject Subcategory Tree_Literature & Writing, Team Sports', 'Project Subject Subcategory Tree_Literature & Writing, Visual Arts', 'Project Subject Subcategory Tree_Literature & Writing, Warmth, Care & Hunger', 'Project Subject Subcategory Tree_Mathematics', 'Project Subject Subcategory Tree_Mathematics, Music', 'Project Subject Subcategory Tree_Mathematics, Nutrition Education', 'Project Subject Subcategory Tree_Mathematics, Other', 'Project Subject Subcategory Tree_Mathematics, Parent Involvement', 'Project Subject Subcategory Tree_Mathematics, Performing Arts', 'Project Subject Subcategory Tree_Mathematics, Social Sciences', 'Project Subject Subcategory Tree_Mathematics, Special Needs', 'Project Subject Subcategory Tree_Mathematics, Team Sports', 'Project Subject Subcategory Tree_Mathematics, Visual Arts', 'Project Subject Subcategory Tree_Mathematics, Warmth, Care & Hunger', 'Project Subject Subcategory Tree_Music', 'Project Subject Subcategory Tree_Music, Nutrition Education', 'Project Subject Subcategory Tree_Music, Other', 'Project Subject Subcategory Tree_Music, Parent Involvement', 'Project Subject Subcategory Tree_Music, Performing Arts', 'Project Subject Subcategory Tree_Music, Social Sciences', 'Project Subject Subcategory Tree_Music, Special Needs', 'Project Subject Subcategory Tree_Music, Team Sports', 'Project Subject Subcategory Tree_Music, Visual Arts', 'Project Subject Subcategory Tree_Nutrition Education', 'Project Subject Subcategory Tree_Nutrition Education, Other', 'Project Subject Subcategory Tree_Nutrition Education, Parent Involvement', 'Project Subject Subcategory Tree_Nutrition Education, Performing Arts', 'Project Subject Subcategory Tree_Nutrition Education, Social Sciences', 'Project Subject Subcategory Tree_Nutrition Education, Special Needs', 'Project Subject Subcategory Tree_Nutrition Education, Team Sports', 'Project Subject Subcategory Tree_Nutrition Education, Visual Arts', 'Project Subject Subcategory Tree_Nutrition Education, Warmth, Care & Hunger', 'Project Subject Subcategory Tree_Other', 'Project Subject Subcategory Tree_Other, Parent Involvement', 'Project Subject Subcategory Tree_Other, Performing Arts', 'Project Subject Subcategory Tree_Other, Social Sciences', 'Project Subject Subcategory Tree_Other, Special Needs', 'Project Subject Subcategory Tree_Other, Team Sports', 'Project Subject Subcategory Tree_Other, Visual Arts', 'Project Subject Subcategory Tree_Other, Warmth, Care & Hunger', 'Project Subject Subcategory Tree_Parent Involvement', 'Project Subject Subcategory Tree_Parent Involvement, Performing Arts', 'Project Subject Subcategory Tree_Parent Involvement, Social Sciences', 'Project Subject Subcategory Tree_Parent Involvement, Special Needs', 'Project Subject Subcategory Tree_Parent Involvement, Team Sports', 'Project Subject Subcategory Tree_Parent Involvement, Visual Arts', 'Project Subject Subcategory Tree_Parent Involvement, Warmth, Care & Hunger', 'Project Subject Subcategory Tree_Performing Arts', 'Project Subject Subcategory Tree_Performing Arts, Social Sciences', 'Project Subject Subcategory Tree_Performing Arts, Special Needs', 'Project Subject Subcategory Tree_Performing Arts, Team Sports', 'Project Subject Subcategory Tree_Performing Arts, Visual Arts', 'Project Subject Subcategory Tree_Social Sciences', 'Project Subject Subcategory Tree_Social Sciences, Special Needs', 'Project Subject Subcategory Tree_Social Sciences, Team Sports', 'Project Subject Subcategory Tree_Social Sciences, Visual Arts', 'Project Subject Subcategory Tree_Social Sciences, Warmth, Care & Hunger', 'Project Subject Subcategory Tree_Special Needs', 'Project Subject Subcategory Tree_Special Needs, Team Sports', 'Project Subject Subcategory Tree_Special Needs, Visual Arts', 'Project Subject Subcategory Tree_Special Needs, Warmth, Care & Hunger', 'Project Subject Subcategory Tree_Team Sports', 'Project Subject Subcategory Tree_Team Sports, Visual Arts', 'Project Subject Subcategory Tree_Unknown', 'Project Subject Subcategory Tree_Visual Arts', 'Project Subject Subcategory Tree_Visual Arts, Warmth, Care & Hunger', 'Project Subject Subcategory Tree_Warmth, Care & Hunger', 'Project Grade Level Category_Grades 3-5', 'Project Grade Level Category_Grades 6-8', 'Project Grade Level Category_Grades 9-12', 'Project Grade Level Category_Grades PreK-2', 'Project Grade Level Category_unknown', 'Project Resource Category_Books', 'Project Resource Category_Other', 'Project Resource Category_Supplies', 'Project Resource Category_Technology', 'Project Resource Category_Trips', 'Project Resource Category_Unknown', 'Project Resource Category_Visitors', 'School Metro Type_Unknown', 'School Metro Type_rural', 'School Metro Type_suburban', 'School Metro Type_town', 'School Metro Type_unknown', 'School Metro Type_urban', 'School State_Alabama', 'School State_Alaska', 'School State_Arizona', 'School State_Arkansas', 'School State_California', 'School State_Colorado', 'School State_Connecticut', 'School State_Delaware', 'School State_District of Columbia', 'School State_Florida', 'School State_Georgia', 'School State_Hawaii', 'School State_Idaho', 'School State_Illinois', 'School State_Indiana', 'School State_Iowa', 'School State_Kansas', 'School State_Kentucky', 'School State_Louisiana', 'School State_Maine', 'School State_Maryland', 'School State_Massachusetts', 'School State_Michigan', 'School State_Minnesota', 'School State_Mississippi', 'School State_Missouri', 'School State_Montana', 'School State_Nebraska', 'School State_Nevada', 'School State_New Hampshire', 'School State_New Jersey', 'School State_New Mexico', 'School State_New York', 'School State_North Carolina', 'School State_North Dakota', 'School State_Ohio', 'School State_Oklahoma', 'School State_Oregon', 'School State_Pennsylvania', 'School State_Rhode Island', 'School State_South Carolina', 'School State_South Dakota', 'School State_Tennessee', 'School State_Texas', 'School State_Unknown', 'School State_Utah', 'School State_Vermont', 'School State_Virginia', 'School State_Washington', 'School State_West Virginia', 'School State_Wisconsin', 'School State_Wyoming', 'Teacher Prefix_Dr.', 'Teacher Prefix_Mr.', 'Teacher Prefix_Mrs.', 'Teacher Prefix_Ms.', 'Teacher Prefix_Mx.', 'Teacher Prefix_Teacher', 'Teacher Prefix_Unknown', 'Resource Vendor Name_AKJ Education', 'Resource Vendor Name_Amazon Business', 'Resource Vendor Name_Best Buy Education', 'Resource Vendor Name_Blick Art Materials', 'Resource Vendor Name_Britannica Digital Learning', 'Resource Vendor Name_CDW-G', 'Resource Vendor Name_Carolina Biological Supply Company', \"Resource Vendor Name_DICK'S Sporting Goods\", 'Resource Vendor Name_Frey Scientific', 'Resource Vendor Name_Grainger', 'Resource Vendor Name_Kaplan Early Learning Company', 'Resource Vendor Name_Lakeshore Learning Materials', 'Resource Vendor Name_MakerBot', 'Resource Vendor Name_Nasco', 'Resource Vendor Name_Quill.com', 'Resource Vendor Name_Sargent-Welch', 'Resource Vendor Name_Scholastic Classroom Magazines', 'Resource Vendor Name_School Specialty', 'Resource Vendor Name_Staples Advantage', 'Resource Vendor Name_TIME for Kids', \"Resource Vendor Name_Teachers' School Supply\", 'Resource Vendor Name_Unknown', 'Resource Vendor Name_Woodwind and Brasswind']\n",
      "[['Project Count in State' 673]\n",
      " ['School County Success Rate' 636]\n",
      " ['Project Count in County' 618]\n",
      " ...\n",
      " ['Project Subject Subcategory Tree_Early Development, Extracurricular' 0]\n",
      " ['Project Subject Subcategory Tree_Early Development, Environmental Science'\n",
      "  0]\n",
      " ['Project Subject Subcategory Tree_Extracurricular, Gym & Fitness' 0]]\n"
     ]
    }
   ],
   "source": [
    "global_importance, feat_names = load_model_and_feat(art_root+model_path, model_name, model_type)\n",
    "#print(feat_names)\n",
    "\n",
    "global_explanation = select_top_features(global_importance, feat_names)\n",
    "#print(global_explanation.values)"
   ]
  },
  {
   "cell_type": "code",
   "execution_count": 16,
   "id": "a9f1b715-7fd1-415c-8657-7143fe94aeda",
   "metadata": {},
   "outputs": [],
   "source": [
    "# Create empty df - define the column names\n",
    "df = pd.DataFrame(columns=['Explanations', 'Compactor', 'Model', \n",
    "                           'Feature(10%)', 'Feature(20%)', \n",
    "                           'Rank(10%)', 'Rank(20%)', \n",
    "                           'Sign(10%)', 'Sign(20%)', \n",
    "                           'SignedRank(10%)', 'SignedRank(20%)'])"
   ]
  },
  {
   "cell_type": "markdown",
   "id": "1e3e0587-058a-453f-bb8d-ecd8cd8c4879",
   "metadata": {},
   "source": [
    "Local vs local"
   ]
  },
  {
   "cell_type": "code",
   "execution_count": 17,
   "id": "e77ab4ea-9f21-4f69-b9ca-14c10623dc4f",
   "metadata": {},
   "outputs": [
    {
     "name": "stdout",
     "output_type": "stream",
     "text": [
      "{'feature_agreement': 0.189, 'rank_agreement': 0.019, 'sign_agreement': 0.136, 'signed_rank_agreement': 0.018}\n",
      "{'feature_agreement': 0.858, 'rank_agreement': 0.598, 'sign_agreement': 0.641, 'signed_rank_agreement': 0.484}\n",
      "{'feature_agreement': 0.654, 'rank_agreement': 0.525, 'sign_agreement': 0.64, 'signed_rank_agreement': 0.515}\n",
      "{'feature_agreement': 0.857, 'rank_agreement': 0.598, 'sign_agreement': 0.64, 'signed_rank_agreement': 0.485}\n",
      "{'feature_agreement': 0.13, 'rank_agreement': 0.016, 'sign_agreement': 0.121, 'signed_rank_agreement': 0.016}\n",
      "{'feature_agreement': 0.374, 'rank_agreement': 0.316, 'sign_agreement': 0.342, 'signed_rank_agreement': 0.302}\n"
     ]
    },
    {
     "ename": "KeyboardInterrupt",
     "evalue": "",
     "output_type": "error",
     "traceback": [
      "\u001b[0;31m---------------------------------------------------------------------------\u001b[0m",
      "\u001b[0;31mKeyboardInterrupt\u001b[0m                         Traceback (most recent call last)",
      "Cell \u001b[0;32mIn[17], line 10\u001b[0m\n\u001b[1;32m      8\u001b[0m disagreement_max_comp_top_10_perc \u001b[38;5;241m=\u001b[39m disagreement_average(exp_combined_1, exp_combined_2, \u001b[38;5;28;01mTrue\u001b[39;00m, top_10_perc_compressed, \u001b[38;5;28;01mNone\u001b[39;00m, \u001b[38;5;124m'\u001b[39m\u001b[38;5;124mmax\u001b[39m\u001b[38;5;124m'\u001b[39m, processed)\n\u001b[1;32m      9\u001b[0m \u001b[38;5;28mprint\u001b[39m(disagreement_max_comp_top_10_perc)\n\u001b[0;32m---> 10\u001b[0m disagreement_act_comp_top_10_perc \u001b[38;5;241m=\u001b[39m \u001b[43mdisagreement_average\u001b[49m\u001b[43m(\u001b[49m\u001b[43mexp_combined_1\u001b[49m\u001b[43m,\u001b[49m\u001b[43m \u001b[49m\u001b[43mexp_combined_2\u001b[49m\u001b[43m,\u001b[49m\u001b[43m \u001b[49m\u001b[38;5;28;43;01mTrue\u001b[39;49;00m\u001b[43m,\u001b[49m\u001b[43m \u001b[49m\u001b[43mtop_10_perc_compressed\u001b[49m\u001b[43m,\u001b[49m\u001b[43m \u001b[49m\u001b[38;5;28;43;01mNone\u001b[39;49;00m\u001b[43m,\u001b[49m\u001b[43m \u001b[49m\u001b[38;5;124;43m'\u001b[39;49m\u001b[38;5;124;43mactivated\u001b[39;49m\u001b[38;5;124;43m'\u001b[39;49m\u001b[43m,\u001b[49m\u001b[43m \u001b[49m\u001b[43mprocessed\u001b[49m\u001b[43m)\u001b[49m\n\u001b[1;32m     11\u001b[0m \u001b[38;5;28mprint\u001b[39m(disagreement_act_comp_top_10_perc)\n\u001b[1;32m     12\u001b[0m disagreement_maxnonact_comp_top_10_perc \u001b[38;5;241m=\u001b[39m disagreement_average(exp_combined_1, exp_combined_2, \u001b[38;5;28;01mTrue\u001b[39;00m, top_10_perc_compressed, \u001b[38;5;28;01mNone\u001b[39;00m, \u001b[38;5;124m'\u001b[39m\u001b[38;5;124mmaxnonactivated\u001b[39m\u001b[38;5;124m'\u001b[39m, processed)\n",
      "Cell \u001b[0;32mIn[11], line 40\u001b[0m, in \u001b[0;36mdisagreement_average\u001b[0;34m(explanations1, explanations2, both_local, k, features_F, method, raw_data, debug)\u001b[0m\n\u001b[1;32m     38\u001b[0m activated_features \u001b[38;5;241m=\u001b[39m {}\n\u001b[1;32m     39\u001b[0m \u001b[38;5;28;01mfor\u001b[39;00m feature \u001b[38;5;129;01min\u001b[39;00m categorical_cols:\n\u001b[0;32m---> 40\u001b[0m     sub_feature \u001b[38;5;241m=\u001b[39m raw_data[\u001b[43mraw_data\u001b[49m\u001b[43m[\u001b[49m\u001b[38;5;124;43m'\u001b[39;49m\u001b[38;5;124;43mProject ID\u001b[39;49m\u001b[38;5;124;43m'\u001b[39;49m\u001b[43m]\u001b[49m\u001b[43m \u001b[49m\u001b[38;5;241;43m==\u001b[39;49m\u001b[43m \u001b[49m\u001b[43mproject_id\u001b[49m ][feature]\u001b[38;5;241m.\u001b[39mvalues[\u001b[38;5;241m0\u001b[39m]\n\u001b[1;32m     41\u001b[0m     activated_features[feature] \u001b[38;5;241m=\u001b[39m \u001b[38;5;124mf\u001b[39m\u001b[38;5;124m\"\u001b[39m\u001b[38;5;132;01m{\u001b[39;00mfeature\u001b[38;5;132;01m}\u001b[39;00m\u001b[38;5;124m_\u001b[39m\u001b[38;5;132;01m{\u001b[39;00msub_feature\u001b[38;5;132;01m}\u001b[39;00m\u001b[38;5;124m\"\u001b[39m\n\u001b[1;32m     43\u001b[0m activated_compactor \u001b[38;5;241m=\u001b[39m ActivatedCompactor(activated_features)\n",
      "File \u001b[0;32m~/miniconda3/lib/python3.11/site-packages/pandas/core/ops/common.py:76\u001b[0m, in \u001b[0;36m_unpack_zerodim_and_defer.<locals>.new_method\u001b[0;34m(self, other)\u001b[0m\n\u001b[1;32m     72\u001b[0m             \u001b[38;5;28;01mreturn\u001b[39;00m \u001b[38;5;28mNotImplemented\u001b[39m\n\u001b[1;32m     74\u001b[0m other \u001b[38;5;241m=\u001b[39m item_from_zerodim(other)\n\u001b[0;32m---> 76\u001b[0m \u001b[38;5;28;01mreturn\u001b[39;00m \u001b[43mmethod\u001b[49m\u001b[43m(\u001b[49m\u001b[38;5;28;43mself\u001b[39;49m\u001b[43m,\u001b[49m\u001b[43m \u001b[49m\u001b[43mother\u001b[49m\u001b[43m)\u001b[49m\n",
      "File \u001b[0;32m~/miniconda3/lib/python3.11/site-packages/pandas/core/arraylike.py:40\u001b[0m, in \u001b[0;36mOpsMixin.__eq__\u001b[0;34m(self, other)\u001b[0m\n\u001b[1;32m     38\u001b[0m \u001b[38;5;129m@unpack_zerodim_and_defer\u001b[39m(\u001b[38;5;124m\"\u001b[39m\u001b[38;5;124m__eq__\u001b[39m\u001b[38;5;124m\"\u001b[39m)\n\u001b[1;32m     39\u001b[0m \u001b[38;5;28;01mdef\u001b[39;00m \u001b[38;5;21m__eq__\u001b[39m(\u001b[38;5;28mself\u001b[39m, other):\n\u001b[0;32m---> 40\u001b[0m     \u001b[38;5;28;01mreturn\u001b[39;00m \u001b[38;5;28;43mself\u001b[39;49m\u001b[38;5;241;43m.\u001b[39;49m\u001b[43m_cmp_method\u001b[49m\u001b[43m(\u001b[49m\u001b[43mother\u001b[49m\u001b[43m,\u001b[49m\u001b[43m \u001b[49m\u001b[43moperator\u001b[49m\u001b[38;5;241;43m.\u001b[39;49m\u001b[43meq\u001b[49m\u001b[43m)\u001b[49m\n",
      "File \u001b[0;32m~/miniconda3/lib/python3.11/site-packages/pandas/core/series.py:5804\u001b[0m, in \u001b[0;36mSeries._cmp_method\u001b[0;34m(self, other, op)\u001b[0m\n\u001b[1;32m   5801\u001b[0m lvalues \u001b[38;5;241m=\u001b[39m \u001b[38;5;28mself\u001b[39m\u001b[38;5;241m.\u001b[39m_values\n\u001b[1;32m   5802\u001b[0m rvalues \u001b[38;5;241m=\u001b[39m extract_array(other, extract_numpy\u001b[38;5;241m=\u001b[39m\u001b[38;5;28;01mTrue\u001b[39;00m, extract_range\u001b[38;5;241m=\u001b[39m\u001b[38;5;28;01mTrue\u001b[39;00m)\n\u001b[0;32m-> 5804\u001b[0m res_values \u001b[38;5;241m=\u001b[39m \u001b[43mops\u001b[49m\u001b[38;5;241;43m.\u001b[39;49m\u001b[43mcomparison_op\u001b[49m\u001b[43m(\u001b[49m\u001b[43mlvalues\u001b[49m\u001b[43m,\u001b[49m\u001b[43m \u001b[49m\u001b[43mrvalues\u001b[49m\u001b[43m,\u001b[49m\u001b[43m \u001b[49m\u001b[43mop\u001b[49m\u001b[43m)\u001b[49m\n\u001b[1;32m   5806\u001b[0m \u001b[38;5;28;01mreturn\u001b[39;00m \u001b[38;5;28mself\u001b[39m\u001b[38;5;241m.\u001b[39m_construct_result(res_values, name\u001b[38;5;241m=\u001b[39mres_name)\n",
      "File \u001b[0;32m~/miniconda3/lib/python3.11/site-packages/pandas/core/ops/array_ops.py:346\u001b[0m, in \u001b[0;36mcomparison_op\u001b[0;34m(left, right, op)\u001b[0m\n\u001b[1;32m    343\u001b[0m     \u001b[38;5;28;01mreturn\u001b[39;00m invalid_comparison(lvalues, rvalues, op)\n\u001b[1;32m    345\u001b[0m \u001b[38;5;28;01melif\u001b[39;00m lvalues\u001b[38;5;241m.\u001b[39mdtype \u001b[38;5;241m==\u001b[39m \u001b[38;5;28mobject\u001b[39m \u001b[38;5;129;01mor\u001b[39;00m \u001b[38;5;28misinstance\u001b[39m(rvalues, \u001b[38;5;28mstr\u001b[39m):\n\u001b[0;32m--> 346\u001b[0m     res_values \u001b[38;5;241m=\u001b[39m \u001b[43mcomp_method_OBJECT_ARRAY\u001b[49m\u001b[43m(\u001b[49m\u001b[43mop\u001b[49m\u001b[43m,\u001b[49m\u001b[43m \u001b[49m\u001b[43mlvalues\u001b[49m\u001b[43m,\u001b[49m\u001b[43m \u001b[49m\u001b[43mrvalues\u001b[49m\u001b[43m)\u001b[49m\n\u001b[1;32m    348\u001b[0m \u001b[38;5;28;01melse\u001b[39;00m:\n\u001b[1;32m    349\u001b[0m     res_values \u001b[38;5;241m=\u001b[39m _na_arithmetic_op(lvalues, rvalues, op, is_cmp\u001b[38;5;241m=\u001b[39m\u001b[38;5;28;01mTrue\u001b[39;00m)\n",
      "File \u001b[0;32m~/miniconda3/lib/python3.11/site-packages/pandas/core/ops/array_ops.py:131\u001b[0m, in \u001b[0;36mcomp_method_OBJECT_ARRAY\u001b[0;34m(op, x, y)\u001b[0m\n\u001b[1;32m    129\u001b[0m     result \u001b[38;5;241m=\u001b[39m libops\u001b[38;5;241m.\u001b[39mvec_compare(x\u001b[38;5;241m.\u001b[39mravel(), y\u001b[38;5;241m.\u001b[39mravel(), op)\n\u001b[1;32m    130\u001b[0m \u001b[38;5;28;01melse\u001b[39;00m:\n\u001b[0;32m--> 131\u001b[0m     result \u001b[38;5;241m=\u001b[39m \u001b[43mlibops\u001b[49m\u001b[38;5;241;43m.\u001b[39;49m\u001b[43mscalar_compare\u001b[49m\u001b[43m(\u001b[49m\u001b[43mx\u001b[49m\u001b[38;5;241;43m.\u001b[39;49m\u001b[43mravel\u001b[49m\u001b[43m(\u001b[49m\u001b[43m)\u001b[49m\u001b[43m,\u001b[49m\u001b[43m \u001b[49m\u001b[43my\u001b[49m\u001b[43m,\u001b[49m\u001b[43m \u001b[49m\u001b[43mop\u001b[49m\u001b[43m)\u001b[49m\n\u001b[1;32m    132\u001b[0m \u001b[38;5;28;01mreturn\u001b[39;00m result\u001b[38;5;241m.\u001b[39mreshape(x\u001b[38;5;241m.\u001b[39mshape)\n",
      "\u001b[0;31mKeyboardInterrupt\u001b[0m: "
     ]
    }
   ],
   "source": [
    "for key_pair in list(itertools.combinations(xai_keys_list, 2)):\n",
    "    exp_combined_1 = explanations[fold][key_pair[0]]['top'] | explanations[fold][key_pair[0]]['bottom']\n",
    "    exp_combined_2 = explanations[fold][key_pair[1]]['top'] | explanations[fold][key_pair[1]]['bottom']\n",
    "\n",
    "    # Top 10%\n",
    "    disagreement_no_comp_top_10_perc = disagreement_average(exp_combined_1, exp_combined_2, True, top_10_perc_uncompressed, None)\n",
    "    disagreement_max_comp_top_10_perc = disagreement_average(exp_combined_1, exp_combined_2, True, top_10_perc_compressed, None, 'max', processed)\n",
    "    disagreement_act_comp_top_10_perc = disagreement_average(exp_combined_1, exp_combined_2, True, top_10_perc_compressed, None, 'activated', processed)\n",
    "    disagreement_maxnonact_comp_top_10_perc = disagreement_average(exp_combined_1, exp_combined_2, True, top_10_perc_compressed, None, 'maxnonactivated', processed)\n",
    "\n",
    "    # Top 20%\n",
    "    disagreement_no_comp_top_20_perc = disagreement_average(exp_combined_1, exp_combined_2, True, top_20_perc_uncompressed, None)\n",
    "    disagreement_max_comp_top_20_perc = disagreement_average(exp_combined_1, exp_combined_2, True, top_20_perc_compressed, None, 'max', processed)\n",
    "    disagreement_act_comp_top_20_perc = disagreement_average(exp_combined_1, exp_combined_2, True, top_20_perc_compressed, None, 'activated', processed)\n",
    "    disagreement_maxnonact_comp_top_20_perc = disagreement_average(exp_combined_1, exp_combined_2, True, top_20_perc_compressed, None, 'maxnonactivated', processed)\n",
    "\n",
    "    # Add to dataframe\n",
    "    df.loc[len(df)] = {'Explanations' : f'{key_pair[0]}_vs_{key_pair[1]}', \n",
    "                    'Compactor' : 'No compactor', \n",
    "                    'Model' : model_type_save, \n",
    "                    'Feature(10%)': disagreement_no_comp_top_10_perc['feature_agreement'], \n",
    "                    'Feature(20%)': disagreement_no_comp_top_20_perc['feature_agreement'], \n",
    "                    'Rank(10%)': disagreement_no_comp_top_10_perc['rank_agreement'], \n",
    "                    'Rank(20%)': disagreement_no_comp_top_20_perc['rank_agreement'], \n",
    "                    'Sign(10%)': disagreement_no_comp_top_10_perc['sign_agreement'], \n",
    "                    'Sign(20%)': disagreement_no_comp_top_20_perc['sign_agreement'], \n",
    "                    'SignedRank(10%)': disagreement_no_comp_top_10_perc['signed_rank_agreement'], \n",
    "                    'SignedRank(20%)': disagreement_no_comp_top_20_perc['signed_rank_agreement']}\n",
    "    \n",
    "    df.loc[len(df)] = {'Explanations' : f'{key_pair[0]}_vs_{key_pair[1]}', \n",
    "                    'Compactor' : 'Max compactor', \n",
    "                    'Model' : model_type_save, \n",
    "                    'Feature(10%)': disagreement_max_comp_top_10_perc['feature_agreement'], \n",
    "                    'Feature(20%)': disagreement_max_comp_top_20_perc['feature_agreement'], \n",
    "                    'Rank(10%)': disagreement_max_comp_top_10_perc['rank_agreement'], \n",
    "                    'Rank(20%)': disagreement_max_comp_top_20_perc['rank_agreement'], \n",
    "                    'Sign(10%)': disagreement_max_comp_top_10_perc['sign_agreement'], \n",
    "                    'Sign(20%)': disagreement_max_comp_top_20_perc['sign_agreement'], \n",
    "                    'SignedRank(10%)': disagreement_max_comp_top_10_perc['signed_rank_agreement'], \n",
    "                    'SignedRank(20%)': disagreement_max_comp_top_20_perc['signed_rank_agreement']}\n",
    "    \n",
    "    df.loc[len(df)] = {'Explanations' : f'{key_pair[0]}_vs_{key_pair[1]}', \n",
    "                    'Compactor' : 'Activated compactor', \n",
    "                    'Model' : model_type_save, \n",
    "                    'Feature(10%)': disagreement_act_comp_top_10_perc['feature_agreement'], \n",
    "                    'Feature(20%)': disagreement_act_comp_top_20_perc['feature_agreement'], \n",
    "                    'Rank(10%)': disagreement_act_comp_top_10_perc['rank_agreement'], \n",
    "                    'Rank(20%)': disagreement_act_comp_top_20_perc['rank_agreement'], \n",
    "                    'Sign(10%)': disagreement_act_comp_top_10_perc['sign_agreement'], \n",
    "                    'Sign(20%)': disagreement_act_comp_top_20_perc['sign_agreement'], \n",
    "                    'SignedRank(10%)': disagreement_act_comp_top_10_perc['signed_rank_agreement'], \n",
    "                    'SignedRank(20%)': disagreement_act_comp_top_20_perc['signed_rank_agreement']}\n",
    "\n",
    "    df.loc[len(df)] = {'Explanations' : f'{key_pair[0]}_vs_{key_pair[1]}', \n",
    "                    'Compactor' : 'Non-activated max compactor', \n",
    "                    'Model' : model_type_save, \n",
    "                    'Feature(10%)': disagreement_maxnonact_comp_top_10_perc['feature_agreement'], \n",
    "                    'Feature(20%)': disagreement_maxnonact_comp_top_20_perc['feature_agreement'], \n",
    "                    'Rank(10%)': disagreement_maxnonact_comp_top_10_perc['rank_agreement'], \n",
    "                    'Rank(20%)': disagreement_maxnonact_comp_top_20_perc['rank_agreement'], \n",
    "                    'Sign(10%)': disagreement_maxnonact_comp_top_10_perc['sign_agreement'], \n",
    "                    'Sign(20%)': disagreement_maxnonact_comp_top_20_perc['sign_agreement'], \n",
    "                    'SignedRank(10%)': disagreement_maxnonact_comp_top_10_perc['signed_rank_agreement'], \n",
    "                    'SignedRank(20%)': disagreement_maxnonact_comp_top_20_perc['signed_rank_agreement']}\n"
   ]
  },
  {
   "cell_type": "markdown",
   "id": "10996627-508b-45ea-84eb-8909cbc44316",
   "metadata": {},
   "source": [
    "Global vs local"
   ]
  },
  {
   "cell_type": "code",
   "execution_count": 18,
   "id": "8178c2f9-b79c-4643-a8e5-c42f49041a6d",
   "metadata": {},
   "outputs": [
    {
     "name": "stdout",
     "output_type": "stream",
     "text": [
      "{'feature_agreement': 0.14, 'rank_agreement': 0.002, 'sign_agreement': 0.076, 'signed_rank_agreement': 0.001}\n",
      "{'feature_agreement': 0.0, 'rank_agreement': 0.0, 'sign_agreement': 0.0, 'signed_rank_agreement': 0.0}\n",
      "{'feature_agreement': 0.008, 'rank_agreement': 0.002, 'sign_agreement': 0.002, 'signed_rank_agreement': 0.0}\n",
      "{'feature_agreement': 0.0, 'rank_agreement': 0.0, 'sign_agreement': 0.0, 'signed_rank_agreement': 0.0}\n"
     ]
    }
   ],
   "source": [
    "for local_key in xai_keys_list:\n",
    "    exp_combined = explanations[fold][local_key]['top'] | explanations[fold][local_key]['bottom']\n",
    "\n",
    "\n",
    "    # Top 10%\n",
    "    disagreement_no_comp_top_10_perc = disagreement_average(exp_combined, global_explanation.values, False, top_10_perc_uncompressed, None)\n",
    "    disagreement_max_comp_top_10_perc = disagreement_average(exp_combined, global_explanation.values, False, top_10_perc_compressed, None, 'max', processed)\n",
    "    disagreement_act_comp_top_10_perc = disagreement_average(exp_combined, global_explanation.values, False, top_10_perc_compressed, None, 'activated', processed)\n",
    "    disagreement_maxnonact_comp_top_10_perc = disagreement_average(exp_combined, global_explanation.values, False, top_10_perc_compressed, None, 'maxnonactivated', processed)\n",
    "\n",
    "    # Top 20%\n",
    "    disagreement_no_comp_top_20_perc = disagreement_average(exp_combined, global_explanation.values, False, top_20_perc_uncompressed, None)\n",
    "    disagreement_max_comp_top_20_perc = disagreement_average(exp_combined, global_explanation.values, False, top_20_perc_compressed, None, 'max', processed)\n",
    "    disagreement_act_comp_top_20_perc = disagreement_average(exp_combined, global_explanation.values, False, top_20_perc_compressed, None, 'activated', processed)\n",
    "    disagreement_maxnonact_comp_top_20_perc = disagreement_average(exp_combined, global_explanation.values, False, top_20_perc_compressed, None, 'maxnonactivated', processed)\n",
    "\n",
    "    # Add to dataframe\n",
    "    df.loc[len(df)] = {'Explanations' : f'Global_vs_{local_key}', \n",
    "                    'Compactor' : 'No compactor', \n",
    "                    'Model' : model_type_save, \n",
    "                    'Feature(10%)': disagreement_no_comp_top_10_perc['feature_agreement'], \n",
    "                    'Feature(20%)': disagreement_no_comp_top_20_perc['feature_agreement'], \n",
    "                    'Rank(10%)': disagreement_no_comp_top_10_perc['rank_agreement'], \n",
    "                    'Rank(20%)': disagreement_no_comp_top_20_perc['rank_agreement'], \n",
    "                    'Sign(10%)': disagreement_no_comp_top_10_perc['sign_agreement'], \n",
    "                    'Sign(20%)': disagreement_no_comp_top_20_perc['sign_agreement'], \n",
    "                    'SignedRank(10%)': disagreement_no_comp_top_10_perc['signed_rank_agreement'], \n",
    "                    'SignedRank(20%)': disagreement_no_comp_top_20_perc['signed_rank_agreement']}\n",
    "    \n",
    "    df.loc[len(df)] = {'Explanations' : f'Global_vs_{local_key}', \n",
    "                    'Compactor' : 'Max compactor', \n",
    "                    'Model' : model_type_save, \n",
    "                    'Feature(10%)': disagreement_max_comp_top_10_perc['feature_agreement'], \n",
    "                    'Feature(20%)': disagreement_max_comp_top_20_perc['feature_agreement'], \n",
    "                    'Rank(10%)': disagreement_max_comp_top_10_perc['rank_agreement'], \n",
    "                    'Rank(20%)': disagreement_max_comp_top_20_perc['rank_agreement'], \n",
    "                    'Sign(10%)': disagreement_max_comp_top_10_perc['sign_agreement'], \n",
    "                    'Sign(20%)': disagreement_max_comp_top_20_perc['sign_agreement'], \n",
    "                    'SignedRank(10%)': disagreement_max_comp_top_10_perc['signed_rank_agreement'], \n",
    "                    'SignedRank(20%)': disagreement_max_comp_top_20_perc['signed_rank_agreement']}\n",
    "\n",
    "    df.loc[len(df)] = {'Explanations' : f'Global_vs_{local_key}', \n",
    "                    'Compactor' : 'Activated compactor', \n",
    "                    'Model' : model_type_save, \n",
    "                    'Feature(10%)': disagreement_act_comp_top_10_perc['feature_agreement'], \n",
    "                    'Feature(20%)': disagreement_act_comp_top_20_perc['feature_agreement'], \n",
    "                    'Rank(10%)': disagreement_act_comp_top_10_perc['rank_agreement'], \n",
    "                    'Rank(20%)': disagreement_act_comp_top_20_perc['rank_agreement'], \n",
    "                    'Sign(10%)': disagreement_act_comp_top_10_perc['sign_agreement'], \n",
    "                    'Sign(20%)': disagreement_act_comp_top_20_perc['sign_agreement'], \n",
    "                    'SignedRank(10%)': disagreement_act_comp_top_10_perc['signed_rank_agreement'], \n",
    "                    'SignedRank(20%)': disagreement_act_comp_top_20_perc['signed_rank_agreement']}\n",
    "\n",
    "    \n",
    "    df.loc[len(df)] = {'Explanations' : f'Global_vs_{local_key}', \n",
    "                    'Compactor' : 'Non-activated max compactor', \n",
    "                    'Model' : model_type_save, \n",
    "                    'Feature(10%)': disagreement_maxnonact_comp_top_10_perc['feature_agreement'], \n",
    "                    'Feature(20%)': disagreement_maxnonact_comp_top_20_perc['feature_agreement'], \n",
    "                    'Rank(10%)': disagreement_maxnonact_comp_top_10_perc['rank_agreement'], \n",
    "                    'Rank(20%)': disagreement_maxnonact_comp_top_20_perc['rank_agreement'], \n",
    "                    'Sign(10%)': disagreement_maxnonact_comp_top_10_perc['sign_agreement'], \n",
    "                    'Sign(20%)': disagreement_maxnonact_comp_top_20_perc['sign_agreement'], \n",
    "                    'SignedRank(10%)': disagreement_maxnonact_comp_top_10_perc['signed_rank_agreement'], \n",
    "                    'SignedRank(20%)': disagreement_maxnonact_comp_top_20_perc['signed_rank_agreement']}\n",
    "\n"
   ]
  },
  {
   "cell_type": "code",
   "execution_count": 20,
   "id": "2990832f-a98d-4273-96d8-dcb9edb3baaf",
   "metadata": {},
   "outputs": [],
   "source": [
    "#Save df as csv\n",
    "df.to_csv(f'{save_path}agreement_all_exp_{model_type}_{fold}.csv')"
   ]
  }
 ],
 "metadata": {
  "kernelspec": {
   "display_name": "Python 3 (ipykernel)",
   "language": "python",
   "name": "python3"
  },
  "language_info": {
   "codemirror_mode": {
    "name": "ipython",
    "version": 3
   },
   "file_extension": ".py",
   "mimetype": "text/x-python",
   "name": "python",
   "nbconvert_exporter": "python",
   "pygments_lexer": "ipython3",
   "version": "3.11.4"
  }
 },
 "nbformat": 4,
 "nbformat_minor": 5
}
