{
 "cells": [
  {
   "cell_type": "markdown",
   "id": "a2219db5",
   "metadata": {},
   "source": [
    "Load testfiles"
   ]
  },
  {
   "cell_type": "code",
   "execution_count": 1,
   "id": "e4288b18",
   "metadata": {},
   "outputs": [
    {
     "name": "stderr",
     "output_type": "stream",
     "text": [
      "IProgress not found. Please update jupyter and ipywidgets. See https://ipywidgets.readthedocs.io/en/stable/user_install.html\n"
     ]
    }
   ],
   "source": [
    "# Import libraries\n",
    "# !pip install lime\n",
    "# os.chdir(\"../\")\n",
    "import os\n",
    "import pandas as pd\n",
    "import pickle\n",
    "from sklearn.ensemble import RandomForestClassifier\n",
    "import matplotlib.pyplot as plt\n",
    "import random\n",
    "# import lime\n",
    "from lime import lime_tabular\n",
    "import shap\n",
    "\n",
    "import json\n",
    "from typing import Union\n",
    "from datetime import datetime as dt\n",
    "import numpy as np"
   ]
  },
  {
   "cell_type": "code",
   "execution_count": 2,
   "id": "cd50fd64",
   "metadata": {},
   "outputs": [],
   "source": [
    "PROCESSED_DATA = \"/storage/scratch/e17-fyp-xai/projects/e17-4yp-using-machine-learning-in-high-stake-settings/code/processed_data/processed_final_data_latest.csv\""
   ]
  },
  {
   "cell_type": "code",
   "execution_count": 3,
   "id": "4264b2a7",
   "metadata": {},
   "outputs": [],
   "source": [
    "raw_data = pd.read_csv(PROCESSED_DATA)"
   ]
  },
  {
   "cell_type": "code",
   "execution_count": 4,
   "id": "f97acba9",
   "metadata": {},
   "outputs": [
    {
     "data": {
      "text/html": [
       "<div>\n",
       "<style scoped>\n",
       "    .dataframe tbody tr th:only-of-type {\n",
       "        vertical-align: middle;\n",
       "    }\n",
       "\n",
       "    .dataframe tbody tr th {\n",
       "        vertical-align: top;\n",
       "    }\n",
       "\n",
       "    .dataframe thead th {\n",
       "        text-align: right;\n",
       "    }\n",
       "</style>\n",
       "<table border=\"1\" class=\"dataframe\">\n",
       "  <thead>\n",
       "    <tr style=\"text-align: right;\">\n",
       "      <th></th>\n",
       "      <th>Unnamed: 0</th>\n",
       "      <th>Project ID</th>\n",
       "      <th>Project Posted Date</th>\n",
       "      <th>Project Type</th>\n",
       "      <th>Project Posted Month</th>\n",
       "      <th>Project Subject Category Tree</th>\n",
       "      <th>Project Cost</th>\n",
       "      <th>Project Subject Subcategory Tree</th>\n",
       "      <th>Project Grade Level Category</th>\n",
       "      <th>Project Resource Category</th>\n",
       "      <th>...</th>\n",
       "      <th>Label</th>\n",
       "      <th>Teacher Success Rate</th>\n",
       "      <th>Teacher Success Rate Imputed</th>\n",
       "      <th>School City Success Rate</th>\n",
       "      <th>School City Success Rate Imputed</th>\n",
       "      <th>School Success Rate</th>\n",
       "      <th>School Success Rate Imputed</th>\n",
       "      <th>School County Success Rate</th>\n",
       "      <th>School County Success Rate Imputed</th>\n",
       "      <th>Project Count in State</th>\n",
       "    </tr>\n",
       "  </thead>\n",
       "  <tbody>\n",
       "    <tr>\n",
       "      <th>0</th>\n",
       "      <td>0</td>\n",
       "      <td>699d6d657a8cd2a83ba09ee8bbb4bacf</td>\n",
       "      <td>2015-08-23</td>\n",
       "      <td>Teacher-Led</td>\n",
       "      <td>8</td>\n",
       "      <td>Applied Learning, Special Needs</td>\n",
       "      <td>511.29</td>\n",
       "      <td>Other, Special Needs</td>\n",
       "      <td>Grades PreK-2</td>\n",
       "      <td>Other</td>\n",
       "      <td>...</td>\n",
       "      <td>0</td>\n",
       "      <td>0.0</td>\n",
       "      <td>1</td>\n",
       "      <td>0.726070</td>\n",
       "      <td>0</td>\n",
       "      <td>1.0000</td>\n",
       "      <td>0</td>\n",
       "      <td>0.753059</td>\n",
       "      <td>0</td>\n",
       "      <td>3584</td>\n",
       "    </tr>\n",
       "    <tr>\n",
       "      <th>1</th>\n",
       "      <td>2</td>\n",
       "      <td>9712349367ff50b9eab00445594a25cd</td>\n",
       "      <td>2016-04-02</td>\n",
       "      <td>Teacher-Led</td>\n",
       "      <td>4</td>\n",
       "      <td>Literacy &amp; Language</td>\n",
       "      <td>189.58</td>\n",
       "      <td>ESL, Literacy</td>\n",
       "      <td>Grades PreK-2</td>\n",
       "      <td>Books</td>\n",
       "      <td>...</td>\n",
       "      <td>0</td>\n",
       "      <td>0.0</td>\n",
       "      <td>1</td>\n",
       "      <td>0.584906</td>\n",
       "      <td>0</td>\n",
       "      <td>0.3125</td>\n",
       "      <td>0</td>\n",
       "      <td>0.676056</td>\n",
       "      <td>0</td>\n",
       "      <td>7070</td>\n",
       "    </tr>\n",
       "    <tr>\n",
       "      <th>2</th>\n",
       "      <td>4</td>\n",
       "      <td>baa270ad21f432dcf6943cfe0cf51313</td>\n",
       "      <td>2016-09-16</td>\n",
       "      <td>Teacher-Led</td>\n",
       "      <td>9</td>\n",
       "      <td>Health &amp; Sports</td>\n",
       "      <td>826.89</td>\n",
       "      <td>Health &amp; Wellness</td>\n",
       "      <td>Grades 6-8</td>\n",
       "      <td>Supplies</td>\n",
       "      <td>...</td>\n",
       "      <td>0</td>\n",
       "      <td>0.0</td>\n",
       "      <td>1</td>\n",
       "      <td>0.621951</td>\n",
       "      <td>0</td>\n",
       "      <td>0.0000</td>\n",
       "      <td>0</td>\n",
       "      <td>0.658787</td>\n",
       "      <td>0</td>\n",
       "      <td>8875</td>\n",
       "    </tr>\n",
       "    <tr>\n",
       "      <th>3</th>\n",
       "      <td>6</td>\n",
       "      <td>cf54d3a016f6f715f5cea46f0aba15e0</td>\n",
       "      <td>2015-11-08</td>\n",
       "      <td>Teacher-Led</td>\n",
       "      <td>11</td>\n",
       "      <td>Literacy &amp; Language</td>\n",
       "      <td>653.28</td>\n",
       "      <td>Literacy</td>\n",
       "      <td>Grades PreK-2</td>\n",
       "      <td>Books</td>\n",
       "      <td>...</td>\n",
       "      <td>0</td>\n",
       "      <td>0.0</td>\n",
       "      <td>1</td>\n",
       "      <td>0.600000</td>\n",
       "      <td>0</td>\n",
       "      <td>0.0000</td>\n",
       "      <td>1</td>\n",
       "      <td>0.694737</td>\n",
       "      <td>0</td>\n",
       "      <td>876</td>\n",
       "    </tr>\n",
       "    <tr>\n",
       "      <th>4</th>\n",
       "      <td>7</td>\n",
       "      <td>05970d5f4232634dee18e8e92a19c206</td>\n",
       "      <td>2014-08-01</td>\n",
       "      <td>Teacher-Led</td>\n",
       "      <td>8</td>\n",
       "      <td>Math &amp; Science</td>\n",
       "      <td>690.67</td>\n",
       "      <td>Mathematics</td>\n",
       "      <td>Grades 3-5</td>\n",
       "      <td>Supplies</td>\n",
       "      <td>...</td>\n",
       "      <td>1</td>\n",
       "      <td>0.0</td>\n",
       "      <td>1</td>\n",
       "      <td>0.750000</td>\n",
       "      <td>0</td>\n",
       "      <td>0.0000</td>\n",
       "      <td>1</td>\n",
       "      <td>0.750000</td>\n",
       "      <td>0</td>\n",
       "      <td>627</td>\n",
       "    </tr>\n",
       "  </tbody>\n",
       "</table>\n",
       "<p>5 rows × 25 columns</p>\n",
       "</div>"
      ],
      "text/plain": [
       "   Unnamed: 0                        Project ID Project Posted Date  \\\n",
       "0           0  699d6d657a8cd2a83ba09ee8bbb4bacf          2015-08-23   \n",
       "1           2  9712349367ff50b9eab00445594a25cd          2016-04-02   \n",
       "2           4  baa270ad21f432dcf6943cfe0cf51313          2016-09-16   \n",
       "3           6  cf54d3a016f6f715f5cea46f0aba15e0          2015-11-08   \n",
       "4           7  05970d5f4232634dee18e8e92a19c206          2014-08-01   \n",
       "\n",
       "  Project Type  Project Posted Month    Project Subject Category Tree  \\\n",
       "0  Teacher-Led                     8  Applied Learning, Special Needs   \n",
       "1  Teacher-Led                     4              Literacy & Language   \n",
       "2  Teacher-Led                     9                  Health & Sports   \n",
       "3  Teacher-Led                    11              Literacy & Language   \n",
       "4  Teacher-Led                     8                   Math & Science   \n",
       "\n",
       "   Project Cost Project Subject Subcategory Tree Project Grade Level Category  \\\n",
       "0        511.29             Other, Special Needs                Grades PreK-2   \n",
       "1        189.58                    ESL, Literacy                Grades PreK-2   \n",
       "2        826.89                Health & Wellness                   Grades 6-8   \n",
       "3        653.28                         Literacy                Grades PreK-2   \n",
       "4        690.67                      Mathematics                   Grades 3-5   \n",
       "\n",
       "  Project Resource Category  ... Label  Teacher Success Rate  \\\n",
       "0                     Other  ...     0                   0.0   \n",
       "1                     Books  ...     0                   0.0   \n",
       "2                  Supplies  ...     0                   0.0   \n",
       "3                     Books  ...     0                   0.0   \n",
       "4                  Supplies  ...     1                   0.0   \n",
       "\n",
       "  Teacher Success Rate Imputed School City Success Rate  \\\n",
       "0                            1                 0.726070   \n",
       "1                            1                 0.584906   \n",
       "2                            1                 0.621951   \n",
       "3                            1                 0.600000   \n",
       "4                            1                 0.750000   \n",
       "\n",
       "   School City Success Rate Imputed  School Success Rate  \\\n",
       "0                                 0               1.0000   \n",
       "1                                 0               0.3125   \n",
       "2                                 0               0.0000   \n",
       "3                                 0               0.0000   \n",
       "4                                 0               0.0000   \n",
       "\n",
       "   School Success Rate Imputed  School County Success Rate  \\\n",
       "0                            0                    0.753059   \n",
       "1                            0                    0.676056   \n",
       "2                            0                    0.658787   \n",
       "3                            1                    0.694737   \n",
       "4                            1                    0.750000   \n",
       "\n",
       "   School County Success Rate Imputed  Project Count in State  \n",
       "0                                   0                    3584  \n",
       "1                                   0                    7070  \n",
       "2                                   0                    8875  \n",
       "3                                   0                     876  \n",
       "4                                   0                     627  \n",
       "\n",
       "[5 rows x 25 columns]"
      ]
     },
     "execution_count": 4,
     "metadata": {},
     "output_type": "execute_result"
    }
   ],
   "source": [
    "raw_data.head()"
   ]
  },
  {
   "cell_type": "code",
   "execution_count": 5,
   "id": "5d68e72b",
   "metadata": {},
   "outputs": [
    {
     "data": {
      "text/html": [
       "<div>\n",
       "<style scoped>\n",
       "    .dataframe tbody tr th:only-of-type {\n",
       "        vertical-align: middle;\n",
       "    }\n",
       "\n",
       "    .dataframe tbody tr th {\n",
       "        vertical-align: top;\n",
       "    }\n",
       "\n",
       "    .dataframe thead th {\n",
       "        text-align: right;\n",
       "    }\n",
       "</style>\n",
       "<table border=\"1\" class=\"dataframe\">\n",
       "  <thead>\n",
       "    <tr style=\"text-align: right;\">\n",
       "      <th></th>\n",
       "      <th>Unnamed: 0</th>\n",
       "      <th>Project ID</th>\n",
       "      <th>Project Posted Date</th>\n",
       "      <th>Project Type</th>\n",
       "      <th>Project Posted Month</th>\n",
       "      <th>Project Subject Category Tree</th>\n",
       "      <th>Project Cost</th>\n",
       "      <th>Project Subject Subcategory Tree</th>\n",
       "      <th>Project Grade Level Category</th>\n",
       "      <th>Project Resource Category</th>\n",
       "      <th>...</th>\n",
       "      <th>Label</th>\n",
       "      <th>Teacher Success Rate</th>\n",
       "      <th>Teacher Success Rate Imputed</th>\n",
       "      <th>School City Success Rate</th>\n",
       "      <th>School City Success Rate Imputed</th>\n",
       "      <th>School Success Rate</th>\n",
       "      <th>School Success Rate Imputed</th>\n",
       "      <th>School County Success Rate</th>\n",
       "      <th>School County Success Rate Imputed</th>\n",
       "      <th>Project Count in State</th>\n",
       "    </tr>\n",
       "  </thead>\n",
       "  <tbody>\n",
       "    <tr>\n",
       "      <th>314336</th>\n",
       "      <td>603375</td>\n",
       "      <td>cdc83b2eb031d999c123535bf09d24a0</td>\n",
       "      <td>2016-11-14</td>\n",
       "      <td>Teacher-Led</td>\n",
       "      <td>11</td>\n",
       "      <td>Math &amp; Science</td>\n",
       "      <td>3334.51</td>\n",
       "      <td>Mathematics</td>\n",
       "      <td>Grades PreK-2</td>\n",
       "      <td>Technology</td>\n",
       "      <td>...</td>\n",
       "      <td>1</td>\n",
       "      <td>0.4</td>\n",
       "      <td>0</td>\n",
       "      <td>0.388889</td>\n",
       "      <td>0</td>\n",
       "      <td>0.285714</td>\n",
       "      <td>0</td>\n",
       "      <td>0.614035</td>\n",
       "      <td>0</td>\n",
       "      <td>682</td>\n",
       "    </tr>\n",
       "  </tbody>\n",
       "</table>\n",
       "<p>1 rows × 25 columns</p>\n",
       "</div>"
      ],
      "text/plain": [
       "        Unnamed: 0                        Project ID Project Posted Date  \\\n",
       "314336      603375  cdc83b2eb031d999c123535bf09d24a0          2016-11-14   \n",
       "\n",
       "       Project Type  Project Posted Month Project Subject Category Tree  \\\n",
       "314336  Teacher-Led                    11                Math & Science   \n",
       "\n",
       "        Project Cost Project Subject Subcategory Tree  \\\n",
       "314336       3334.51                      Mathematics   \n",
       "\n",
       "       Project Grade Level Category Project Resource Category  ... Label  \\\n",
       "314336                Grades PreK-2                Technology  ...     1   \n",
       "\n",
       "        Teacher Success Rate Teacher Success Rate Imputed  \\\n",
       "314336                   0.4                            0   \n",
       "\n",
       "       School City Success Rate  School City Success Rate Imputed  \\\n",
       "314336                 0.388889                                 0   \n",
       "\n",
       "        School Success Rate  School Success Rate Imputed  \\\n",
       "314336             0.285714                            0   \n",
       "\n",
       "        School County Success Rate  School County Success Rate Imputed  \\\n",
       "314336                    0.614035                                   0   \n",
       "\n",
       "        Project Count in State  \n",
       "314336                     682  \n",
       "\n",
       "[1 rows x 25 columns]"
      ]
     },
     "execution_count": 5,
     "metadata": {},
     "output_type": "execute_result"
    }
   ],
   "source": [
    "raw_data[raw_data[\"Project ID\"] == \"cdc83b2eb031d999c123535bf09d24a0\" ]"
   ]
  },
  {
   "cell_type": "code",
   "execution_count": 6,
   "id": "068831c0",
   "metadata": {},
   "outputs": [
    {
     "name": "stdout",
     "output_type": "stream",
     "text": [
      "compactor\t       Feature_Engineering.ipynb  __pycache__\r\n",
      "config.py\t       Feature_Engineering.py\t  README.md\r\n",
      "data_processer.ipynb   feature_engineer.py\t  requirements.txt\r\n",
      "data_processor.py      helper.py\t\t  run_explanations.py\r\n",
      "disagreement.ipynb     kernelshap_explainer.py\t  Sanity_checks.ipynb\r\n",
      "disagreement.py        lime_explainer.py\t  temporal_features.py\r\n",
      "disagreement_v2.ipynb  main.py\t\t\t  treeshap_explainer.py\r\n",
      "eda.py\t\t       model_outputs\r\n",
      "environment.yml        model_parameters\r\n"
     ]
    }
   ],
   "source": [
    "!ls"
   ]
  },
  {
   "cell_type": "code",
   "execution_count": 7,
   "id": "b1cf447a",
   "metadata": {},
   "outputs": [],
   "source": [
    "os.chdir(\"/storage/scratch/e17-fyp-xai/projects/thanujan/e17-4yp-using-machine-learning-in-high-stake-settings/code\")\n",
    "import os\n",
    "import feature_engineer as fe \n",
    "import data_processor as dp\n",
    "import config\n",
    "from helper import (\n",
    "    save_model,\n",
    "    load_model,\n",
    "    create_dirs,\n",
    "    create_classification_models,\n",
    "    create_logistic_regression_parameters,\n",
    "    create_random_forest_parameters,\n",
    "    create_xgb_classifier_parameters,\n",
    "    log_intermediate_output_to_file,\n",
    "    filter_dataset_by_date)\n",
    "import temporal_features as tmpf\n",
    "import config"
   ]
  },
  {
   "cell_type": "code",
   "execution_count": 8,
   "id": "83fedf30",
   "metadata": {
    "scrolled": true
   },
   "outputs": [
    {
     "name": "stdout",
     "output_type": "stream",
     "text": [
      "-----\n",
      "train    2016-01-07 - 2016-07-05\n",
      "test     2016-11-02 - 2016-12-02\n",
      "(238834, 578)\n",
      "(92313, 577)\n",
      "(92313, 576)\n",
      "(92313, 1)\n",
      "(32134, 578)\n",
      "(20079, 577)\n",
      "(20079, 576)\n",
      "(20079, 576)\n",
      "Training set shape =  (92313, 576)\n",
      "Testing set shape =  (20079, 576)\n",
      "-----\n",
      "-----\n",
      "train    2015-09-09 - 2016-03-07\n",
      "test     2016-07-05 - 2016-08-04\n",
      "(314310, 578)\n",
      "(105920, 577)\n",
      "(105920, 576)\n",
      "(105920, 1)\n",
      "(146069, 578)\n",
      "(18750, 577)\n",
      "(18750, 576)\n",
      "(18750, 576)\n",
      "Training set shape =  (105920, 576)\n",
      "Testing set shape =  (18750, 576)\n",
      "-----\n",
      "-----\n",
      "train    2015-05-12 - 2015-11-08\n",
      "test     2016-03-07 - 2016-04-06\n",
      "(370969, 578)\n",
      "(99939, 577)\n",
      "(99939, 576)\n",
      "(99939, 1)\n",
      "(207731, 578)\n",
      "(23932, 577)\n",
      "(23932, 576)\n",
      "(23932, 576)\n",
      "Training set shape =  (99939, 576)\n",
      "Testing set shape =  (23932, 576)\n",
      "-----\n",
      "-----\n",
      "train    2015-01-12 - 2015-07-11\n",
      "test     2015-11-08 - 2015-12-08\n",
      "(416306, 578)\n",
      "(61637, 577)\n",
      "(61637, 576)\n",
      "(61637, 1)\n",
      "(270016, 578)\n",
      "(18400, 577)\n",
      "(18400, 576)\n",
      "(18400, 576)\n",
      "Training set shape =  (61637, 576)\n",
      "Testing set shape =  (18400, 576)\n",
      "-----\n",
      "-----\n",
      "train    2014-09-14 - 2015-03-13\n",
      "test     2015-07-11 - 2015-08-10\n",
      "(471772, 578)\n",
      "(80838, 577)\n",
      "(80838, 576)\n",
      "(80838, 1)\n",
      "(354423, 578)\n",
      "(12232, 577)\n",
      "(12232, 576)\n",
      "(12232, 576)\n",
      "Training set shape =  (80838, 576)\n",
      "Testing set shape =  (12232, 576)\n",
      "-----\n",
      "-----\n",
      "train    2014-05-17 - 2014-11-13\n",
      "test     2015-03-13 - 2015-04-12\n",
      "(535150, 578)\n",
      "(100159, 577)\n",
      "(100159, 576)\n",
      "(100159, 1)\n",
      "(390393, 578)\n",
      "(10499, 577)\n",
      "(10499, 576)\n",
      "(10499, 576)\n",
      "Training set shape =  (100159, 576)\n",
      "Testing set shape =  (10499, 576)\n",
      "-----\n"
     ]
    }
   ],
   "source": [
    "data = dp.set_data_types_to_datetime(raw_data, [\"Project Posted Date\"])\n",
    "data = filter_dataset_by_date(data)\n",
    "data_1 = dp.encode_data(data, config.CATEGORICAL_COLS)\n",
    "data_folds = fe.split_data_folds(data_1)\n"
   ]
  },
  {
   "cell_type": "code",
   "execution_count": 9,
   "id": "5748557c",
   "metadata": {},
   "outputs": [],
   "source": [
    "# # for data in :\n",
    "# #     if data==\"cdc83b2eb031d999c123535bf09d24a0\":\n",
    "# #         print(data)\n",
    "\n",
    "# data_folds[0][\"x_test\"][data_folds[0][\"x_test\"][\"Project ID\"] == \"cdc83b2eb031d999c123535bf09d24a0\"].columns == "
   ]
  },
  {
   "cell_type": "code",
   "execution_count": 10,
   "id": "0cb0e03f",
   "metadata": {},
   "outputs": [],
   "source": [
    "from disagreement import Disagreement\n",
    "import json"
   ]
  },
  {
   "cell_type": "code",
   "execution_count": 11,
   "id": "64bb0617",
   "metadata": {},
   "outputs": [
    {
     "name": "stdout",
     "output_type": "stream",
     "text": [
      "compactor\t       Feature_Engineering.ipynb  __pycache__\r\n",
      "config.py\t       Feature_Engineering.py\t  README.md\r\n",
      "data_processer.ipynb   feature_engineer.py\t  requirements.txt\r\n",
      "data_processor.py      helper.py\t\t  run_explanations.py\r\n",
      "disagreement.ipynb     kernelshap_explainer.py\t  Sanity_checks.ipynb\r\n",
      "disagreement.py        lime_explainer.py\t  temporal_features.py\r\n",
      "disagreement_v2.ipynb  main.py\t\t\t  treeshap_explainer.py\r\n",
      "eda.py\t\t       model_outputs\r\n",
      "environment.yml        model_parameters\r\n"
     ]
    }
   ],
   "source": [
    "!ls "
   ]
  },
  {
   "cell_type": "code",
   "execution_count": 12,
   "id": "7a7aa5b3",
   "metadata": {},
   "outputs": [],
   "source": [
    "explanations = json.load(open(\"/storage/scratch/e17-fyp-xai/projects/e17-4yp-using-machine-learning-in-high-stake-settings/code/model_outputs_5/xai_results/all_exp.json\"))"
   ]
  },
  {
   "cell_type": "code",
   "execution_count": 13,
   "id": "3bb32f4d",
   "metadata": {},
   "outputs": [
    {
     "name": "stdout",
     "output_type": "stream",
     "text": [
      " code\r\n",
      " code_base_II\r\n",
      " docs\r\n",
      " Documents\r\n",
      " EDA_Projects.ipynb\r\n",
      " fold_data\r\n",
      "'Model explaination for top 50 and bottom 50 -- lime.ipynb'\r\n",
      " nohup.out\r\n",
      " output_Xai_latest.out\r\n",
      " output_Xai_latest_sep_18.out\r\n",
      " output_Xai_latest_sep_19.out\r\n",
      " output_Xai.out\r\n",
      "'ratio_of averages.csv'\r\n",
      " README.md\r\n",
      " Sanity_checks_2.ipynb\r\n",
      " Sanity_checks.ipynb\r\n",
      " thanujan.py\r\n",
      " Untitled.ipynb\r\n",
      " XAI_Pipeline.ipynb\r\n",
      " XAI_Pipeline_latest.ipynb\r\n",
      " XAI_Pipeline_new.ipynb\r\n",
      " XAI_Pipeline_new_latest_out.ipynb\r\n",
      " XAI_Pipeline_new_out.ipynb\r\n",
      " XAI_Pipeline_result_16_sep.ipynb\r\n",
      " XAI_Pipeline_sep_18.ipynb\r\n",
      " XAI_Pipeline_sep_19.ipynb\r\n",
      " XAI_Pipeline_sep_21_top_500_bottom_500.ipynb\r\n",
      " XAI_Pipeline_sep_22_top_500_bottom_500_2.ipynb\r\n",
      " XAI_Pipeline_sep_22_top_500_bottom_500.ipynb\r\n",
      " XAI_Pipeline_sep_23_latest.ipynb\r\n",
      " XAI_Pipeline_sep_23_latest_output.ipynb\r\n",
      " XAI_Pipeline_test.ipynb\r\n",
      " xai_results\r\n",
      " xai_test_results\r\n"
     ]
    }
   ],
   "source": [
    "!ls /storage/scratch/e17-fyp-xai/projects/e17-4yp-using-machine-learning-in-high-stake-settings/"
   ]
  },
  {
   "cell_type": "code",
   "execution_count": 14,
   "id": "5c7cef7c",
   "metadata": {},
   "outputs": [
    {
     "data": {
      "text/plain": [
       "dict_keys(['fold5', 'fold4', 'fold3', 'fold2', 'fold1', 'fold0'])"
      ]
     },
     "execution_count": 14,
     "metadata": {},
     "output_type": "execute_result"
    }
   ],
   "source": [
    "explanations.keys()"
   ]
  },
  {
   "cell_type": "code",
   "execution_count": 15,
   "id": "7f1b8d57",
   "metadata": {},
   "outputs": [
    {
     "data": {
      "text/plain": [
       "dict_keys(['lime', 'treeshap'])"
      ]
     },
     "execution_count": 15,
     "metadata": {},
     "output_type": "execute_result"
    }
   ],
   "source": [
    "explanations[\"fold0\"].keys()"
   ]
  },
  {
   "cell_type": "code",
   "execution_count": 16,
   "id": "367bb33b",
   "metadata": {},
   "outputs": [
    {
     "data": {
      "text/plain": [
       "dict_keys(['top', 'bottom'])"
      ]
     },
     "execution_count": 16,
     "metadata": {},
     "output_type": "execute_result"
    }
   ],
   "source": [
    "explanations[\"fold0\"][\"lime\"].keys()"
   ]
  },
  {
   "cell_type": "markdown",
   "id": "a6c9e3c9",
   "metadata": {},
   "source": [
    "Projects in the lime top explanations"
   ]
  },
  {
   "cell_type": "code",
   "execution_count": 17,
   "id": "e50da60e",
   "metadata": {},
   "outputs": [
    {
     "data": {
      "text/plain": [
       "['cdc83b2eb031d999c123535bf09d24a0',\n",
       " '203c08ca3b1e42a9ba07c93eac4c20cc',\n",
       " 'd1fb6298685f8afb718cc48543e2e244',\n",
       " 'a2d940be8dc020e99c4f23fa979994bf',\n",
       " 'f82498e55e15c90643967f8a38ddd98c',\n",
       " '53421ba867de46ff359de40e9753711e',\n",
       " '4b972ebb44d4ffc7516c8ff160301ef3',\n",
       " '243ac2a985a19d4df09c21541494dcae',\n",
       " 'd1715d9dc331bee79ee781ff26684f8f',\n",
       " '6e87bf75a7ec7e474e90aef4188a7007']"
      ]
     },
     "execution_count": 17,
     "metadata": {},
     "output_type": "execute_result"
    }
   ],
   "source": [
    "list(explanations[\"fold0\"][\"lime\"][\"top\"].keys())[:10]"
   ]
  },
  {
   "cell_type": "markdown",
   "id": "826d6e33",
   "metadata": {},
   "source": [
    "Projects in the lime bottom explanations"
   ]
  },
  {
   "cell_type": "code",
   "execution_count": 18,
   "id": "e40cb48c",
   "metadata": {},
   "outputs": [
    {
     "data": {
      "text/plain": [
       "['9922bc88316d50dc9fec75ace1f6428d',\n",
       " 'cfbd2d9e5b4e27068f9463b029a3d777',\n",
       " '93b9f3988e3941f7acf43b2917e823fe',\n",
       " '975a0183c407402eb3fc4b32fe2df0a5',\n",
       " '77d5e0dc0c59a21425cc417f43266b99',\n",
       " 'b53c6be1e99af4ad3b782cbbbc14c209',\n",
       " 'd0cfa36c791f4d83123c4b9853983418',\n",
       " 'bca108ff397e3f4461a6dbe966996eae',\n",
       " '1e45580a189dcba2b0a581aea5690850',\n",
       " '914ed5ecded471bcb3922ccf422d9265']"
      ]
     },
     "execution_count": 18,
     "metadata": {},
     "output_type": "execute_result"
    }
   ],
   "source": [
    "list(explanations[\"fold0\"][\"lime\"][\"bottom\"].keys())[:10]"
   ]
  },
  {
   "cell_type": "markdown",
   "id": "e4cd297a",
   "metadata": {},
   "source": [
    "Projects in the treeshap top explanations"
   ]
  },
  {
   "cell_type": "code",
   "execution_count": 19,
   "id": "c680855b",
   "metadata": {},
   "outputs": [
    {
     "data": {
      "text/plain": [
       "['cdc83b2eb031d999c123535bf09d24a0',\n",
       " '203c08ca3b1e42a9ba07c93eac4c20cc',\n",
       " 'd1fb6298685f8afb718cc48543e2e244',\n",
       " 'a2d940be8dc020e99c4f23fa979994bf',\n",
       " 'f82498e55e15c90643967f8a38ddd98c',\n",
       " '53421ba867de46ff359de40e9753711e',\n",
       " '4b972ebb44d4ffc7516c8ff160301ef3',\n",
       " '243ac2a985a19d4df09c21541494dcae',\n",
       " 'd1715d9dc331bee79ee781ff26684f8f',\n",
       " '6e87bf75a7ec7e474e90aef4188a7007']"
      ]
     },
     "execution_count": 19,
     "metadata": {},
     "output_type": "execute_result"
    }
   ],
   "source": [
    "list(explanations[\"fold0\"][\"treeshap\"][\"top\"].keys())[:10]"
   ]
  },
  {
   "cell_type": "markdown",
   "id": "91aa3b1c",
   "metadata": {},
   "source": [
    "Projects in the treeshap bottom explanations"
   ]
  },
  {
   "cell_type": "code",
   "execution_count": 20,
   "id": "8bea9ac3",
   "metadata": {},
   "outputs": [
    {
     "data": {
      "text/plain": [
       "['9922bc88316d50dc9fec75ace1f6428d',\n",
       " 'cfbd2d9e5b4e27068f9463b029a3d777',\n",
       " '93b9f3988e3941f7acf43b2917e823fe',\n",
       " '975a0183c407402eb3fc4b32fe2df0a5',\n",
       " '77d5e0dc0c59a21425cc417f43266b99',\n",
       " 'b53c6be1e99af4ad3b782cbbbc14c209',\n",
       " 'd0cfa36c791f4d83123c4b9853983418',\n",
       " 'bca108ff397e3f4461a6dbe966996eae',\n",
       " '1e45580a189dcba2b0a581aea5690850',\n",
       " '914ed5ecded471bcb3922ccf422d9265']"
      ]
     },
     "execution_count": 20,
     "metadata": {},
     "output_type": "execute_result"
    }
   ],
   "source": [
    "list(explanations[\"fold0\"][\"treeshap\"][\"bottom\"].keys())[:10]"
   ]
  },
  {
   "cell_type": "markdown",
   "id": "09a7c331",
   "metadata": {},
   "source": [
    "features in the lime top explanations"
   ]
  },
  {
   "cell_type": "code",
   "execution_count": 21,
   "id": "ff35f25e",
   "metadata": {},
   "outputs": [
    {
     "data": {
      "text/plain": [
       "575"
      ]
     },
     "execution_count": 21,
     "metadata": {},
     "output_type": "execute_result"
    }
   ],
   "source": [
    "len(list(zip(*list(explanations[\"fold0\"][\"lime\"][\"top\"].values())[0][:]))[0])\n",
    "\n",
    "len(data_folds[0][\"x_test\"][data_folds[0][\"x_test\"][\"Project ID\"] == \"cdc83b2eb031d999c123535bf09d24a0\"].columns[1:])"
   ]
  },
  {
   "cell_type": "code",
   "execution_count": 22,
   "id": "771697f5",
   "metadata": {},
   "outputs": [
    {
     "name": "stdout",
     "output_type": "stream",
     "text": [
      "('Project Cost', 'School State_New Mexico', 'Project Subject Subcategory Tree_Mathematics, Performing Arts', 'School State_Mississippi', 'School State_Nebraska', 'Project Subject Subcategory Tree_Economics, Performing Arts', 'Project Subject Subcategory Tree_College & Career Prep, Environmental Science', 'School State_Oregon', 'Project Subject Subcategory Tree_ESL, Performing Arts', 'Project Resource Category_Technology', 'Project Subject Subcategory Tree_Character Education, Social Sciences', 'Project Subject Category Tree_Health & Sports, Math & Science', 'Project Subject Subcategory Tree_Other, Social Sciences', 'School State_Missouri', 'Project Subject Subcategory Tree_Early Development, Environmental Science', 'Project Subject Subcategory Tree_Community Service, Extracurricular', 'Project Subject Subcategory Tree_Character Education, Civics & Government', 'Project Subject Subcategory Tree_Civics & Government, Community Service', 'Project Subject Subcategory Tree_Foreign Languages, Health & Wellness', 'Project Subject Subcategory Tree_Early Development, Health & Life Science', 'Project Subject Subcategory Tree_Community Service, Economics', 'Project Resource Category_Books', 'Project Subject Subcategory Tree_Extracurricular, Parent Involvement', 'School State_West Virginia', 'School State_Vermont', 'Project Subject Subcategory Tree_Gym & Fitness, Literacy', 'School State_Illinois', 'Project Subject Category Tree_Special Needs, Health & Sports', 'Project Type_Professional Development', 'Project Subject Subcategory Tree_Early Development, Music', 'Project Subject Subcategory Tree_Gym & Fitness, Literature & Writing', 'Project Subject Subcategory Tree_Applied Sciences, Performing Arts', 'Project Subject Subcategory Tree_Performing Arts, Special Needs', 'Project Subject Subcategory Tree_Mathematics, Social Sciences', 'Teacher Project Posted Sequence', 'School City Success Rate', 'Project Subject Subcategory Tree_Character Education, ESL', 'School State_New York', 'Project Subject Subcategory Tree_History & Geography, Performing Arts', 'Project Subject Subcategory Tree_Financial Literacy, Mathematics', 'Project Subject Subcategory Tree_Literature & Writing, Team Sports', 'Project Subject Subcategory Tree_Environmental Science, Extracurricular', 'School State_Pennsylvania', 'Project Subject Subcategory Tree_Community Service, Health & Wellness', 'Project Subject Subcategory Tree_Community Service, Special Needs', 'Project Subject Subcategory Tree_Applied Sciences, Health & Wellness', 'School State_Louisiana', 'Project Subject Subcategory Tree_Character Education, Environmental Science', 'Project Subject Subcategory Tree_College & Career Prep, Health & Life Science', 'School State_Virginia', 'Project Subject Subcategory Tree_Health & Wellness, Mathematics', 'Project Subject Subcategory Tree_History & Geography, Visual Arts', 'Project Subject Subcategory Tree_Music, Social Sciences', 'Project Subject Subcategory Tree_Civics & Government', 'School State_Massachusetts', 'Project Subject Subcategory Tree_Extracurricular', 'Project Subject Subcategory Tree_Environmental Science, Social Sciences', 'Project Subject Subcategory Tree_College & Career Prep, ESL', 'Project Subject Subcategory Tree_History & Geography, Music', 'School Success Rate', 'School State_Rhode Island', 'Project Subject Subcategory Tree_College & Career Prep, Performing Arts', 'Project Subject Subcategory Tree_History & Geography, Special Needs', 'Project Subject Subcategory Tree_Environmental Science, Gym & Fitness', 'Project Subject Subcategory Tree_Health & Life Science, History & Geography', 'Project Subject Subcategory Tree_Extracurricular, Performing Arts', 'School State_North Carolina', 'Project Subject Subcategory Tree_Literacy, Nutrition Education', 'Project Subject Subcategory Tree_Environmental Science, History & Geography', 'Project Subject Subcategory Tree_Applied Sciences, Social Sciences', 'School State_Nevada', 'Project Subject Subcategory Tree_Health & Life Science, Social Sciences', 'Project Subject Subcategory Tree_Parent Involvement', 'Project Subject Subcategory Tree_Applied Sciences, Extracurricular', 'Project Subject Subcategory Tree_Financial Literacy, Visual Arts', 'Project Subject Subcategory Tree_Character Education, Visual Arts', 'Project Subject Subcategory Tree_Literacy, Parent Involvement', 'Project Subject Subcategory Tree_College & Career Prep, Music', 'Project Subject Subcategory Tree_Character Education, Literature & Writing', 'Project Subject Subcategory Tree_Community Service, Other', 'Project Subject Category Tree_Applied Learning, History & Civics', 'Project Subject Subcategory Tree_Health & Wellness, Nutrition Education', 'Project Subject Subcategory Tree_Extracurricular, Literacy', 'Project Subject Subcategory Tree_Early Development, History & Geography', 'Project Subject Subcategory Tree_Early Development, Parent Involvement', 'School State_Delaware', 'Project Subject Subcategory Tree_Character Education, Extracurricular', 'Project Subject Subcategory Tree_Civics & Government, Music', 'Project Subject Subcategory Tree_Financial Literacy, Special Needs', 'School State_Maine', 'School County Success Rate', 'Project Subject Subcategory Tree_Foreign Languages, Literature & Writing', 'Project Subject Subcategory Tree_Health & Wellness, Other', 'Project Resource Category_Visitors', 'Project Subject Subcategory Tree_Gym & Fitness, Special Needs', 'Project Subject Subcategory Tree_Music, Team Sports', 'Project Subject Category Tree_Special Needs, Music & The Arts', 'Project Subject Subcategory Tree_Extracurricular, Literature & Writing', 'Project Subject Subcategory Tree_College & Career Prep, Community Service', 'Project Subject Subcategory Tree_Parent Involvement, Visual Arts', 'Project Subject Subcategory Tree_Health & Life Science, Special Needs', 'Teacher Prefix_Teacher', 'School State_Colorado', 'Project Subject Subcategory Tree_Music, Visual Arts', 'Project Subject Subcategory Tree_Early Development, Health & Wellness', 'Project Subject Subcategory Tree_College & Career Prep, Mathematics', 'Project Subject Subcategory Tree_College & Career Prep', 'Project Subject Subcategory Tree_ESL, Early Development', 'Teacher Success Rate Imputed', 'School State_Michigan', 'Teacher Success Rate', 'Project Subject Subcategory Tree_Character Education, Community Service', 'Project Subject Subcategory Tree_College & Career Prep, History & Geography', 'Project Subject Subcategory Tree_College & Career Prep, Visual Arts', 'School State_New Jersey', 'School County Success Rate Imputed', 'Project Subject Subcategory Tree_Applied Sciences, Literacy', 'Project Subject Subcategory Tree_Gym & Fitness, Health & Wellness', 'Project Subject Subcategory Tree_ESL, Health & Life Science', 'School State_North Dakota', 'Project Subject Subcategory Tree_Extracurricular, Visual Arts', 'Project Subject Subcategory Tree_Character Education, Health & Wellness', 'Project Subject Subcategory Tree_Environmental Science, Health & Wellness', 'Project Subject Category Tree_Health & Sports, Music & The Arts', 'Project Subject Subcategory Tree_Literacy, Music', 'Project Subject Subcategory Tree_Literature & Writing, Performing Arts', 'Project Subject Subcategory Tree_Environmental Science, Literature & Writing', 'Project Subject Subcategory Tree_Foreign Languages, Literacy', 'Project Subject Subcategory Tree_Environmental Science, Performing Arts', 'Project Subject Subcategory Tree_Community Service, Mathematics', 'School State_Minnesota', 'Project Subject Subcategory Tree_College & Career Prep, Special Needs', 'Project Subject Subcategory Tree_Health & Life Science, Music', 'Project Subject Subcategory Tree_Civics & Government, Environmental Science', 'Project Subject Subcategory Tree_Character Education, Performing Arts', 'Project Subject Subcategory Tree_Gym & Fitness, Health & Life Science', 'Project Subject Subcategory Tree_Nutrition Education', 'Project Subject Subcategory Tree_Community Service', 'Project Subject Subcategory Tree_Applied Sciences, Parent Involvement', 'Project Subject Subcategory Tree_Extracurricular, Health & Wellness', 'Project Subject Subcategory Tree_Gym & Fitness, Visual Arts', 'Project Subject Subcategory Tree_Community Service, History & Geography', 'Project Subject Subcategory Tree_ESL, Mathematics', 'School State_South Dakota', 'Project Subject Subcategory Tree_Financial Literacy', 'Project Subject Subcategory Tree_Applied Sciences, ESL', 'Project Subject Subcategory Tree_Character Education, Special Needs', 'Project Subject Category Tree_Music & The Arts, Health & Sports', 'Project Subject Subcategory Tree_Extracurricular, Mathematics', 'Project Subject Subcategory Tree_Applied Sciences, History & Geography', 'Project Subject Subcategory Tree_Character Education, Team Sports', 'Project Subject Category Tree_History & Civics, Applied Learning', 'Project Subject Subcategory Tree_Civics & Government, History & Geography', 'Project Subject Subcategory Tree_Social Sciences, Special Needs', 'School State_Florida', 'Project Subject Category Tree_Math & Science, History & Civics', 'Project Subject Subcategory Tree_History & Geography, Social Sciences', 'Project Subject Subcategory Tree_Gym & Fitness, Team Sports', 'Project Subject Subcategory Tree_College & Career Prep, Early Development', 'Project Subject Category Tree_Math & Science, Special Needs', 'School State_Connecticut', 'Project Subject Subcategory Tree_ESL, Visual Arts', 'Project Subject Subcategory Tree_Social Sciences', 'Project Subject Subcategory Tree_Applied Sciences, Foreign Languages', 'Project Subject Subcategory Tree_Special Needs, Team Sports', 'Project Subject Subcategory Tree_Extracurricular, History & Geography', 'School State_Utah', 'School State_Wisconsin', 'Project Subject Subcategory Tree_Environmental Science, Literacy', 'Project Posted Month', 'Project Subject Subcategory Tree_Health & Life Science, Health & Wellness', 'Project Subject Category Tree_Health & Sports', 'School State_Indiana', 'Project Subject Subcategory Tree_Health & Life Science, Visual Arts', 'School State_New Hampshire', 'Project Subject Subcategory Tree_Applied Sciences, Special Needs', 'Project Subject Subcategory Tree_Early Development, Visual Arts', 'Project Subject Subcategory Tree_Extracurricular, Special Needs', 'Project Subject Subcategory Tree_Character Education', 'Project Subject Category Tree_History & Civics, Music & The Arts', 'Project Subject Subcategory Tree_College & Career Prep, Extracurricular', 'Project Subject Category Tree_Math & Science, Health & Sports', 'School Metro Type_unknown', 'Project Subject Subcategory Tree_Applied Sciences, Gym & Fitness', 'Project Subject Subcategory Tree_Community Service, Parent Involvement', 'School Success Rate Imputed', 'Project Subject Subcategory Tree_Extracurricular, Other', 'Project Subject Subcategory Tree_Early Development, Special Needs', 'Project Subject Subcategory Tree_Applied Sciences, Health & Life Science', 'Project Subject Subcategory Tree_Community Service, Health & Life Science', 'Project Subject Subcategory Tree_Health & Life Science, Literature & Writing', 'School State_Tennessee', 'Project Subject Subcategory Tree_Early Development, Other', 'Project Resource Category_Supplies', 'Project Subject Subcategory Tree_Other', 'Project Subject Subcategory Tree_Economics, History & Geography', 'School City Success Rate Imputed', 'Project Subject Category Tree_Applied Learning, Health & Sports', 'Project Subject Subcategory Tree_Mathematics, Other', 'School State_Washington', 'Project Subject Subcategory Tree_Health & Wellness', 'Project Subject Subcategory Tree_Applied Sciences, Early Development', 'Project Subject Category Tree_Applied Learning, Math & Science', 'Project Subject Subcategory Tree_ESL, History & Geography', 'Project Subject Subcategory Tree_Special Needs, Visual Arts', 'Project Subject Category Tree_Music & The Arts, Special Needs', 'Project Subject Subcategory Tree_History & Geography, Mathematics', 'School State_Ohio', 'Teacher Prefix_Ms.', 'Project Subject Subcategory Tree_Literature & Writing, Special Needs', 'Project Subject Subcategory Tree_Performing Arts', 'Project Subject Subcategory Tree_Music, Special Needs', 'Project Subject Subcategory Tree_Health & Life Science, Performing Arts', 'Project Subject Subcategory Tree_Foreign Languages, Special Needs', 'Project Subject Subcategory Tree_College & Career Prep, Social Sciences', 'Project Subject Subcategory Tree_Civics & Government, Economics', 'Project Subject Subcategory Tree_Foreign Languages, Visual Arts', 'Project Subject Subcategory Tree_Other, Visual Arts', 'Project Subject Subcategory Tree_Applied Sciences, Mathematics', 'Project Subject Subcategory Tree_Mathematics, Team Sports', 'Project Subject Subcategory Tree_Applied Sciences', 'Project Subject Category Tree_Special Needs', 'Project Subject Subcategory Tree_Gym & Fitness, Mathematics', 'School Percentage Free Lunch', 'Project Subject Subcategory Tree_Performing Arts, Social Sciences', 'School State_Iowa', 'Project Subject Subcategory Tree_Applied Sciences, Other', 'School State_Alaska', 'Project Subject Subcategory Tree_Music, Performing Arts', 'Project Subject Subcategory Tree_Health & Wellness, Literature & Writing', 'Project Subject Subcategory Tree_Health & Life Science, Mathematics', 'School State_Montana', 'Project Subject Subcategory Tree_ESL, Foreign Languages', 'Project Subject Subcategory Tree_Early Development, Literature & Writing', 'Project Subject Subcategory Tree_ESL, Health & Wellness', 'Project Subject Subcategory Tree_Literacy, Other', 'Project Subject Category Tree_Health & Sports, History & Civics', 'Project Subject Subcategory Tree_Character Education, Early Development', 'Project Subject Subcategory Tree_Applied Sciences, College & Career Prep', 'Project Subject Category Tree_History & Civics, Math & Science', 'Project Subject Category Tree_Math & Science, Applied Learning', 'Project Subject Subcategory Tree_Literature & Writing, Other', 'Project Subject Subcategory Tree_Mathematics, Visual Arts', 'Project Subject Subcategory Tree_Civics & Government, Mathematics', 'Project Subject Subcategory Tree_Character Education, College & Career Prep', 'Project Subject Subcategory Tree_Literacy, Performing Arts', 'Project Subject Subcategory Tree_College & Career Prep, Literacy', 'Project Subject Subcategory Tree_ESL, Environmental Science', 'Project Subject Subcategory Tree_Economics, Financial Literacy', 'Project Subject Category Tree_History & Civics', 'School State_Alabama', 'Project Count in State', 'Project Subject Subcategory Tree_History & Geography, Literacy', 'Project Subject Subcategory Tree_Team Sports', 'Project Subject Subcategory Tree_Character Education, Parent Involvement', 'Project Subject Category Tree_Literacy & Language, Music & The Arts', 'Project Subject Subcategory Tree_History & Geography, Literature & Writing', 'Project Subject Category Tree_Literacy & Language, Applied Learning', 'Project Subject Subcategory Tree_Extracurricular, Team Sports', 'School State_Hawaii', 'Project Subject Subcategory Tree_Other, Parent Involvement', 'School State_District of Columbia', 'Project Subject Subcategory Tree_Character Education, Other', 'Project Subject Subcategory Tree_Community Service, Visual Arts', 'Project Subject Subcategory Tree_Character Education, Mathematics', 'Project Subject Subcategory Tree_College & Career Prep, Other', 'School State_Arizona', 'School Metro Type_town', 'Project Subject Category Tree_Literacy & Language, History & Civics', 'School Metro Type_rural', 'Project Subject Subcategory Tree_College & Career Prep, Literature & Writing', 'Project Subject Category Tree_Applied Learning, Music & The Arts', 'Project Subject Subcategory Tree_College & Career Prep, Financial Literacy', 'Project Subject Subcategory Tree_Environmental Science, Other', 'Project Subject Category Tree_Music & The Arts, Applied Learning', 'Project Subject Subcategory Tree_Literature & Writing, Visual Arts', 'Project Subject Subcategory Tree_ESL, Literacy', 'School State_Maryland', 'Project Subject Subcategory Tree_Literature & Writing, Music', 'Project Subject Subcategory Tree_History & Geography', 'Project Subject Category Tree_Health & Sports, Literacy & Language', 'Project Subject Subcategory Tree_Nutrition Education, Team Sports', 'Project Subject Subcategory Tree_Gym & Fitness, Music', 'Project Subject Subcategory Tree_Literacy, Special Needs', 'Project Subject Subcategory Tree_ESL, Financial Literacy', 'Project Subject Subcategory Tree_Applied Sciences, Environmental Science', 'Project Subject Subcategory Tree_Early Development, Literacy', 'Project Subject Subcategory Tree_Foreign Languages, Other', 'Project Subject Subcategory Tree_Community Service, Environmental Science', 'Project Subject Subcategory Tree_Economics, Literacy', 'Project Subject Category Tree_Applied Learning, Literacy & Language', 'Project Subject Subcategory Tree_Health & Wellness, Special Needs', 'Project Subject Subcategory Tree_Civics & Government, Social Sciences', 'Project Grade Level Category_Grades PreK-2', 'Project Subject Subcategory Tree_Applied Sciences, Character Education', 'Project Subject Category Tree_Math & Science', 'Project Subject Subcategory Tree_Environmental Science, Special Needs', 'Project Subject Subcategory Tree_Applied Sciences, Literature & Writing', 'Project Subject Category Tree_Health & Sports, Applied Learning', 'Project Subject Subcategory Tree_ESL', 'Project Subject Subcategory Tree_Health & Wellness, Visual Arts', 'Project Subject Subcategory Tree_Nutrition Education, Special Needs', 'Project Subject Category Tree_History & Civics, Special Needs', 'Project Subject Category Tree_Health & Sports, Special Needs', 'Project Subject Subcategory Tree_Extracurricular, Health & Life Science', 'Project Subject Category Tree_History & Civics, Literacy & Language', 'Project Subject Category Tree_Applied Learning', 'Project Grade Level Category_Grades 6-8', 'Project Subject Subcategory Tree_Mathematics, Music', 'Project Subject Subcategory Tree_Health & Wellness, Parent Involvement', 'Project Subject Subcategory Tree_Literacy', 'Project Subject Subcategory Tree_Health & Wellness, Team Sports', 'Project Subject Category Tree_Literacy & Language', 'Project Subject Subcategory Tree_Health & Life Science', 'Project Subject Subcategory Tree_Other, Special Needs', 'Project Subject Subcategory Tree_Economics, Social Sciences', 'School State_California', 'School State_Texas', 'Project Subject Subcategory Tree_Gym & Fitness', 'School State_Idaho', 'Project Subject Subcategory Tree_Environmental Science, Mathematics', 'Project Subject Subcategory Tree_Early Development, Social Sciences', 'Project Subject Subcategory Tree_Literature & Writing, Mathematics', 'Project Subject Subcategory Tree_Community Service, Nutrition Education', 'School State_Georgia', 'Project Subject Category Tree_Math & Science, Music & The Arts', 'Project Subject Subcategory Tree_Mathematics, Special Needs', 'Project Subject Subcategory Tree_Literacy, Literature & Writing', 'Project Subject Category Tree_Music & The Arts, History & Civics', 'Project Subject Subcategory Tree_Economics, Mathematics', 'Project Subject Subcategory Tree_ESL, Literature & Writing', 'Project Subject Subcategory Tree_Environmental Science', 'Project Subject Subcategory Tree_Foreign Languages', 'Project Resource Category_Other', 'Project Subject Subcategory Tree_Early Development, Mathematics', 'Project Subject Subcategory Tree_Civics & Government, Literacy', 'Project Subject Subcategory Tree_Character Education, Literacy', 'School State_South Carolina', 'Project Subject Subcategory Tree_ESL, Music', 'Project Subject Category Tree_Literacy & Language, Math & Science', 'School Metro Type_suburban', 'School State_Wyoming', 'Project Subject Subcategory Tree_Performing Arts, Visual Arts', 'Project Subject Subcategory Tree_Music', 'Project Subject Subcategory Tree_Environmental Science, Nutrition Education', 'Project Resource Category_Trips', 'Teacher Prefix_Mr.', 'Project Grade Level Category_Grades 3-5', 'Project Subject Subcategory Tree_ESL, Nutrition Education', 'Project Subject Subcategory Tree_Applied Sciences, Visual Arts', 'Project Subject Subcategory Tree_Literacy, Mathematics', 'Project Subject Category Tree_Math & Science, Literacy & Language', 'Project Subject Subcategory Tree_Literacy, Visual Arts', 'Project Subject Subcategory Tree_Civics & Government, Literature & Writing', 'Project Grade Level Category_Grades 9-12', 'School State_Oklahoma', 'Project Subject Category Tree_Literacy & Language, Special Needs', 'Project Subject Subcategory Tree_Literature & Writing', 'Project Subject Subcategory Tree_Community Service, Performing Arts', 'Project Type_Student-Led', 'Project Subject Subcategory Tree_Social Sciences, Visual Arts', 'Project Subject Subcategory Tree_Early Development', 'Project Subject Subcategory Tree_Environmental Science, Visual Arts', 'Project Subject Subcategory Tree_Visual Arts', 'Project Subject Subcategory Tree_Community Service, Literature & Writing', 'Project Subject Category Tree_Literacy & Language, Health & Sports', 'Project Subject Subcategory Tree_Health & Life Science, Literacy', 'Project Subject Subcategory Tree_Literature & Writing, Social Sciences', 'School State_Arkansas', 'Project Subject Subcategory Tree_Health & Wellness, Literacy', 'Project Subject Subcategory Tree_Environmental Science, Health & Life Science', 'School State_Kansas', 'Project Subject Category Tree_History & Civics, Health & Sports', 'School State_Kentucky', 'Project Subject Subcategory Tree_Civics & Government, Visual Arts', 'Project Subject Subcategory Tree_Literacy, Social Sciences', 'School Metro Type_urban', 'Project Subject Category Tree_Applied Learning, Special Needs', 'Project Subject Subcategory Tree_ESL, Special Needs', 'Project Subject Category Tree_Music & The Arts', 'Project Subject Subcategory Tree_Special Needs', 'Project Subject Subcategory Tree_Mathematics', 'Teacher Prefix_Mrs.', 'Project Subject Subcategory Tree_Mathematics, Nutrition Education', 'Project Subject Subcategory Tree_Economics, Nutrition Education', 'Project Subject Subcategory Tree_Economics, Other', 'Project Subject Subcategory Tree_Economics, Parent Involvement', 'Project Subject Subcategory Tree_Environmental Science, Financial Literacy', 'Project Subject Subcategory Tree_Environmental Science, Foreign Languages', 'Project Subject Subcategory Tree_Economics, Literature & Writing', 'Project Subject Subcategory Tree_Economics, Music', 'Project Subject Subcategory Tree_Extracurricular, Financial Literacy', 'Project Subject Subcategory Tree_Extracurricular, Foreign Languages', 'Project Subject Subcategory Tree_Extracurricular, Gym & Fitness', 'Project Subject Subcategory Tree_Gym & Fitness, History & Geography', 'Project Subject Subcategory Tree_Gym & Fitness, Performing Arts', 'Project Subject Subcategory Tree_Literacy, Team Sports', 'Project Subject Subcategory Tree_Literacy, Warmth, Care & Hunger', 'Project Subject Subcategory Tree_Literature & Writing, Parent Involvement', 'Project Subject Subcategory Tree_Mathematics, Parent Involvement', 'Project Subject Subcategory Tree_Civics & Government, Gym & Fitness', 'Project Subject Subcategory Tree_Civics & Government, Health & Life Science', 'Project Subject Subcategory Tree_Civics & Government, Health & Wellness', 'Project Subject Subcategory Tree_Extracurricular, Music', 'Project Subject Subcategory Tree_Gym & Fitness, Warmth, Care & Hunger', 'Project Subject Subcategory Tree_Health & Wellness, Performing Arts', 'Project Subject Subcategory Tree_History & Geography, Team Sports', 'Project Subject Subcategory Tree_Literature & Writing, Warmth, Care & Hunger', 'Project Subject Subcategory Tree_Nutrition Education, Visual Arts', 'Project Subject Subcategory Tree_Applied Sciences, Team Sports', 'Project Subject Subcategory Tree_Civics & Government, Extracurricular', 'Project Subject Subcategory Tree_Civics & Government, Financial Literacy', 'Project Subject Subcategory Tree_Civics & Government, Foreign Languages', 'Project Subject Subcategory Tree_ESL, Warmth, Care & Hunger', 'Project Subject Subcategory Tree_Economics, Special Needs', 'Project Subject Subcategory Tree_Economics, Team Sports', 'Project Subject Subcategory Tree_Economics, Visual Arts', 'Project Subject Subcategory Tree_Environmental Science, Parent Involvement', 'Project Subject Subcategory Tree_Extracurricular, Nutrition Education', 'Project Subject Subcategory Tree_Financial Literacy, Team Sports', 'Project Subject Subcategory Tree_Foreign Languages, Performing Arts', 'Project Subject Subcategory Tree_Foreign Languages, Social Sciences', 'Project Subject Subcategory Tree_Gym & Fitness, Social Sciences', 'Project Subject Subcategory Tree_Health & Life Science, Team Sports', 'Project Subject Subcategory Tree_Health & Wellness, Music', 'Project Subject Subcategory Tree_Health & Wellness, Social Sciences', 'Project Subject Subcategory Tree_Health & Wellness, Warmth, Care & Hunger', 'Project Subject Subcategory Tree_History & Geography, Warmth, Care & Hunger', 'Project Subject Subcategory Tree_Parent Involvement, Warmth, Care & Hunger', 'Project Subject Subcategory Tree_College & Career Prep, Foreign Languages', 'Project Subject Subcategory Tree_College & Career Prep, Gym & Fitness', 'Project Subject Subcategory Tree_Community Service, Warmth, Care & Hunger', 'Project Subject Subcategory Tree_ESL, Team Sports', 'Project Subject Subcategory Tree_Early Development, Foreign Languages', 'Project Subject Subcategory Tree_Early Development, Gym & Fitness', 'Project Subject Subcategory Tree_Environmental Science, Music', 'Project Subject Subcategory Tree_Environmental Science, Warmth, Care & Hunger', 'Project Subject Subcategory Tree_Extracurricular, Social Sciences', 'Project Subject Subcategory Tree_Financial Literacy, Warmth, Care & Hunger', 'Project Subject Subcategory Tree_Foreign Languages, Gym & Fitness', 'Project Subject Subcategory Tree_Foreign Languages, Health & Life Science', 'Project Subject Subcategory Tree_Gym & Fitness, Nutrition Education', 'Project Subject Subcategory Tree_Gym & Fitness, Other', 'Project Subject Subcategory Tree_Gym & Fitness, Parent Involvement', 'Project Subject Subcategory Tree_Health & Life Science, Nutrition Education', 'Project Subject Subcategory Tree_Health & Life Science, Other', 'Project Subject Subcategory Tree_Health & Life Science, Parent Involvement', 'Project Subject Subcategory Tree_Health & Wellness, History & Geography', 'Project Subject Subcategory Tree_History & Geography, Nutrition Education', 'Project Subject Subcategory Tree_History & Geography, Other', 'Project Subject Subcategory Tree_History & Geography, Parent Involvement', 'Project Subject Category Tree_Literacy & Language, Warmth, Care & Hunger', 'Project Subject Subcategory Tree_Applied Sciences, Music', 'Project Subject Subcategory Tree_Character Education, Warmth, Care & Hunger', 'Project Subject Subcategory Tree_College & Career Prep, Economics', 'Project Subject Subcategory Tree_College & Career Prep, Team Sports', 'Project Subject Subcategory Tree_Community Service, Financial Literacy', 'Project Subject Subcategory Tree_Community Service, Foreign Languages', 'Project Subject Subcategory Tree_Community Service, Gym & Fitness', 'Project Subject Subcategory Tree_Community Service, Social Sciences', 'Project Subject Subcategory Tree_ESL, Extracurricular', 'Project Subject Subcategory Tree_Early Development, Team Sports', 'Project Subject Subcategory Tree_Early Development, Warmth, Care & Hunger', 'Project Subject Subcategory Tree_Economics', 'Project Subject Subcategory Tree_Economics, Environmental Science', 'Project Subject Subcategory Tree_Economics, Extracurricular', 'Project Subject Subcategory Tree_Economics, Health & Life Science', 'Project Subject Subcategory Tree_Economics, Health & Wellness', 'Project Subject Subcategory Tree_Environmental Science, Team Sports', 'Project Subject Subcategory Tree_Extracurricular, Warmth, Care & Hunger', 'Project Subject Subcategory Tree_Financial Literacy, Music', 'Project Subject Subcategory Tree_Financial Literacy, Nutrition Education', 'Project Subject Subcategory Tree_Financial Literacy, Other', 'Project Subject Subcategory Tree_Financial Literacy, Parent Involvement', 'Project Subject Subcategory Tree_Financial Literacy, Performing Arts', 'Project Subject Subcategory Tree_Financial Literacy, Social Sciences', 'Project Subject Subcategory Tree_Foreign Languages, Parent Involvement', 'Project Subject Subcategory Tree_Health & Life Science, Warmth, Care & Hunger', 'Project Subject Subcategory Tree_Mathematics, Warmth, Care & Hunger', 'Project Subject Subcategory Tree_Nutrition Education, Warmth, Care & Hunger', 'Project Subject Subcategory Tree_Character Education, Economics', 'Project Subject Subcategory Tree_Character Education, Music', 'Project Subject Subcategory Tree_Character Education, Nutrition Education', 'Project Subject Subcategory Tree_Civics & Government, ESL', 'Project Subject Subcategory Tree_Civics & Government, Early Development', 'Project Subject Subcategory Tree_Civics & Government, Other', 'Project Subject Subcategory Tree_Civics & Government, Parent Involvement', 'Project Subject Subcategory Tree_Civics & Government, Performing Arts', 'Project Subject Subcategory Tree_Community Service, ESL', 'Project Subject Subcategory Tree_Community Service, Early Development', 'Project Subject Subcategory Tree_Community Service, Literacy', 'Project Subject Subcategory Tree_ESL, Other', 'Project Subject Subcategory Tree_ESL, Parent Involvement', 'Project Subject Subcategory Tree_Early Development, Economics', 'Project Subject Subcategory Tree_Early Development, Extracurricular', 'Project Subject Subcategory Tree_Early Development, Financial Literacy', 'Project Subject Subcategory Tree_Early Development, Nutrition Education', 'Project Subject Subcategory Tree_Early Development, Performing Arts', 'Project Subject Subcategory Tree_Foreign Languages, Mathematics', 'Project Subject Subcategory Tree_Foreign Languages, Music', 'Project Subject Subcategory Tree_Foreign Languages, Nutrition Education', 'Project Subject Subcategory Tree_Literature & Writing, Nutrition Education', 'Project Subject Subcategory Tree_Other, Performing Arts', 'Project Subject Subcategory Tree_Other, Team Sports', 'Project Subject Category Tree_Applied Learning, Warmth, Care & Hunger', 'Project Subject Category Tree_Math & Science, Warmth, Care & Hunger', 'Project Subject Category Tree_Music & The Arts, Warmth, Care & Hunger', 'Project Subject Subcategory Tree_Applied Sciences, Financial Literacy', 'Project Subject Subcategory Tree_Civics & Government, College & Career Prep', 'Project Subject Subcategory Tree_Civics & Government, Nutrition Education', 'Project Subject Subcategory Tree_Civics & Government, Special Needs', 'Project Subject Subcategory Tree_Civics & Government, Team Sports', 'Project Subject Subcategory Tree_Civics & Government, Warmth, Care & Hunger', 'Project Subject Subcategory Tree_College & Career Prep, Nutrition Education', 'Project Subject Subcategory Tree_Community Service, Music', 'Project Subject Subcategory Tree_Community Service, Team Sports', 'Project Subject Subcategory Tree_ESL, Gym & Fitness', 'Project Subject Subcategory Tree_ESL, Social Sciences', 'Project Subject Subcategory Tree_Financial Literacy, Literature & Writing', 'Project Subject Subcategory Tree_Foreign Languages, History & Geography', 'Project Subject Subcategory Tree_Foreign Languages, Team Sports', 'Project Subject Subcategory Tree_Nutrition Education, Other', 'Project Subject Subcategory Tree_Nutrition Education, Parent Involvement', 'Project Subject Subcategory Tree_Nutrition Education, Performing Arts', 'Project Subject Subcategory Tree_Nutrition Education, Social Sciences', 'School State_Unknown', 'Project Subject Subcategory Tree_Applied Sciences, Community Service', 'Project Subject Subcategory Tree_Character Education, History & Geography', 'Project Subject Subcategory Tree_College & Career Prep, Parent Involvement', 'Project Subject Subcategory Tree_ESL, Economics', 'Project Subject Subcategory Tree_Economics, Foreign Languages', 'Project Subject Subcategory Tree_Economics, Gym & Fitness', 'Project Subject Subcategory Tree_Parent Involvement, Performing Arts', 'Project Subject Subcategory Tree_Parent Involvement, Social Sciences', 'Project Subject Subcategory Tree_Parent Involvement, Special Needs', 'Project Subject Subcategory Tree_Parent Involvement, Team Sports', 'Project Subject Subcategory Tree_Performing Arts, Team Sports', 'Project Subject Subcategory Tree_Special Needs, Warmth, Care & Hunger', 'Teacher Prefix_Dr.', 'Project Subject Category Tree_Health & Sports, Warmth, Care & Hunger', 'Project Subject Subcategory Tree_Applied Sciences, Nutrition Education', 'Project Subject Subcategory Tree_College & Career Prep, Health & Wellness', 'Project Subject Subcategory Tree_Music, Nutrition Education', 'Project Subject Subcategory Tree_Music, Other', 'Project Subject Subcategory Tree_Music, Parent Involvement', 'Project Subject Subcategory Tree_Other, Warmth, Care & Hunger', 'Project Subject Subcategory Tree_Social Sciences, Team Sports', 'Project Resource Category_Unknown', 'School Metro Type_Unknown', 'Teacher Prefix_Mx.', 'Project Type_Teacher-Led', 'Project Subject Category Tree_Special Needs, Warmth, Care & Hunger', 'Project Subject Category Tree_Unknown', 'Project Subject Category Tree_Warmth, Care & Hunger', 'Project Subject Subcategory Tree_Applied Sciences, Civics & Government', 'Project Subject Subcategory Tree_Applied Sciences, Warmth, Care & Hunger', 'Project Subject Subcategory Tree_Character Education, Financial Literacy', 'Project Subject Subcategory Tree_Character Education, Foreign Languages', 'Project Subject Subcategory Tree_Character Education, Gym & Fitness', 'Project Subject Subcategory Tree_Character Education, Health & Life Science', 'Project Subject Subcategory Tree_College & Career Prep, Warmth, Care & Hunger', 'Project Subject Subcategory Tree_Financial Literacy, Foreign Languages', 'Project Subject Subcategory Tree_Financial Literacy, Gym & Fitness', 'Project Subject Subcategory Tree_Financial Literacy, Health & Life Science', 'Project Subject Subcategory Tree_Financial Literacy, Health & Wellness', 'Project Subject Subcategory Tree_Financial Literacy, History & Geography', 'Project Subject Subcategory Tree_Financial Literacy, Literacy', 'Project Subject Subcategory Tree_Visual Arts, Warmth, Care & Hunger', 'Project Subject Subcategory Tree_Warmth, Care & Hunger', 'Project Grade Level Category_unknown', 'Project Subject Subcategory Tree_Applied Sciences, Economics', 'Project Subject Subcategory Tree_Team Sports, Visual Arts', 'Project Subject Subcategory Tree_Unknown', 'Project Subject Category Tree_History & Civics, Warmth, Care & Hunger', 'Project Subject Subcategory Tree_Social Sciences, Warmth, Care & Hunger')\n"
     ]
    }
   ],
   "source": [
    "print(list(zip(*list(explanations[\"fold0\"][\"lime\"][\"top\"].values())[0][:]))[0])"
   ]
  },
  {
   "cell_type": "code",
   "execution_count": 23,
   "id": "a85b823b",
   "metadata": {},
   "outputs": [
    {
     "name": "stdout",
     "output_type": "stream",
     "text": [
      "Index(['Project Posted Month', 'Project Cost', 'School Percentage Free Lunch',\n",
      "       'Teacher Project Posted Sequence', 'Teacher Success Rate',\n",
      "       'Teacher Success Rate Imputed', 'School City Success Rate',\n",
      "       'School City Success Rate Imputed', 'School Success Rate',\n",
      "       'School Success Rate Imputed',\n",
      "       ...\n",
      "       'School State_Washington', 'School State_West Virginia',\n",
      "       'School State_Wisconsin', 'School State_Wyoming', 'Teacher Prefix_Dr.',\n",
      "       'Teacher Prefix_Mr.', 'Teacher Prefix_Mrs.', 'Teacher Prefix_Ms.',\n",
      "       'Teacher Prefix_Mx.', 'Teacher Prefix_Teacher'],\n",
      "      dtype='object', length=575)\n"
     ]
    }
   ],
   "source": [
    "print(data_folds[0][\"x_test\"][data_folds[0][\"x_test\"][\"Project ID\"] == \"cdc83b2eb031d999c123535bf09d24a0\"].columns[1:])"
   ]
  },
  {
   "cell_type": "markdown",
   "id": "05be9d16",
   "metadata": {},
   "source": [
    "features in the lime bottom explanations"
   ]
  },
  {
   "cell_type": "code",
   "execution_count": 24,
   "id": "a1da5403",
   "metadata": {},
   "outputs": [
    {
     "data": {
      "text/plain": [
       "('School State_New Mexico',\n",
       " 'Project Cost',\n",
       " 'School State_Mississippi',\n",
       " 'School State_Oregon',\n",
       " 'Project Subject Subcategory Tree_College & Career Prep, Early Development',\n",
       " 'Project Subject Category Tree_Music & The Arts, History & Civics',\n",
       " 'Project Subject Subcategory Tree_Literature & Writing, Other',\n",
       " 'Project Subject Subcategory Tree_Community Service, Environmental Science',\n",
       " 'Project Subject Subcategory Tree_Community Service, Mathematics',\n",
       " 'Project Subject Subcategory Tree_Civics & Government, Visual Arts')"
      ]
     },
     "execution_count": 24,
     "metadata": {},
     "output_type": "execute_result"
    }
   ],
   "source": [
    "list(zip(*list(explanations[\"fold0\"][\"lime\"][\"bottom\"].values())[0][:10]))[0]"
   ]
  },
  {
   "cell_type": "markdown",
   "id": "14f9a2b7",
   "metadata": {},
   "source": [
    "features in the treeshap top explanations"
   ]
  },
  {
   "cell_type": "code",
   "execution_count": 25,
   "id": "6ab32caf",
   "metadata": {},
   "outputs": [
    {
     "data": {
      "text/plain": [
       "('Project Cost',\n",
       " 'School State_Mississippi',\n",
       " 'Project Resource Category_Technology',\n",
       " 'Teacher Project Posted Sequence',\n",
       " 'School City Success Rate',\n",
       " 'School Success Rate',\n",
       " 'Teacher Success Rate',\n",
       " 'Teacher Success Rate Imputed',\n",
       " 'School County Success Rate',\n",
       " 'Project Count in State')"
      ]
     },
     "execution_count": 25,
     "metadata": {},
     "output_type": "execute_result"
    }
   ],
   "source": [
    "list(zip(*list(explanations[\"fold0\"][\"treeshap\"][\"top\"].values())[0][:10]))[0]"
   ]
  },
  {
   "cell_type": "markdown",
   "id": "2ae41823",
   "metadata": {},
   "source": [
    "features in the treeshap bottom explanations"
   ]
  },
  {
   "cell_type": "code",
   "execution_count": 26,
   "id": "b61ad575",
   "metadata": {},
   "outputs": [
    {
     "data": {
      "text/plain": [
       "('Project Cost',\n",
       " 'School State_Illinois',\n",
       " 'School Success Rate',\n",
       " 'Project Resource Category_Technology',\n",
       " 'Project Posted Month',\n",
       " 'Teacher Project Posted Sequence',\n",
       " 'Teacher Success Rate',\n",
       " 'Project Count in State',\n",
       " 'Project Resource Category_Books',\n",
       " 'Teacher Success Rate Imputed')"
      ]
     },
     "execution_count": 26,
     "metadata": {},
     "output_type": "execute_result"
    }
   ],
   "source": [
    "list(zip(*list(explanations[\"fold0\"][\"treeshap\"][\"bottom\"].values())[0][:10]))[0]\n",
    "\n"
   ]
  },
  {
   "cell_type": "code",
   "execution_count": 27,
   "id": "ff279b72",
   "metadata": {},
   "outputs": [],
   "source": [
    "project_explanation = explanations[\"fold0\"][\"treeshap\"][\"bottom\"][\"9922bc88316d50dc9fec75ace1f6428d\"]\n",
    "\n",
    "# Make the feature vs important score list into dictionary\n",
    "project = {}\n",
    "for feature in project_explanation:\n",
    "    if feature[0] not in project.keys():\n",
    "        project[feature[0]] = feature[1]\n",
    "        \n",
    "    else:\n",
    "        print(f\"{feature[0]} has duplicates\")\n",
    "        \n",
    "    "
   ]
  },
  {
   "cell_type": "code",
   "execution_count": 28,
   "id": "50181089",
   "metadata": {},
   "outputs": [],
   "source": [
    "feature , important_score = project_explanation[0]"
   ]
  },
  {
   "cell_type": "markdown",
   "id": "5895cf53",
   "metadata": {},
   "source": [
    "### Feature space with feature importance score"
   ]
  },
  {
   "cell_type": "code",
   "execution_count": 29,
   "id": "3cc378ef",
   "metadata": {},
   "outputs": [
    {
     "name": "stdout",
     "output_type": "stream",
     "text": [
      "{'Project Cost': -0.02602504681196933, 'School State': {'School State_Illinois': -0.02180424855480396, 'School State_New York': -0.0015074806829943554, 'School State_New Jersey': -0.0005795116676927136, 'School State_Massachusetts': 0.0005370641225545114, 'School State_Pennsylvania': 0.0005351177916600136, 'School State_Missouri': -0.000510592402297334, 'School State_North Carolina': 0.0004209882833447409, 'School State_New Mexico': -0.0003621141724579502, 'School State_Alabama': -0.00032283463115163614, 'School State_Indiana': -0.0003145353738727863, 'School State_Mississippi': -0.00031287878246075704, 'School State_Michigan': -0.0002755996493579005, 'School State_Colorado': 0.0001629375236461783, 'School State_Nevada': -0.0001612996661060606, 'School State_Ohio': -9.34854031766008e-05, 'School State_Arizona': 8.549149137252244e-05, 'School State_Florida': 6.662429377684021e-05, 'School State_Washington': -6.578171525688958e-05, 'School State_California': 5.3923177929391387e-05, 'School State_Iowa': -4.9219651482417246e-05, 'School State_Kentucky': -4.5080216877977364e-05, 'School State_Utah': 3.3511112160340414e-05, 'School State_Georgia': -2.7305157327646157e-05, 'School State_Maryland': 2.2302824654616415e-05, 'School State_Texas': -1.9749645734918885e-05, 'School State_Oklahoma': 1.85150991910632e-05, 'School State_South Carolina': -1.754725344653707e-05, 'School State_District of Columbia': -6.420547360903584e-06, 'School State_South Dakota': 2.325894820387475e-06, 'School State_Arkansas': -1.203807732963469e-06, 'School State_Alaska': 0.0, 'School State_Connecticut': 0.0, 'School State_Delaware': 0.0, 'School State_Hawaii': 0.0, 'School State_Idaho': 0.0, 'School State_Kansas': 0.0, 'School State_Louisiana': 0.0, 'School State_Maine': 0.0, 'School State_Minnesota': 0.0, 'School State_Montana': 0.0, 'School State_Nebraska': 0.0, 'School State_New Hampshire': 0.0, 'School State_North Dakota': 0.0, 'School State_Oregon': 0.0, 'School State_Rhode Island': 0.0, 'School State_Tennessee': 0.0, 'School State_Unknown': 0.0, 'School State_Vermont': 0.0, 'School State_Virginia': 0.0, 'School State_West Virginia': 0.0, 'School State_Wisconsin': 0.0, 'School State_Wyoming': 0.0}, 'School Success Rate': -0.017505583778207667, 'Project Resource Category': {'Project Resource Category_Technology': -0.006742306857236144, 'Project Resource Category_Books': 0.0028691998338661053, 'Project Resource Category_Supplies': -0.002422231425857717, 'Project Resource Category_Trips': 3.7464030810951954e-05, 'Project Resource Category_Other': -7.800931834935909e-06, 'Project Resource Category_Unknown': 0.0, 'Project Resource Category_Visitors': 0.0}, 'Project Posted Month': 0.006214428558841974, 'Teacher Project Posted Sequence': -0.004799128680804188, 'Teacher Success Rate': 0.004406902267389796, 'Project Count in State': -0.00336914051841859, 'Teacher Success Rate Imputed': -0.002817042707292785, 'School Percentage Free Lunch': 0.002125179466502232, 'Teacher Prefix': {'Teacher Prefix_Ms.': -0.0017303964151915352, 'Teacher Prefix_Mrs.': -0.00024137083285950212, 'Teacher Prefix_Teacher': -8.263472653197824e-05, 'Teacher Prefix_Mr.': -6.526877950818743e-07, 'Teacher Prefix_Dr.': 0.0, 'Teacher Prefix_Mx.': 0.0}, 'School Metro Type': {'School Metro Type_urban': -0.0010255550905412746, 'School Metro Type_unknown': -0.0002933678690078523, 'School Metro Type_town': -3.4970082851941696e-05, 'School Metro Type_suburban': 6.96901517585502e-06, 'School Metro Type_rural': 4.28639566507627e-06, 'School Metro Type_Unknown': 0.0}, 'School City Success Rate': -0.0008568011747343007, 'School Success Rate Imputed': -0.00025358081345757457, 'Project Subject Category Tree': {'Project Subject Category Tree_Literacy & Language, Math & Science': -0.00025057993518544207, 'Project Subject Category Tree_Literacy & Language': 0.00023495366200677382, 'Project Subject Category Tree_Literacy & Language, Music & The Arts': 0.00010497482205209962, 'Project Subject Category Tree_Literacy & Language, Special Needs': -7.020065399046871e-05, 'Project Subject Category Tree_Math & Science': -6.766490165318828e-05, 'Project Subject Category Tree_Health & Sports': -5.4847298342792784e-05, 'Project Subject Category Tree_Literacy & Language, History & Civics': -5.004240651032888e-05, 'Project Subject Category Tree_Math & Science, Literacy & Language': 4.494067765335785e-05, 'Project Subject Category Tree_Applied Learning, Literacy & Language': -4.2377257541375004e-05, 'Project Subject Category Tree_Applied Learning, History & Civics': -2.4175718281185254e-05, 'Project Subject Category Tree_Applied Learning, Health & Sports': 2.4046741309575736e-05, 'Project Subject Category Tree_Math & Science, Special Needs': -2.2124697588878918e-05, 'Project Subject Category Tree_Applied Learning': -1.664330284256721e-05, 'Project Subject Category Tree_Special Needs': 1.0239038529107347e-05, 'Project Subject Category Tree_Math & Science, Applied Learning': 8.93898555659689e-06, 'Project Subject Category Tree_Special Needs, Music & The Arts': -6.912657408975065e-06, 'Project Subject Category Tree_Applied Learning, Math & Science': -6.762372941011563e-06, 'Project Subject Category Tree_Music & The Arts': 4.273423428458045e-06, 'Project Subject Category Tree_History & Civics, Literacy & Language': 2.3551604863314422e-06, 'Project Subject Category Tree_Applied Learning, Music & The Arts': 0.0, 'Project Subject Category Tree_Applied Learning, Special Needs': 0.0, 'Project Subject Category Tree_Applied Learning, Warmth, Care & Hunger': 0.0, 'Project Subject Category Tree_Health & Sports, Applied Learning': 0.0, 'Project Subject Category Tree_Health & Sports, History & Civics': 0.0, 'Project Subject Category Tree_Health & Sports, Literacy & Language': 0.0, 'Project Subject Category Tree_Health & Sports, Math & Science': 0.0, 'Project Subject Category Tree_Health & Sports, Music & The Arts': 0.0, 'Project Subject Category Tree_Health & Sports, Special Needs': 0.0, 'Project Subject Category Tree_Health & Sports, Warmth, Care & Hunger': 0.0, 'Project Subject Category Tree_History & Civics': 0.0, 'Project Subject Category Tree_History & Civics, Applied Learning': 0.0, 'Project Subject Category Tree_History & Civics, Health & Sports': 0.0, 'Project Subject Category Tree_History & Civics, Math & Science': 0.0, 'Project Subject Category Tree_History & Civics, Music & The Arts': 0.0, 'Project Subject Category Tree_History & Civics, Special Needs': 0.0, 'Project Subject Category Tree_History & Civics, Warmth, Care & Hunger': 0.0, 'Project Subject Category Tree_Literacy & Language, Applied Learning': 0.0, 'Project Subject Category Tree_Literacy & Language, Health & Sports': 0.0, 'Project Subject Category Tree_Literacy & Language, Warmth, Care & Hunger': 0.0, 'Project Subject Category Tree_Math & Science, Health & Sports': 0.0, 'Project Subject Category Tree_Math & Science, History & Civics': 0.0, 'Project Subject Category Tree_Math & Science, Music & The Arts': 0.0, 'Project Subject Category Tree_Math & Science, Warmth, Care & Hunger': 0.0, 'Project Subject Category Tree_Music & The Arts, Applied Learning': 0.0, 'Project Subject Category Tree_Music & The Arts, Health & Sports': 0.0, 'Project Subject Category Tree_Music & The Arts, History & Civics': 0.0, 'Project Subject Category Tree_Music & The Arts, Special Needs': 0.0, 'Project Subject Category Tree_Music & The Arts, Warmth, Care & Hunger': 0.0, 'Project Subject Category Tree_Special Needs, Health & Sports': 0.0, 'Project Subject Category Tree_Special Needs, Warmth, Care & Hunger': 0.0, 'Project Subject Category Tree_Unknown': 0.0, 'Project Subject Category Tree_Warmth, Care & Hunger': 0.0}, 'Project Grade Level Category': {'Project Grade Level Category_Grades 6-8': -0.0002342117682837852, 'Project Grade Level Category_Grades PreK-2': 0.00013671097005499178, 'Project Grade Level Category_Grades 9-12': 5.525846515865851e-05, 'Project Grade Level Category_Grades 3-5': 5.0290101083305674e-05, 'Project Grade Level Category_unknown': 0.0}, 'School City Success Rate Imputed': -0.00022143448928545694, 'Project Subject Subcategory Tree': {'Project Subject Subcategory Tree_Early Development, Literacy': -8.532835632649948e-05, 'Project Subject Subcategory Tree_Literature & Writing': 7.966833897171455e-05, 'Project Subject Subcategory Tree_Literacy, Mathematics': -7.703313963475011e-05, 'Project Subject Subcategory Tree_Literature & Writing, Mathematics': -4.1578973571176904e-05, 'Project Subject Subcategory Tree_Extracurricular, Literacy': 3.9057752001099285e-05, 'Project Subject Subcategory Tree_Applied Sciences, Mathematics': -3.797190296609188e-05, 'Project Subject Subcategory Tree_Gym & Fitness, Team Sports': -3.728641859197523e-05, 'Project Subject Subcategory Tree_Literacy, Music': 3.596664493670687e-05, 'Project Subject Subcategory Tree_Literacy, Literature & Writing': 3.2967935367196334e-05, 'Project Subject Subcategory Tree_Literacy, Performing Arts': 3.037120492081158e-05, 'Project Subject Subcategory Tree_Literacy, Special Needs': -2.5436721944060992e-05, 'Project Subject Subcategory Tree_Special Needs': 2.5370531548105647e-05, 'Project Subject Subcategory Tree_Mathematics, Parent Involvement': -2.1891646611038595e-05, 'Project Subject Subcategory Tree_College & Career Prep, Literature & Writing': -2.1200822811806574e-05, 'Project Subject Subcategory Tree_Applied Sciences, Environmental Science': -1.9352282250224563e-05, 'Project Subject Subcategory Tree_Character Education, Early Development': -1.9288937764940783e-05, 'Project Subject Subcategory Tree_Early Development, Health & Wellness': -1.8629595906531904e-05, 'Project Subject Subcategory Tree_Mathematics': 1.8585182770038954e-05, 'Project Subject Subcategory Tree_ESL, Literacy': -1.6585100329393754e-05, 'Project Subject Subcategory Tree_Literacy, Visual Arts': -1.6448517926619387e-05, 'Project Subject Subcategory Tree_Applied Sciences': -1.6345350413757842e-05, 'Project Subject Subcategory Tree_Gym & Fitness': -1.4996334939496592e-05, 'Project Subject Subcategory Tree_Health & Wellness': -1.4149000853649341e-05, 'Project Subject Subcategory Tree_Applied Sciences, Health & Life Science': -1.2375964142847807e-05, 'Project Subject Subcategory Tree_Literacy, Social Sciences': -1.2135776723880553e-05, 'Project Subject Subcategory Tree_Literature & Writing, Special Needs': -1.2012412189505995e-05, 'Project Subject Subcategory Tree_Character Education, History & Geography': 1.0621461551636458e-05, 'Project Subject Subcategory Tree_Health & Wellness, Team Sports': -1.0291652579326182e-05, 'Project Subject Subcategory Tree_Character Education, Health & Wellness': 8.182704914361238e-06, 'Project Subject Subcategory Tree_Environmental Science, Literacy': 8.087555379461264e-06, 'Project Subject Subcategory Tree_Special Needs, Visual Arts': 7.212402269942686e-06, 'Project Subject Subcategory Tree_Literacy': 7.115328971849522e-06, 'Project Subject Subcategory Tree_Applied Sciences, Literature & Writing': -5.6186509391409345e-06, 'Project Subject Subcategory Tree_Applied Sciences, ESL': -4.857720923610031e-06, 'Project Subject Subcategory Tree_Literature & Writing, Visual Arts': -4.6288159501273185e-06, 'Project Subject Subcategory Tree_Environmental Science, Health & Life Science': 4.529977541096742e-06, 'Project Subject Subcategory Tree_ESL, Literature & Writing': -4.314582620281726e-06, 'Project Subject Subcategory Tree_Visual Arts': -3.7565361708402635e-06, 'Project Subject Subcategory Tree_ESL, History & Geography': 3.4038801095448432e-06, 'Project Subject Subcategory Tree_Environmental Science': -3.190627830917947e-06, 'Project Subject Subcategory Tree_History & Geography, Literature & Writing': -2.3207537742564453e-06, 'Project Subject Subcategory Tree_Early Development': 1.9605331181082874e-06, 'Project Subject Subcategory Tree_Extracurricular': -1.1461372196208685e-06, 'Project Subject Subcategory Tree_Health & Life Science, Literature & Writing': -2.040580875473097e-07, 'Project Subject Subcategory Tree_Mathematics, Special Needs': -1.375759529764764e-07, 'Project Subject Subcategory Tree_Applied Sciences, Character Education': 0.0, 'Project Subject Subcategory Tree_Applied Sciences, Civics & Government': 0.0, 'Project Subject Subcategory Tree_Applied Sciences, College & Career Prep': 0.0, 'Project Subject Subcategory Tree_Applied Sciences, Community Service': 0.0, 'Project Subject Subcategory Tree_Applied Sciences, Early Development': 0.0, 'Project Subject Subcategory Tree_Applied Sciences, Economics': 0.0, 'Project Subject Subcategory Tree_Applied Sciences, Extracurricular': 0.0, 'Project Subject Subcategory Tree_Applied Sciences, Financial Literacy': 0.0, 'Project Subject Subcategory Tree_Applied Sciences, Foreign Languages': 0.0, 'Project Subject Subcategory Tree_Applied Sciences, Gym & Fitness': 0.0, 'Project Subject Subcategory Tree_Applied Sciences, Health & Wellness': 0.0, 'Project Subject Subcategory Tree_Applied Sciences, History & Geography': 0.0, 'Project Subject Subcategory Tree_Applied Sciences, Literacy': 0.0, 'Project Subject Subcategory Tree_Applied Sciences, Music': 0.0, 'Project Subject Subcategory Tree_Applied Sciences, Nutrition Education': 0.0, 'Project Subject Subcategory Tree_Applied Sciences, Other': 0.0, 'Project Subject Subcategory Tree_Applied Sciences, Parent Involvement': 0.0, 'Project Subject Subcategory Tree_Applied Sciences, Performing Arts': 0.0, 'Project Subject Subcategory Tree_Applied Sciences, Social Sciences': 0.0, 'Project Subject Subcategory Tree_Applied Sciences, Special Needs': 0.0, 'Project Subject Subcategory Tree_Applied Sciences, Team Sports': 0.0, 'Project Subject Subcategory Tree_Applied Sciences, Visual Arts': 0.0, 'Project Subject Subcategory Tree_Applied Sciences, Warmth, Care & Hunger': 0.0, 'Project Subject Subcategory Tree_Character Education': 0.0, 'Project Subject Subcategory Tree_Character Education, Civics & Government': 0.0, 'Project Subject Subcategory Tree_Character Education, College & Career Prep': 0.0, 'Project Subject Subcategory Tree_Character Education, Community Service': 0.0, 'Project Subject Subcategory Tree_Character Education, ESL': 0.0, 'Project Subject Subcategory Tree_Character Education, Economics': 0.0, 'Project Subject Subcategory Tree_Character Education, Environmental Science': 0.0, 'Project Subject Subcategory Tree_Character Education, Extracurricular': 0.0, 'Project Subject Subcategory Tree_Character Education, Financial Literacy': 0.0, 'Project Subject Subcategory Tree_Character Education, Foreign Languages': 0.0, 'Project Subject Subcategory Tree_Character Education, Gym & Fitness': 0.0, 'Project Subject Subcategory Tree_Character Education, Health & Life Science': 0.0, 'Project Subject Subcategory Tree_Character Education, Literacy': 0.0, 'Project Subject Subcategory Tree_Character Education, Literature & Writing': 0.0, 'Project Subject Subcategory Tree_Character Education, Mathematics': 0.0, 'Project Subject Subcategory Tree_Character Education, Music': 0.0, 'Project Subject Subcategory Tree_Character Education, Nutrition Education': 0.0, 'Project Subject Subcategory Tree_Character Education, Other': 0.0, 'Project Subject Subcategory Tree_Character Education, Parent Involvement': 0.0, 'Project Subject Subcategory Tree_Character Education, Performing Arts': 0.0, 'Project Subject Subcategory Tree_Character Education, Social Sciences': 0.0, 'Project Subject Subcategory Tree_Character Education, Special Needs': 0.0, 'Project Subject Subcategory Tree_Character Education, Team Sports': 0.0, 'Project Subject Subcategory Tree_Character Education, Visual Arts': 0.0, 'Project Subject Subcategory Tree_Character Education, Warmth, Care & Hunger': 0.0, 'Project Subject Subcategory Tree_Civics & Government': 0.0, 'Project Subject Subcategory Tree_Civics & Government, College & Career Prep': 0.0, 'Project Subject Subcategory Tree_Civics & Government, Community Service': 0.0, 'Project Subject Subcategory Tree_Civics & Government, ESL': 0.0, 'Project Subject Subcategory Tree_Civics & Government, Early Development': 0.0, 'Project Subject Subcategory Tree_Civics & Government, Economics': 0.0, 'Project Subject Subcategory Tree_Civics & Government, Environmental Science': 0.0, 'Project Subject Subcategory Tree_Civics & Government, Extracurricular': 0.0, 'Project Subject Subcategory Tree_Civics & Government, Financial Literacy': 0.0, 'Project Subject Subcategory Tree_Civics & Government, Foreign Languages': 0.0, 'Project Subject Subcategory Tree_Civics & Government, Gym & Fitness': 0.0, 'Project Subject Subcategory Tree_Civics & Government, Health & Life Science': 0.0, 'Project Subject Subcategory Tree_Civics & Government, Health & Wellness': 0.0, 'Project Subject Subcategory Tree_Civics & Government, History & Geography': 0.0, 'Project Subject Subcategory Tree_Civics & Government, Literacy': 0.0, 'Project Subject Subcategory Tree_Civics & Government, Literature & Writing': 0.0, 'Project Subject Subcategory Tree_Civics & Government, Mathematics': 0.0, 'Project Subject Subcategory Tree_Civics & Government, Music': 0.0, 'Project Subject Subcategory Tree_Civics & Government, Nutrition Education': 0.0, 'Project Subject Subcategory Tree_Civics & Government, Other': 0.0, 'Project Subject Subcategory Tree_Civics & Government, Parent Involvement': 0.0, 'Project Subject Subcategory Tree_Civics & Government, Performing Arts': 0.0, 'Project Subject Subcategory Tree_Civics & Government, Social Sciences': 0.0, 'Project Subject Subcategory Tree_Civics & Government, Special Needs': 0.0, 'Project Subject Subcategory Tree_Civics & Government, Team Sports': 0.0, 'Project Subject Subcategory Tree_Civics & Government, Visual Arts': 0.0, 'Project Subject Subcategory Tree_Civics & Government, Warmth, Care & Hunger': 0.0, 'Project Subject Subcategory Tree_College & Career Prep': 0.0, 'Project Subject Subcategory Tree_College & Career Prep, Community Service': 0.0, 'Project Subject Subcategory Tree_College & Career Prep, ESL': 0.0, 'Project Subject Subcategory Tree_College & Career Prep, Early Development': 0.0, 'Project Subject Subcategory Tree_College & Career Prep, Economics': 0.0, 'Project Subject Subcategory Tree_College & Career Prep, Environmental Science': 0.0, 'Project Subject Subcategory Tree_College & Career Prep, Extracurricular': 0.0, 'Project Subject Subcategory Tree_College & Career Prep, Financial Literacy': 0.0, 'Project Subject Subcategory Tree_College & Career Prep, Foreign Languages': 0.0, 'Project Subject Subcategory Tree_College & Career Prep, Gym & Fitness': 0.0, 'Project Subject Subcategory Tree_College & Career Prep, Health & Life Science': 0.0, 'Project Subject Subcategory Tree_College & Career Prep, Health & Wellness': 0.0, 'Project Subject Subcategory Tree_College & Career Prep, History & Geography': 0.0, 'Project Subject Subcategory Tree_College & Career Prep, Literacy': 0.0, 'Project Subject Subcategory Tree_College & Career Prep, Mathematics': 0.0, 'Project Subject Subcategory Tree_College & Career Prep, Music': 0.0, 'Project Subject Subcategory Tree_College & Career Prep, Nutrition Education': 0.0, 'Project Subject Subcategory Tree_College & Career Prep, Other': 0.0, 'Project Subject Subcategory Tree_College & Career Prep, Parent Involvement': 0.0, 'Project Subject Subcategory Tree_College & Career Prep, Performing Arts': 0.0, 'Project Subject Subcategory Tree_College & Career Prep, Social Sciences': 0.0, 'Project Subject Subcategory Tree_College & Career Prep, Special Needs': 0.0, 'Project Subject Subcategory Tree_College & Career Prep, Team Sports': 0.0, 'Project Subject Subcategory Tree_College & Career Prep, Visual Arts': 0.0, 'Project Subject Subcategory Tree_College & Career Prep, Warmth, Care & Hunger': 0.0, 'Project Subject Subcategory Tree_Community Service': 0.0, 'Project Subject Subcategory Tree_Community Service, ESL': 0.0, 'Project Subject Subcategory Tree_Community Service, Early Development': 0.0, 'Project Subject Subcategory Tree_Community Service, Economics': 0.0, 'Project Subject Subcategory Tree_Community Service, Environmental Science': 0.0, 'Project Subject Subcategory Tree_Community Service, Extracurricular': 0.0, 'Project Subject Subcategory Tree_Community Service, Financial Literacy': 0.0, 'Project Subject Subcategory Tree_Community Service, Foreign Languages': 0.0, 'Project Subject Subcategory Tree_Community Service, Gym & Fitness': 0.0, 'Project Subject Subcategory Tree_Community Service, Health & Life Science': 0.0, 'Project Subject Subcategory Tree_Community Service, Health & Wellness': 0.0, 'Project Subject Subcategory Tree_Community Service, History & Geography': 0.0, 'Project Subject Subcategory Tree_Community Service, Literacy': 0.0, 'Project Subject Subcategory Tree_Community Service, Literature & Writing': 0.0, 'Project Subject Subcategory Tree_Community Service, Mathematics': 0.0, 'Project Subject Subcategory Tree_Community Service, Music': 0.0, 'Project Subject Subcategory Tree_Community Service, Nutrition Education': 0.0, 'Project Subject Subcategory Tree_Community Service, Other': 0.0, 'Project Subject Subcategory Tree_Community Service, Parent Involvement': 0.0, 'Project Subject Subcategory Tree_Community Service, Performing Arts': 0.0, 'Project Subject Subcategory Tree_Community Service, Social Sciences': 0.0, 'Project Subject Subcategory Tree_Community Service, Special Needs': 0.0, 'Project Subject Subcategory Tree_Community Service, Team Sports': 0.0, 'Project Subject Subcategory Tree_Community Service, Visual Arts': 0.0, 'Project Subject Subcategory Tree_Community Service, Warmth, Care & Hunger': 0.0, 'Project Subject Subcategory Tree_ESL': 0.0, 'Project Subject Subcategory Tree_ESL, Early Development': 0.0, 'Project Subject Subcategory Tree_ESL, Economics': 0.0, 'Project Subject Subcategory Tree_ESL, Environmental Science': 0.0, 'Project Subject Subcategory Tree_ESL, Extracurricular': 0.0, 'Project Subject Subcategory Tree_ESL, Financial Literacy': 0.0, 'Project Subject Subcategory Tree_ESL, Foreign Languages': 0.0, 'Project Subject Subcategory Tree_ESL, Gym & Fitness': 0.0, 'Project Subject Subcategory Tree_ESL, Health & Life Science': 0.0, 'Project Subject Subcategory Tree_ESL, Health & Wellness': 0.0, 'Project Subject Subcategory Tree_ESL, Mathematics': 0.0, 'Project Subject Subcategory Tree_ESL, Music': 0.0, 'Project Subject Subcategory Tree_ESL, Nutrition Education': 0.0, 'Project Subject Subcategory Tree_ESL, Other': 0.0, 'Project Subject Subcategory Tree_ESL, Parent Involvement': 0.0, 'Project Subject Subcategory Tree_ESL, Performing Arts': 0.0, 'Project Subject Subcategory Tree_ESL, Social Sciences': 0.0, 'Project Subject Subcategory Tree_ESL, Special Needs': 0.0, 'Project Subject Subcategory Tree_ESL, Team Sports': 0.0, 'Project Subject Subcategory Tree_ESL, Visual Arts': 0.0, 'Project Subject Subcategory Tree_ESL, Warmth, Care & Hunger': 0.0, 'Project Subject Subcategory Tree_Early Development, Economics': 0.0, 'Project Subject Subcategory Tree_Early Development, Environmental Science': 0.0, 'Project Subject Subcategory Tree_Early Development, Extracurricular': 0.0, 'Project Subject Subcategory Tree_Early Development, Financial Literacy': 0.0, 'Project Subject Subcategory Tree_Early Development, Foreign Languages': 0.0, 'Project Subject Subcategory Tree_Early Development, Gym & Fitness': 0.0, 'Project Subject Subcategory Tree_Early Development, Health & Life Science': 0.0, 'Project Subject Subcategory Tree_Early Development, History & Geography': 0.0, 'Project Subject Subcategory Tree_Early Development, Literature & Writing': 0.0, 'Project Subject Subcategory Tree_Early Development, Mathematics': 0.0, 'Project Subject Subcategory Tree_Early Development, Music': 0.0, 'Project Subject Subcategory Tree_Early Development, Nutrition Education': 0.0, 'Project Subject Subcategory Tree_Early Development, Other': 0.0, 'Project Subject Subcategory Tree_Early Development, Parent Involvement': 0.0, 'Project Subject Subcategory Tree_Early Development, Performing Arts': 0.0, 'Project Subject Subcategory Tree_Early Development, Social Sciences': 0.0, 'Project Subject Subcategory Tree_Early Development, Special Needs': 0.0, 'Project Subject Subcategory Tree_Early Development, Team Sports': 0.0, 'Project Subject Subcategory Tree_Early Development, Visual Arts': 0.0, 'Project Subject Subcategory Tree_Early Development, Warmth, Care & Hunger': 0.0, 'Project Subject Subcategory Tree_Economics': 0.0, 'Project Subject Subcategory Tree_Economics, Environmental Science': 0.0, 'Project Subject Subcategory Tree_Economics, Extracurricular': 0.0, 'Project Subject Subcategory Tree_Economics, Financial Literacy': 0.0, 'Project Subject Subcategory Tree_Economics, Foreign Languages': 0.0, 'Project Subject Subcategory Tree_Economics, Gym & Fitness': 0.0, 'Project Subject Subcategory Tree_Economics, Health & Life Science': 0.0, 'Project Subject Subcategory Tree_Economics, Health & Wellness': 0.0, 'Project Subject Subcategory Tree_Economics, History & Geography': 0.0, 'Project Subject Subcategory Tree_Economics, Literacy': 0.0, 'Project Subject Subcategory Tree_Economics, Literature & Writing': 0.0, 'Project Subject Subcategory Tree_Economics, Mathematics': 0.0, 'Project Subject Subcategory Tree_Economics, Music': 0.0, 'Project Subject Subcategory Tree_Economics, Nutrition Education': 0.0, 'Project Subject Subcategory Tree_Economics, Other': 0.0, 'Project Subject Subcategory Tree_Economics, Parent Involvement': 0.0, 'Project Subject Subcategory Tree_Economics, Performing Arts': 0.0, 'Project Subject Subcategory Tree_Economics, Social Sciences': 0.0, 'Project Subject Subcategory Tree_Economics, Special Needs': 0.0, 'Project Subject Subcategory Tree_Economics, Team Sports': 0.0, 'Project Subject Subcategory Tree_Economics, Visual Arts': 0.0, 'Project Subject Subcategory Tree_Environmental Science, Extracurricular': 0.0, 'Project Subject Subcategory Tree_Environmental Science, Financial Literacy': 0.0, 'Project Subject Subcategory Tree_Environmental Science, Foreign Languages': 0.0, 'Project Subject Subcategory Tree_Environmental Science, Gym & Fitness': 0.0, 'Project Subject Subcategory Tree_Environmental Science, Health & Wellness': 0.0, 'Project Subject Subcategory Tree_Environmental Science, History & Geography': 0.0, 'Project Subject Subcategory Tree_Environmental Science, Literature & Writing': 0.0, 'Project Subject Subcategory Tree_Environmental Science, Mathematics': 0.0, 'Project Subject Subcategory Tree_Environmental Science, Music': 0.0, 'Project Subject Subcategory Tree_Environmental Science, Nutrition Education': 0.0, 'Project Subject Subcategory Tree_Environmental Science, Other': 0.0, 'Project Subject Subcategory Tree_Environmental Science, Parent Involvement': 0.0, 'Project Subject Subcategory Tree_Environmental Science, Performing Arts': 0.0, 'Project Subject Subcategory Tree_Environmental Science, Social Sciences': 0.0, 'Project Subject Subcategory Tree_Environmental Science, Special Needs': 0.0, 'Project Subject Subcategory Tree_Environmental Science, Team Sports': 0.0, 'Project Subject Subcategory Tree_Environmental Science, Visual Arts': 0.0, 'Project Subject Subcategory Tree_Environmental Science, Warmth, Care & Hunger': 0.0, 'Project Subject Subcategory Tree_Extracurricular, Financial Literacy': 0.0, 'Project Subject Subcategory Tree_Extracurricular, Foreign Languages': 0.0, 'Project Subject Subcategory Tree_Extracurricular, Gym & Fitness': 0.0, 'Project Subject Subcategory Tree_Extracurricular, Health & Life Science': 0.0, 'Project Subject Subcategory Tree_Extracurricular, Health & Wellness': 0.0, 'Project Subject Subcategory Tree_Extracurricular, History & Geography': 0.0, 'Project Subject Subcategory Tree_Extracurricular, Literature & Writing': 0.0, 'Project Subject Subcategory Tree_Extracurricular, Mathematics': 0.0, 'Project Subject Subcategory Tree_Extracurricular, Music': 0.0, 'Project Subject Subcategory Tree_Extracurricular, Nutrition Education': 0.0, 'Project Subject Subcategory Tree_Extracurricular, Other': 0.0, 'Project Subject Subcategory Tree_Extracurricular, Parent Involvement': 0.0, 'Project Subject Subcategory Tree_Extracurricular, Performing Arts': 0.0, 'Project Subject Subcategory Tree_Extracurricular, Social Sciences': 0.0, 'Project Subject Subcategory Tree_Extracurricular, Special Needs': 0.0, 'Project Subject Subcategory Tree_Extracurricular, Team Sports': 0.0, 'Project Subject Subcategory Tree_Extracurricular, Visual Arts': 0.0, 'Project Subject Subcategory Tree_Extracurricular, Warmth, Care & Hunger': 0.0, 'Project Subject Subcategory Tree_Financial Literacy': 0.0, 'Project Subject Subcategory Tree_Financial Literacy, Foreign Languages': 0.0, 'Project Subject Subcategory Tree_Financial Literacy, Gym & Fitness': 0.0, 'Project Subject Subcategory Tree_Financial Literacy, Health & Life Science': 0.0, 'Project Subject Subcategory Tree_Financial Literacy, Health & Wellness': 0.0, 'Project Subject Subcategory Tree_Financial Literacy, History & Geography': 0.0, 'Project Subject Subcategory Tree_Financial Literacy, Literacy': 0.0, 'Project Subject Subcategory Tree_Financial Literacy, Literature & Writing': 0.0, 'Project Subject Subcategory Tree_Financial Literacy, Mathematics': 0.0, 'Project Subject Subcategory Tree_Financial Literacy, Music': 0.0, 'Project Subject Subcategory Tree_Financial Literacy, Nutrition Education': 0.0, 'Project Subject Subcategory Tree_Financial Literacy, Other': 0.0, 'Project Subject Subcategory Tree_Financial Literacy, Parent Involvement': 0.0, 'Project Subject Subcategory Tree_Financial Literacy, Performing Arts': 0.0, 'Project Subject Subcategory Tree_Financial Literacy, Social Sciences': 0.0, 'Project Subject Subcategory Tree_Financial Literacy, Special Needs': 0.0, 'Project Subject Subcategory Tree_Financial Literacy, Team Sports': 0.0, 'Project Subject Subcategory Tree_Financial Literacy, Visual Arts': 0.0, 'Project Subject Subcategory Tree_Financial Literacy, Warmth, Care & Hunger': 0.0, 'Project Subject Subcategory Tree_Foreign Languages': 0.0, 'Project Subject Subcategory Tree_Foreign Languages, Gym & Fitness': 0.0, 'Project Subject Subcategory Tree_Foreign Languages, Health & Life Science': 0.0, 'Project Subject Subcategory Tree_Foreign Languages, Health & Wellness': 0.0, 'Project Subject Subcategory Tree_Foreign Languages, History & Geography': 0.0, 'Project Subject Subcategory Tree_Foreign Languages, Literacy': 0.0, 'Project Subject Subcategory Tree_Foreign Languages, Literature & Writing': 0.0, 'Project Subject Subcategory Tree_Foreign Languages, Mathematics': 0.0, 'Project Subject Subcategory Tree_Foreign Languages, Music': 0.0, 'Project Subject Subcategory Tree_Foreign Languages, Nutrition Education': 0.0, 'Project Subject Subcategory Tree_Foreign Languages, Other': 0.0, 'Project Subject Subcategory Tree_Foreign Languages, Parent Involvement': 0.0, 'Project Subject Subcategory Tree_Foreign Languages, Performing Arts': 0.0, 'Project Subject Subcategory Tree_Foreign Languages, Social Sciences': 0.0, 'Project Subject Subcategory Tree_Foreign Languages, Special Needs': 0.0, 'Project Subject Subcategory Tree_Foreign Languages, Team Sports': 0.0, 'Project Subject Subcategory Tree_Foreign Languages, Visual Arts': 0.0, 'Project Subject Subcategory Tree_Gym & Fitness, Health & Life Science': 0.0, 'Project Subject Subcategory Tree_Gym & Fitness, Health & Wellness': 0.0, 'Project Subject Subcategory Tree_Gym & Fitness, History & Geography': 0.0, 'Project Subject Subcategory Tree_Gym & Fitness, Literacy': 0.0, 'Project Subject Subcategory Tree_Gym & Fitness, Literature & Writing': 0.0, 'Project Subject Subcategory Tree_Gym & Fitness, Mathematics': 0.0, 'Project Subject Subcategory Tree_Gym & Fitness, Music': 0.0, 'Project Subject Subcategory Tree_Gym & Fitness, Nutrition Education': 0.0, 'Project Subject Subcategory Tree_Gym & Fitness, Other': 0.0, 'Project Subject Subcategory Tree_Gym & Fitness, Parent Involvement': 0.0, 'Project Subject Subcategory Tree_Gym & Fitness, Performing Arts': 0.0, 'Project Subject Subcategory Tree_Gym & Fitness, Social Sciences': 0.0, 'Project Subject Subcategory Tree_Gym & Fitness, Special Needs': 0.0, 'Project Subject Subcategory Tree_Gym & Fitness, Visual Arts': 0.0, 'Project Subject Subcategory Tree_Gym & Fitness, Warmth, Care & Hunger': 0.0, 'Project Subject Subcategory Tree_Health & Life Science': 0.0, 'Project Subject Subcategory Tree_Health & Life Science, Health & Wellness': 0.0, 'Project Subject Subcategory Tree_Health & Life Science, History & Geography': 0.0, 'Project Subject Subcategory Tree_Health & Life Science, Literacy': 0.0, 'Project Subject Subcategory Tree_Health & Life Science, Mathematics': 0.0, 'Project Subject Subcategory Tree_Health & Life Science, Music': 0.0, 'Project Subject Subcategory Tree_Health & Life Science, Nutrition Education': 0.0, 'Project Subject Subcategory Tree_Health & Life Science, Other': 0.0, 'Project Subject Subcategory Tree_Health & Life Science, Parent Involvement': 0.0, 'Project Subject Subcategory Tree_Health & Life Science, Performing Arts': 0.0, 'Project Subject Subcategory Tree_Health & Life Science, Social Sciences': 0.0, 'Project Subject Subcategory Tree_Health & Life Science, Special Needs': 0.0, 'Project Subject Subcategory Tree_Health & Life Science, Team Sports': 0.0, 'Project Subject Subcategory Tree_Health & Life Science, Visual Arts': 0.0, 'Project Subject Subcategory Tree_Health & Life Science, Warmth, Care & Hunger': 0.0, 'Project Subject Subcategory Tree_Health & Wellness, History & Geography': 0.0, 'Project Subject Subcategory Tree_Health & Wellness, Literacy': 0.0, 'Project Subject Subcategory Tree_Health & Wellness, Literature & Writing': 0.0, 'Project Subject Subcategory Tree_Health & Wellness, Mathematics': 0.0, 'Project Subject Subcategory Tree_Health & Wellness, Music': 0.0, 'Project Subject Subcategory Tree_Health & Wellness, Nutrition Education': 0.0, 'Project Subject Subcategory Tree_Health & Wellness, Other': 0.0, 'Project Subject Subcategory Tree_Health & Wellness, Parent Involvement': 0.0, 'Project Subject Subcategory Tree_Health & Wellness, Performing Arts': 0.0, 'Project Subject Subcategory Tree_Health & Wellness, Social Sciences': 0.0, 'Project Subject Subcategory Tree_Health & Wellness, Special Needs': 0.0, 'Project Subject Subcategory Tree_Health & Wellness, Visual Arts': 0.0, 'Project Subject Subcategory Tree_Health & Wellness, Warmth, Care & Hunger': 0.0, 'Project Subject Subcategory Tree_History & Geography': 0.0, 'Project Subject Subcategory Tree_History & Geography, Literacy': 0.0, 'Project Subject Subcategory Tree_History & Geography, Mathematics': 0.0, 'Project Subject Subcategory Tree_History & Geography, Music': 0.0, 'Project Subject Subcategory Tree_History & Geography, Nutrition Education': 0.0, 'Project Subject Subcategory Tree_History & Geography, Other': 0.0, 'Project Subject Subcategory Tree_History & Geography, Parent Involvement': 0.0, 'Project Subject Subcategory Tree_History & Geography, Performing Arts': 0.0, 'Project Subject Subcategory Tree_History & Geography, Social Sciences': 0.0, 'Project Subject Subcategory Tree_History & Geography, Special Needs': 0.0, 'Project Subject Subcategory Tree_History & Geography, Team Sports': 0.0, 'Project Subject Subcategory Tree_History & Geography, Visual Arts': 0.0, 'Project Subject Subcategory Tree_History & Geography, Warmth, Care & Hunger': 0.0, 'Project Subject Subcategory Tree_Literacy, Nutrition Education': 0.0, 'Project Subject Subcategory Tree_Literacy, Other': 0.0, 'Project Subject Subcategory Tree_Literacy, Parent Involvement': 0.0, 'Project Subject Subcategory Tree_Literacy, Team Sports': 0.0, 'Project Subject Subcategory Tree_Literacy, Warmth, Care & Hunger': 0.0, 'Project Subject Subcategory Tree_Literature & Writing, Music': 0.0, 'Project Subject Subcategory Tree_Literature & Writing, Nutrition Education': 0.0, 'Project Subject Subcategory Tree_Literature & Writing, Other': 0.0, 'Project Subject Subcategory Tree_Literature & Writing, Parent Involvement': 0.0, 'Project Subject Subcategory Tree_Literature & Writing, Performing Arts': 0.0, 'Project Subject Subcategory Tree_Literature & Writing, Social Sciences': 0.0, 'Project Subject Subcategory Tree_Literature & Writing, Team Sports': 0.0, 'Project Subject Subcategory Tree_Literature & Writing, Warmth, Care & Hunger': 0.0, 'Project Subject Subcategory Tree_Mathematics, Music': 0.0, 'Project Subject Subcategory Tree_Mathematics, Nutrition Education': 0.0, 'Project Subject Subcategory Tree_Mathematics, Other': 0.0, 'Project Subject Subcategory Tree_Mathematics, Performing Arts': 0.0, 'Project Subject Subcategory Tree_Mathematics, Social Sciences': 0.0, 'Project Subject Subcategory Tree_Mathematics, Team Sports': 0.0, 'Project Subject Subcategory Tree_Mathematics, Visual Arts': 0.0, 'Project Subject Subcategory Tree_Mathematics, Warmth, Care & Hunger': 0.0, 'Project Subject Subcategory Tree_Music': 0.0, 'Project Subject Subcategory Tree_Music, Nutrition Education': 0.0, 'Project Subject Subcategory Tree_Music, Other': 0.0, 'Project Subject Subcategory Tree_Music, Parent Involvement': 0.0, 'Project Subject Subcategory Tree_Music, Performing Arts': 0.0, 'Project Subject Subcategory Tree_Music, Social Sciences': 0.0, 'Project Subject Subcategory Tree_Music, Special Needs': 0.0, 'Project Subject Subcategory Tree_Music, Team Sports': 0.0, 'Project Subject Subcategory Tree_Music, Visual Arts': 0.0, 'Project Subject Subcategory Tree_Nutrition Education': 0.0, 'Project Subject Subcategory Tree_Nutrition Education, Other': 0.0, 'Project Subject Subcategory Tree_Nutrition Education, Parent Involvement': 0.0, 'Project Subject Subcategory Tree_Nutrition Education, Performing Arts': 0.0, 'Project Subject Subcategory Tree_Nutrition Education, Social Sciences': 0.0, 'Project Subject Subcategory Tree_Nutrition Education, Special Needs': 0.0, 'Project Subject Subcategory Tree_Nutrition Education, Team Sports': 0.0, 'Project Subject Subcategory Tree_Nutrition Education, Visual Arts': 0.0, 'Project Subject Subcategory Tree_Nutrition Education, Warmth, Care & Hunger': 0.0, 'Project Subject Subcategory Tree_Other': 0.0, 'Project Subject Subcategory Tree_Other, Parent Involvement': 0.0, 'Project Subject Subcategory Tree_Other, Performing Arts': 0.0, 'Project Subject Subcategory Tree_Other, Social Sciences': 0.0, 'Project Subject Subcategory Tree_Other, Special Needs': 0.0, 'Project Subject Subcategory Tree_Other, Team Sports': 0.0, 'Project Subject Subcategory Tree_Other, Visual Arts': 0.0, 'Project Subject Subcategory Tree_Other, Warmth, Care & Hunger': 0.0, 'Project Subject Subcategory Tree_Parent Involvement': 0.0, 'Project Subject Subcategory Tree_Parent Involvement, Performing Arts': 0.0, 'Project Subject Subcategory Tree_Parent Involvement, Social Sciences': 0.0, 'Project Subject Subcategory Tree_Parent Involvement, Special Needs': 0.0, 'Project Subject Subcategory Tree_Parent Involvement, Team Sports': 0.0, 'Project Subject Subcategory Tree_Parent Involvement, Visual Arts': 0.0, 'Project Subject Subcategory Tree_Parent Involvement, Warmth, Care & Hunger': 0.0, 'Project Subject Subcategory Tree_Performing Arts': 0.0, 'Project Subject Subcategory Tree_Performing Arts, Social Sciences': 0.0, 'Project Subject Subcategory Tree_Performing Arts, Special Needs': 0.0, 'Project Subject Subcategory Tree_Performing Arts, Team Sports': 0.0, 'Project Subject Subcategory Tree_Performing Arts, Visual Arts': 0.0, 'Project Subject Subcategory Tree_Social Sciences': 0.0, 'Project Subject Subcategory Tree_Social Sciences, Special Needs': 0.0, 'Project Subject Subcategory Tree_Social Sciences, Team Sports': 0.0, 'Project Subject Subcategory Tree_Social Sciences, Visual Arts': 0.0, 'Project Subject Subcategory Tree_Social Sciences, Warmth, Care & Hunger': 0.0, 'Project Subject Subcategory Tree_Special Needs, Team Sports': 0.0, 'Project Subject Subcategory Tree_Special Needs, Warmth, Care & Hunger': 0.0, 'Project Subject Subcategory Tree_Team Sports': 0.0, 'Project Subject Subcategory Tree_Team Sports, Visual Arts': 0.0, 'Project Subject Subcategory Tree_Unknown': 0.0, 'Project Subject Subcategory Tree_Visual Arts, Warmth, Care & Hunger': 0.0, 'Project Subject Subcategory Tree_Warmth, Care & Hunger': 0.0}, 'School County Success Rate': 4.2482024859396006e-05, 'School County Success Rate Imputed': 0.0, 'Project Type': {'Project Type_Professional Development': 0.0, 'Project Type_Student-Led': 0.0, 'Project Type_Teacher-Led': 0.0}}\n"
     ]
    }
   ],
   "source": [
    "feature_space_with_importance = {}\n",
    "\n",
    "for feature , important_score in  project_explanation:\n",
    "    if len(feature.split(\"_\")) == 1:\n",
    "        feature_space_with_importance[feature.split(\"_\")[0]] = important_score\n",
    "        \n",
    "    elif feature.split(\"_\")[0] in feature_space_with_importance.keys():\n",
    "        feature_space_with_importance[feature.split(\"_\")[0]][feature]=  important_score\n",
    "    else:\n",
    "        feature_space_with_importance[feature.split(\"_\")[0]]= {}\n",
    "        feature_space_with_importance[feature.split(\"_\")[0]][feature]=  important_score\n",
    "        \n",
    "# compacted_explanation = []\n",
    "# for feature in compacted_features.keys():\n",
    "#     #! duplicate keys\n",
    "#     compacted_explanation.append([feature, max(compacted_features[feature], key= lambda x : abs(x))])\n",
    "\n",
    "print(feature_space_with_importance)"
   ]
  },
  {
   "cell_type": "code",
   "execution_count": 30,
   "id": "d14cdb04",
   "metadata": {
    "scrolled": false
   },
   "outputs": [],
   "source": [
    "# feature_space_with_importance"
   ]
  },
  {
   "cell_type": "markdown",
   "id": "a6c101b3",
   "metadata": {},
   "source": [
    "### Activated feature dictionary"
   ]
  },
  {
   "cell_type": "code",
   "execution_count": 31,
   "id": "05018d76",
   "metadata": {},
   "outputs": [],
   "source": [
    "activated_features = {}\n",
    "for feature in config.CATEGORICAL_COLS:\n",
    "    activated_features[feature] = f\"{feature}_{raw_data[raw_data['Project ID'] == 'cdc83b2eb031d999c123535bf09d24a0' ][feature].values[0]}\""
   ]
  },
  {
   "cell_type": "code",
   "execution_count": 32,
   "id": "df6adb61",
   "metadata": {},
   "outputs": [],
   "source": [
    "\n",
    "from compactor.ActivatedCompactor import ActivatedCompactor\n",
    "\n"
   ]
  },
  {
   "cell_type": "code",
   "execution_count": 33,
   "id": "95969496",
   "metadata": {},
   "outputs": [
    {
     "data": {
      "text/plain": [
       "[['Project Cost', -0.02602504681196933],\n",
       " ['School State_Mississippi', -0.00031287878246075704],\n",
       " ['School Success Rate', -0.017505583778207667],\n",
       " ['Project Resource Category_Technology', -0.006742306857236144],\n",
       " ['Project Posted Month', 0.006214428558841974],\n",
       " ['Teacher Project Posted Sequence', -0.004799128680804188],\n",
       " ['Teacher Success Rate', 0.004406902267389796],\n",
       " ['Project Count in State', -0.00336914051841859],\n",
       " ['Teacher Success Rate Imputed', -0.002817042707292785],\n",
       " ['School Percentage Free Lunch', 0.002125179466502232],\n",
       " ['Teacher Prefix_Mrs.', -0.00024137083285950212],\n",
       " ['School Metro Type_unknown', -0.0002933678690078523],\n",
       " ['School City Success Rate', -0.0008568011747343007],\n",
       " ['School Success Rate Imputed', -0.00025358081345757457],\n",
       " ['Project Subject Category Tree_Math & Science', -6.766490165318828e-05],\n",
       " ['Project Grade Level Category_Grades PreK-2', 0.00013671097005499178],\n",
       " ['School City Success Rate Imputed', -0.00022143448928545694],\n",
       " ['Project Subject Subcategory Tree_Mathematics', 1.8585182770038954e-05],\n",
       " ['School County Success Rate', 4.2482024859396006e-05],\n",
       " ['School County Success Rate Imputed', 0.0],\n",
       " ['Project Type_Teacher-Led', 0.0]]"
      ]
     },
     "execution_count": 33,
     "metadata": {},
     "output_type": "execute_result"
    }
   ],
   "source": [
    "ActivatedCompactor(activated_features).compact(feature_space_with_importance)"
   ]
  },
  {
   "cell_type": "markdown",
   "id": "72b140e8",
   "metadata": {},
   "source": [
    "### Max abs Compact"
   ]
  },
  {
   "cell_type": "markdown",
   "id": "084a03d6",
   "metadata": {},
   "source": [
    "Take all the sub features and take the higher importance score as the score for parent feature"
   ]
  },
  {
   "cell_type": "code",
   "execution_count": 34,
   "id": "9345d140",
   "metadata": {},
   "outputs": [],
   "source": [
    "compacted_feature_abs_max = []\n",
    "\n",
    "for parent_feature, children_space in feature_space_with_importance.items():\n",
    "    if parent_feature in config.CATEGORICAL_COLS:\n",
    "        compacted_feature_abs_max.append([parent_feature,  max(children_space.values(), key= lambda x : abs(x))])\n",
    "    else:\n",
    "        compacted_feature_abs_max.append([parent_feature, feature_space_with_importance[parent_feature]])"
   ]
  },
  {
   "cell_type": "code",
   "execution_count": 35,
   "id": "1d86e164",
   "metadata": {},
   "outputs": [
    {
     "data": {
      "text/plain": [
       "[['Project Cost', -0.02602504681196933],\n",
       " ['School State', -0.02180424855480396],\n",
       " ['School Success Rate', -0.017505583778207667],\n",
       " ['Project Resource Category', -0.006742306857236144],\n",
       " ['Project Posted Month', 0.006214428558841974],\n",
       " ['Teacher Project Posted Sequence', -0.004799128680804188],\n",
       " ['Teacher Success Rate', 0.004406902267389796],\n",
       " ['Project Count in State', -0.00336914051841859],\n",
       " ['Teacher Success Rate Imputed', -0.002817042707292785],\n",
       " ['School Percentage Free Lunch', 0.002125179466502232],\n",
       " ['Teacher Prefix', -0.0017303964151915352],\n",
       " ['School Metro Type', -0.0010255550905412746],\n",
       " ['School City Success Rate', -0.0008568011747343007],\n",
       " ['School Success Rate Imputed', -0.00025358081345757457],\n",
       " ['Project Subject Category Tree', -0.00025057993518544207],\n",
       " ['Project Grade Level Category', -0.0002342117682837852],\n",
       " ['School City Success Rate Imputed', -0.00022143448928545694],\n",
       " ['Project Subject Subcategory Tree', -8.532835632649948e-05],\n",
       " ['School County Success Rate', 4.2482024859396006e-05],\n",
       " ['School County Success Rate Imputed', 0.0],\n",
       " ['Project Type', 0.0]]"
      ]
     },
     "execution_count": 35,
     "metadata": {},
     "output_type": "execute_result"
    }
   ],
   "source": [
    "compacted_feature_abs_max"
   ]
  },
  {
   "cell_type": "markdown",
   "id": "b1afde10",
   "metadata": {},
   "source": []
  },
  {
   "cell_type": "code",
   "execution_count": 36,
   "id": "4c275e7f",
   "metadata": {},
   "outputs": [
    {
     "data": {
      "text/plain": [
       "[['Project Cost', -0.02602504681196933],\n",
       " ['School State', -0.02180424855480396],\n",
       " ['School Success Rate', -0.017505583778207667],\n",
       " ['Project Resource Category', -0.006742306857236144],\n",
       " ['Project Posted Month', 0.006214428558841974],\n",
       " ['Teacher Project Posted Sequence', -0.004799128680804188],\n",
       " ['Teacher Success Rate', 0.004406902267389796],\n",
       " ['Project Count in State', -0.00336914051841859],\n",
       " ['Teacher Success Rate Imputed', -0.002817042707292785],\n",
       " ['School Percentage Free Lunch', 0.002125179466502232],\n",
       " ['Teacher Prefix', -0.0017303964151915352],\n",
       " ['School Metro Type', -0.0010255550905412746],\n",
       " ['School City Success Rate', -0.0008568011747343007],\n",
       " ['School Success Rate Imputed', -0.00025358081345757457],\n",
       " ['Project Subject Category Tree', -0.00025057993518544207],\n",
       " ['Project Grade Level Category', -0.0002342117682837852],\n",
       " ['School City Success Rate Imputed', -0.00022143448928545694],\n",
       " ['Project Subject Subcategory Tree', -8.532835632649948e-05],\n",
       " ['School County Success Rate', 4.2482024859396006e-05],\n",
       " ['School County Success Rate Imputed', 0.0],\n",
       " ['Project Type', 0.0]]"
      ]
     },
     "execution_count": 36,
     "metadata": {},
     "output_type": "execute_result"
    }
   ],
   "source": [
    "\n",
    "from compactor.MaxCompactor import MaxCompactor\n",
    "MaxCompactor(config.CATEGORICAL_COLS).compact(feature_space_with_importance)"
   ]
  },
  {
   "cell_type": "markdown",
   "id": "0f34ffde",
   "metadata": {},
   "source": [
    "### Activated feature compact: Take the important feature score of the activated feature as the score for parent feature"
   ]
  },
  {
   "cell_type": "markdown",
   "id": "f7f63b14",
   "metadata": {},
   "source": [
    "Take all the sub features and take the higher importance score as the score for parent feature"
   ]
  },
  {
   "cell_type": "code",
   "execution_count": 37,
   "id": "c3397003",
   "metadata": {},
   "outputs": [
    {
     "data": {
      "text/plain": [
       "[['Project Cost', -0.02602504681196933],\n",
       " ['School State_Mississippi', -0.00031287878246075704],\n",
       " ['School Success Rate', -0.017505583778207667],\n",
       " ['Project Resource Category_Technology', -0.006742306857236144],\n",
       " ['Project Posted Month', 0.006214428558841974],\n",
       " ['Teacher Project Posted Sequence', -0.004799128680804188],\n",
       " ['Teacher Success Rate', 0.004406902267389796],\n",
       " ['Project Count in State', -0.00336914051841859],\n",
       " ['Teacher Success Rate Imputed', -0.002817042707292785],\n",
       " ['School Percentage Free Lunch', 0.002125179466502232],\n",
       " ['Teacher Prefix_Mrs.', -0.00024137083285950212],\n",
       " ['School Metro Type_unknown', -0.0002933678690078523],\n",
       " ['School City Success Rate', -0.0008568011747343007],\n",
       " ['School Success Rate Imputed', -0.00025358081345757457],\n",
       " ['Project Subject Category Tree_Math & Science', -6.766490165318828e-05],\n",
       " ['Project Grade Level Category_Grades PreK-2', 0.00013671097005499178],\n",
       " ['School City Success Rate Imputed', -0.00022143448928545694],\n",
       " ['Project Subject Subcategory Tree_Mathematics', 1.8585182770038954e-05],\n",
       " ['School County Success Rate', 4.2482024859396006e-05],\n",
       " ['School County Success Rate Imputed', 0.0],\n",
       " ['Project Type_Teacher-Led', 0.0]]"
      ]
     },
     "execution_count": 37,
     "metadata": {},
     "output_type": "execute_result"
    }
   ],
   "source": [
    "\n",
    "from compactor.ActivatedCompactor import ActivatedCompactor\n",
    "ActivatedCompactor(activated_features).compact(feature_space_with_importance)"
   ]
  },
  {
   "cell_type": "code",
   "execution_count": 38,
   "id": "16601ea0",
   "metadata": {},
   "outputs": [
    {
     "data": {
      "text/plain": [
       "{'Project Type': 'Project Type_Teacher-Led',\n",
       " 'Project Subject Category Tree': 'Project Subject Category Tree_Math & Science',\n",
       " 'Project Subject Subcategory Tree': 'Project Subject Subcategory Tree_Mathematics',\n",
       " 'Project Grade Level Category': 'Project Grade Level Category_Grades PreK-2',\n",
       " 'Project Resource Category': 'Project Resource Category_Technology',\n",
       " 'School Metro Type': 'School Metro Type_unknown',\n",
       " 'School State': 'School State_Mississippi',\n",
       " 'Teacher Prefix': 'Teacher Prefix_Mrs.'}"
      ]
     },
     "execution_count": 38,
     "metadata": {},
     "output_type": "execute_result"
    }
   ],
   "source": [
    "activated_features"
   ]
  },
  {
   "cell_type": "code",
   "execution_count": 39,
   "id": "554cb556",
   "metadata": {},
   "outputs": [
    {
     "data": {
      "text/plain": [
       "'School State_Mississippi'"
      ]
     },
     "execution_count": 39,
     "metadata": {},
     "output_type": "execute_result"
    }
   ],
   "source": [
    "activated_features[\"School State\"]"
   ]
  },
  {
   "cell_type": "code",
   "execution_count": 40,
   "id": "358d5b4d",
   "metadata": {},
   "outputs": [
    {
     "name": "stdout",
     "output_type": "stream",
     "text": [
      "[['Project Cost', -0.02602504681196933], ['School State', -0.00031287878246075704], ['School Success Rate', -0.017505583778207667], ['Project Resource Category', -0.006742306857236144], ['Project Posted Month', 0.006214428558841974], ['Teacher Project Posted Sequence', -0.004799128680804188], ['Teacher Success Rate', 0.004406902267389796], ['Project Count in State', -0.00336914051841859], ['Teacher Success Rate Imputed', -0.002817042707292785], ['School Percentage Free Lunch', 0.002125179466502232], ['Teacher Prefix', -0.00024137083285950212], ['School Metro Type', -0.0002933678690078523], ['School City Success Rate', -0.0008568011747343007], ['School Success Rate Imputed', -0.00025358081345757457], ['Project Subject Category Tree', -6.766490165318828e-05], ['Project Grade Level Category', 0.00013671097005499178], ['School City Success Rate Imputed', -0.00022143448928545694], ['Project Subject Subcategory Tree', 1.8585182770038954e-05], ['School County Success Rate', 4.2482024859396006e-05], ['School County Success Rate Imputed', 0.0], ['Project Type', 0.0]]\n"
     ]
    }
   ],
   "source": [
    "compacted_project_explanation_activated_importance =[]\n",
    "\n",
    "for parent_feature in feature_space_with_importance.keys():\n",
    "    if parent_feature in activated_features.keys():\n",
    "        compacted_project_explanation_activated_importance.append([parent_feature,feature_space_with_importance[parent_feature][activated_features[parent_feature]]])\n",
    "    else:\n",
    "        compacted_project_explanation_activated_importance.append([parent_feature,feature_space_with_importance[parent_feature]])\n",
    "\n",
    "print(compacted_project_explanation_activated_importance)"
   ]
  },
  {
   "cell_type": "markdown",
   "id": "57331320",
   "metadata": {},
   "source": [
    "### Not Activated feature compact: Take the important feature score of abs max of the activated feature as the score for parent feature"
   ]
  },
  {
   "cell_type": "markdown",
   "id": "c1700eb4",
   "metadata": {},
   "source": [
    "Take all the sub features and take the higher importance score as the score for parent feature"
   ]
  },
  {
   "cell_type": "code",
   "execution_count": 41,
   "id": "dd5242e7",
   "metadata": {},
   "outputs": [
    {
     "name": "stdout",
     "output_type": "stream",
     "text": [
      "[['Project Cost', -0.02602504681196933], ['School State', -0.02180424855480396], ['School Success Rate', -0.017505583778207667], ['Project Resource Category', 0.0028691998338661053], ['Project Posted Month', 0.006214428558841974], ['Teacher Project Posted Sequence', -0.004799128680804188], ['Teacher Success Rate', 0.004406902267389796], ['Project Count in State', -0.00336914051841859], ['Teacher Success Rate Imputed', -0.002817042707292785], ['School Percentage Free Lunch', 0.002125179466502232], ['Teacher Prefix', -0.0017303964151915352], ['School Metro Type', -0.0010255550905412746], ['School City Success Rate', -0.0008568011747343007], ['School Success Rate Imputed', -0.00025358081345757457], ['Project Subject Category Tree', -0.00025057993518544207], ['Project Grade Level Category', -0.0002342117682837852], ['School City Success Rate Imputed', -0.00022143448928545694], ['Project Subject Subcategory Tree', -8.532835632649948e-05], ['School County Success Rate', 4.2482024859396006e-05], ['School County Success Rate Imputed', 0.0], ['Project Type', 0]]\n"
     ]
    }
   ],
   "source": [
    "from compactor.MaxNonActivatedCompactor import MaxNonActivatedCompactor\n",
    "print(MaxNonActivatedCompactor(activated_features).compact(feature_space_with_importance))"
   ]
  },
  {
   "cell_type": "code",
   "execution_count": 42,
   "id": "049b9031",
   "metadata": {},
   "outputs": [
    {
     "name": "stdout",
     "output_type": "stream",
     "text": [
      "[['Project Cost', -0.02602504681196933], ['School State', -0.02180424855480396], ['School Success Rate', -0.017505583778207667], ['Project Resource Category', 0.0028691998338661053], ['Project Posted Month', 0.006214428558841974], ['Teacher Project Posted Sequence', -0.004799128680804188], ['Teacher Success Rate', 0.004406902267389796], ['Project Count in State', -0.00336914051841859], ['Teacher Success Rate Imputed', -0.002817042707292785], ['School Percentage Free Lunch', 0.002125179466502232], ['Teacher Prefix', -0.0017303964151915352], ['School Metro Type', -0.0010255550905412746], ['School City Success Rate', -0.0008568011747343007], ['School Success Rate Imputed', -0.00025358081345757457], ['Project Subject Category Tree', -0.00025057993518544207], ['Project Grade Level Category', -0.0002342117682837852], ['School City Success Rate Imputed', -0.00022143448928545694], ['Project Subject Subcategory Tree', -8.532835632649948e-05], ['School County Success Rate', 4.2482024859396006e-05], ['School County Success Rate Imputed', 0.0], ['Project Type', 0]]\n"
     ]
    }
   ],
   "source": [
    "project_explanation_non_activated_max =[]\n",
    "\n",
    "for parent_feature in feature_space_with_importance.keys():\n",
    "    if parent_feature in config.CATEGORICAL_COLS:\n",
    "        max_importance = 0\n",
    "        for feature, importance in feature_space_with_importance[parent_feature].items():\n",
    "            if feature != activated_features[parent_feature] and abs(importance) > abs(max_importance) :\n",
    "                max_importance = importance\n",
    "                \n",
    "        project_explanation_non_activated_max.append([parent_feature,max_importance])\n",
    "        \n",
    "    else:\n",
    "        project_explanation_non_activated_max.append([parent_feature,feature_space_with_importance[parent_feature]])\n",
    "        \n",
    "print(project_explanation_non_activated_max)"
   ]
  },
  {
   "cell_type": "markdown",
   "id": "3d501195",
   "metadata": {},
   "source": [
    "Take the project explanations --> feature A_1 : s1, feature A_2: s2, feature A_4: s3, feature A_4: s4 ....\n",
    "\n",
    "Group the explanations based on max score --> feature A_1 : s1, feature A_2: s2, feature A_4: s3, feature A_4: s4 .... --> \n",
    "                            fature A : s = max (abs(s1, s2, s3 s4 ...))\n",
    "                            \n",
    "\n",
    "Take the explanation for a project  and Take feature space of the project, multply both and take the some\n",
    "Group the explanations based on max score --> feature A_1 : s1, feature A_2: s2, feature A_4: s3, feature A_4: s4 .... --> \n",
    "                            fature A : s =  (s1, s2, s3 s4 ...) * ( 1, 0, 0 , 0, .. )\n",
    "                            \n",
    "                            \n",
    "                            \n",
    "                            "
   ]
  },
  {
   "cell_type": "code",
   "execution_count": 43,
   "id": "1d06f739",
   "metadata": {
    "scrolled": false
   },
   "outputs": [],
   "source": [
    "# break"
   ]
  },
  {
   "cell_type": "code",
   "execution_count": 44,
   "id": "4a4b207a",
   "metadata": {},
   "outputs": [],
   "source": [
    "from compactor.MaxCompactor import MaxCompactor"
   ]
  },
  {
   "cell_type": "markdown",
   "id": "67b278f9",
   "metadata": {},
   "source": [
    "### Let's say i am considering the first explanation in the treeshap and the first explanation in the lime with compacted feature space.\n",
    "\n",
    "The explanation pertains to the projects considered high critical according to the model's evaluation."
   ]
  },
  {
   "cell_type": "markdown",
   "id": "40f22016",
   "metadata": {},
   "source": [
    "### Compact based on Max absolute value"
   ]
  },
  {
   "cell_type": "code",
   "execution_count": 45,
   "id": "16d3ca67",
   "metadata": {},
   "outputs": [],
   "source": [
    "disagreement = Disagreement(explanations[\"fold0\"][\"treeshap\"][\"top\"][\"cdc83b2eb031d999c123535bf09d24a0\"], explanations[\"fold0\"][\"lime\"][\"top\"][\"cdc83b2eb031d999c123535bf09d24a0\"])"
   ]
  },
  {
   "cell_type": "code",
   "execution_count": 46,
   "id": "2b2ea714",
   "metadata": {},
   "outputs": [
    {
     "name": "stdout",
     "output_type": "stream",
     "text": [
      "0.05\n"
     ]
    }
   ],
   "source": [
    "print(disagreement.get_rank_agreement(20))"
   ]
  },
  {
   "cell_type": "code",
   "execution_count": 47,
   "id": "925596ea",
   "metadata": {},
   "outputs": [
    {
     "data": {
      "text/plain": [
       "[['Project Cost', 0.05714906222884565],\n",
       " ['School State_Mississippi', 0.041025607910487455],\n",
       " ['Project Resource Category_Technology', 0.022928445398821395],\n",
       " ['Teacher Project Posted Sequence', 0.017752762721138425],\n",
       " ['School City Success Rate', 0.017585039435300587],\n",
       " ['School Success Rate', 0.014126902513215783],\n",
       " ['Teacher Success Rate', 0.009001123399286826],\n",
       " ['Teacher Success Rate Imputed', 0.0075924428426549185],\n",
       " ['School County Success Rate', 0.005877010966310081],\n",
       " ['Project Count in State', 0.003946468204571829],\n",
       " ['Project Resource Category_Books', 0.0035422505235283095],\n",
       " ['School Metro Type_unknown', 0.003488676856704842],\n",
       " ['Project Resource Category_Supplies', 0.0033089717177392686],\n",
       " ['Project Posted Month', 0.0028910216754434257],\n",
       " ['School Percentage Free Lunch', 0.0027158185248663358],\n",
       " ['Project Subject Subcategory Tree_Mathematics', 0.002388253706089927],\n",
       " ['Project Subject Category Tree_Math & Science', 0.0022903894063142616],\n",
       " ['Teacher Prefix_Ms.', 0.0016874724042918387],\n",
       " ['Project Grade Level Category_Grades PreK-2', -0.001054697545991985],\n",
       " ['School State_New York', -0.0009630994266080961]]"
      ]
     },
     "execution_count": 47,
     "metadata": {},
     "output_type": "execute_result"
    }
   ],
   "source": [
    "disagreement.sorted_explanation1[:20]"
   ]
  },
  {
   "cell_type": "code",
   "execution_count": 48,
   "id": "ffe70a0f",
   "metadata": {},
   "outputs": [
    {
     "data": {
      "text/plain": [
       "[['Project Cost', 0.05828515065993562],\n",
       " ['School State_New Mexico', -0.04561995832431883],\n",
       " ['Project Subject Subcategory Tree_Mathematics, Performing Arts',\n",
       "  -0.03652875725130923],\n",
       " ['School State_Mississippi', 0.03525123751671513],\n",
       " ['School State_Nebraska', -0.030140219371630757],\n",
       " ['Project Subject Subcategory Tree_Economics, Performing Arts',\n",
       "  0.028696205307718412],\n",
       " ['Project Subject Subcategory Tree_College & Career Prep, Environmental Science',\n",
       "  0.025975377818970764],\n",
       " ['School State_Oregon', 0.02477959436814468],\n",
       " ['Project Subject Subcategory Tree_ESL, Performing Arts',\n",
       "  0.024418609316633387],\n",
       " ['Project Resource Category_Technology', 0.02412976165593627],\n",
       " ['Project Subject Subcategory Tree_Character Education, Social Sciences',\n",
       "  -0.023669453164068096],\n",
       " ['Project Subject Category Tree_Health & Sports, Math & Science',\n",
       "  -0.023382474876373693],\n",
       " ['Project Subject Subcategory Tree_Other, Social Sciences',\n",
       "  0.023007167202545663],\n",
       " ['School State_Missouri', -0.02271869552126897],\n",
       " ['Project Subject Subcategory Tree_Early Development, Environmental Science',\n",
       "  -0.022709285230336752],\n",
       " ['Project Subject Subcategory Tree_Community Service, Extracurricular',\n",
       "  -0.02194703678332285],\n",
       " ['Project Subject Subcategory Tree_Character Education, Civics & Government',\n",
       "  -0.020616315850737355],\n",
       " ['Project Subject Subcategory Tree_Civics & Government, Community Service',\n",
       "  -0.020559947692224117],\n",
       " ['Project Subject Subcategory Tree_Foreign Languages, Health & Wellness',\n",
       "  -0.020440728560850788],\n",
       " ['Project Subject Subcategory Tree_Early Development, Health & Life Science',\n",
       "  -0.020335872198160646]]"
      ]
     },
     "execution_count": 48,
     "metadata": {},
     "output_type": "execute_result"
    }
   ],
   "source": [
    "disagreement.sorted_explanation2[:20]"
   ]
  },
  {
   "cell_type": "code",
   "execution_count": 49,
   "id": "2891ecd6",
   "metadata": {},
   "outputs": [],
   "source": [
    "max_compactor = MaxCompactor(config.CATEGORICAL_COLS)"
   ]
  },
  {
   "cell_type": "code",
   "execution_count": 50,
   "id": "659d0001",
   "metadata": {},
   "outputs": [],
   "source": [
    "disagreement.compact_features(max_compactor)"
   ]
  },
  {
   "cell_type": "code",
   "execution_count": 51,
   "id": "db14144c",
   "metadata": {},
   "outputs": [
    {
     "data": {
      "text/plain": [
       "[['Project Cost', 0.05714906222884565],\n",
       " ['School State', 0.041025607910487455],\n",
       " ['Project Resource Category', 0.022928445398821395],\n",
       " ['Teacher Project Posted Sequence', 0.017752762721138425],\n",
       " ['School City Success Rate', 0.017585039435300587],\n",
       " ['School Success Rate', 0.014126902513215783],\n",
       " ['Teacher Success Rate', 0.009001123399286826],\n",
       " ['Teacher Success Rate Imputed', 0.0075924428426549185],\n",
       " ['School County Success Rate', 0.005877010966310081],\n",
       " ['Project Count in State', 0.003946468204571829],\n",
       " ['School Metro Type', 0.003488676856704842],\n",
       " ['Project Posted Month', 0.0028910216754434257],\n",
       " ['School Percentage Free Lunch', 0.0027158185248663358],\n",
       " ['Project Subject Subcategory Tree', 0.002388253706089927],\n",
       " ['Project Subject Category Tree', 0.0022903894063142616],\n",
       " ['Teacher Prefix', 0.0016874724042918387],\n",
       " ['Project Grade Level Category', -0.001054697545991985],\n",
       " ['School Success Rate Imputed', -0.0007291512318624882],\n",
       " ['School City Success Rate Imputed', -0.00014314810375253727],\n",
       " ['School County Success Rate Imputed', 0.0],\n",
       " ['Project Type', 0.0]]"
      ]
     },
     "execution_count": 51,
     "metadata": {},
     "output_type": "execute_result"
    }
   ],
   "source": [
    "disagreement.sorted_explanation1"
   ]
  },
  {
   "cell_type": "code",
   "execution_count": 52,
   "id": "9070d3df",
   "metadata": {},
   "outputs": [
    {
     "data": {
      "text/plain": [
       "{'feature_agreement': 0.95,\n",
       " 'rank_agreement': 0.1,\n",
       " 'sign_agreement': 0.7,\n",
       " 'signed_rank_agreement': 0.05}"
      ]
     },
     "execution_count": 52,
     "metadata": {},
     "output_type": "execute_result"
    }
   ],
   "source": [
    "disagreement.get_disagreement(20, None)"
   ]
  },
  {
   "cell_type": "code",
   "execution_count": 53,
   "id": "4a90cdd8",
   "metadata": {},
   "outputs": [
    {
     "data": {
      "text/plain": [
       "[['Project Cost', 0.05714906222884565],\n",
       " ['School State', 0.041025607910487455],\n",
       " ['Project Resource Category', 0.022928445398821395],\n",
       " ['Teacher Project Posted Sequence', 0.017752762721138425],\n",
       " ['School City Success Rate', 0.017585039435300587],\n",
       " ['School Success Rate', 0.014126902513215783],\n",
       " ['Teacher Success Rate', 0.009001123399286826],\n",
       " ['Teacher Success Rate Imputed', 0.0075924428426549185],\n",
       " ['School County Success Rate', 0.005877010966310081],\n",
       " ['Project Count in State', 0.003946468204571829],\n",
       " ['School Metro Type', 0.003488676856704842],\n",
       " ['Project Posted Month', 0.0028910216754434257],\n",
       " ['School Percentage Free Lunch', 0.0027158185248663358],\n",
       " ['Project Subject Subcategory Tree', 0.002388253706089927],\n",
       " ['Project Subject Category Tree', 0.0022903894063142616],\n",
       " ['Teacher Prefix', 0.0016874724042918387],\n",
       " ['Project Grade Level Category', -0.001054697545991985],\n",
       " ['School Success Rate Imputed', -0.0007291512318624882],\n",
       " ['School City Success Rate Imputed', -0.00014314810375253727],\n",
       " ['School County Success Rate Imputed', 0.0]]"
      ]
     },
     "execution_count": 53,
     "metadata": {},
     "output_type": "execute_result"
    }
   ],
   "source": [
    "disagreement.sorted_explanation1[:20]\n"
   ]
  },
  {
   "cell_type": "code",
   "execution_count": 54,
   "id": "2e87ad2d",
   "metadata": {},
   "outputs": [
    {
     "data": {
      "text/plain": [
       "[['Project Cost', 0.05828515065993562],\n",
       " ['School State', -0.04561995832431883],\n",
       " ['Project Subject Subcategory Tree', -0.03652875725130923],\n",
       " ['Project Resource Category', 0.02412976165593627],\n",
       " ['Project Subject Category Tree', -0.023382474876373693],\n",
       " ['Project Type', -0.01874909636736988],\n",
       " ['Teacher Project Posted Sequence', 0.01764274655322783],\n",
       " ['School City Success Rate', 0.01762791127218422],\n",
       " ['School Success Rate', 0.01439123893716053],\n",
       " ['School County Success Rate', 0.010396124467336478],\n",
       " ['Teacher Prefix', -0.009602694849670359],\n",
       " ['Teacher Success Rate Imputed', 0.008948085524911165],\n",
       " ['Teacher Success Rate', 0.00887785459302942],\n",
       " ['School County Success Rate Imputed', -0.0086799413234964],\n",
       " ['Project Posted Month', 0.005683481725688235],\n",
       " ['School Metro Type', 0.00521351220862078],\n",
       " ['School Success Rate Imputed', -0.005064600567585159],\n",
       " ['School City Success Rate Imputed', -0.004505058261636036],\n",
       " ['School Percentage Free Lunch', 0.0038863764057131076],\n",
       " ['Project Count in State', 0.003006706209883576]]"
      ]
     },
     "execution_count": 54,
     "metadata": {},
     "output_type": "execute_result"
    }
   ],
   "source": [
    "disagreement.sorted_explanation2[:20]\n"
   ]
  },
  {
   "cell_type": "markdown",
   "id": "63cf47f5",
   "metadata": {},
   "source": [
    "### Compact based on Activated value"
   ]
  },
  {
   "cell_type": "code",
   "execution_count": 55,
   "id": "3a2fec26",
   "metadata": {},
   "outputs": [],
   "source": [
    "disagreement = Disagreement(explanations[\"fold0\"][\"treeshap\"][\"top\"][\"cdc83b2eb031d999c123535bf09d24a0\"], explanations[\"fold0\"][\"lime\"][\"top\"][\"cdc83b2eb031d999c123535bf09d24a0\"])"
   ]
  },
  {
   "cell_type": "code",
   "execution_count": 56,
   "id": "9012eb19",
   "metadata": {},
   "outputs": [
    {
     "data": {
      "text/plain": [
       "[['Project Cost', 0.05714906222884565],\n",
       " ['School State_Mississippi', 0.041025607910487455],\n",
       " ['Project Resource Category_Technology', 0.022928445398821395],\n",
       " ['Teacher Project Posted Sequence', 0.017752762721138425],\n",
       " ['School City Success Rate', 0.017585039435300587],\n",
       " ['School Success Rate', 0.014126902513215783],\n",
       " ['Teacher Success Rate', 0.009001123399286826],\n",
       " ['Teacher Success Rate Imputed', 0.0075924428426549185],\n",
       " ['School County Success Rate', 0.005877010966310081],\n",
       " ['Project Count in State', 0.003946468204571829],\n",
       " ['Project Resource Category_Books', 0.0035422505235283095],\n",
       " ['School Metro Type_unknown', 0.003488676856704842],\n",
       " ['Project Resource Category_Supplies', 0.0033089717177392686],\n",
       " ['Project Posted Month', 0.0028910216754434257],\n",
       " ['School Percentage Free Lunch', 0.0027158185248663358],\n",
       " ['Project Subject Subcategory Tree_Mathematics', 0.002388253706089927],\n",
       " ['Project Subject Category Tree_Math & Science', 0.0022903894063142616],\n",
       " ['Teacher Prefix_Ms.', 0.0016874724042918387],\n",
       " ['Project Grade Level Category_Grades PreK-2', -0.001054697545991985],\n",
       " ['School State_New York', -0.0009630994266080961]]"
      ]
     },
     "execution_count": 56,
     "metadata": {},
     "output_type": "execute_result"
    }
   ],
   "source": [
    "disagreement.sorted_explanation1[:20]"
   ]
  },
  {
   "cell_type": "code",
   "execution_count": 57,
   "id": "d6e68efb",
   "metadata": {},
   "outputs": [
    {
     "data": {
      "text/plain": [
       "[['Project Cost', 0.05828515065993562],\n",
       " ['School State_New Mexico', -0.04561995832431883],\n",
       " ['Project Subject Subcategory Tree_Mathematics, Performing Arts',\n",
       "  -0.03652875725130923],\n",
       " ['School State_Mississippi', 0.03525123751671513],\n",
       " ['School State_Nebraska', -0.030140219371630757],\n",
       " ['Project Subject Subcategory Tree_Economics, Performing Arts',\n",
       "  0.028696205307718412],\n",
       " ['Project Subject Subcategory Tree_College & Career Prep, Environmental Science',\n",
       "  0.025975377818970764],\n",
       " ['School State_Oregon', 0.02477959436814468],\n",
       " ['Project Subject Subcategory Tree_ESL, Performing Arts',\n",
       "  0.024418609316633387],\n",
       " ['Project Resource Category_Technology', 0.02412976165593627],\n",
       " ['Project Subject Subcategory Tree_Character Education, Social Sciences',\n",
       "  -0.023669453164068096],\n",
       " ['Project Subject Category Tree_Health & Sports, Math & Science',\n",
       "  -0.023382474876373693],\n",
       " ['Project Subject Subcategory Tree_Other, Social Sciences',\n",
       "  0.023007167202545663],\n",
       " ['School State_Missouri', -0.02271869552126897],\n",
       " ['Project Subject Subcategory Tree_Early Development, Environmental Science',\n",
       "  -0.022709285230336752],\n",
       " ['Project Subject Subcategory Tree_Community Service, Extracurricular',\n",
       "  -0.02194703678332285],\n",
       " ['Project Subject Subcategory Tree_Character Education, Civics & Government',\n",
       "  -0.020616315850737355],\n",
       " ['Project Subject Subcategory Tree_Civics & Government, Community Service',\n",
       "  -0.020559947692224117],\n",
       " ['Project Subject Subcategory Tree_Foreign Languages, Health & Wellness',\n",
       "  -0.020440728560850788],\n",
       " ['Project Subject Subcategory Tree_Early Development, Health & Life Science',\n",
       "  -0.020335872198160646]]"
      ]
     },
     "execution_count": 57,
     "metadata": {},
     "output_type": "execute_result"
    }
   ],
   "source": [
    "disagreement.sorted_explanation2[:20]"
   ]
  },
  {
   "cell_type": "code",
   "execution_count": 58,
   "id": "4d3bcfc5",
   "metadata": {},
   "outputs": [],
   "source": [
    "activated_features = {}\n",
    "for feature in config.CATEGORICAL_COLS:\n",
    "    activated_features[feature] = f\"{feature}_{raw_data[raw_data['Project ID'] == 'cdc83b2eb031d999c123535bf09d24a0' ][feature].values[0]}\""
   ]
  },
  {
   "cell_type": "code",
   "execution_count": 59,
   "id": "28c7bc07",
   "metadata": {},
   "outputs": [],
   "source": [
    "activated_compactor = ActivatedCompactor(activated_features)"
   ]
  },
  {
   "cell_type": "code",
   "execution_count": 60,
   "id": "306f8f7e",
   "metadata": {},
   "outputs": [],
   "source": [
    "disagreement.compact_features(activated_compactor)"
   ]
  },
  {
   "cell_type": "code",
   "execution_count": 61,
   "id": "e2109af3",
   "metadata": {},
   "outputs": [
    {
     "data": {
      "text/plain": [
       "{'feature_agreement': 1.0,\n",
       " 'rank_agreement': 0.35,\n",
       " 'sign_agreement': 0.95,\n",
       " 'signed_rank_agreement': 0.35}"
      ]
     },
     "execution_count": 61,
     "metadata": {},
     "output_type": "execute_result"
    }
   ],
   "source": [
    "disagreement.get_disagreement(20, None)"
   ]
  },
  {
   "cell_type": "code",
   "execution_count": 62,
   "id": "672cb957",
   "metadata": {},
   "outputs": [
    {
     "data": {
      "text/plain": [
       "[['Project Cost', 0.05714906222884565],\n",
       " ['School State_Mississippi', 0.041025607910487455],\n",
       " ['Project Resource Category_Technology', 0.022928445398821395],\n",
       " ['Teacher Project Posted Sequence', 0.017752762721138425],\n",
       " ['School City Success Rate', 0.017585039435300587],\n",
       " ['School Success Rate', 0.014126902513215783],\n",
       " ['Teacher Success Rate', 0.009001123399286826],\n",
       " ['Teacher Success Rate Imputed', 0.0075924428426549185],\n",
       " ['School County Success Rate', 0.005877010966310081],\n",
       " ['Project Count in State', 0.003946468204571829],\n",
       " ['School Metro Type_unknown', 0.003488676856704842],\n",
       " ['Project Posted Month', 0.0028910216754434257],\n",
       " ['School Percentage Free Lunch', 0.0027158185248663358],\n",
       " ['Project Subject Subcategory Tree_Mathematics', 0.002388253706089927],\n",
       " ['Project Subject Category Tree_Math & Science', 0.0022903894063142616],\n",
       " ['Project Grade Level Category_Grades PreK-2', -0.001054697545991985],\n",
       " ['School Success Rate Imputed', -0.0007291512318624882],\n",
       " ['Teacher Prefix_Mrs.', 0.00027374011408255684],\n",
       " ['School City Success Rate Imputed', -0.00014314810375253727],\n",
       " ['School County Success Rate Imputed', 0.0]]"
      ]
     },
     "execution_count": 62,
     "metadata": {},
     "output_type": "execute_result"
    }
   ],
   "source": [
    "disagreement.sorted_explanation1[:20]\n"
   ]
  },
  {
   "cell_type": "code",
   "execution_count": 63,
   "id": "74060ff7",
   "metadata": {},
   "outputs": [
    {
     "data": {
      "text/plain": [
       "[['Project Cost', 0.05828515065993562],\n",
       " ['School State_Mississippi', 0.03525123751671513],\n",
       " ['Project Resource Category_Technology', 0.02412976165593627],\n",
       " ['Teacher Project Posted Sequence', 0.01764274655322783],\n",
       " ['School City Success Rate', 0.01762791127218422],\n",
       " ['School Success Rate', 0.01439123893716053],\n",
       " ['School County Success Rate', 0.010396124467336478],\n",
       " ['Teacher Success Rate Imputed', 0.008948085524911165],\n",
       " ['Teacher Success Rate', 0.00887785459302942],\n",
       " ['School County Success Rate Imputed', -0.0086799413234964],\n",
       " ['Project Posted Month', 0.005683481725688235],\n",
       " ['School Metro Type_unknown', 0.00521351220862078],\n",
       " ['School Success Rate Imputed', -0.005064600567585159],\n",
       " ['School City Success Rate Imputed', -0.004505058261636036],\n",
       " ['School Percentage Free Lunch', 0.0038863764057131076],\n",
       " ['Project Count in State', 0.003006706209883576],\n",
       " ['Project Grade Level Category_Grades PreK-2', -0.0017520537476009201],\n",
       " ['Project Subject Category Tree_Math & Science', 0.0017236348728642999],\n",
       " ['Project Subject Subcategory Tree_Mathematics', 1.5403463765332284e-05],\n",
       " ['Teacher Prefix_Mrs.', 1.4317070653925565e-05]]"
      ]
     },
     "execution_count": 63,
     "metadata": {},
     "output_type": "execute_result"
    }
   ],
   "source": [
    "disagreement.sorted_explanation2[:20]\n"
   ]
  },
  {
   "cell_type": "markdown",
   "id": "f903e6f1",
   "metadata": {},
   "source": [
    "### Compact based on Not Activated value"
   ]
  },
  {
   "cell_type": "code",
   "execution_count": 64,
   "id": "dd29f8f6",
   "metadata": {},
   "outputs": [],
   "source": [
    "from compactor.MaxNonActivatedCompactor import MaxNonActivatedCompactor"
   ]
  },
  {
   "cell_type": "code",
   "execution_count": 65,
   "id": "23430d0a",
   "metadata": {},
   "outputs": [],
   "source": [
    "disagreement = Disagreement(explanations[\"fold0\"][\"treeshap\"][\"top\"][\"cdc83b2eb031d999c123535bf09d24a0\"], explanations[\"fold0\"][\"lime\"][\"top\"][\"cdc83b2eb031d999c123535bf09d24a0\"])"
   ]
  },
  {
   "cell_type": "code",
   "execution_count": 66,
   "id": "df0eb3de",
   "metadata": {},
   "outputs": [
    {
     "data": {
      "text/plain": [
       "[['Project Cost', 0.05714906222884565],\n",
       " ['School State_Mississippi', 0.041025607910487455],\n",
       " ['Project Resource Category_Technology', 0.022928445398821395],\n",
       " ['Teacher Project Posted Sequence', 0.017752762721138425],\n",
       " ['School City Success Rate', 0.017585039435300587],\n",
       " ['School Success Rate', 0.014126902513215783],\n",
       " ['Teacher Success Rate', 0.009001123399286826],\n",
       " ['Teacher Success Rate Imputed', 0.0075924428426549185],\n",
       " ['School County Success Rate', 0.005877010966310081],\n",
       " ['Project Count in State', 0.003946468204571829],\n",
       " ['Project Resource Category_Books', 0.0035422505235283095],\n",
       " ['School Metro Type_unknown', 0.003488676856704842],\n",
       " ['Project Resource Category_Supplies', 0.0033089717177392686],\n",
       " ['Project Posted Month', 0.0028910216754434257],\n",
       " ['School Percentage Free Lunch', 0.0027158185248663358],\n",
       " ['Project Subject Subcategory Tree_Mathematics', 0.002388253706089927],\n",
       " ['Project Subject Category Tree_Math & Science', 0.0022903894063142616],\n",
       " ['Teacher Prefix_Ms.', 0.0016874724042918387],\n",
       " ['Project Grade Level Category_Grades PreK-2', -0.001054697545991985],\n",
       " ['School State_New York', -0.0009630994266080961]]"
      ]
     },
     "execution_count": 66,
     "metadata": {},
     "output_type": "execute_result"
    }
   ],
   "source": [
    "disagreement.sorted_explanation1[:20]"
   ]
  },
  {
   "cell_type": "code",
   "execution_count": 67,
   "id": "48a585fa",
   "metadata": {},
   "outputs": [
    {
     "data": {
      "text/plain": [
       "[['Project Cost', 0.05828515065993562],\n",
       " ['School State_New Mexico', -0.04561995832431883],\n",
       " ['Project Subject Subcategory Tree_Mathematics, Performing Arts',\n",
       "  -0.03652875725130923],\n",
       " ['School State_Mississippi', 0.03525123751671513],\n",
       " ['School State_Nebraska', -0.030140219371630757],\n",
       " ['Project Subject Subcategory Tree_Economics, Performing Arts',\n",
       "  0.028696205307718412],\n",
       " ['Project Subject Subcategory Tree_College & Career Prep, Environmental Science',\n",
       "  0.025975377818970764],\n",
       " ['School State_Oregon', 0.02477959436814468],\n",
       " ['Project Subject Subcategory Tree_ESL, Performing Arts',\n",
       "  0.024418609316633387],\n",
       " ['Project Resource Category_Technology', 0.02412976165593627],\n",
       " ['Project Subject Subcategory Tree_Character Education, Social Sciences',\n",
       "  -0.023669453164068096],\n",
       " ['Project Subject Category Tree_Health & Sports, Math & Science',\n",
       "  -0.023382474876373693],\n",
       " ['Project Subject Subcategory Tree_Other, Social Sciences',\n",
       "  0.023007167202545663],\n",
       " ['School State_Missouri', -0.02271869552126897],\n",
       " ['Project Subject Subcategory Tree_Early Development, Environmental Science',\n",
       "  -0.022709285230336752],\n",
       " ['Project Subject Subcategory Tree_Community Service, Extracurricular',\n",
       "  -0.02194703678332285],\n",
       " ['Project Subject Subcategory Tree_Character Education, Civics & Government',\n",
       "  -0.020616315850737355],\n",
       " ['Project Subject Subcategory Tree_Civics & Government, Community Service',\n",
       "  -0.020559947692224117],\n",
       " ['Project Subject Subcategory Tree_Foreign Languages, Health & Wellness',\n",
       "  -0.020440728560850788],\n",
       " ['Project Subject Subcategory Tree_Early Development, Health & Life Science',\n",
       "  -0.020335872198160646]]"
      ]
     },
     "execution_count": 67,
     "metadata": {},
     "output_type": "execute_result"
    }
   ],
   "source": [
    "disagreement.sorted_explanation2[:20]"
   ]
  },
  {
   "cell_type": "code",
   "execution_count": 68,
   "id": "1485d0a4",
   "metadata": {},
   "outputs": [],
   "source": [
    "activated_features = {}\n",
    "for feature in config.CATEGORICAL_COLS:\n",
    "    activated_features[feature] = f\"{feature}_{raw_data[raw_data['Project ID'] == 'cdc83b2eb031d999c123535bf09d24a0' ][feature].values[0]}\""
   ]
  },
  {
   "cell_type": "code",
   "execution_count": 69,
   "id": "054b1523",
   "metadata": {},
   "outputs": [],
   "source": [
    "max_activated_compactor = MaxNonActivatedCompactor(activated_features)"
   ]
  },
  {
   "cell_type": "code",
   "execution_count": 70,
   "id": "169440d2",
   "metadata": {},
   "outputs": [],
   "source": [
    "disagreement.compact_features(max_activated_compactor)"
   ]
  },
  {
   "cell_type": "code",
   "execution_count": 71,
   "id": "00e01c54",
   "metadata": {},
   "outputs": [
    {
     "data": {
      "text/plain": [
       "{'feature_agreement': 0.95,\n",
       " 'rank_agreement': 0.05,\n",
       " 'sign_agreement': 0.8,\n",
       " 'signed_rank_agreement': 0.05}"
      ]
     },
     "execution_count": 71,
     "metadata": {},
     "output_type": "execute_result"
    }
   ],
   "source": [
    "disagreement.get_disagreement(20, None)"
   ]
  },
  {
   "cell_type": "code",
   "execution_count": 72,
   "id": "3f77cb33",
   "metadata": {},
   "outputs": [
    {
     "data": {
      "text/plain": [
       "[['Project Cost', 0.05714906222884565],\n",
       " ['Teacher Project Posted Sequence', 0.017752762721138425],\n",
       " ['School City Success Rate', 0.017585039435300587],\n",
       " ['School Success Rate', 0.014126902513215783],\n",
       " ['Teacher Success Rate', 0.009001123399286826],\n",
       " ['Teacher Success Rate Imputed', 0.0075924428426549185],\n",
       " ['School County Success Rate', 0.005877010966310081],\n",
       " ['Project Count in State', 0.003946468204571829],\n",
       " ['Project Resource Category', 0.0035422505235283095],\n",
       " ['Project Posted Month', 0.0028910216754434257],\n",
       " ['School Percentage Free Lunch', 0.0027158185248663358],\n",
       " ['Teacher Prefix', 0.0016874724042918387],\n",
       " ['School State', -0.0009630994266080961],\n",
       " ['School Success Rate Imputed', -0.0007291512318624882],\n",
       " ['School Metro Type', 0.0004618775357312188],\n",
       " ['Project Subject Subcategory Tree', -0.0002500308155322273],\n",
       " ['Project Subject Category Tree', -0.00023901742039697638],\n",
       " ['School City Success Rate Imputed', -0.00014314810375253727],\n",
       " ['Project Grade Level Category', -0.00013460658772146417],\n",
       " ['School County Success Rate Imputed', 0.0]]"
      ]
     },
     "execution_count": 72,
     "metadata": {},
     "output_type": "execute_result"
    }
   ],
   "source": [
    "disagreement.sorted_explanation1[:20]\n"
   ]
  },
  {
   "cell_type": "code",
   "execution_count": 73,
   "id": "d213a59a",
   "metadata": {},
   "outputs": [
    {
     "data": {
      "text/plain": [
       "[['Project Cost', 0.05828515065993562],\n",
       " ['School State', -0.04561995832431883],\n",
       " ['Project Subject Subcategory Tree', -0.03652875725130923],\n",
       " ['Project Subject Category Tree', -0.023382474876373693],\n",
       " ['Project Resource Category', 0.02017981543707445],\n",
       " ['Project Type', -0.01874909636736988],\n",
       " ['Teacher Project Posted Sequence', 0.01764274655322783],\n",
       " ['School City Success Rate', 0.01762791127218422],\n",
       " ['School Success Rate', 0.01439123893716053],\n",
       " ['School County Success Rate', 0.010396124467336478],\n",
       " ['Teacher Prefix', -0.009602694849670359],\n",
       " ['Teacher Success Rate Imputed', 0.008948085524911165],\n",
       " ['Teacher Success Rate', 0.00887785459302942],\n",
       " ['School County Success Rate Imputed', -0.0086799413234964],\n",
       " ['Project Posted Month', 0.005683481725688235],\n",
       " ['School Success Rate Imputed', -0.005064600567585159],\n",
       " ['School City Success Rate Imputed', -0.004505058261636036],\n",
       " ['School Percentage Free Lunch', 0.0038863764057131076],\n",
       " ['Project Count in State', 0.003006706209883576],\n",
       " ['School Metro Type', -0.0025868249597884667]]"
      ]
     },
     "execution_count": 73,
     "metadata": {},
     "output_type": "execute_result"
    }
   ],
   "source": [
    "disagreement.sorted_explanation2[:20]\n"
   ]
  },
  {
   "cell_type": "markdown",
   "id": "05c39e93",
   "metadata": {},
   "source": [
    "#### All the metrics shows that there is significant disagreement for the first explanation\n",
    "\n",
    "Based on top 20 features in the first explanation of lime and treeshap\n",
    "\n",
    "\n",
    "Feature Agreement 0.15: The feature agreement score is 0.15. This indicates that the top 20 features in Lime's explanation are different from TreeSHAP's top 20 features.\n",
    "\n",
    "Rank Agreement 0.05: The rank agreement score is 0.05. This means that not only are the top 20 features different, but there is also a significant difference in the order of these features between Lime and TreeSHAP.\n",
    "\n",
    "Sign Agreement 0.15: The sign agreement score is 0.15. This suggests that the top 20 features in Lime's explanation have different features compared to TreeSHAP's top 20 features when considering the sign of the feature values.\n",
    "\n",
    "Signed Rank Agreement 0.05: The signed rank agreement score is 0.05. This implies that the top 20 features in Lime's explanation not only differ in terms of the features themselves but also in their rank and sign when compared to TreeSHAP's top 20 features."
   ]
  },
  {
   "cell_type": "markdown",
   "id": "5078c801",
   "metadata": {},
   "source": [
    "### Let's say i am considering the last explanation in the treeshap and the last explanation in the lime with compacted feature space.\n",
    "\n",
    "The explanation pertains to the projects considered less critical according to the model's evaluation."
   ]
  },
  {
   "cell_type": "markdown",
   "id": "1e12f2e4",
   "metadata": {},
   "source": [
    "### Compact based on Max absolute value"
   ]
  },
  {
   "cell_type": "code",
   "execution_count": 74,
   "id": "5ea9bdc1",
   "metadata": {},
   "outputs": [],
   "source": [
    "disagreement = Disagreement(explanations[\"fold0\"][\"treeshap\"][\"bottom\"][\"914ed5ecded471bcb3922ccf422d9265\"], explanations[\"fold0\"][\"lime\"][\"bottom\"][\"914ed5ecded471bcb3922ccf422d9265\"])"
   ]
  },
  {
   "cell_type": "code",
   "execution_count": 75,
   "id": "d1188bab",
   "metadata": {},
   "outputs": [
    {
     "data": {
      "text/plain": [
       "[['School Success Rate', -0.02073560551451692],\n",
       " ['Project Resource Category_Books', -0.01770426358118641],\n",
       " ['Project Cost', -0.016155206447674573],\n",
       " ['School City Success Rate', -0.007373891001113861],\n",
       " ['School County Success Rate', -0.006529038491705706],\n",
       " ['Project Resource Category_Technology', -0.006248685005766674],\n",
       " ['Project Posted Month', 0.005906740663720029],\n",
       " ['Teacher Project Posted Sequence', -0.004860845310354307],\n",
       " ['Teacher Success Rate', 0.0041988864940344685],\n",
       " ['School Percentage Free Lunch', -0.003522525960356688],\n",
       " ['Teacher Success Rate Imputed', -0.002740343722766738],\n",
       " ['School State_New York', -0.0014524365215038415],\n",
       " ['Teacher Prefix_Ms.', 0.0014260352586097725],\n",
       " ['Project Resource Category_Supplies', 0.0007945032990460276],\n",
       " ['School Metro Type_urban', -0.0005636251404314408],\n",
       " ['School State_Massachusetts', 0.0005606948675085733],\n",
       " ['School State_Pennsylvania', 0.0005600543254786316],\n",
       " ['School State_New Jersey', -0.000550105219103898],\n",
       " ['Project Count in State', -0.000468491965712019],\n",
       " ['School State_Missouri', -0.00046574554151447957]]"
      ]
     },
     "execution_count": 75,
     "metadata": {},
     "output_type": "execute_result"
    }
   ],
   "source": [
    "disagreement.sorted_explanation1[:20]"
   ]
  },
  {
   "cell_type": "code",
   "execution_count": 76,
   "id": "b36020ab",
   "metadata": {},
   "outputs": [
    {
     "data": {
      "text/plain": [
       "[['School State_New Mexico', -0.039534328867710765],\n",
       " ['Project Subject Subcategory Tree_Early Development, Team Sports',\n",
       "  0.03927456784041016],\n",
       " ['School State_Oregon', 0.0359405748502581],\n",
       " ['Project Subject Category Tree_Health & Sports, History & Civics',\n",
       "  0.03567932952839871],\n",
       " ['Project Subject Subcategory Tree_Character Education, Mathematics',\n",
       "  0.031610236047156556],\n",
       " ['Project Cost', -0.02952929601923634],\n",
       " ['Project Subject Subcategory Tree_Foreign Languages, Literature & Writing',\n",
       "  -0.029357881597820344],\n",
       " ['Project Subject Subcategory Tree_Environmental Science, Music',\n",
       "  0.0287163292291289],\n",
       " ['Project Subject Subcategory Tree_College & Career Prep, Financial Literacy',\n",
       "  0.028657001397669433],\n",
       " ['Project Subject Subcategory Tree_Social Sciences, Visual Arts',\n",
       "  0.028511500035182127],\n",
       " ['Project Subject Subcategory Tree_Economics, Financial Literacy',\n",
       "  -0.0282102779224615],\n",
       " ['Project Subject Subcategory Tree_ESL, History & Geography',\n",
       "  0.02800016263929736],\n",
       " ['Project Subject Subcategory Tree_College & Career Prep, Parent Involvement',\n",
       "  -0.02797217031202549],\n",
       " ['School State_Mississippi', -0.02748437033623347],\n",
       " ['Project Subject Subcategory Tree_Extracurricular, Literature & Writing',\n",
       "  0.02617007353963521],\n",
       " ['Project Subject Subcategory Tree_Other, Visual Arts', 0.02600694510316824],\n",
       " ['Project Subject Subcategory Tree_Extracurricular, Other',\n",
       "  0.025872506929650305],\n",
       " ['School Success Rate', -0.025776909203259216],\n",
       " ['Project Subject Subcategory Tree_Economics, Literature & Writing',\n",
       "  0.02557531465735924],\n",
       " ['Project Subject Subcategory Tree_Gym & Fitness, Health & Life Science',\n",
       "  0.025279784220352305]]"
      ]
     },
     "execution_count": 76,
     "metadata": {},
     "output_type": "execute_result"
    }
   ],
   "source": [
    "disagreement.sorted_explanation2[:20]"
   ]
  },
  {
   "cell_type": "code",
   "execution_count": 77,
   "id": "2cc79507",
   "metadata": {},
   "outputs": [],
   "source": [
    "max_compactor = MaxCompactor(config.CATEGORICAL_COLS)"
   ]
  },
  {
   "cell_type": "code",
   "execution_count": 78,
   "id": "8bb03625",
   "metadata": {},
   "outputs": [],
   "source": [
    "disagreement.compact_features(max_compactor)"
   ]
  },
  {
   "cell_type": "code",
   "execution_count": 79,
   "id": "84599757",
   "metadata": {},
   "outputs": [
    {
     "data": {
      "text/plain": [
       "[['School Success Rate', -0.02073560551451692],\n",
       " ['Project Resource Category', -0.01770426358118641],\n",
       " ['Project Cost', -0.016155206447674573],\n",
       " ['School City Success Rate', -0.007373891001113861],\n",
       " ['School County Success Rate', -0.006529038491705706],\n",
       " ['Project Posted Month', 0.005906740663720029],\n",
       " ['Teacher Project Posted Sequence', -0.004860845310354307],\n",
       " ['Teacher Success Rate', 0.0041988864940344685],\n",
       " ['School Percentage Free Lunch', -0.003522525960356688],\n",
       " ['Teacher Success Rate Imputed', -0.002740343722766738],\n",
       " ['School State', -0.0014524365215038415],\n",
       " ['Teacher Prefix', 0.0014260352586097725],\n",
       " ['School Metro Type', -0.0005636251404314408],\n",
       " ['Project Count in State', -0.000468491965712019],\n",
       " ['Project Subject Category Tree', -0.0004492578398571823],\n",
       " ['Project Grade Level Category', 0.0003245797966610553],\n",
       " ['School City Success Rate Imputed', -0.00025017424301040594],\n",
       " ['Project Subject Subcategory Tree', 0.00020112983026820074],\n",
       " ['School Success Rate Imputed', -0.0001626017453008899],\n",
       " ['School County Success Rate Imputed', 0.0],\n",
       " ['Project Type', 0.0]]"
      ]
     },
     "execution_count": 79,
     "metadata": {},
     "output_type": "execute_result"
    }
   ],
   "source": [
    "disagreement.sorted_explanation1"
   ]
  },
  {
   "cell_type": "code",
   "execution_count": 80,
   "id": "5f3926e7",
   "metadata": {},
   "outputs": [
    {
     "data": {
      "text/plain": [
       "{'feature_agreement': 0.95,\n",
       " 'rank_agreement': 0.1,\n",
       " 'sign_agreement': 0.75,\n",
       " 'signed_rank_agreement': 0.1}"
      ]
     },
     "execution_count": 80,
     "metadata": {},
     "output_type": "execute_result"
    }
   ],
   "source": [
    "disagreement.get_disagreement(20, None)"
   ]
  },
  {
   "cell_type": "code",
   "execution_count": 81,
   "id": "ca20e22e",
   "metadata": {},
   "outputs": [
    {
     "data": {
      "text/plain": [
       "[['School Success Rate', -0.02073560551451692],\n",
       " ['Project Resource Category', -0.01770426358118641],\n",
       " ['Project Cost', -0.016155206447674573],\n",
       " ['School City Success Rate', -0.007373891001113861],\n",
       " ['School County Success Rate', -0.006529038491705706],\n",
       " ['Project Posted Month', 0.005906740663720029],\n",
       " ['Teacher Project Posted Sequence', -0.004860845310354307],\n",
       " ['Teacher Success Rate', 0.0041988864940344685],\n",
       " ['School Percentage Free Lunch', -0.003522525960356688],\n",
       " ['Teacher Success Rate Imputed', -0.002740343722766738],\n",
       " ['School State', -0.0014524365215038415],\n",
       " ['Teacher Prefix', 0.0014260352586097725],\n",
       " ['School Metro Type', -0.0005636251404314408],\n",
       " ['Project Count in State', -0.000468491965712019],\n",
       " ['Project Subject Category Tree', -0.0004492578398571823],\n",
       " ['Project Grade Level Category', 0.0003245797966610553],\n",
       " ['School City Success Rate Imputed', -0.00025017424301040594],\n",
       " ['Project Subject Subcategory Tree', 0.00020112983026820074],\n",
       " ['School Success Rate Imputed', -0.0001626017453008899],\n",
       " ['School County Success Rate Imputed', 0.0]]"
      ]
     },
     "execution_count": 81,
     "metadata": {},
     "output_type": "execute_result"
    }
   ],
   "source": [
    "disagreement.sorted_explanation1[:20]\n"
   ]
  },
  {
   "cell_type": "code",
   "execution_count": 82,
   "id": "77f80a63",
   "metadata": {},
   "outputs": [
    {
     "data": {
      "text/plain": [
       "[['School State', -0.039534328867710765],\n",
       " ['Project Subject Subcategory Tree', 0.03927456784041016],\n",
       " ['Project Subject Category Tree', 0.03567932952839871],\n",
       " ['Project Cost', -0.02952929601923634],\n",
       " ['School Success Rate', -0.025776909203259216],\n",
       " ['Project Resource Category', -0.023836287905638617],\n",
       " ['Project Type', -0.01503048269510653],\n",
       " ['Teacher Success Rate', 0.012813475583557795],\n",
       " ['Teacher Prefix', -0.009125173179515167],\n",
       " ['Teacher Success Rate Imputed', -0.009009803255737941],\n",
       " ['School Percentage Free Lunch', -0.008126922865584042],\n",
       " ['School City Success Rate', -0.007641181462543814],\n",
       " ['Teacher Project Posted Sequence', -0.0068610916964242825],\n",
       " ['Project Posted Month', 0.006653825060046289],\n",
       " ['School County Success Rate Imputed', -0.006001961298228468],\n",
       " ['School City Success Rate Imputed', -0.005584178358922777],\n",
       " ['School Metro Type', -0.0049755677668917855],\n",
       " ['School Success Rate Imputed', -0.004736606280679097],\n",
       " ['School County Success Rate', -0.004302345526877994],\n",
       " ['Project Grade Level Category', -0.002102650708647841]]"
      ]
     },
     "execution_count": 82,
     "metadata": {},
     "output_type": "execute_result"
    }
   ],
   "source": [
    "disagreement.sorted_explanation2[:20]\n"
   ]
  },
  {
   "cell_type": "markdown",
   "id": "dec24372",
   "metadata": {},
   "source": [
    "### Compact based on Activated value"
   ]
  },
  {
   "cell_type": "code",
   "execution_count": 83,
   "id": "3227465f",
   "metadata": {},
   "outputs": [],
   "source": [
    "disagreement = Disagreement(explanations[\"fold0\"][\"treeshap\"][\"bottom\"][\"914ed5ecded471bcb3922ccf422d9265\"], explanations[\"fold0\"][\"lime\"][\"bottom\"][\"914ed5ecded471bcb3922ccf422d9265\"])"
   ]
  },
  {
   "cell_type": "code",
   "execution_count": 84,
   "id": "d2537a8e",
   "metadata": {},
   "outputs": [
    {
     "data": {
      "text/plain": [
       "[['School Success Rate', -0.02073560551451692],\n",
       " ['Project Resource Category_Books', -0.01770426358118641],\n",
       " ['Project Cost', -0.016155206447674573],\n",
       " ['School City Success Rate', -0.007373891001113861],\n",
       " ['School County Success Rate', -0.006529038491705706],\n",
       " ['Project Resource Category_Technology', -0.006248685005766674],\n",
       " ['Project Posted Month', 0.005906740663720029],\n",
       " ['Teacher Project Posted Sequence', -0.004860845310354307],\n",
       " ['Teacher Success Rate', 0.0041988864940344685],\n",
       " ['School Percentage Free Lunch', -0.003522525960356688],\n",
       " ['Teacher Success Rate Imputed', -0.002740343722766738],\n",
       " ['School State_New York', -0.0014524365215038415],\n",
       " ['Teacher Prefix_Ms.', 0.0014260352586097725],\n",
       " ['Project Resource Category_Supplies', 0.0007945032990460276],\n",
       " ['School Metro Type_urban', -0.0005636251404314408],\n",
       " ['School State_Massachusetts', 0.0005606948675085733],\n",
       " ['School State_Pennsylvania', 0.0005600543254786316],\n",
       " ['School State_New Jersey', -0.000550105219103898],\n",
       " ['Project Count in State', -0.000468491965712019],\n",
       " ['School State_Missouri', -0.00046574554151447957]]"
      ]
     },
     "execution_count": 84,
     "metadata": {},
     "output_type": "execute_result"
    }
   ],
   "source": [
    "disagreement.sorted_explanation1[:20]"
   ]
  },
  {
   "cell_type": "code",
   "execution_count": 85,
   "id": "6cfe23f7",
   "metadata": {},
   "outputs": [
    {
     "data": {
      "text/plain": [
       "[['School State_New Mexico', -0.039534328867710765],\n",
       " ['Project Subject Subcategory Tree_Early Development, Team Sports',\n",
       "  0.03927456784041016],\n",
       " ['School State_Oregon', 0.0359405748502581],\n",
       " ['Project Subject Category Tree_Health & Sports, History & Civics',\n",
       "  0.03567932952839871],\n",
       " ['Project Subject Subcategory Tree_Character Education, Mathematics',\n",
       "  0.031610236047156556],\n",
       " ['Project Cost', -0.02952929601923634],\n",
       " ['Project Subject Subcategory Tree_Foreign Languages, Literature & Writing',\n",
       "  -0.029357881597820344],\n",
       " ['Project Subject Subcategory Tree_Environmental Science, Music',\n",
       "  0.0287163292291289],\n",
       " ['Project Subject Subcategory Tree_College & Career Prep, Financial Literacy',\n",
       "  0.028657001397669433],\n",
       " ['Project Subject Subcategory Tree_Social Sciences, Visual Arts',\n",
       "  0.028511500035182127],\n",
       " ['Project Subject Subcategory Tree_Economics, Financial Literacy',\n",
       "  -0.0282102779224615],\n",
       " ['Project Subject Subcategory Tree_ESL, History & Geography',\n",
       "  0.02800016263929736],\n",
       " ['Project Subject Subcategory Tree_College & Career Prep, Parent Involvement',\n",
       "  -0.02797217031202549],\n",
       " ['School State_Mississippi', -0.02748437033623347],\n",
       " ['Project Subject Subcategory Tree_Extracurricular, Literature & Writing',\n",
       "  0.02617007353963521],\n",
       " ['Project Subject Subcategory Tree_Other, Visual Arts', 0.02600694510316824],\n",
       " ['Project Subject Subcategory Tree_Extracurricular, Other',\n",
       "  0.025872506929650305],\n",
       " ['School Success Rate', -0.025776909203259216],\n",
       " ['Project Subject Subcategory Tree_Economics, Literature & Writing',\n",
       "  0.02557531465735924],\n",
       " ['Project Subject Subcategory Tree_Gym & Fitness, Health & Life Science',\n",
       "  0.025279784220352305]]"
      ]
     },
     "execution_count": 85,
     "metadata": {},
     "output_type": "execute_result"
    }
   ],
   "source": [
    "disagreement.sorted_explanation2[:20]"
   ]
  },
  {
   "cell_type": "code",
   "execution_count": 86,
   "id": "406bce29",
   "metadata": {},
   "outputs": [],
   "source": [
    "activated_features = {}\n",
    "for feature in config.CATEGORICAL_COLS:\n",
    "    activated_features[feature] = f\"{feature}_{raw_data[raw_data['Project ID'] == '914ed5ecded471bcb3922ccf422d9265' ][feature].values[0]}\""
   ]
  },
  {
   "cell_type": "code",
   "execution_count": 87,
   "id": "cf6b0f1b",
   "metadata": {},
   "outputs": [],
   "source": [
    "activated_compactor = ActivatedCompactor(activated_features)"
   ]
  },
  {
   "cell_type": "code",
   "execution_count": 88,
   "id": "b8f6d3c4",
   "metadata": {},
   "outputs": [],
   "source": [
    "disagreement.compact_features(activated_compactor)"
   ]
  },
  {
   "cell_type": "code",
   "execution_count": 89,
   "id": "b30052a4",
   "metadata": {},
   "outputs": [
    {
     "data": {
      "text/plain": [
       "{'feature_agreement': 1.0,\n",
       " 'rank_agreement': 0.05,\n",
       " 'sign_agreement': 0.8,\n",
       " 'signed_rank_agreement': 0.05}"
      ]
     },
     "execution_count": 89,
     "metadata": {},
     "output_type": "execute_result"
    }
   ],
   "source": [
    "disagreement.get_disagreement(20, None)"
   ]
  },
  {
   "cell_type": "code",
   "execution_count": 90,
   "id": "805bd153",
   "metadata": {},
   "outputs": [
    {
     "data": {
      "text/plain": [
       "[['School Success Rate', -0.02073560551451692],\n",
       " ['Project Resource Category_Books', -0.01770426358118641],\n",
       " ['Project Cost', -0.016155206447674573],\n",
       " ['School City Success Rate', -0.007373891001113861],\n",
       " ['School County Success Rate', -0.006529038491705706],\n",
       " ['Project Posted Month', 0.005906740663720029],\n",
       " ['Teacher Project Posted Sequence', -0.004860845310354307],\n",
       " ['Teacher Success Rate', 0.0041988864940344685],\n",
       " ['School Percentage Free Lunch', -0.003522525960356688],\n",
       " ['Teacher Success Rate Imputed', -0.002740343722766738],\n",
       " ['School Metro Type_urban', -0.0005636251404314408],\n",
       " ['Project Count in State', -0.000468491965712019],\n",
       " ['Teacher Prefix_Mrs.', 0.00044330299691011985],\n",
       " ['School State_California', -0.0003201726766610591],\n",
       " ['School City Success Rate Imputed', -0.00025017424301040594],\n",
       " ['Project Subject Category Tree_Literacy & Language', 0.0002435002798051755],\n",
       " ['Project Subject Subcategory Tree_Literacy', 0.00020112983026820074],\n",
       " ['School Success Rate Imputed', -0.0001626017453008899],\n",
       " ['Project Grade Level Category_Grades 3-5', 1.551365806335525e-05],\n",
       " ['School County Success Rate Imputed', 0.0]]"
      ]
     },
     "execution_count": 90,
     "metadata": {},
     "output_type": "execute_result"
    }
   ],
   "source": [
    "disagreement.sorted_explanation1[:20]\n"
   ]
  },
  {
   "cell_type": "code",
   "execution_count": 91,
   "id": "23e403aa",
   "metadata": {},
   "outputs": [
    {
     "data": {
      "text/plain": [
       "[['Project Cost', -0.02952929601923634],\n",
       " ['School Success Rate', -0.025776909203259216],\n",
       " ['Project Resource Category_Books', -0.019918174049804022],\n",
       " ['Teacher Success Rate', 0.012813475583557795],\n",
       " ['Teacher Success Rate Imputed', -0.009009803255737941],\n",
       " ['School Percentage Free Lunch', -0.008126922865584042],\n",
       " ['School City Success Rate', -0.007641181462543814],\n",
       " ['Teacher Project Posted Sequence', -0.0068610916964242825],\n",
       " ['Project Posted Month', 0.006653825060046289],\n",
       " ['School County Success Rate Imputed', -0.006001961298228468],\n",
       " ['School City Success Rate Imputed', -0.005584178358922777],\n",
       " ['School Success Rate Imputed', -0.004736606280679097],\n",
       " ['School County Success Rate', -0.004302345526877994],\n",
       " ['Project Subject Category Tree_Literacy & Language', 0.002089182444430119],\n",
       " ['Project Count in State', 0.002015427891416808],\n",
       " ['School State_California', 0.0009187866139342211],\n",
       " ['School Metro Type_urban', -0.0008567512498406881],\n",
       " ['Teacher Prefix_Mrs.', 0.0006970026340453418],\n",
       " ['Project Grade Level Category_Grades 3-5', 0.0006967168036107048],\n",
       " ['Project Subject Subcategory Tree_Literacy', -0.0002889716529175181]]"
      ]
     },
     "execution_count": 91,
     "metadata": {},
     "output_type": "execute_result"
    }
   ],
   "source": [
    "disagreement.sorted_explanation2[:20]\n"
   ]
  },
  {
   "cell_type": "markdown",
   "id": "f9ceb610",
   "metadata": {},
   "source": [
    "### Compact based on Not Activated value"
   ]
  },
  {
   "cell_type": "code",
   "execution_count": 92,
   "id": "18eff527",
   "metadata": {},
   "outputs": [],
   "source": [
    "from compactor.MaxNonActivatedCompactor import MaxNonActivatedCompactor"
   ]
  },
  {
   "cell_type": "code",
   "execution_count": 93,
   "id": "40b0117f",
   "metadata": {},
   "outputs": [],
   "source": [
    "disagreement = Disagreement(explanations[\"fold0\"][\"treeshap\"][\"bottom\"][\"914ed5ecded471bcb3922ccf422d9265\"], explanations[\"fold0\"][\"lime\"][\"bottom\"][\"914ed5ecded471bcb3922ccf422d9265\"])"
   ]
  },
  {
   "cell_type": "code",
   "execution_count": 94,
   "id": "2276e2de",
   "metadata": {},
   "outputs": [
    {
     "data": {
      "text/plain": [
       "[['School Success Rate', -0.02073560551451692],\n",
       " ['Project Resource Category_Books', -0.01770426358118641],\n",
       " ['Project Cost', -0.016155206447674573],\n",
       " ['School City Success Rate', -0.007373891001113861],\n",
       " ['School County Success Rate', -0.006529038491705706],\n",
       " ['Project Resource Category_Technology', -0.006248685005766674],\n",
       " ['Project Posted Month', 0.005906740663720029],\n",
       " ['Teacher Project Posted Sequence', -0.004860845310354307],\n",
       " ['Teacher Success Rate', 0.0041988864940344685],\n",
       " ['School Percentage Free Lunch', -0.003522525960356688],\n",
       " ['Teacher Success Rate Imputed', -0.002740343722766738],\n",
       " ['School State_New York', -0.0014524365215038415],\n",
       " ['Teacher Prefix_Ms.', 0.0014260352586097725],\n",
       " ['Project Resource Category_Supplies', 0.0007945032990460276],\n",
       " ['School Metro Type_urban', -0.0005636251404314408],\n",
       " ['School State_Massachusetts', 0.0005606948675085733],\n",
       " ['School State_Pennsylvania', 0.0005600543254786316],\n",
       " ['School State_New Jersey', -0.000550105219103898],\n",
       " ['Project Count in State', -0.000468491965712019],\n",
       " ['School State_Missouri', -0.00046574554151447957]]"
      ]
     },
     "execution_count": 94,
     "metadata": {},
     "output_type": "execute_result"
    }
   ],
   "source": [
    "disagreement.sorted_explanation1[:20]"
   ]
  },
  {
   "cell_type": "code",
   "execution_count": 95,
   "id": "cf2ecde5",
   "metadata": {},
   "outputs": [
    {
     "data": {
      "text/plain": [
       "[['School State_New Mexico', -0.039534328867710765],\n",
       " ['Project Subject Subcategory Tree_Early Development, Team Sports',\n",
       "  0.03927456784041016],\n",
       " ['School State_Oregon', 0.0359405748502581],\n",
       " ['Project Subject Category Tree_Health & Sports, History & Civics',\n",
       "  0.03567932952839871],\n",
       " ['Project Subject Subcategory Tree_Character Education, Mathematics',\n",
       "  0.031610236047156556],\n",
       " ['Project Cost', -0.02952929601923634],\n",
       " ['Project Subject Subcategory Tree_Foreign Languages, Literature & Writing',\n",
       "  -0.029357881597820344],\n",
       " ['Project Subject Subcategory Tree_Environmental Science, Music',\n",
       "  0.0287163292291289],\n",
       " ['Project Subject Subcategory Tree_College & Career Prep, Financial Literacy',\n",
       "  0.028657001397669433],\n",
       " ['Project Subject Subcategory Tree_Social Sciences, Visual Arts',\n",
       "  0.028511500035182127],\n",
       " ['Project Subject Subcategory Tree_Economics, Financial Literacy',\n",
       "  -0.0282102779224615],\n",
       " ['Project Subject Subcategory Tree_ESL, History & Geography',\n",
       "  0.02800016263929736],\n",
       " ['Project Subject Subcategory Tree_College & Career Prep, Parent Involvement',\n",
       "  -0.02797217031202549],\n",
       " ['School State_Mississippi', -0.02748437033623347],\n",
       " ['Project Subject Subcategory Tree_Extracurricular, Literature & Writing',\n",
       "  0.02617007353963521],\n",
       " ['Project Subject Subcategory Tree_Other, Visual Arts', 0.02600694510316824],\n",
       " ['Project Subject Subcategory Tree_Extracurricular, Other',\n",
       "  0.025872506929650305],\n",
       " ['School Success Rate', -0.025776909203259216],\n",
       " ['Project Subject Subcategory Tree_Economics, Literature & Writing',\n",
       "  0.02557531465735924],\n",
       " ['Project Subject Subcategory Tree_Gym & Fitness, Health & Life Science',\n",
       "  0.025279784220352305]]"
      ]
     },
     "execution_count": 95,
     "metadata": {},
     "output_type": "execute_result"
    }
   ],
   "source": [
    "disagreement.sorted_explanation2[:20]"
   ]
  },
  {
   "cell_type": "code",
   "execution_count": 96,
   "id": "358e8c2f",
   "metadata": {},
   "outputs": [],
   "source": [
    "activated_features = {}\n",
    "for feature in config.CATEGORICAL_COLS:\n",
    "    activated_features[feature] = f\"{feature}_{raw_data[raw_data['Project ID'] == '914ed5ecded471bcb3922ccf422d9265' ][feature].values[0]}\""
   ]
  },
  {
   "cell_type": "code",
   "execution_count": 97,
   "id": "82274cbe",
   "metadata": {},
   "outputs": [],
   "source": [
    "max_activated_compactor = MaxNonActivatedCompactor(activated_features)"
   ]
  },
  {
   "cell_type": "code",
   "execution_count": 98,
   "id": "94fef004",
   "metadata": {},
   "outputs": [],
   "source": [
    "disagreement.compact_features(max_activated_compactor)"
   ]
  },
  {
   "cell_type": "code",
   "execution_count": 99,
   "id": "861e7aea",
   "metadata": {},
   "outputs": [
    {
     "data": {
      "text/plain": [
       "{'feature_agreement': 0.95,\n",
       " 'rank_agreement': 0.2,\n",
       " 'sign_agreement': 0.7,\n",
       " 'signed_rank_agreement': 0.2}"
      ]
     },
     "execution_count": 99,
     "metadata": {},
     "output_type": "execute_result"
    }
   ],
   "source": [
    "disagreement.get_disagreement(20, None)"
   ]
  },
  {
   "cell_type": "code",
   "execution_count": 100,
   "id": "befc29ab",
   "metadata": {},
   "outputs": [
    {
     "data": {
      "text/plain": [
       "[['School Success Rate', -0.02073560551451692],\n",
       " ['Project Cost', -0.016155206447674573],\n",
       " ['School City Success Rate', -0.007373891001113861],\n",
       " ['School County Success Rate', -0.006529038491705706],\n",
       " ['Project Resource Category', -0.006248685005766674],\n",
       " ['Project Posted Month', 0.005906740663720029],\n",
       " ['Teacher Project Posted Sequence', -0.004860845310354307],\n",
       " ['Teacher Success Rate', 0.0041988864940344685],\n",
       " ['School Percentage Free Lunch', -0.003522525960356688],\n",
       " ['Teacher Success Rate Imputed', -0.002740343722766738],\n",
       " ['School State', -0.0014524365215038415],\n",
       " ['Teacher Prefix', 0.0014260352586097725],\n",
       " ['Project Count in State', -0.000468491965712019],\n",
       " ['Project Subject Category Tree', -0.0004492578398571823],\n",
       " ['Project Grade Level Category', 0.0003245797966610553],\n",
       " ['School City Success Rate Imputed', -0.00025017424301040594],\n",
       " ['Project Subject Subcategory Tree', -0.00018697521085869084],\n",
       " ['School Success Rate Imputed', -0.0001626017453008899],\n",
       " ['School Metro Type', -0.00013262778791613527],\n",
       " ['School County Success Rate Imputed', 0.0]]"
      ]
     },
     "execution_count": 100,
     "metadata": {},
     "output_type": "execute_result"
    }
   ],
   "source": [
    "disagreement.sorted_explanation1[:20]\n"
   ]
  },
  {
   "cell_type": "code",
   "execution_count": 101,
   "id": "88848c7d",
   "metadata": {},
   "outputs": [
    {
     "data": {
      "text/plain": [
       "[['School State', -0.039534328867710765],\n",
       " ['Project Subject Subcategory Tree', 0.03927456784041016],\n",
       " ['Project Subject Category Tree', 0.03567932952839871],\n",
       " ['Project Cost', -0.02952929601923634],\n",
       " ['School Success Rate', -0.025776909203259216],\n",
       " ['Project Resource Category', -0.023836287905638617],\n",
       " ['Project Type', -0.01503048269510653],\n",
       " ['Teacher Success Rate', 0.012813475583557795],\n",
       " ['Teacher Prefix', -0.009125173179515167],\n",
       " ['Teacher Success Rate Imputed', -0.009009803255737941],\n",
       " ['School Percentage Free Lunch', -0.008126922865584042],\n",
       " ['School City Success Rate', -0.007641181462543814],\n",
       " ['Teacher Project Posted Sequence', -0.0068610916964242825],\n",
       " ['Project Posted Month', 0.006653825060046289],\n",
       " ['School County Success Rate Imputed', -0.006001961298228468],\n",
       " ['School City Success Rate Imputed', -0.005584178358922777],\n",
       " ['School Metro Type', -0.0049755677668917855],\n",
       " ['School Success Rate Imputed', -0.004736606280679097],\n",
       " ['School County Success Rate', -0.004302345526877994],\n",
       " ['Project Grade Level Category', -0.002102650708647841]]"
      ]
     },
     "execution_count": 101,
     "metadata": {},
     "output_type": "execute_result"
    }
   ],
   "source": [
    "disagreement.sorted_explanation2[:20]\n"
   ]
  },
  {
   "cell_type": "markdown",
   "id": "e3d55f7c",
   "metadata": {},
   "source": [
    "#### All the metrics shows that there is significant disagreement for the first explanation\n",
    "\n",
    "Based on top 20 features in the first explanation of lime and treeshap\n",
    "\n",
    "\n",
    "Feature Agreement 0.15: The feature agreement score is 0.15. This indicates that the top 20 features in Lime's explanation are different from TreeSHAP's top 20 features.\n",
    "\n",
    "Rank Agreement 0.05: The rank agreement score is 0.05. This means that not only are the top 20 features different, but there is also a significant difference in the order of these features between Lime and TreeSHAP.\n",
    "\n",
    "Sign Agreement 0.15: The sign agreement score is 0.15. This suggests that the top 20 features in Lime's explanation have different features compared to TreeSHAP's top 20 features when considering the sign of the feature values.\n",
    "\n",
    "Signed Rank Agreement 0.05: The signed rank agreement score is 0.05. This implies that the top 20 features in Lime's explanation not only differ in terms of the features themselves but also in their rank and sign when compared to TreeSHAP's top 20 features."
   ]
  },
  {
   "cell_type": "code",
   "execution_count": 102,
   "id": "1a6dbc83",
   "metadata": {},
   "outputs": [],
   "source": [
    "from compactor.MaxNonActivatedCompactor import MaxNonActivatedCompactor\n",
    "from compactor.MaxCompactor import MaxCompactor\n",
    "from compactor.ActivatedCompactor import ActivatedCompactor"
   ]
  },
  {
   "cell_type": "markdown",
   "id": "d54c49aa",
   "metadata": {},
   "source": [
    "## Function to calculate average Disgreement"
   ]
  },
  {
   "cell_type": "code",
   "execution_count": 129,
   "id": "54b1614f",
   "metadata": {},
   "outputs": [],
   "source": [
    "def disagreement_average(explanations1: dict , explanations2: dict , k: int, features_F: list , method = None, raw_data = None) -> dict:\n",
    "    disagreement_mean = {'feature_agreement': 0.0,\n",
    "     'rank_agreement': 0.0,\n",
    "     'sign_agreement': 0.0,\n",
    "     'signed_rank_agreement': 0.0}\n",
    "\n",
    "    for project_id in explanations1.keys():\n",
    "        \n",
    "#         print(len(explanations1.keys()))\n",
    "#         print(explanations1[project_id][:20])\n",
    "        \n",
    "#         print(explanations2[project_id][:20])\n",
    "        \n",
    "        disagreement_calc_2 = Disagreement(explanations1[project_id], explanations2[project_id])\n",
    "        \n",
    "        if method==\"max\" and raw_data!=None:\n",
    "            max_compactor = MaxCompactor(config.CATEGORICAL_COLS)\n",
    "            disagreement_calc_2.compact_features(max_compactor)\n",
    "            \n",
    "        elif method == \"activated\" and raw_data!=None:\n",
    "            activated_features = {}\n",
    "            for feature in config.CATEGORICAL_COLS:\n",
    "                activated_features[feature] = f\"{feature}_{raw_data[raw_data['Project ID'] == project_id ][feature].values[0]}\"\n",
    "            activated_compactor = ActivatedCompactor(activated_features)\n",
    "            disagreement_calc_2.compact_features(activated_compactor)\n",
    "            \n",
    "        elif method == \"maxnonactivated\" and raw_data!=None:\n",
    "            activated_features = {}\n",
    "            for feature in config.CATEGORICAL_COLS:\n",
    "                activated_features[feature] = f\"{feature}_{raw_data[raw_data['Project ID'] == project_id ][feature].values[0]}\"\n",
    "            max_activated_compactor = MaxNonActivatedCompactor(activated_features)\n",
    "            disagreement_calc_2.compact_features(max_activated_compactor)\n",
    "            \n",
    "            \n",
    "            \n",
    "            \n",
    "\n",
    "        disagreement = disagreement_calc_2.get_disagreement(k, features_F)\n",
    "        \n",
    "        \n",
    "        for key in list(disagreement_mean.keys()):\n",
    "            if disagreement[key] == None:\n",
    "                raise ValueError(f\"The value for key '{key}' in disagreement_mean is None.\")\n",
    "            disagreement_mean[key] += disagreement[key]\n",
    "            \n",
    "            \n",
    "\n",
    "    for key in list(disagreement_mean.keys()):\n",
    "        disagreement_mean[key] = round(disagreement_mean[key] / len(explanations1.keys()),3)\n",
    "\n",
    "\n",
    "#     print(\"Mean diagreement accross top 500 projects that are not going to get funded according to the model:\" )\n",
    "\n",
    "#     for key in list(disgreement_mean.keys()):\n",
    "#         print(f\"{key} : {round(disgreement_mean[key],3)}\")\n",
    "    \n",
    "    return disagreement_mean"
   ]
  },
  {
   "cell_type": "code",
   "execution_count": 130,
   "id": "553569fe",
   "metadata": {},
   "outputs": [],
   "source": [
    "\n",
    "def disgreement_mean_across__top_n(explanations, n_features, method=None, raw_data=None):\n",
    "    disgreement_mean_across__top_n_various_k = {'feature_agreement': [],\n",
    "         'rank_agreement': [],\n",
    "         'sign_agreement': [],\n",
    "         'signed_rank_agreement': []}\n",
    "\n",
    "\n",
    "    for i in range(1,n_features,1):\n",
    "        explanations_lime = disagreement_average(explanations[\"fold0\"][\"lime\"][\"top\"], explanations[\"fold0\"][\"treeshap\"][\"top\"], i, None)\n",
    "\n",
    "        for key in list(disgreement_mean_across__top_n_various_k.keys()):\n",
    "            disgreement_mean_across__top_n_various_k[key].append(explanations_lime[key])\n",
    "\n",
    "\n",
    "\n",
    "    disgreement_mean_across__bottom_n_various_k = {'feature_agreement': [],\n",
    "         'rank_agreement': [],\n",
    "         'sign_agreement': [],\n",
    "         'signed_rank_agreement': []}\n",
    "\n",
    "    for i in range(1,n_features,1):\n",
    "        explanations_lime = disagreement_average(explanations[\"fold0\"][\"lime\"][\"bottom\"], explanations[\"fold0\"][\"treeshap\"][\"bottom\"], i, None)\n",
    "\n",
    "        for key in list(disgreement_mean_across__bottom_n_various_k.keys()):\n",
    "            disgreement_mean_across__bottom_n_various_k[key].append(explanations_lime[key])\n",
    "            \n",
    "    return disgreement_mean_across__top_n_various_k, disgreement_mean_across__bottom_n_various_k\n",
    "\n",
    "\n",
    "    "
   ]
  },
  {
   "cell_type": "code",
   "execution_count": null,
   "id": "1179dd5d",
   "metadata": {},
   "outputs": [],
   "source": [
    "import matplotlib.pyplot as plt\n",
    "def plot_average_accross_n_projects_various_k_features(disgreement_mean_across__top_500_various_k, disgreement_mean_across__bottom_500_various_k):\n",
    "\n",
    "    values_of_500 = range(1, 100, 1)\n",
    "    feature_agreement_top = disgreement_mean_across__top_500_various_k[\"feature_agreement\"]\n",
    "    rank_agreement_top = disgreement_mean_across__top_500_various_k[\"rank_agreement\"]\n",
    "    sign_agreement_top = disgreement_mean_across__top_500_various_k[\"sign_agreement\"]\n",
    "    signed_rank_agreement_top = disgreement_mean_across__top_500_various_k[\"signed_rank_agreement\"]\n",
    "\n",
    "\n",
    "    feature_agreement_bottom = disgreement_mean_across__bottom_500_various_k[\"feature_agreement\"]\n",
    "    rank_agreement_bottom = disgreement_mean_across__bottom_500_various_k[\"rank_agreement\"]\n",
    "    sign_agreement_bottom = disgreement_mean_across__bottom_500_various_k[\"sign_agreement\"]\n",
    "    signed_rank_agreement_bottom = disgreement_mean_across__bottom_500_various_k[\"signed_rank_agreement\"]\n",
    "\n",
    "\n",
    "    # Create separate subplots for each agreement metric\n",
    "    fig, axs = plt.subplots(4, 1, figsize=(10, 16))\n",
    "\n",
    "    # Plot Feature Agreement for top 500\n",
    "    axs[0].plot(values_of_500, feature_agreement_top, label='Feature Agreement (Top 500)', marker='o', color='b')\n",
    "    axs[0].plot(values_of_500, feature_agreement_bottom, label='Feature Agreement (Bottom 500)', linestyle='--', marker='o', color='r')\n",
    "    axs[0].set_xlabel('Number of Features (Top K)')\n",
    "    axs[0].set_ylabel('Agreement Score')\n",
    "    axs[0].set_title('Feature Agreement vs. Number of Features (Top K)')\n",
    "    axs[0].legend()\n",
    "    axs[0].grid(True)\n",
    "\n",
    "    # Plot Rank Agreement for top 500\n",
    "    axs[1].plot(values_of_500, rank_agreement_top, label='Rank Agreement (Top 500)', marker='s', color='g')\n",
    "    axs[1].plot(values_of_500, rank_agreement_bottom, label='Rank Agreement (Bottom 500)', linestyle='--', marker='s', color='m')\n",
    "    axs[1].set_xlabel('Number of Features (Top K)')\n",
    "    axs[1].set_ylabel('Agreement Score')\n",
    "    axs[1].set_title('Rank Agreement vs. Number of Features (Top K)')\n",
    "    axs[1].legend()\n",
    "    axs[1].grid(True)\n",
    "\n",
    "    # Plot Sign Agreement for top 500\n",
    "    axs[2].plot(values_of_500, sign_agreement_top, label='Sign Agreement (Top 500)', marker='^', color='c')\n",
    "    axs[2].plot(values_of_500, sign_agreement_bottom, label='Sign Agreement (Bottom 500)', linestyle='--', marker='^', color='y')\n",
    "    axs[2].set_xlabel('Number of Features (Top K)')\n",
    "    axs[2].set_ylabel('Agreement Score')\n",
    "    axs[2].set_title('Sign Agreement vs. Number of Features (Top K)')\n",
    "    axs[2].legend()\n",
    "    axs[2].grid(True)\n",
    "\n",
    "    # Plot Signed Rank Agreement for top 500\n",
    "    axs[3].plot(values_of_500, signed_rank_agreement_top, label='Signed Rank Agreement (Top 500)', marker='x', color='k')\n",
    "    axs[3].plot(values_of_500, signed_rank_agreement_bottom, label='Signed Rank Agreement (Bottom 500)', linestyle='--', marker='x', color='orange')\n",
    "    axs[3].set_xlabel('Number of Features (Top K)')\n",
    "    axs[3].set_ylabel('Agreement Score')\n",
    "    axs[3].set_title('Signed Rank Agreement vs. Number of Features (Top K)')\n",
    "    axs[3].legend()\n",
    "    axs[3].grid(True)\n",
    "\n",
    "    # Adjust spacing between subplots\n",
    "    plt.tight_layout()\n",
    "\n",
    "    # Show the plots\n",
    "    plt.savefig(\"test.png\")\n",
    "\n"
   ]
  },
  {
   "cell_type": "code",
   "execution_count": null,
   "id": "565fd2e7",
   "metadata": {},
   "outputs": [],
   "source": [
    "disgreement_mean_across__top_500_various_k , disgreement_mean_across__bottom_500_various_k = disgreement_mean_across__top_n(explanations, 576)\n"
   ]
  },
  {
   "cell_type": "code",
   "execution_count": null,
   "id": "0a53c96c",
   "metadata": {},
   "outputs": [],
   "source": [
    "plot_average_accross_n_projects_various_k_features(disgreement_mean_across__top_500_various_k , disgreement_mean_across__bottom_500_various_k)"
   ]
  },
  {
   "cell_type": "code",
   "execution_count": null,
   "id": "cb36db75",
   "metadata": {},
   "outputs": [],
   "source": [
    "disgreement_mean_across__top_500_various_k_max , disgreement_mean_across__bottom_500_various_max = disgreement_mean_across__top_n(explanations, 20, \"max\", raw_data)\n"
   ]
  },
  {
   "cell_type": "code",
   "execution_count": null,
   "id": "12013a7a",
   "metadata": {},
   "outputs": [],
   "source": [
    "plot_average_accross_n_projects_various_k_features(disgreement_mean_across__top_500_various_k_max , disgreement_mean_across__bottom_500_various_max)"
   ]
  },
  {
   "cell_type": "code",
   "execution_count": null,
   "id": "178860c3",
   "metadata": {},
   "outputs": [],
   "source": []
  }
 ],
 "metadata": {
  "kernelspec": {
   "display_name": "xai",
   "language": "python",
   "name": "xai"
  },
  "language_info": {
   "codemirror_mode": {
    "name": "ipython",
    "version": 3
   },
   "file_extension": ".py",
   "mimetype": "text/x-python",
   "name": "python",
   "nbconvert_exporter": "python",
   "pygments_lexer": "ipython3",
   "version": "3.11.4"
  }
 },
 "nbformat": 4,
 "nbformat_minor": 5
}
