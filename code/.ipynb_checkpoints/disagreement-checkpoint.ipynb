{
 "cells": [
  {
   "cell_type": "code",
   "execution_count": 1,
   "id": "0cb0e03f",
   "metadata": {},
   "outputs": [],
   "source": [
    "from disagreement import Disagreement\n",
    "import json"
   ]
  },
  {
   "cell_type": "code",
   "execution_count": 2,
   "id": "64bb0617",
   "metadata": {},
   "outputs": [
    {
     "name": "stdout",
     "output_type": "stream",
     "text": [
      "config.py\t\t   Feature_Engineering.py   __pycache__\r\n",
      "data_processer.ipynb\t   feature_engineer.py\t    README.md\r\n",
      "data_processor.py\t   helper.py\t\t    requirements.txt\r\n",
      "disagreement.ipynb\t   kernelshap_explainer.py  run_explanations.py\r\n",
      "disagreement.py\t\t   lime_explainer.py\t    Sanity_checks.ipynb\r\n",
      "eda.py\t\t\t   main.py\t\t    temporal_features.py\r\n",
      "environment.yml\t\t   model_outputs\t    treeshap_explainer.py\r\n",
      "Feature_Engineering.ipynb  model_parameters\r\n"
     ]
    }
   ],
   "source": [
    "!ls "
   ]
  },
  {
   "cell_type": "code",
   "execution_count": 3,
   "id": "7a7aa5b3",
   "metadata": {},
   "outputs": [],
   "source": [
    "explanations = json.load(open(\"/storage/scratch/e17-fyp-xai/projects/e17-4yp-using-machine-learning-in-high-stake-settings/code/model_outputs_5/xai_results/all_exp.json\"))"
   ]
  },
  {
   "cell_type": "code",
   "execution_count": 4,
   "id": "5c7cef7c",
   "metadata": {},
   "outputs": [
    {
     "data": {
      "text/plain": [
       "dict_keys(['fold5', 'fold4', 'fold3', 'fold2', 'fold1', 'fold0'])"
      ]
     },
     "execution_count": 4,
     "metadata": {},
     "output_type": "execute_result"
    }
   ],
   "source": [
    "explanations.keys()"
   ]
  },
  {
   "cell_type": "code",
   "execution_count": 5,
   "id": "7f1b8d57",
   "metadata": {},
   "outputs": [
    {
     "data": {
      "text/plain": [
       "dict_keys(['lime', 'treeshap'])"
      ]
     },
     "execution_count": 5,
     "metadata": {},
     "output_type": "execute_result"
    }
   ],
   "source": [
    "explanations[\"fold0\"].keys()"
   ]
  },
  {
   "cell_type": "code",
   "execution_count": 6,
   "id": "367bb33b",
   "metadata": {},
   "outputs": [
    {
     "data": {
      "text/plain": [
       "dict_keys(['top', 'bottom'])"
      ]
     },
     "execution_count": 6,
     "metadata": {},
     "output_type": "execute_result"
    }
   ],
   "source": [
    "explanations[\"fold0\"][\"lime\"].keys()"
   ]
  },
  {
   "cell_type": "markdown",
   "id": "a6c9e3c9",
   "metadata": {},
   "source": [
    "Projects in the lime top explanations"
   ]
  },
  {
   "cell_type": "code",
   "execution_count": 7,
   "id": "e50da60e",
   "metadata": {},
   "outputs": [
    {
     "data": {
      "text/plain": [
       "['cdc83b2eb031d999c123535bf09d24a0',\n",
       " '203c08ca3b1e42a9ba07c93eac4c20cc',\n",
       " 'd1fb6298685f8afb718cc48543e2e244',\n",
       " 'a2d940be8dc020e99c4f23fa979994bf',\n",
       " 'f82498e55e15c90643967f8a38ddd98c',\n",
       " '53421ba867de46ff359de40e9753711e',\n",
       " '4b972ebb44d4ffc7516c8ff160301ef3',\n",
       " '243ac2a985a19d4df09c21541494dcae',\n",
       " 'd1715d9dc331bee79ee781ff26684f8f',\n",
       " '6e87bf75a7ec7e474e90aef4188a7007']"
      ]
     },
     "execution_count": 7,
     "metadata": {},
     "output_type": "execute_result"
    }
   ],
   "source": [
    "list(explanations[\"fold0\"][\"lime\"][\"top\"].keys())[:10]"
   ]
  },
  {
   "cell_type": "markdown",
   "id": "826d6e33",
   "metadata": {},
   "source": [
    "Projects in the lime bottom explanations"
   ]
  },
  {
   "cell_type": "code",
   "execution_count": 8,
   "id": "e40cb48c",
   "metadata": {},
   "outputs": [
    {
     "data": {
      "text/plain": [
       "['9922bc88316d50dc9fec75ace1f6428d',\n",
       " 'cfbd2d9e5b4e27068f9463b029a3d777',\n",
       " '93b9f3988e3941f7acf43b2917e823fe',\n",
       " '975a0183c407402eb3fc4b32fe2df0a5',\n",
       " '77d5e0dc0c59a21425cc417f43266b99',\n",
       " 'b53c6be1e99af4ad3b782cbbbc14c209',\n",
       " 'd0cfa36c791f4d83123c4b9853983418',\n",
       " 'bca108ff397e3f4461a6dbe966996eae',\n",
       " '1e45580a189dcba2b0a581aea5690850',\n",
       " '914ed5ecded471bcb3922ccf422d9265']"
      ]
     },
     "execution_count": 8,
     "metadata": {},
     "output_type": "execute_result"
    }
   ],
   "source": [
    "list(explanations[\"fold0\"][\"lime\"][\"bottom\"].keys())[:10]"
   ]
  },
  {
   "cell_type": "markdown",
   "id": "e4cd297a",
   "metadata": {},
   "source": [
    "Projects in the treeshap top explanations"
   ]
  },
  {
   "cell_type": "code",
   "execution_count": 9,
   "id": "c680855b",
   "metadata": {},
   "outputs": [
    {
     "data": {
      "text/plain": [
       "['cdc83b2eb031d999c123535bf09d24a0',\n",
       " '203c08ca3b1e42a9ba07c93eac4c20cc',\n",
       " 'd1fb6298685f8afb718cc48543e2e244',\n",
       " 'a2d940be8dc020e99c4f23fa979994bf',\n",
       " 'f82498e55e15c90643967f8a38ddd98c',\n",
       " '53421ba867de46ff359de40e9753711e',\n",
       " '4b972ebb44d4ffc7516c8ff160301ef3',\n",
       " '243ac2a985a19d4df09c21541494dcae',\n",
       " 'd1715d9dc331bee79ee781ff26684f8f',\n",
       " '6e87bf75a7ec7e474e90aef4188a7007']"
      ]
     },
     "execution_count": 9,
     "metadata": {},
     "output_type": "execute_result"
    }
   ],
   "source": [
    "list(explanations[\"fold0\"][\"treeshap\"][\"top\"].keys())[:10]"
   ]
  },
  {
   "cell_type": "markdown",
   "id": "91aa3b1c",
   "metadata": {},
   "source": [
    "Projects in the treeshap bottom explanations"
   ]
  },
  {
   "cell_type": "code",
   "execution_count": 10,
   "id": "8bea9ac3",
   "metadata": {},
   "outputs": [
    {
     "data": {
      "text/plain": [
       "['9922bc88316d50dc9fec75ace1f6428d',\n",
       " 'cfbd2d9e5b4e27068f9463b029a3d777',\n",
       " '93b9f3988e3941f7acf43b2917e823fe',\n",
       " '975a0183c407402eb3fc4b32fe2df0a5',\n",
       " '77d5e0dc0c59a21425cc417f43266b99',\n",
       " 'b53c6be1e99af4ad3b782cbbbc14c209',\n",
       " 'd0cfa36c791f4d83123c4b9853983418',\n",
       " 'bca108ff397e3f4461a6dbe966996eae',\n",
       " '1e45580a189dcba2b0a581aea5690850',\n",
       " '914ed5ecded471bcb3922ccf422d9265']"
      ]
     },
     "execution_count": 10,
     "metadata": {},
     "output_type": "execute_result"
    }
   ],
   "source": [
    "list(explanations[\"fold0\"][\"treeshap\"][\"bottom\"].keys())[:10]"
   ]
  },
  {
   "cell_type": "markdown",
   "id": "09a7c331",
   "metadata": {},
   "source": [
    "features in the lime top explanations"
   ]
  },
  {
   "cell_type": "code",
   "execution_count": 11,
   "id": "ff35f25e",
   "metadata": {},
   "outputs": [
    {
     "data": {
      "text/plain": [
       "('Project Cost',\n",
       " 'School State_New Mexico',\n",
       " 'Project Subject Subcategory Tree_Mathematics, Performing Arts',\n",
       " 'School State_Mississippi',\n",
       " 'School State_Nebraska',\n",
       " 'Project Subject Subcategory Tree_Economics, Performing Arts',\n",
       " 'Project Subject Subcategory Tree_College & Career Prep, Environmental Science',\n",
       " 'School State_Oregon',\n",
       " 'Project Subject Subcategory Tree_ESL, Performing Arts',\n",
       " 'Project Resource Category_Technology')"
      ]
     },
     "execution_count": 11,
     "metadata": {},
     "output_type": "execute_result"
    }
   ],
   "source": [
    "list(zip(*list(explanations[\"fold0\"][\"lime\"][\"top\"].values())[0][:10]))[0]"
   ]
  },
  {
   "cell_type": "markdown",
   "id": "05be9d16",
   "metadata": {},
   "source": [
    "features in the lime bottom explanations"
   ]
  },
  {
   "cell_type": "code",
   "execution_count": 12,
   "id": "a1da5403",
   "metadata": {},
   "outputs": [
    {
     "data": {
      "text/plain": [
       "('School State_New Mexico',\n",
       " 'Project Cost',\n",
       " 'School State_Mississippi',\n",
       " 'School State_Oregon',\n",
       " 'Project Subject Subcategory Tree_College & Career Prep, Early Development',\n",
       " 'Project Subject Category Tree_Music & The Arts, History & Civics',\n",
       " 'Project Subject Subcategory Tree_Literature & Writing, Other',\n",
       " 'Project Subject Subcategory Tree_Community Service, Environmental Science',\n",
       " 'Project Subject Subcategory Tree_Community Service, Mathematics',\n",
       " 'Project Subject Subcategory Tree_Civics & Government, Visual Arts')"
      ]
     },
     "execution_count": 12,
     "metadata": {},
     "output_type": "execute_result"
    }
   ],
   "source": [
    "list(zip(*list(explanations[\"fold0\"][\"lime\"][\"bottom\"].values())[0][:10]))[0]"
   ]
  },
  {
   "cell_type": "markdown",
   "id": "14f9a2b7",
   "metadata": {},
   "source": [
    "features in the treeshap top explanations"
   ]
  },
  {
   "cell_type": "code",
   "execution_count": 13,
   "id": "6ab32caf",
   "metadata": {},
   "outputs": [
    {
     "data": {
      "text/plain": [
       "('Project Cost',\n",
       " 'School State_Mississippi',\n",
       " 'Project Resource Category_Technology',\n",
       " 'Teacher Project Posted Sequence',\n",
       " 'School City Success Rate',\n",
       " 'School Success Rate',\n",
       " 'Teacher Success Rate',\n",
       " 'Teacher Success Rate Imputed',\n",
       " 'School County Success Rate',\n",
       " 'Project Count in State')"
      ]
     },
     "execution_count": 13,
     "metadata": {},
     "output_type": "execute_result"
    }
   ],
   "source": [
    "list(zip(*list(explanations[\"fold0\"][\"treeshap\"][\"top\"].values())[0][:10]))[0]"
   ]
  },
  {
   "cell_type": "markdown",
   "id": "2ae41823",
   "metadata": {},
   "source": [
    "features in the treeshap bottom explanations"
   ]
  },
  {
   "cell_type": "code",
   "execution_count": 14,
   "id": "b61ad575",
   "metadata": {},
   "outputs": [
    {
     "data": {
      "text/plain": [
       "('Project Cost',\n",
       " 'School State_Illinois',\n",
       " 'School Success Rate',\n",
       " 'Project Resource Category_Technology',\n",
       " 'Project Posted Month',\n",
       " 'Teacher Project Posted Sequence',\n",
       " 'Teacher Success Rate',\n",
       " 'Project Count in State',\n",
       " 'Project Resource Category_Books',\n",
       " 'Teacher Success Rate Imputed')"
      ]
     },
     "execution_count": 14,
     "metadata": {},
     "output_type": "execute_result"
    }
   ],
   "source": [
    "list(zip(*list(explanations[\"fold0\"][\"treeshap\"][\"bottom\"].values())[0][:10]))[0]"
   ]
  },
  {
   "cell_type": "markdown",
   "id": "67b278f9",
   "metadata": {},
   "source": [
    "### Let's say i am considering the first explanation in the treeshap and the first explanation in the lime\n",
    "\n",
    "The explanation pertains to the projects considered high critical according to the model's evaluation."
   ]
  },
  {
   "cell_type": "code",
   "execution_count": 15,
   "id": "16d3ca67",
   "metadata": {},
   "outputs": [],
   "source": [
    "disagreement = Disagreement(explanations[\"fold0\"][\"treeshap\"][\"top\"][\"cdc83b2eb031d999c123535bf09d24a0\"], explanations[\"fold0\"][\"lime\"][\"top\"][\"cdc83b2eb031d999c123535bf09d24a0\"])"
   ]
  },
  {
   "cell_type": "code",
   "execution_count": 16,
   "id": "9070d3df",
   "metadata": {},
   "outputs": [
    {
     "data": {
      "text/plain": [
       "{'feature_agreement': 0.15,\n",
       " 'rank_agreement': 0.05,\n",
       " 'sign_agreement': 0.15,\n",
       " 'signed_rank_agreement': 0.05}"
      ]
     },
     "execution_count": 16,
     "metadata": {},
     "output_type": "execute_result"
    }
   ],
   "source": [
    "disagreement.get_disagreement(20, None)"
   ]
  },
  {
   "cell_type": "code",
   "execution_count": 17,
   "id": "4a90cdd8",
   "metadata": {},
   "outputs": [
    {
     "data": {
      "text/plain": [
       "[['Project Cost', 0.05714906222884565],\n",
       " ['School State_Mississippi', 0.041025607910487455],\n",
       " ['Project Resource Category_Technology', 0.022928445398821395],\n",
       " ['Teacher Project Posted Sequence', 0.017752762721138425],\n",
       " ['School City Success Rate', 0.017585039435300587],\n",
       " ['School Success Rate', 0.014126902513215783],\n",
       " ['Teacher Success Rate', 0.009001123399286826],\n",
       " ['Teacher Success Rate Imputed', 0.0075924428426549185],\n",
       " ['School County Success Rate', 0.005877010966310081],\n",
       " ['Project Count in State', 0.003946468204571829],\n",
       " ['Project Resource Category_Books', 0.0035422505235283095],\n",
       " ['School Metro Type_unknown', 0.003488676856704842],\n",
       " ['Project Resource Category_Supplies', 0.0033089717177392686],\n",
       " ['Project Posted Month', 0.0028910216754434257],\n",
       " ['School Percentage Free Lunch', 0.0027158185248663358],\n",
       " ['Project Subject Subcategory Tree_Mathematics', 0.002388253706089927],\n",
       " ['Project Subject Category Tree_Math & Science', 0.0022903894063142616],\n",
       " ['Teacher Prefix_Ms.', 0.0016874724042918387],\n",
       " ['Project Grade Level Category_Grades PreK-2', -0.001054697545991985],\n",
       " ['School State_New York', -0.0009630994266080961]]"
      ]
     },
     "execution_count": 17,
     "metadata": {},
     "output_type": "execute_result"
    }
   ],
   "source": [
    "disagreement.sorted_explanation1[:20]"
   ]
  },
  {
   "cell_type": "code",
   "execution_count": 18,
   "id": "2e87ad2d",
   "metadata": {},
   "outputs": [
    {
     "data": {
      "text/plain": [
       "[['Project Cost', 0.05828515065993562],\n",
       " ['School State_New Mexico', -0.04561995832431883],\n",
       " ['Project Subject Subcategory Tree_Mathematics, Performing Arts',\n",
       "  -0.03652875725130923],\n",
       " ['School State_Mississippi', 0.03525123751671513],\n",
       " ['School State_Nebraska', -0.030140219371630757],\n",
       " ['Project Subject Subcategory Tree_Economics, Performing Arts',\n",
       "  0.028696205307718412],\n",
       " ['Project Subject Subcategory Tree_College & Career Prep, Environmental Science',\n",
       "  0.025975377818970764],\n",
       " ['School State_Oregon', 0.02477959436814468],\n",
       " ['Project Subject Subcategory Tree_ESL, Performing Arts',\n",
       "  0.024418609316633387],\n",
       " ['Project Resource Category_Technology', 0.02412976165593627],\n",
       " ['Project Subject Subcategory Tree_Character Education, Social Sciences',\n",
       "  -0.023669453164068096],\n",
       " ['Project Subject Category Tree_Health & Sports, Math & Science',\n",
       "  -0.023382474876373693],\n",
       " ['Project Subject Subcategory Tree_Other, Social Sciences',\n",
       "  0.023007167202545663],\n",
       " ['School State_Missouri', -0.02271869552126897],\n",
       " ['Project Subject Subcategory Tree_Early Development, Environmental Science',\n",
       "  -0.022709285230336752],\n",
       " ['Project Subject Subcategory Tree_Community Service, Extracurricular',\n",
       "  -0.02194703678332285],\n",
       " ['Project Subject Subcategory Tree_Character Education, Civics & Government',\n",
       "  -0.020616315850737355],\n",
       " ['Project Subject Subcategory Tree_Civics & Government, Community Service',\n",
       "  -0.020559947692224117],\n",
       " ['Project Subject Subcategory Tree_Foreign Languages, Health & Wellness',\n",
       "  -0.020440728560850788],\n",
       " ['Project Subject Subcategory Tree_Early Development, Health & Life Science',\n",
       "  -0.020335872198160646]]"
      ]
     },
     "execution_count": 18,
     "metadata": {},
     "output_type": "execute_result"
    }
   ],
   "source": [
    "disagreement.sorted_explanation2[:20]"
   ]
  },
  {
   "cell_type": "markdown",
   "id": "05c39e93",
   "metadata": {},
   "source": [
    "#### All the metrics shows that there is significant disagreement for the first explanation\n",
    "\n",
    "Based on top 20 features in the first explanation of lime and treeshap\n",
    "\n",
    "\n",
    "Feature Agreement 0.15: The feature agreement score is 0.15. This indicates that the top 20 features in Lime's explanation are different from TreeSHAP's top 20 features.\n",
    "\n",
    "Rank Agreement 0.05: The rank agreement score is 0.05. This means that not only are the top 20 features different, but there is also a significant difference in the order of these features between Lime and TreeSHAP.\n",
    "\n",
    "Sign Agreement 0.15: The sign agreement score is 0.15. This suggests that the top 20 features in Lime's explanation have different features compared to TreeSHAP's top 20 features when considering the sign of the feature values.\n",
    "\n",
    "Signed Rank Agreement 0.05: The signed rank agreement score is 0.05. This implies that the top 20 features in Lime's explanation not only differ in terms of the features themselves but also in their rank and sign when compared to TreeSHAP's top 20 features."
   ]
  },
  {
   "cell_type": "markdown",
   "id": "ff9949d9",
   "metadata": {},
   "source": [
    "### Let's say i am considering the last explanation in the treeshap and the first explanation in the lime \n",
    "The explanation pertains to the projects considered less critical according to the model's evaluation."
   ]
  },
  {
   "cell_type": "code",
   "execution_count": 19,
   "id": "267be259",
   "metadata": {},
   "outputs": [],
   "source": [
    "disagreement = Disagreement(explanations[\"fold0\"][\"treeshap\"][\"bottom\"][\"914ed5ecded471bcb3922ccf422d9265\"], explanations[\"fold0\"][\"lime\"][\"bottom\"][\"914ed5ecded471bcb3922ccf422d9265\"])"
   ]
  },
  {
   "cell_type": "code",
   "execution_count": 20,
   "id": "96d85af5",
   "metadata": {},
   "outputs": [
    {
     "data": {
      "text/plain": [
       "{'feature_agreement': 0.1,\n",
       " 'rank_agreement': 0.0,\n",
       " 'sign_agreement': 0.1,\n",
       " 'signed_rank_agreement': 0.0}"
      ]
     },
     "execution_count": 20,
     "metadata": {},
     "output_type": "execute_result"
    }
   ],
   "source": [
    "disagreement.get_disagreement(20, None)"
   ]
  },
  {
   "cell_type": "code",
   "execution_count": 21,
   "id": "a36b2bb2",
   "metadata": {},
   "outputs": [
    {
     "data": {
      "text/plain": [
       "[['School Success Rate', -0.02073560551451692],\n",
       " ['Project Resource Category_Books', -0.01770426358118641],\n",
       " ['Project Cost', -0.016155206447674573],\n",
       " ['School City Success Rate', -0.007373891001113861],\n",
       " ['School County Success Rate', -0.006529038491705706],\n",
       " ['Project Resource Category_Technology', -0.006248685005766674],\n",
       " ['Project Posted Month', 0.005906740663720029],\n",
       " ['Teacher Project Posted Sequence', -0.004860845310354307],\n",
       " ['Teacher Success Rate', 0.0041988864940344685],\n",
       " ['School Percentage Free Lunch', -0.003522525960356688],\n",
       " ['Teacher Success Rate Imputed', -0.002740343722766738],\n",
       " ['School State_New York', -0.0014524365215038415],\n",
       " ['Teacher Prefix_Ms.', 0.0014260352586097725],\n",
       " ['Project Resource Category_Supplies', 0.0007945032990460276],\n",
       " ['School Metro Type_urban', -0.0005636251404314408],\n",
       " ['School State_Massachusetts', 0.0005606948675085733],\n",
       " ['School State_Pennsylvania', 0.0005600543254786316],\n",
       " ['School State_New Jersey', -0.000550105219103898],\n",
       " ['Project Count in State', -0.000468491965712019],\n",
       " ['School State_Missouri', -0.00046574554151447957]]"
      ]
     },
     "execution_count": 21,
     "metadata": {},
     "output_type": "execute_result"
    }
   ],
   "source": [
    "disagreement.sorted_explanation1[:20]\n"
   ]
  },
  {
   "cell_type": "code",
   "execution_count": 22,
   "id": "d88abdb1",
   "metadata": {},
   "outputs": [
    {
     "data": {
      "text/plain": [
       "[['School State_New Mexico', -0.039534328867710765],\n",
       " ['Project Subject Subcategory Tree_Early Development, Team Sports',\n",
       "  0.03927456784041016],\n",
       " ['School State_Oregon', 0.0359405748502581],\n",
       " ['Project Subject Category Tree_Health & Sports, History & Civics',\n",
       "  0.03567932952839871],\n",
       " ['Project Subject Subcategory Tree_Character Education, Mathematics',\n",
       "  0.031610236047156556],\n",
       " ['Project Cost', -0.02952929601923634],\n",
       " ['Project Subject Subcategory Tree_Foreign Languages, Literature & Writing',\n",
       "  -0.029357881597820344],\n",
       " ['Project Subject Subcategory Tree_Environmental Science, Music',\n",
       "  0.0287163292291289],\n",
       " ['Project Subject Subcategory Tree_College & Career Prep, Financial Literacy',\n",
       "  0.028657001397669433],\n",
       " ['Project Subject Subcategory Tree_Social Sciences, Visual Arts',\n",
       "  0.028511500035182127],\n",
       " ['Project Subject Subcategory Tree_Economics, Financial Literacy',\n",
       "  -0.0282102779224615],\n",
       " ['Project Subject Subcategory Tree_ESL, History & Geography',\n",
       "  0.02800016263929736],\n",
       " ['Project Subject Subcategory Tree_College & Career Prep, Parent Involvement',\n",
       "  -0.02797217031202549],\n",
       " ['School State_Mississippi', -0.02748437033623347],\n",
       " ['Project Subject Subcategory Tree_Extracurricular, Literature & Writing',\n",
       "  0.02617007353963521],\n",
       " ['Project Subject Subcategory Tree_Other, Visual Arts', 0.02600694510316824],\n",
       " ['Project Subject Subcategory Tree_Extracurricular, Other',\n",
       "  0.025872506929650305],\n",
       " ['School Success Rate', -0.025776909203259216],\n",
       " ['Project Subject Subcategory Tree_Economics, Literature & Writing',\n",
       "  0.02557531465735924],\n",
       " ['Project Subject Subcategory Tree_Gym & Fitness, Health & Life Science',\n",
       "  0.025279784220352305]]"
      ]
     },
     "execution_count": 22,
     "metadata": {},
     "output_type": "execute_result"
    }
   ],
   "source": [
    "disagreement.sorted_explanation2[:20]"
   ]
  },
  {
   "cell_type": "markdown",
   "id": "de303bd2",
   "metadata": {},
   "source": [
    "#### All the metrics shows that there is significant disagreement for the first explanation\n",
    "\n",
    "Based on top 20 features in the first explanation of lime and treeshap\n",
    "\n",
    "\n",
    "Feature Agreement 0.1: The feature agreement score is 0.1. This indicates that the top 20 features in Lime's explanation are different from TreeSHAP's top 20 features.\n",
    "\n",
    "Rank Agreement 0.0: The rank agreement score is 0.0. This means that there are no matching top 20 features in Lime and TreeSHAP in terms of their order.\n",
    "\n",
    "Sign Agreement 0.1: The sign agreement score is 0.1. This suggests that the top 20 features in Lime's explanation have different features compared to TreeSHAP's top 20 features when considering the sign of the feature values.\n",
    "\n",
    "Signed Rank Agreement 0.0: The signed rank agreement score is 0.0. This implies that there are no top 20 features in Lime's explanation that match in terms of the features themselves, their rank, and their sign when compared to TreeSHAP's top 20 features."
   ]
  },
  {
   "cell_type": "markdown",
   "id": "b41862f1",
   "metadata": {},
   "source": [
    "## Top 500 and bottom 500 projects with top 20 features as per each explanation"
   ]
  },
  {
   "cell_type": "markdown",
   "id": "f217f041",
   "metadata": {},
   "source": [
    "### Let's say I am considering the explanations of TreeSHAP and LIME for the top 500 projects.\n",
    "The explanation pertains to the projects considered critical according to the model's evaluation."
   ]
  },
  {
   "cell_type": "code",
   "execution_count": 23,
   "id": "644de989",
   "metadata": {},
   "outputs": [
    {
     "name": "stdout",
     "output_type": "stream",
     "text": [
      "Mean diagreement accross top 500 projects that are not going to get funded according to the model:\n",
      "feature_agreement : 0.136\n",
      "rank_agreement : 0.048\n",
      "sign_agreement : 0.133\n",
      "signed_rank_agreement : 0.048\n"
     ]
    }
   ],
   "source": [
    "\n",
    "disgreement_mean_top = {'feature_agreement': 0,\n",
    " 'rank_agreement': 0,\n",
    " 'sign_agreement': 0,\n",
    " 'signed_rank_agreement': 0.0}\n",
    "\n",
    "projects = list(explanations[\"fold0\"][\"lime\"][\"top\"].keys())\n",
    "\n",
    "for project_id in projects:\n",
    "    disagreement_calc = Disagreement(explanations[\"fold0\"][\"lime\"][\"top\"][project_id], explanations[\"fold0\"][\"treeshap\"][\"top\"][project_id])\n",
    "    \n",
    "    disagreement = disagreement_calc.get_disagreement(20, None) \n",
    "    for key in list(disgreement_mean_top.keys()):\n",
    "        disgreement_mean_top[key] += disagreement[key]\n",
    "\n",
    "for key in list(disgreement_mean_top.keys()):\n",
    "    disgreement_mean_top[key] = disgreement_mean_top[key] / len(projects)\n",
    "\n",
    "print(\"Mean diagreement accross top 500 projects that are not going to get funded according to the model:\" )\n",
    "\n",
    "for key in list(disgreement_mean_top.keys()):\n",
    "    print(f\"{key} : {round(disgreement_mean_top[key],3)}\")\n",
    "\n",
    "\n",
    "    \n",
    "    \n",
    "\n",
    "    "
   ]
  },
  {
   "cell_type": "markdown",
   "id": "e78a1260",
   "metadata": {},
   "source": [
    "#### All the metrics shows that there is significant disagreement for the top 500 explanation\n",
    "\n",
    "Based on top 20 features in the first explanation of lime and treeshap\n",
    "\n",
    "\n",
    "Feature Agreement 0.136: The feature agreement score is 0.136. This indicates that the top 20 features in Lime's explanation are different from TreeSHAP's top 20 features.\n",
    "\n",
    "Rank Agreement 0.048: The rank agreement score is 0.048. This means that not only are the top 20 features different, but there is also a significant difference in the order of these features between Lime and TreeSHAP.\n",
    "\n",
    "Sign Agreement 0.133: The sign agreement score is 0.133. This suggests that the top 20 features in Lime's explanation have different features compared to TreeSHAP's top 20 features when considering the sign of the feature values.\n",
    "\n",
    "Signed Rank Agreement 0.048: The signed rank agreement score is 0.048. This implies that the top 20 features in Lime's explanation not only differ in terms of the features themselves but also in their rank and sign when compared to TreeSHAP's top 20 features."
   ]
  },
  {
   "cell_type": "markdown",
   "id": "23899074",
   "metadata": {},
   "source": [
    "### Let's say I am considering the explanations of TreeSHAP and LIME for the bottom 500 projects.\n",
    "The explanation pertains to the projects considered critical according to the model's evaluation."
   ]
  },
  {
   "cell_type": "code",
   "execution_count": 24,
   "id": "e8b348f1",
   "metadata": {},
   "outputs": [
    {
     "name": "stdout",
     "output_type": "stream",
     "text": [
      "Mean diagreement accross bottom 500 projects that are not going to get funded according to the model:\n",
      "feature_agreement : 0.129\n",
      "rank_agreement : 0.018\n",
      "sign_agreement : 0.128\n",
      "signed_rank_agreement : 0.018\n"
     ]
    }
   ],
   "source": [
    "\n",
    "disgreement_mean_bottom = {'feature_agreement': 0,\n",
    " 'rank_agreement': 0,\n",
    " 'sign_agreement': 0,\n",
    " 'signed_rank_agreement': 0.0}\n",
    "\n",
    "projects = list(explanations[\"fold0\"][\"lime\"][\"bottom\"].keys())\n",
    "\n",
    "for project_id in projects:\n",
    "    disagreement_calc = Disagreement(explanations[\"fold0\"][\"lime\"][\"bottom\"][project_id], explanations[\"fold0\"][\"treeshap\"][\"bottom\"][project_id])\n",
    "    \n",
    "    disagreement = disagreement_calc.get_disagreement(20, None) \n",
    "    for key in list(disgreement_mean_bottom.keys()):\n",
    "        disgreement_mean_bottom[key] += disagreement[key]\n",
    "\n",
    "for key in list(disgreement_mean_bottom.keys()):\n",
    "    disgreement_mean_bottom[key] = disgreement_mean_bottom[key] / len(projects)\n",
    "\n",
    "print(\"Mean diagreement accross bottom 500 projects that are not going to get funded according to the model:\" )\n",
    "\n",
    "for key in list(disgreement_mean_bottom.keys()):\n",
    "    print(f\"{key} : {round(disgreement_mean_bottom[key],3)}\")\n",
    "\n",
    "\n",
    "    \n",
    "    \n",
    "\n",
    "    "
   ]
  },
  {
   "cell_type": "markdown",
   "id": "500481d1",
   "metadata": {},
   "source": [
    "#### All the metrics shows that there is significant disagreement for the top 500 explanation\n",
    "\n",
    "Based on top 20 features in the first explanation of lime and treeshap\n",
    "\n",
    "\n",
    "Feature Agreement 0.129: The feature agreement score is 0.129. This indicates that the top 20 features in Lime's explanation are different from TreeSHAP's top 20 features.\n",
    "\n",
    "Rank Agreement 0.018: The rank agreement score is 0.018. This means that not only are the top 20 features different, but there is also a significant difference in the order of these features between Lime and TreeSHAP.\n",
    "\n",
    "Sign Agreement 0.128: The sign agreement score is 0.128. This suggests that the top 20 features in Lime's explanation have different features compared to TreeSHAP's top 20 features when considering the sign of the feature values.\n",
    "\n",
    "Signed Rank Agreement 0.018: The signed rank agreement score is 0.018. This implies that the top 20 features in Lime's explanation not only differ in terms of the features themselves but also in their rank and sign when compared to TreeSHAP's top 20 features."
   ]
  },
  {
   "cell_type": "markdown",
   "id": "4e0274c2",
   "metadata": {},
   "source": [
    "### Conclusion: the top 500 and bottom 500 connsidering the top 20 features as per each explanations\n",
    "\n",
    "When we consider the bottom and top 500 projects, where the top 500 projects are indicating a high probability of not being funded, and the bottom 500 are the opposite, ***we can observe that the bottom 500 projects shows a significant level of disagreement compared to the top 500 projects on average.***\n"
   ]
  },
  {
   "cell_type": "markdown",
   "id": "e912e38c",
   "metadata": {},
   "source": [
    "## Top 500 and bottom 500 projects with top 100 features as per each explanation"
   ]
  },
  {
   "cell_type": "markdown",
   "id": "ba807f93",
   "metadata": {},
   "source": [
    "### Let's say I am considering the explanations of TreeSHAP and LIME for the top 500 projects.\n",
    "The explanation pertains to the projects considered critical according to the model's evaluation."
   ]
  },
  {
   "cell_type": "code",
   "execution_count": 25,
   "id": "95148af3",
   "metadata": {},
   "outputs": [
    {
     "name": "stdout",
     "output_type": "stream",
     "text": [
      "Mean diagreement accross top 500 projects that are not going to get funded according to the model:\n",
      "feature_agreement : 0.201\n",
      "rank_agreement : 0.011\n",
      "sign_agreement : 0.192\n",
      "signed_rank_agreement : 0.011\n"
     ]
    }
   ],
   "source": [
    "\n",
    "disgreement_mean_top = {'feature_agreement': 0,\n",
    " 'rank_agreement': 0,\n",
    " 'sign_agreement': 0,\n",
    " 'signed_rank_agreement': 0.0}\n",
    "\n",
    "projects = list(explanations[\"fold0\"][\"lime\"][\"top\"].keys())\n",
    "\n",
    "for project_id in projects:\n",
    "    disagreement_calc = Disagreement(explanations[\"fold0\"][\"lime\"][\"top\"][project_id], explanations[\"fold0\"][\"treeshap\"][\"top\"][project_id])\n",
    "    \n",
    "    disagreement = disagreement_calc.get_disagreement(100, None) \n",
    "    for key in list(disgreement_mean_top.keys()):\n",
    "        disgreement_mean_top[key] += disagreement[key]\n",
    "\n",
    "for key in list(disgreement_mean_top.keys()):\n",
    "    disgreement_mean_top[key] = disgreement_mean_top[key] / len(projects)\n",
    "\n",
    "print(\"Mean diagreement accross top 500 projects that are not going to get funded according to the model:\" )\n",
    "\n",
    "for key in list(disgreement_mean_top.keys()):\n",
    "    print(f\"{key} : {round(disgreement_mean_top[key],3)}\")\n",
    "\n",
    "\n",
    "    \n",
    "    \n",
    "\n",
    "    "
   ]
  },
  {
   "cell_type": "markdown",
   "id": "bc480f38",
   "metadata": {},
   "source": [
    "#### All the metrics shows that there is significant disagreement for the top 500 explanation\n",
    "\n",
    "Based on top 100 features in the first explanation of lime and treeshap\n",
    "\n",
    "\n",
    "Feature Agreement 0.201: The feature agreement score is 0.201. This indicates that the top 100 features in Lime's explanation are different from TreeSHAP's top 20 features.\n",
    "\n",
    "Rank Agreement 0.011: The rank agreement score is 0.011. This means that not only are the top 100 features different, but there is also a significant difference in the order of these features between Lime and TreeSHAP.\n",
    "\n",
    "Sign Agreement 0.192: The sign agreement score is 0.192. This suggests that the top 100 features in Lime's explanation have different features compared to TreeSHAP's top 20 features when considering the sign of the feature values.\n",
    "\n",
    "Signed Rank Agreement 0.011: The signed rank agreement score is 0.011. This implies that the top 100 features in Lime's explanation not only differ in terms of the features themselves but also in their rank and sign when compared to TreeSHAP's top 20 features."
   ]
  },
  {
   "cell_type": "markdown",
   "id": "dc836da1",
   "metadata": {},
   "source": [
    "### Let's say I am considering the explanations of TreeSHAP and LIME for the bottom 500 projects.\n",
    "The explanation pertains to the projects considered critical according to the model's evaluation."
   ]
  },
  {
   "cell_type": "code",
   "execution_count": 26,
   "id": "63981f58",
   "metadata": {},
   "outputs": [
    {
     "name": "stdout",
     "output_type": "stream",
     "text": [
      "Mean diagreement accross bottom 500 projects that are not going to get funded according to the model:\n",
      "feature_agreement : 0.193\n",
      "rank_agreement : 0.005\n",
      "sign_agreement : 0.184\n",
      "signed_rank_agreement : 0.005\n"
     ]
    }
   ],
   "source": [
    "\n",
    "disgreement_mean_bottom = {'feature_agreement': 0,\n",
    " 'rank_agreement': 0,\n",
    " 'sign_agreement': 0,\n",
    " 'signed_rank_agreement': 0.0}\n",
    "\n",
    "projects = list(explanations[\"fold0\"][\"lime\"][\"bottom\"].keys())\n",
    "\n",
    "for project_id in projects:\n",
    "    disagreement_calc = Disagreement(explanations[\"fold0\"][\"lime\"][\"bottom\"][project_id], explanations[\"fold0\"][\"treeshap\"][\"bottom\"][project_id])\n",
    "    \n",
    "    disagreement = disagreement_calc.get_disagreement(100, None) \n",
    "    for key in list(disgreement_mean_bottom.keys()):\n",
    "        disgreement_mean_bottom[key] += disagreement[key]\n",
    "\n",
    "for key in list(disgreement_mean_bottom.keys()):\n",
    "    disgreement_mean_bottom[key] = disgreement_mean_bottom[key] / len(projects)\n",
    "\n",
    "print(\"Mean diagreement accross bottom 500 projects that are not going to get funded according to the model:\" )\n",
    "\n",
    "for key in list(disgreement_mean_bottom.keys()):\n",
    "    print(f\"{key} : {round(disgreement_mean_bottom[key],3)}\")\n",
    "\n",
    "\n",
    "    \n",
    "    \n",
    "\n",
    "    "
   ]
  },
  {
   "cell_type": "markdown",
   "id": "7bd081b9",
   "metadata": {},
   "source": [
    "#### All the metrics shows that there is significant disagreement for the top 500 explanation\n",
    "\n",
    "Based on top 20 features in the first explanation of lime and treeshap\n",
    "\n",
    "\n",
    "Feature Agreement 0.193: The feature agreement score is 0.193. This indicates that the top 100 features in Lime's explanation are different from TreeSHAP's top 20 features.\n",
    "\n",
    "Rank Agreement 0.005: The rank agreement score is 0.005. This means that not only are the top 100 features different, but there is also a significant difference in the order of these features between Lime and TreeSHAP.\n",
    "\n",
    "Sign Agreement 0.184: The sign agreement score is 0.184. This suggests that the top 100 features in Lime's explanation have different features compared to TreeSHAP's top 20 features when considering the sign of the feature values.\n",
    "\n",
    "Signed Rank Agreement 0.005: The signed rank agreement score is 0.005. This implies that the top 100 features in Lime's explanation not only differ in terms of the features themselves but also in their rank and sign when compared to TreeSHAP's top 100 features."
   ]
  },
  {
   "cell_type": "markdown",
   "id": "66428d1b",
   "metadata": {},
   "source": [
    "### Conclusion: the top 500 and bottom 500 connsidering the top 100 features as per each explanations\n",
    "\n",
    "When we consider the bottom and top 500 projects, where the top 500 projects are indicating a high probability of not being funded, and the bottom 500 are the opposite, ***we can observe that the bottom 500 projects shows a significant level of disagreement compared to the top 500 projects on average.***\n"
   ]
  },
  {
   "cell_type": "markdown",
   "id": "d54c49aa",
   "metadata": {},
   "source": [
    "##Function to calculate average Diagreement"
   ]
  },
  {
   "cell_type": "code",
   "execution_count": 78,
   "id": "54b1614f",
   "metadata": {},
   "outputs": [],
   "source": [
    "def disagreement_average(explanations1: dict , explanations2: dict , k: int, features_F: list) -> dict:\n",
    "    disagreement_mean = {'feature_agreement': 0.0,\n",
    "     'rank_agreement': 0.0,\n",
    "     'sign_agreement': 0.0,\n",
    "     'signed_rank_agreement': 0.0}\n",
    "\n",
    "    for project_id in explanations1.keys():\n",
    "        \n",
    "#         print(len(explanations1.keys()))\n",
    "#         print(explanations1[project_id][:20])\n",
    "        \n",
    "#         print(explanations2[project_id][:20])\n",
    "        \n",
    "        disagreement_calc_2 = Disagreement(explanations1[project_id], explanations2[project_id])\n",
    "\n",
    "        disagreement = disagreement_calc_2.get_feature_agreement(200)\n",
    "        \n",
    "        \n",
    "      \n",
    "        \n",
    "        \n",
    "        for key in list(disgreement_mean.keys()):\n",
    "            disagreement_mean[key] += disagreement[key]\n",
    "    \n",
    "\n",
    "    for key in list(disgreement_mean.keys()):\n",
    "        disagreement_mean[key] = round(disagreement_mean[key] / len(explanations1.keys()),3)\n",
    "\n",
    "\n",
    "#     print(\"Mean diagreement accross top 500 projects that are not going to get funded according to the model:\" )\n",
    "\n",
    "#     for key in list(disgreement_mean.keys()):\n",
    "#         print(f\"{key} : {round(disgreement_mean[key],3)}\")\n",
    "    \n",
    "    return disagreement_mean"
   ]
  },
  {
   "cell_type": "code",
   "execution_count": 79,
   "id": "5c868b06",
   "metadata": {},
   "outputs": [
    {
     "ename": "NameError",
     "evalue": "name 'disgreement_mean' is not defined",
     "output_type": "error",
     "traceback": [
      "\u001b[0;31m---------------------------------------------------------------------------\u001b[0m",
      "\u001b[0;31mNameError\u001b[0m                                 Traceback (most recent call last)",
      "Cell \u001b[0;32mIn[79], line 1\u001b[0m\n\u001b[0;32m----> 1\u001b[0m explanations_lime \u001b[38;5;241m=\u001b[39m disagreement_average(explanations[\u001b[38;5;124m\"\u001b[39m\u001b[38;5;124mfold0\u001b[39m\u001b[38;5;124m\"\u001b[39m][\u001b[38;5;124m\"\u001b[39m\u001b[38;5;124mtreeshap\u001b[39m\u001b[38;5;124m\"\u001b[39m][\u001b[38;5;124m\"\u001b[39m\u001b[38;5;124mtop\u001b[39m\u001b[38;5;124m\"\u001b[39m], explanations[\u001b[38;5;124m\"\u001b[39m\u001b[38;5;124mfold0\u001b[39m\u001b[38;5;124m\"\u001b[39m][\u001b[38;5;124m\"\u001b[39m\u001b[38;5;124mtreeshap\u001b[39m\u001b[38;5;124m\"\u001b[39m][\u001b[38;5;124m\"\u001b[39m\u001b[38;5;124mtop\u001b[39m\u001b[38;5;124m\"\u001b[39m], \u001b[38;5;241m0\u001b[39m, \u001b[38;5;28;01mNone\u001b[39;00m)\n\u001b[1;32m      2\u001b[0m \u001b[38;5;28mprint\u001b[39m(explanations_lime)\n",
      "Cell \u001b[0;32mIn[78], line 22\u001b[0m, in \u001b[0;36mdisagreement_average\u001b[0;34m(explanations1, explanations2, k, features_F)\u001b[0m\n\u001b[1;32m     14\u001b[0m     disagreement_calc_2 \u001b[38;5;241m=\u001b[39m Disagreement(explanations1[project_id], explanations2[project_id])\n\u001b[1;32m     16\u001b[0m     disagreement \u001b[38;5;241m=\u001b[39m disagreement_calc_2\u001b[38;5;241m.\u001b[39mget_feature_agreement(\u001b[38;5;241m200\u001b[39m)\n\u001b[0;32m---> 22\u001b[0m     \u001b[38;5;28;01mfor\u001b[39;00m key \u001b[38;5;129;01min\u001b[39;00m \u001b[38;5;28mlist\u001b[39m(disgreement_mean\u001b[38;5;241m.\u001b[39mkeys()):\n\u001b[1;32m     23\u001b[0m         disagreement_mean[key] \u001b[38;5;241m+\u001b[39m\u001b[38;5;241m=\u001b[39m disagreement[key]\n\u001b[1;32m     26\u001b[0m \u001b[38;5;28;01mfor\u001b[39;00m key \u001b[38;5;129;01min\u001b[39;00m \u001b[38;5;28mlist\u001b[39m(disgreement_mean\u001b[38;5;241m.\u001b[39mkeys()):\n",
      "\u001b[0;31mNameError\u001b[0m: name 'disgreement_mean' is not defined"
     ]
    }
   ],
   "source": [
    "explanations_lime = disagreement_average(explanations[\"fold0\"][\"treeshap\"][\"top\"], explanations[\"fold0\"][\"treeshap\"][\"top\"], 0, None)\n",
    "print(explanations_lime)"
   ]
  },
  {
   "cell_type": "code",
   "execution_count": 44,
   "id": "553569fe",
   "metadata": {},
   "outputs": [
    {
     "name": "stderr",
     "output_type": "stream",
     "text": [
      "IOPub data rate exceeded.\n",
      "The notebook server will temporarily stop sending output\n",
      "to the client in order to avoid crashing it.\n",
      "To change this limit, set the config variable\n",
      "`--NotebookApp.iopub_data_rate_limit`.\n",
      "\n",
      "Current values:\n",
      "NotebookApp.iopub_data_rate_limit=1000000.0 (bytes/sec)\n",
      "NotebookApp.rate_limit_window=3.0 (secs)\n",
      "\n"
     ]
    }
   ],
   "source": [
    "\n",
    "disgreement_mean_across_various_k = {'feature_agreement': [],\n",
    "     'rank_agreement': [],\n",
    "     'sign_agreement': [],\n",
    "     'signed_rank_agreement': []}\n",
    "\n",
    "\n",
    "for i in range(1,20,1):\n",
    "    explanations_lime = disagreement_average(explanations[\"fold0\"][\"lime\"][\"top\"], explanations[\"fold0\"][\"treeshap\"][\"top\"], i, None)\n",
    "    \n",
    "    for key in list(disgreement_mean_across_various_k.keys()):\n",
    "        disgreement_mean_across_various_k[key].append(explanations_lime[key])\n",
    "    \n",
    "\n",
    "# explanations_treeshap = explanations[\"fold0\"][\"treeshap\"][\"top\"]\n",
    "# print(disagreement_average(explanations_treeshap, 500, None))\n",
    "\n",
    "    \n",
    "\n",
    "print(disgreement_mean_across_various_k)\n",
    "\n",
    "    \n",
    "    \n",
    "\n",
    "    "
   ]
  },
  {
   "cell_type": "code",
   "execution_count": 30,
   "id": "1179dd5d",
   "metadata": {},
   "outputs": [
    {
     "data": {
      "image/png": "[encoded data removed]",
      "text/plain": [
       "<Figure size 1000x600 with 1 Axes>"
      ]
     },
     "metadata": {},
     "output_type": "display_data"
    }
   ],
   "source": [
    "import matplotlib.pyplot as plt\n",
    "\n",
    "# Example data for agreement metrics with different values of 500\n",
    "values_of_500 = range(1,20,1)\n",
    "feature_agreement = disgreement_mean_across_various_k[\"feature_agreement\"]\n",
    "rank_agreement = disgreement_mean_across_various_k[\"rank_agreement\"]\n",
    "sign_agreement = disgreement_mean_across_various_k[\"sign_agreement\"]\n",
    "signed_rank_agreement = disgreement_mean_across_various_k[\"signed_rank_agreement\"]\n",
    "\n",
    "plt.figure(figsize=(10, 6))\n",
    "\n",
    "# Plotting feature agreement\n",
    "plt.plot(values_of_500, feature_agreement, label='Feature Agreement', marker='o')\n",
    "# Plotting rank agreement\n",
    "plt.plot(values_of_500, rank_agreement, label='Rank Agreement', marker='o')\n",
    "# Plotting sign agreement\n",
    "plt.plot(values_of_500, sign_agreement, label='Sign Agreement', marker='o')\n",
    "# Plotting signed rank agreement\n",
    "plt.plot(values_of_500, signed_rank_agreement, label='Signed Rank Agreement', marker='o')\n",
    "\n",
    "plt.xlabel('Number of Projects (Top N)')\n",
    "plt.ylabel('Agreement Score')\n",
    "plt.title('Agreement Metrics vs. Number of Projects (Top N)')\n",
    "plt.legend()\n",
    "plt.grid(True)\n",
    "\n",
    "plt.show()\n"
   ]
  },
  {
   "cell_type": "code",
   "execution_count": null,
   "id": "c4626151",
   "metadata": {},
   "outputs": [],
   "source": []
  },
  {
   "cell_type": "code",
   "execution_count": null,
   "id": "67bc9f5d",
   "metadata": {},
   "outputs": [],
   "source": []
  },
  {
   "cell_type": "code",
   "execution_count": null,
   "id": "6175dfa4",
   "metadata": {},
   "outputs": [],
   "source": []
  },
  {
   "cell_type": "code",
   "execution_count": null,
   "id": "a6fc06a3",
   "metadata": {},
   "outputs": [],
   "source": []
  },
  {
   "cell_type": "code",
   "execution_count": null,
   "id": "358307c6",
   "metadata": {},
   "outputs": [],
   "source": []
  },
  {
   "cell_type": "code",
   "execution_count": null,
   "id": "cb935329",
   "metadata": {},
   "outputs": [],
   "source": []
  },
  {
   "cell_type": "code",
   "execution_count": null,
   "id": "442c9e14",
   "metadata": {},
   "outputs": [],
   "source": []
  }
 ],
 "metadata": {
  "kernelspec": {
   "display_name": "xai",
   "language": "python",
   "name": "xai"
  },
  "language_info": {
   "codemirror_mode": {
    "name": "ipython",
    "version": 3
   },
   "file_extension": ".py",
   "mimetype": "text/x-python",
   "name": "python",
   "nbconvert_exporter": "python",
   "pygments_lexer": "ipython3",
   "version": "3.11.4"
  }
 },
 "nbformat": 4,
 "nbformat_minor": 5
}
