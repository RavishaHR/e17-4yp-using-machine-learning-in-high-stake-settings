{
 "cells": [
  {
   "cell_type": "code",
   "execution_count": 1,
   "id": "0145d873",
   "metadata": {},
   "outputs": [],
   "source": [
    "import pandas as pd"
   ]
  },
  {
   "cell_type": "code",
   "execution_count": 2,
   "id": "dc8929e3",
   "metadata": {},
   "outputs": [],
   "source": [
    "from pandas import Timestamp"
   ]
  },
  {
   "cell_type": "code",
   "execution_count": 3,
   "id": "1c7eb972",
   "metadata": {},
   "outputs": [],
   "source": [
    "import numpy as np"
   ]
  },
  {
   "cell_type": "code",
   "execution_count": 4,
   "id": "6f1682ff",
   "metadata": {},
   "outputs": [],
   "source": [
    "donations = pd.read_csv(\"./Donations.csv\")"
   ]
  },
  {
   "cell_type": "code",
   "execution_count": 5,
   "id": "944bcb7c",
   "metadata": {},
   "outputs": [],
   "source": [
    "projects = pd.read_csv(\"./Projects.csv\")"
   ]
  },
  {
   "cell_type": "code",
   "execution_count": 6,
   "id": "5c41a563",
   "metadata": {},
   "outputs": [
    {
     "name": "stderr",
     "output_type": "stream",
     "text": [
      "/var/folders/yl/9bnyyv317zx6n3nl5t7jy2n80000gn/T/ipykernel_13450/3144490450.py:1: DtypeWarning: Columns (4) have mixed types. Specify dtype option on import or set low_memory=False.\n",
      "  donors = pd.read_csv(\"./Donors.csv\")\n"
     ]
    }
   ],
   "source": [
    "donors = pd.read_csv(\"./Donors.csv\")"
   ]
  },
  {
   "cell_type": "code",
   "execution_count": 7,
   "id": "c5e32e18",
   "metadata": {},
   "outputs": [
    {
     "data": {
      "text/plain": [
       "Project ID                          1110017\n",
       "School ID                           1110017\n",
       "Teacher ID                          1110017\n",
       "Teacher Project Posted Sequence     1110017\n",
       "Project Type                        1110017\n",
       "Project Title                       1110011\n",
       "Project Essay                       1110016\n",
       "Project Short Description           1110014\n",
       "Project Need Statement              1110014\n",
       "Project Subject Category Tree       1109988\n",
       "Project Subject Subcategory Tree    1109988\n",
       "Project Grade Level Category        1110017\n",
       "Project Resource Category           1109981\n",
       "Project Cost                        1110017\n",
       "Project Posted Date                 1110017\n",
       "Project Expiration Date             1110003\n",
       "Project Current Status              1110017\n",
       "Project Fully Funded Date            826764\n",
       "dtype: int64"
      ]
     },
     "execution_count": 7,
     "metadata": {},
     "output_type": "execute_result"
    }
   ],
   "source": [
    "projects.count()"
   ]
  },
  {
   "cell_type": "code",
   "execution_count": 8,
   "id": "dffcefed",
   "metadata": {},
   "outputs": [],
   "source": [
    "project_max_date = Timestamp('2018-01-01')\n",
    "project_min_date = Timestamp('2013-01-01')\n",
    "donations_max_date = Timestamp('2018-05-01')\n",
    "donations_min_date = Timestamp('2013-01-01')"
   ]
  },
  {
   "cell_type": "code",
   "execution_count": null,
   "id": "129669cc",
   "metadata": {},
   "outputs": [],
   "source": []
  },
  {
   "cell_type": "code",
   "execution_count": 9,
   "id": "50c8aff2",
   "metadata": {},
   "outputs": [],
   "source": [
    "donations[\"Donation Received Date\"] = pd.to_datetime(donations[\"Donation Received Date\"])\n",
    "projects[\"Project Posted Date\"] = pd.to_datetime(projects[\"Project Posted Date\"])"
   ]
  },
  {
   "cell_type": "code",
   "execution_count": 10,
   "id": "b3d0316a",
   "metadata": {},
   "outputs": [
    {
     "data": {
      "text/plain": [
       "Timestamp('2018-05-09 11:38:47')"
      ]
     },
     "execution_count": 10,
     "metadata": {},
     "output_type": "execute_result"
    }
   ],
   "source": [
    "donations[\"Donation Received Date\"].max()"
   ]
  },
  {
   "cell_type": "code",
   "execution_count": 11,
   "id": "9eb0c29e",
   "metadata": {},
   "outputs": [
    {
     "data": {
      "text/plain": [
       "Timestamp('2018-05-01 00:00:00')"
      ]
     },
     "execution_count": 11,
     "metadata": {},
     "output_type": "execute_result"
    }
   ],
   "source": [
    "projects[\"Project Posted Date\"].max()"
   ]
  },
  {
   "cell_type": "code",
   "execution_count": 12,
   "id": "cc56e595",
   "metadata": {},
   "outputs": [
    {
     "data": {
      "text/plain": [
       "Timestamp('2012-10-08 13:53:00')"
      ]
     },
     "execution_count": 12,
     "metadata": {},
     "output_type": "execute_result"
    }
   ],
   "source": [
    "donations[\"Donation Received Date\"].min()"
   ]
  },
  {
   "cell_type": "code",
   "execution_count": 13,
   "id": "6522193d",
   "metadata": {},
   "outputs": [
    {
     "data": {
      "text/plain": [
       "Timestamp('2013-01-01 00:00:00')"
      ]
     },
     "execution_count": 13,
     "metadata": {},
     "output_type": "execute_result"
    }
   ],
   "source": [
    "projects[\"Project Posted Date\"].min()"
   ]
  },
  {
   "cell_type": "code",
   "execution_count": 14,
   "id": "810654df",
   "metadata": {},
   "outputs": [],
   "source": [
    "donations = donations[donations[\"Donation Received Date\"] > donations_min_date]\n",
    "donations = donations[donations[\"Donation Received Date\"] < donations_max_date]\n",
    "projects = projects[projects[\"Project Posted Date\"] < project_max_date]\n",
    "projects = projects[projects[\"Project Posted Date\"] > project_min_date]"
   ]
  },
  {
   "cell_type": "code",
   "execution_count": 15,
   "id": "78ac67c5",
   "metadata": {},
   "outputs": [
    {
     "data": {
      "text/plain": [
       "Project ID                             4662374\n",
       "Donation ID                            4662374\n",
       "Donor ID                               4662374\n",
       "Donation Included Optional Donation    4662374\n",
       "Donation Amount                        4662374\n",
       "Donor Cart Sequence                    4662374\n",
       "Donation Received Date                 4662374\n",
       "dtype: int64"
      ]
     },
     "execution_count": 15,
     "metadata": {},
     "output_type": "execute_result"
    }
   ],
   "source": [
    "donations.count()"
   ]
  },
  {
   "cell_type": "code",
   "execution_count": 16,
   "id": "311f8566",
   "metadata": {},
   "outputs": [
    {
     "data": {
      "text/plain": [
       "Project ID                          979436\n",
       "School ID                           979436\n",
       "Teacher ID                          979436\n",
       "Teacher Project Posted Sequence     979436\n",
       "Project Type                        979436\n",
       "Project Title                       979430\n",
       "Project Essay                       979435\n",
       "Project Short Description           979433\n",
       "Project Need Statement              979433\n",
       "Project Subject Category Tree       979407\n",
       "Project Subject Subcategory Tree    979407\n",
       "Project Grade Level Category        979436\n",
       "Project Resource Category           979400\n",
       "Project Cost                        979436\n",
       "Project Posted Date                 979436\n",
       "Project Expiration Date             979427\n",
       "Project Current Status              979436\n",
       "Project Fully Funded Date           738785\n",
       "dtype: int64"
      ]
     },
     "execution_count": 16,
     "metadata": {},
     "output_type": "execute_result"
    }
   ],
   "source": [
    "projects.count()"
   ]
  },
  {
   "cell_type": "code",
   "execution_count": 17,
   "id": "beb72922",
   "metadata": {},
   "outputs": [
    {
     "data": {
      "text/plain": [
       "Index(['Project ID', 'School ID', 'Teacher ID',\n",
       "       'Teacher Project Posted Sequence', 'Project Type', 'Project Title',\n",
       "       'Project Essay', 'Project Short Description', 'Project Need Statement',\n",
       "       'Project Subject Category Tree', 'Project Subject Subcategory Tree',\n",
       "       'Project Grade Level Category', 'Project Resource Category',\n",
       "       'Project Cost', 'Project Posted Date', 'Project Expiration Date',\n",
       "       'Project Current Status', 'Project Fully Funded Date'],\n",
       "      dtype='object')"
      ]
     },
     "execution_count": 17,
     "metadata": {},
     "output_type": "execute_result"
    }
   ],
   "source": [
    "projects.columns"
   ]
  },
  {
   "cell_type": "code",
   "execution_count": 18,
   "id": "0577a280",
   "metadata": {},
   "outputs": [],
   "source": [
    "projects = projects.drop(['Project Title', 'Project Essay', 'Project Short Description', 'Project Need Statement', 'Project Current Status'], axis=1)"
   ]
  },
  {
   "cell_type": "code",
   "execution_count": 19,
   "id": "46b3d1f5",
   "metadata": {},
   "outputs": [
    {
     "data": {
      "text/plain": [
       "13"
      ]
     },
     "execution_count": 19,
     "metadata": {},
     "output_type": "execute_result"
    }
   ],
   "source": [
    "projects.columns.size"
   ]
  },
  {
   "cell_type": "code",
   "execution_count": 20,
   "id": "d65eebdc",
   "metadata": {},
   "outputs": [],
   "source": [
    "donations = donations.drop([\"Donation Included Optional Donation\", \"Donor Cart Sequence\"], axis=1)"
   ]
  },
  {
   "cell_type": "code",
   "execution_count": 21,
   "id": "f3d0c102",
   "metadata": {},
   "outputs": [
    {
     "data": {
      "text/html": [
       "<div>\n",
       "<style scoped>\n",
       "    .dataframe tbody tr th:only-of-type {\n",
       "        vertical-align: middle;\n",
       "    }\n",
       "\n",
       "    .dataframe tbody tr th {\n",
       "        vertical-align: top;\n",
       "    }\n",
       "\n",
       "    .dataframe thead th {\n",
       "        text-align: right;\n",
       "    }\n",
       "</style>\n",
       "<table border=\"1\" class=\"dataframe\">\n",
       "  <thead>\n",
       "    <tr style=\"text-align: right;\">\n",
       "      <th></th>\n",
       "      <th>Project ID</th>\n",
       "      <th>Donation ID</th>\n",
       "      <th>Donor ID</th>\n",
       "      <th>Donation Amount</th>\n",
       "      <th>Donation Received Date</th>\n",
       "    </tr>\n",
       "  </thead>\n",
       "  <tbody>\n",
       "    <tr>\n",
       "      <th>0</th>\n",
       "      <td>000009891526c0ade7180f8423792063</td>\n",
       "      <td>688729120858666221208529ee3fc18e</td>\n",
       "      <td>1f4b5b6e68445c6c4a0509b3aca93f38</td>\n",
       "      <td>178.37</td>\n",
       "      <td>2016-08-23 13:15:57</td>\n",
       "    </tr>\n",
       "    <tr>\n",
       "      <th>1</th>\n",
       "      <td>000009891526c0ade7180f8423792063</td>\n",
       "      <td>dcf1071da3aa3561f91ac689d1f73dee</td>\n",
       "      <td>4aaab6d244bf3599682239ed5591af8a</td>\n",
       "      <td>25.00</td>\n",
       "      <td>2016-06-06 20:05:23</td>\n",
       "    </tr>\n",
       "    <tr>\n",
       "      <th>2</th>\n",
       "      <td>000009891526c0ade7180f8423792063</td>\n",
       "      <td>18a234b9d1e538c431761d521ea7799d</td>\n",
       "      <td>0b0765dc9c759adc48a07688ba25e94e</td>\n",
       "      <td>20.00</td>\n",
       "      <td>2016-06-06 14:08:46</td>\n",
       "    </tr>\n",
       "    <tr>\n",
       "      <th>3</th>\n",
       "      <td>000009891526c0ade7180f8423792063</td>\n",
       "      <td>38d2744bf9138b0b57ed581c76c0e2da</td>\n",
       "      <td>377944ad61f72d800b25ec1862aec363</td>\n",
       "      <td>25.00</td>\n",
       "      <td>2016-05-15 10:23:04</td>\n",
       "    </tr>\n",
       "    <tr>\n",
       "      <th>4</th>\n",
       "      <td>000009891526c0ade7180f8423792063</td>\n",
       "      <td>5a032791e31167a70206bfb86fb60035</td>\n",
       "      <td>6d5b22d39e68c656071a842732c63a0c</td>\n",
       "      <td>25.00</td>\n",
       "      <td>2016-05-17 01:23:38</td>\n",
       "    </tr>\n",
       "  </tbody>\n",
       "</table>\n",
       "</div>"
      ],
      "text/plain": [
       "                         Project ID                       Donation ID  \\\n",
       "0  000009891526c0ade7180f8423792063  688729120858666221208529ee3fc18e   \n",
       "1  000009891526c0ade7180f8423792063  dcf1071da3aa3561f91ac689d1f73dee   \n",
       "2  000009891526c0ade7180f8423792063  18a234b9d1e538c431761d521ea7799d   \n",
       "3  000009891526c0ade7180f8423792063  38d2744bf9138b0b57ed581c76c0e2da   \n",
       "4  000009891526c0ade7180f8423792063  5a032791e31167a70206bfb86fb60035   \n",
       "\n",
       "                           Donor ID  Donation Amount Donation Received Date  \n",
       "0  1f4b5b6e68445c6c4a0509b3aca93f38           178.37    2016-08-23 13:15:57  \n",
       "1  4aaab6d244bf3599682239ed5591af8a            25.00    2016-06-06 20:05:23  \n",
       "2  0b0765dc9c759adc48a07688ba25e94e            20.00    2016-06-06 14:08:46  \n",
       "3  377944ad61f72d800b25ec1862aec363            25.00    2016-05-15 10:23:04  \n",
       "4  6d5b22d39e68c656071a842732c63a0c            25.00    2016-05-17 01:23:38  "
      ]
     },
     "execution_count": 21,
     "metadata": {},
     "output_type": "execute_result"
    }
   ],
   "source": [
    "donations.head()"
   ]
  },
  {
   "cell_type": "code",
   "execution_count": 22,
   "id": "b88cde4d",
   "metadata": {},
   "outputs": [
    {
     "data": {
      "text/plain": [
       "True"
      ]
     },
     "execution_count": 22,
     "metadata": {},
     "output_type": "execute_result"
    }
   ],
   "source": [
    "projects[\"Project ID\"].count() == projects[\"Project ID\"].nunique()"
   ]
  },
  {
   "cell_type": "code",
   "execution_count": 23,
   "id": "a62bf35f",
   "metadata": {},
   "outputs": [
    {
     "data": {
      "text/plain": [
       "40"
      ]
     },
     "execution_count": 23,
     "metadata": {},
     "output_type": "execute_result"
    }
   ],
   "source": [
    "donations[\"Donation ID\"].count() - donations[\"Donation ID\"].nunique()"
   ]
  },
  {
   "cell_type": "code",
   "execution_count": 24,
   "id": "96363855",
   "metadata": {},
   "outputs": [],
   "source": [
    "donations.sort_values(by=[\"Donation ID\", \"Donation Received Date\"], inplace=True)\n",
    "donations.drop_duplicates(subset=[\"Donation ID\"], keep=\"last\", inplace=True)"
   ]
  },
  {
   "cell_type": "code",
   "execution_count": 25,
   "id": "2cd25c07",
   "metadata": {},
   "outputs": [
    {
     "data": {
      "text/plain": [
       "0"
      ]
     },
     "execution_count": 25,
     "metadata": {},
     "output_type": "execute_result"
    }
   ],
   "source": [
    "donations[\"Donation ID\"].count() - donations[\"Donation ID\"].nunique()"
   ]
  },
  {
   "cell_type": "code",
   "execution_count": 26,
   "id": "8b764265",
   "metadata": {},
   "outputs": [
    {
     "name": "stdout",
     "output_type": "stream",
     "text": [
      "Project ID                          979436\n",
      "School ID                           979436\n",
      "Teacher ID                          979436\n",
      "Teacher Project Posted Sequence     979436\n",
      "Project Type                        979436\n",
      "Project Subject Category Tree       979407\n",
      "Project Subject Subcategory Tree    979407\n",
      "Project Grade Level Category        979436\n",
      "Project Resource Category           979400\n",
      "Project Cost                        979436\n",
      "Project Posted Date                 979436\n",
      "Project Expiration Date             979427\n",
      "Project Fully Funded Date           738785\n",
      "dtype: int64\n",
      "Project ID                4662334\n",
      "Donation ID               4662334\n",
      "Donor ID                  4662334\n",
      "Donation Amount           4662334\n",
      "Donation Received Date    4662334\n",
      "dtype: int64\n"
     ]
    }
   ],
   "source": [
    "print(projects.count())\n",
    "print(donations.count())"
   ]
  },
  {
   "cell_type": "code",
   "execution_count": 27,
   "id": "dae7265e",
   "metadata": {},
   "outputs": [],
   "source": [
    "project_donations = projects.merge(donations, on='Project ID', how='left')"
   ]
  },
  {
   "cell_type": "code",
   "execution_count": 28,
   "id": "4d6de50c",
   "metadata": {},
   "outputs": [
    {
     "data": {
      "text/plain": [
       "Project ID                          4433037\n",
       "School ID                           4433037\n",
       "Teacher ID                          4433037\n",
       "Teacher Project Posted Sequence     4433037\n",
       "Project Type                        4433037\n",
       "Project Subject Category Tree       4432916\n",
       "Project Subject Subcategory Tree    4432916\n",
       "Project Grade Level Category        4433037\n",
       "Project Resource Category           4432893\n",
       "Project Cost                        4433037\n",
       "Project Posted Date                 4433037\n",
       "Project Expiration Date             4433026\n",
       "Project Fully Funded Date           3934570\n",
       "Donation ID                         4239997\n",
       "Donor ID                            4239997\n",
       "Donation Amount                     4239997\n",
       "Donation Received Date              4239997\n",
       "dtype: int64"
      ]
     },
     "execution_count": 28,
     "metadata": {},
     "output_type": "execute_result"
    }
   ],
   "source": [
    "project_donations.count()"
   ]
  },
  {
   "cell_type": "code",
   "execution_count": 29,
   "id": "40f490a8",
   "metadata": {},
   "outputs": [],
   "source": [
    "donors = donors[[\"Donor ID\", \"Donor Is Teacher\"]]"
   ]
  },
  {
   "cell_type": "code",
   "execution_count": 30,
   "id": "d86e2536",
   "metadata": {},
   "outputs": [],
   "source": [
    "project_donations_donors = project_donations.merge(donors, on='Donor ID', how='left')"
   ]
  },
  {
   "cell_type": "code",
   "execution_count": 31,
   "id": "b7212186",
   "metadata": {},
   "outputs": [
    {
     "data": {
      "text/plain": [
       "Project ID                          4433037\n",
       "School ID                           4433037\n",
       "Teacher ID                          4433037\n",
       "Teacher Project Posted Sequence     4433037\n",
       "Project Type                        4433037\n",
       "Project Subject Category Tree       4432916\n",
       "Project Subject Subcategory Tree    4432916\n",
       "Project Grade Level Category        4433037\n",
       "Project Resource Category           4432893\n",
       "Project Cost                        4433037\n",
       "Project Posted Date                 4433037\n",
       "Project Expiration Date             4433026\n",
       "Project Fully Funded Date           3934570\n",
       "Donation ID                         4239997\n",
       "Donor ID                            4239997\n",
       "Donation Amount                     4239997\n",
       "Donation Received Date              4239997\n",
       "Donor Is Teacher                    4239992\n",
       "dtype: int64"
      ]
     },
     "execution_count": 31,
     "metadata": {},
     "output_type": "execute_result"
    }
   ],
   "source": [
    "project_donations_donors.count()"
   ]
  },
  {
   "cell_type": "code",
   "execution_count": 32,
   "id": "37de1c06",
   "metadata": {},
   "outputs": [
    {
     "data": {
      "text/html": [
       "<div>\n",
       "<style scoped>\n",
       "    .dataframe tbody tr th:only-of-type {\n",
       "        vertical-align: middle;\n",
       "    }\n",
       "\n",
       "    .dataframe tbody tr th {\n",
       "        vertical-align: top;\n",
       "    }\n",
       "\n",
       "    .dataframe thead th {\n",
       "        text-align: right;\n",
       "    }\n",
       "</style>\n",
       "<table border=\"1\" class=\"dataframe\">\n",
       "  <thead>\n",
       "    <tr style=\"text-align: right;\">\n",
       "      <th></th>\n",
       "      <th>Project ID</th>\n",
       "      <th>School ID</th>\n",
       "      <th>Teacher ID</th>\n",
       "      <th>Teacher Project Posted Sequence</th>\n",
       "      <th>Project Type</th>\n",
       "      <th>Project Subject Category Tree</th>\n",
       "      <th>Project Subject Subcategory Tree</th>\n",
       "      <th>Project Grade Level Category</th>\n",
       "      <th>Project Resource Category</th>\n",
       "      <th>Project Cost</th>\n",
       "      <th>Project Posted Date</th>\n",
       "      <th>Project Expiration Date</th>\n",
       "      <th>Project Fully Funded Date</th>\n",
       "      <th>Donation ID</th>\n",
       "      <th>Donor ID</th>\n",
       "      <th>Donation Amount</th>\n",
       "      <th>Donation Received Date</th>\n",
       "      <th>Donor Is Teacher</th>\n",
       "    </tr>\n",
       "  </thead>\n",
       "  <tbody>\n",
       "    <tr>\n",
       "      <th>0</th>\n",
       "      <td>7b017fa79510998c3960ed8f3b47c7c9</td>\n",
       "      <td>9ae756303b7919428b455baae0eb1998</td>\n",
       "      <td>70c5ec84f5faae238a0b17cd755921ce</td>\n",
       "      <td>4</td>\n",
       "      <td>Teacher-Led</td>\n",
       "      <td>Literacy &amp; Language, Math &amp; Science</td>\n",
       "      <td>Literacy, Mathematics</td>\n",
       "      <td>Grades 3-5</td>\n",
       "      <td>Technology</td>\n",
       "      <td>347.93</td>\n",
       "      <td>2013-01-02</td>\n",
       "      <td>2013-05-31</td>\n",
       "      <td>NaN</td>\n",
       "      <td>0df1f587f4544de7d033d4eac68a69a1</td>\n",
       "      <td>8dd44940c567893c3f57e2534430752c</td>\n",
       "      <td>50.00</td>\n",
       "      <td>2013-05-15 15:55:53</td>\n",
       "      <td>No</td>\n",
       "    </tr>\n",
       "    <tr>\n",
       "      <th>1</th>\n",
       "      <td>b12c0c126c64963305a51ca60f687b53</td>\n",
       "      <td>0917cacae1d752ab5ead1cf1d9e86d59</td>\n",
       "      <td>4e8d5828adb05503f825d30d8a5c93a9</td>\n",
       "      <td>10</td>\n",
       "      <td>Teacher-Led</td>\n",
       "      <td>Math &amp; Science</td>\n",
       "      <td>Applied Sciences</td>\n",
       "      <td>Grades 6-8</td>\n",
       "      <td>Technology</td>\n",
       "      <td>527.05</td>\n",
       "      <td>2013-01-02</td>\n",
       "      <td>2013-06-01</td>\n",
       "      <td>NaN</td>\n",
       "      <td>a3860c0de4eff71b5421e996d23ba504</td>\n",
       "      <td>1962145118a5a9618d965044b721afd9</td>\n",
       "      <td>100.00</td>\n",
       "      <td>2013-01-03 10:57:28</td>\n",
       "      <td>No</td>\n",
       "    </tr>\n",
       "    <tr>\n",
       "      <th>2</th>\n",
       "      <td>f00d5e1740d3b36e1edbaf770d6b08c4</td>\n",
       "      <td>0737f34d03196b62fc2bc1fc2e5c2672</td>\n",
       "      <td>2d5176b68bedd91b7bde3054d6dbdf5c</td>\n",
       "      <td>3</td>\n",
       "      <td>Teacher-Led</td>\n",
       "      <td>Math &amp; Science, Literacy &amp; Language</td>\n",
       "      <td>Health &amp; Life Science, Literacy</td>\n",
       "      <td>Grades PreK-2</td>\n",
       "      <td>Books</td>\n",
       "      <td>254.85</td>\n",
       "      <td>2013-01-02</td>\n",
       "      <td>2013-05-31</td>\n",
       "      <td>2013-05-25</td>\n",
       "      <td>16d0d868e724426319f81855262a1e8e</td>\n",
       "      <td>cb0b14571e2d2c7a484e4e85d3d6b52f</td>\n",
       "      <td>50.00</td>\n",
       "      <td>2013-04-05 12:59:54</td>\n",
       "      <td>No</td>\n",
       "    </tr>\n",
       "    <tr>\n",
       "      <th>3</th>\n",
       "      <td>f00d5e1740d3b36e1edbaf770d6b08c4</td>\n",
       "      <td>0737f34d03196b62fc2bc1fc2e5c2672</td>\n",
       "      <td>2d5176b68bedd91b7bde3054d6dbdf5c</td>\n",
       "      <td>3</td>\n",
       "      <td>Teacher-Led</td>\n",
       "      <td>Math &amp; Science, Literacy &amp; Language</td>\n",
       "      <td>Health &amp; Life Science, Literacy</td>\n",
       "      <td>Grades PreK-2</td>\n",
       "      <td>Books</td>\n",
       "      <td>254.85</td>\n",
       "      <td>2013-01-02</td>\n",
       "      <td>2013-05-31</td>\n",
       "      <td>2013-05-25</td>\n",
       "      <td>93cf2f52d6197a06f6dee1103859a331</td>\n",
       "      <td>4d47f946ffdeb59d4ff30ec21b2d68fa</td>\n",
       "      <td>50.00</td>\n",
       "      <td>2013-05-10 20:25:26</td>\n",
       "      <td>No</td>\n",
       "    </tr>\n",
       "    <tr>\n",
       "      <th>4</th>\n",
       "      <td>f00d5e1740d3b36e1edbaf770d6b08c4</td>\n",
       "      <td>0737f34d03196b62fc2bc1fc2e5c2672</td>\n",
       "      <td>2d5176b68bedd91b7bde3054d6dbdf5c</td>\n",
       "      <td>3</td>\n",
       "      <td>Teacher-Led</td>\n",
       "      <td>Math &amp; Science, Literacy &amp; Language</td>\n",
       "      <td>Health &amp; Life Science, Literacy</td>\n",
       "      <td>Grades PreK-2</td>\n",
       "      <td>Books</td>\n",
       "      <td>254.85</td>\n",
       "      <td>2013-01-02</td>\n",
       "      <td>2013-05-31</td>\n",
       "      <td>2013-05-25</td>\n",
       "      <td>987b25323a4b14bb5d50fa9daf7098c4</td>\n",
       "      <td>0e345dcdef0d2a36c9bd17bf1ac3e10a</td>\n",
       "      <td>26.02</td>\n",
       "      <td>2013-05-19 00:14:10</td>\n",
       "      <td>No</td>\n",
       "    </tr>\n",
       "  </tbody>\n",
       "</table>\n",
       "</div>"
      ],
      "text/plain": [
       "                         Project ID                         School ID  \\\n",
       "0  7b017fa79510998c3960ed8f3b47c7c9  9ae756303b7919428b455baae0eb1998   \n",
       "1  b12c0c126c64963305a51ca60f687b53  0917cacae1d752ab5ead1cf1d9e86d59   \n",
       "2  f00d5e1740d3b36e1edbaf770d6b08c4  0737f34d03196b62fc2bc1fc2e5c2672   \n",
       "3  f00d5e1740d3b36e1edbaf770d6b08c4  0737f34d03196b62fc2bc1fc2e5c2672   \n",
       "4  f00d5e1740d3b36e1edbaf770d6b08c4  0737f34d03196b62fc2bc1fc2e5c2672   \n",
       "\n",
       "                         Teacher ID  Teacher Project Posted Sequence  \\\n",
       "0  70c5ec84f5faae238a0b17cd755921ce                                4   \n",
       "1  4e8d5828adb05503f825d30d8a5c93a9                               10   \n",
       "2  2d5176b68bedd91b7bde3054d6dbdf5c                                3   \n",
       "3  2d5176b68bedd91b7bde3054d6dbdf5c                                3   \n",
       "4  2d5176b68bedd91b7bde3054d6dbdf5c                                3   \n",
       "\n",
       "  Project Type        Project Subject Category Tree  \\\n",
       "0  Teacher-Led  Literacy & Language, Math & Science   \n",
       "1  Teacher-Led                       Math & Science   \n",
       "2  Teacher-Led  Math & Science, Literacy & Language   \n",
       "3  Teacher-Led  Math & Science, Literacy & Language   \n",
       "4  Teacher-Led  Math & Science, Literacy & Language   \n",
       "\n",
       "  Project Subject Subcategory Tree Project Grade Level Category  \\\n",
       "0            Literacy, Mathematics                   Grades 3-5   \n",
       "1                 Applied Sciences                   Grades 6-8   \n",
       "2  Health & Life Science, Literacy                Grades PreK-2   \n",
       "3  Health & Life Science, Literacy                Grades PreK-2   \n",
       "4  Health & Life Science, Literacy                Grades PreK-2   \n",
       "\n",
       "  Project Resource Category  Project Cost Project Posted Date  \\\n",
       "0                Technology        347.93          2013-01-02   \n",
       "1                Technology        527.05          2013-01-02   \n",
       "2                     Books        254.85          2013-01-02   \n",
       "3                     Books        254.85          2013-01-02   \n",
       "4                     Books        254.85          2013-01-02   \n",
       "\n",
       "  Project Expiration Date Project Fully Funded Date  \\\n",
       "0              2013-05-31                       NaN   \n",
       "1              2013-06-01                       NaN   \n",
       "2              2013-05-31                2013-05-25   \n",
       "3              2013-05-31                2013-05-25   \n",
       "4              2013-05-31                2013-05-25   \n",
       "\n",
       "                        Donation ID                          Donor ID  \\\n",
       "0  0df1f587f4544de7d033d4eac68a69a1  8dd44940c567893c3f57e2534430752c   \n",
       "1  a3860c0de4eff71b5421e996d23ba504  1962145118a5a9618d965044b721afd9   \n",
       "2  16d0d868e724426319f81855262a1e8e  cb0b14571e2d2c7a484e4e85d3d6b52f   \n",
       "3  93cf2f52d6197a06f6dee1103859a331  4d47f946ffdeb59d4ff30ec21b2d68fa   \n",
       "4  987b25323a4b14bb5d50fa9daf7098c4  0e345dcdef0d2a36c9bd17bf1ac3e10a   \n",
       "\n",
       "   Donation Amount Donation Received Date Donor Is Teacher  \n",
       "0            50.00    2013-05-15 15:55:53               No  \n",
       "1           100.00    2013-01-03 10:57:28               No  \n",
       "2            50.00    2013-04-05 12:59:54               No  \n",
       "3            50.00    2013-05-10 20:25:26               No  \n",
       "4            26.02    2013-05-19 00:14:10               No  "
      ]
     },
     "execution_count": 32,
     "metadata": {},
     "output_type": "execute_result"
    }
   ],
   "source": [
    "project_donations_donors.head()"
   ]
  },
  {
   "cell_type": "code",
   "execution_count": 33,
   "id": "ba448280",
   "metadata": {},
   "outputs": [
    {
     "data": {
      "text/plain": [
       "(1157094, 18)"
      ]
     },
     "execution_count": 33,
     "metadata": {},
     "output_type": "execute_result"
    }
   ],
   "source": [
    "project_donations_donors[project_donations_donors['Donor Is Teacher'] == 'Yes'].shape"
   ]
  },
  {
   "cell_type": "code",
   "execution_count": 34,
   "id": "fb32d418",
   "metadata": {},
   "outputs": [
    {
     "data": {
      "text/plain": [
       "(3082898, 18)"
      ]
     },
     "execution_count": 34,
     "metadata": {},
     "output_type": "execute_result"
    }
   ],
   "source": [
    "project_donations_donors[project_donations_donors['Donor Is Teacher'] == 'No'].shape"
   ]
  },
  {
   "cell_type": "code",
   "execution_count": 35,
   "id": "3ee9529f",
   "metadata": {},
   "outputs": [],
   "source": [
    "# logic dropping teacher donations\n",
    "project_donations_donors = project_donations_donors[project_donations_donors['Donor Is Teacher'] != 'Yes']"
   ]
  },
  {
   "cell_type": "code",
   "execution_count": 36,
   "id": "7e69935b",
   "metadata": {},
   "outputs": [
    {
     "data": {
      "text/plain": [
       "(3275943, 18)"
      ]
     },
     "execution_count": 36,
     "metadata": {},
     "output_type": "execute_result"
    }
   ],
   "source": [
    "project_donations_donors.shape"
   ]
  },
  {
   "cell_type": "code",
   "execution_count": 37,
   "id": "93e87153",
   "metadata": {},
   "outputs": [],
   "source": [
    "project_donations_donors = project_donations_donors.drop(['Donor Is Teacher', 'Donor ID'], axis=1)"
   ]
  },
  {
   "cell_type": "code",
   "execution_count": 38,
   "id": "f0bf0e65",
   "metadata": {},
   "outputs": [],
   "source": [
    "DONATION_PERIOD = 30\n",
    "THRESHOLD_RATIO = 0.4\n",
    "project_donations_donors[\"Posted Date to Donation Date\"] = project_donations_donors[\"Donation Received Date\"] - project_donations_donors[\"Project Posted Date\"]\n",
    "project_donations_donors[\"Posted Date to Donation Date\"] = project_donations_donors[\"Posted Date to Donation Date\"].dt.days"
   ]
  },
  {
   "cell_type": "code",
   "execution_count": 39,
   "id": "cb343a03",
   "metadata": {},
   "outputs": [],
   "source": [
    "data = project_donations_donors[project_donations_donors[\"Posted Date to Donation Date\"] < DONATION_PERIOD]"
   ]
  },
  {
   "cell_type": "code",
   "execution_count": 40,
   "id": "705cd1d9",
   "metadata": {},
   "outputs": [],
   "source": [
    "# data.sort_values(by=\"Posted Date to Donation Date\", inplace=True)"
   ]
  },
  {
   "cell_type": "code",
   "execution_count": 41,
   "id": "008f59a0",
   "metadata": {},
   "outputs": [
    {
     "data": {
      "text/html": [
       "<div>\n",
       "<style scoped>\n",
       "    .dataframe tbody tr th:only-of-type {\n",
       "        vertical-align: middle;\n",
       "    }\n",
       "\n",
       "    .dataframe tbody tr th {\n",
       "        vertical-align: top;\n",
       "    }\n",
       "\n",
       "    .dataframe thead th {\n",
       "        text-align: right;\n",
       "    }\n",
       "</style>\n",
       "<table border=\"1\" class=\"dataframe\">\n",
       "  <thead>\n",
       "    <tr style=\"text-align: right;\">\n",
       "      <th></th>\n",
       "      <th>Project ID</th>\n",
       "      <th>School ID</th>\n",
       "      <th>Teacher ID</th>\n",
       "      <th>Teacher Project Posted Sequence</th>\n",
       "      <th>Project Type</th>\n",
       "      <th>Project Subject Category Tree</th>\n",
       "      <th>Project Subject Subcategory Tree</th>\n",
       "      <th>Project Grade Level Category</th>\n",
       "      <th>Project Resource Category</th>\n",
       "      <th>Project Cost</th>\n",
       "      <th>Project Posted Date</th>\n",
       "      <th>Project Expiration Date</th>\n",
       "      <th>Project Fully Funded Date</th>\n",
       "      <th>Donation ID</th>\n",
       "      <th>Donation Amount</th>\n",
       "      <th>Donation Received Date</th>\n",
       "      <th>Posted Date to Donation Date</th>\n",
       "    </tr>\n",
       "  </thead>\n",
       "  <tbody>\n",
       "    <tr>\n",
       "      <th>1</th>\n",
       "      <td>b12c0c126c64963305a51ca60f687b53</td>\n",
       "      <td>0917cacae1d752ab5ead1cf1d9e86d59</td>\n",
       "      <td>4e8d5828adb05503f825d30d8a5c93a9</td>\n",
       "      <td>10</td>\n",
       "      <td>Teacher-Led</td>\n",
       "      <td>Math &amp; Science</td>\n",
       "      <td>Applied Sciences</td>\n",
       "      <td>Grades 6-8</td>\n",
       "      <td>Technology</td>\n",
       "      <td>527.05</td>\n",
       "      <td>2013-01-02</td>\n",
       "      <td>2013-06-01</td>\n",
       "      <td>NaN</td>\n",
       "      <td>a3860c0de4eff71b5421e996d23ba504</td>\n",
       "      <td>100.0</td>\n",
       "      <td>2013-01-03 10:57:28</td>\n",
       "      <td>1.0</td>\n",
       "    </tr>\n",
       "    <tr>\n",
       "      <th>6</th>\n",
       "      <td>45503329ec0026437c81a1e64505f853</td>\n",
       "      <td>886008686134c6cc871c81eeb428e64d</td>\n",
       "      <td>a52b97c6a2fbf0e035dc09d5de7c16e3</td>\n",
       "      <td>7</td>\n",
       "      <td>Teacher-Led</td>\n",
       "      <td>History &amp; Civics, Literacy &amp; Language</td>\n",
       "      <td>Economics, Literacy</td>\n",
       "      <td>Grades PreK-2</td>\n",
       "      <td>Technology</td>\n",
       "      <td>565.87</td>\n",
       "      <td>2013-01-02</td>\n",
       "      <td>2013-05-31</td>\n",
       "      <td>2013-01-21</td>\n",
       "      <td>07ff9f8bb9817537135b7606669db689</td>\n",
       "      <td>1.0</td>\n",
       "      <td>2013-01-14 21:50:16</td>\n",
       "      <td>12.0</td>\n",
       "    </tr>\n",
       "    <tr>\n",
       "      <th>7</th>\n",
       "      <td>45503329ec0026437c81a1e64505f853</td>\n",
       "      <td>886008686134c6cc871c81eeb428e64d</td>\n",
       "      <td>a52b97c6a2fbf0e035dc09d5de7c16e3</td>\n",
       "      <td>7</td>\n",
       "      <td>Teacher-Led</td>\n",
       "      <td>History &amp; Civics, Literacy &amp; Language</td>\n",
       "      <td>Economics, Literacy</td>\n",
       "      <td>Grades PreK-2</td>\n",
       "      <td>Technology</td>\n",
       "      <td>565.87</td>\n",
       "      <td>2013-01-02</td>\n",
       "      <td>2013-05-31</td>\n",
       "      <td>2013-01-21</td>\n",
       "      <td>160a4d42e6c583413f506b14e3f36028</td>\n",
       "      <td>1.0</td>\n",
       "      <td>2013-01-15 01:25:01</td>\n",
       "      <td>13.0</td>\n",
       "    </tr>\n",
       "    <tr>\n",
       "      <th>8</th>\n",
       "      <td>45503329ec0026437c81a1e64505f853</td>\n",
       "      <td>886008686134c6cc871c81eeb428e64d</td>\n",
       "      <td>a52b97c6a2fbf0e035dc09d5de7c16e3</td>\n",
       "      <td>7</td>\n",
       "      <td>Teacher-Led</td>\n",
       "      <td>History &amp; Civics, Literacy &amp; Language</td>\n",
       "      <td>Economics, Literacy</td>\n",
       "      <td>Grades PreK-2</td>\n",
       "      <td>Technology</td>\n",
       "      <td>565.87</td>\n",
       "      <td>2013-01-02</td>\n",
       "      <td>2013-05-31</td>\n",
       "      <td>2013-01-21</td>\n",
       "      <td>1afad1806258ea5b6e07b10e0a63d56e</td>\n",
       "      <td>1.0</td>\n",
       "      <td>2013-01-12 21:10:01</td>\n",
       "      <td>10.0</td>\n",
       "    </tr>\n",
       "    <tr>\n",
       "      <th>9</th>\n",
       "      <td>45503329ec0026437c81a1e64505f853</td>\n",
       "      <td>886008686134c6cc871c81eeb428e64d</td>\n",
       "      <td>a52b97c6a2fbf0e035dc09d5de7c16e3</td>\n",
       "      <td>7</td>\n",
       "      <td>Teacher-Led</td>\n",
       "      <td>History &amp; Civics, Literacy &amp; Language</td>\n",
       "      <td>Economics, Literacy</td>\n",
       "      <td>Grades PreK-2</td>\n",
       "      <td>Technology</td>\n",
       "      <td>565.87</td>\n",
       "      <td>2013-01-02</td>\n",
       "      <td>2013-05-31</td>\n",
       "      <td>2013-01-21</td>\n",
       "      <td>1cc37a654fc257d3c0eb391aaa26db19</td>\n",
       "      <td>1.0</td>\n",
       "      <td>2013-01-21 00:35:02</td>\n",
       "      <td>19.0</td>\n",
       "    </tr>\n",
       "  </tbody>\n",
       "</table>\n",
       "</div>"
      ],
      "text/plain": [
       "                         Project ID                         School ID  \\\n",
       "1  b12c0c126c64963305a51ca60f687b53  0917cacae1d752ab5ead1cf1d9e86d59   \n",
       "6  45503329ec0026437c81a1e64505f853  886008686134c6cc871c81eeb428e64d   \n",
       "7  45503329ec0026437c81a1e64505f853  886008686134c6cc871c81eeb428e64d   \n",
       "8  45503329ec0026437c81a1e64505f853  886008686134c6cc871c81eeb428e64d   \n",
       "9  45503329ec0026437c81a1e64505f853  886008686134c6cc871c81eeb428e64d   \n",
       "\n",
       "                         Teacher ID  Teacher Project Posted Sequence  \\\n",
       "1  4e8d5828adb05503f825d30d8a5c93a9                               10   \n",
       "6  a52b97c6a2fbf0e035dc09d5de7c16e3                                7   \n",
       "7  a52b97c6a2fbf0e035dc09d5de7c16e3                                7   \n",
       "8  a52b97c6a2fbf0e035dc09d5de7c16e3                                7   \n",
       "9  a52b97c6a2fbf0e035dc09d5de7c16e3                                7   \n",
       "\n",
       "  Project Type          Project Subject Category Tree  \\\n",
       "1  Teacher-Led                         Math & Science   \n",
       "6  Teacher-Led  History & Civics, Literacy & Language   \n",
       "7  Teacher-Led  History & Civics, Literacy & Language   \n",
       "8  Teacher-Led  History & Civics, Literacy & Language   \n",
       "9  Teacher-Led  History & Civics, Literacy & Language   \n",
       "\n",
       "  Project Subject Subcategory Tree Project Grade Level Category  \\\n",
       "1                 Applied Sciences                   Grades 6-8   \n",
       "6              Economics, Literacy                Grades PreK-2   \n",
       "7              Economics, Literacy                Grades PreK-2   \n",
       "8              Economics, Literacy                Grades PreK-2   \n",
       "9              Economics, Literacy                Grades PreK-2   \n",
       "\n",
       "  Project Resource Category  Project Cost Project Posted Date  \\\n",
       "1                Technology        527.05          2013-01-02   \n",
       "6                Technology        565.87          2013-01-02   \n",
       "7                Technology        565.87          2013-01-02   \n",
       "8                Technology        565.87          2013-01-02   \n",
       "9                Technology        565.87          2013-01-02   \n",
       "\n",
       "  Project Expiration Date Project Fully Funded Date  \\\n",
       "1              2013-06-01                       NaN   \n",
       "6              2013-05-31                2013-01-21   \n",
       "7              2013-05-31                2013-01-21   \n",
       "8              2013-05-31                2013-01-21   \n",
       "9              2013-05-31                2013-01-21   \n",
       "\n",
       "                        Donation ID  Donation Amount Donation Received Date  \\\n",
       "1  a3860c0de4eff71b5421e996d23ba504            100.0    2013-01-03 10:57:28   \n",
       "6  07ff9f8bb9817537135b7606669db689              1.0    2013-01-14 21:50:16   \n",
       "7  160a4d42e6c583413f506b14e3f36028              1.0    2013-01-15 01:25:01   \n",
       "8  1afad1806258ea5b6e07b10e0a63d56e              1.0    2013-01-12 21:10:01   \n",
       "9  1cc37a654fc257d3c0eb391aaa26db19              1.0    2013-01-21 00:35:02   \n",
       "\n",
       "   Posted Date to Donation Date  \n",
       "1                           1.0  \n",
       "6                          12.0  \n",
       "7                          13.0  \n",
       "8                          10.0  \n",
       "9                          19.0  "
      ]
     },
     "execution_count": 41,
     "metadata": {},
     "output_type": "execute_result"
    }
   ],
   "source": [
    "data.head()"
   ]
  },
  {
   "cell_type": "code",
   "execution_count": 42,
   "id": "9af75f10",
   "metadata": {},
   "outputs": [
    {
     "data": {
      "text/plain": [
       "Project ID                          3186\n",
       "School ID                           3186\n",
       "Teacher ID                          3186\n",
       "Teacher Project Posted Sequence     3186\n",
       "Project Type                        3186\n",
       "Project Subject Category Tree       3185\n",
       "Project Subject Subcategory Tree    3185\n",
       "Project Grade Level Category        3186\n",
       "Project Resource Category           3185\n",
       "Project Cost                        3186\n",
       "Project Posted Date                 3186\n",
       "Project Expiration Date             3186\n",
       "Project Fully Funded Date           3076\n",
       "Donation ID                         3186\n",
       "Donation Amount                     3186\n",
       "Donation Received Date              3186\n",
       "Posted Date to Donation Date        3186\n",
       "dtype: int64"
      ]
     },
     "execution_count": 42,
     "metadata": {},
     "output_type": "execute_result"
    }
   ],
   "source": [
    "data[data[\"Posted Date to Donation Date\"] < 0].count()"
   ]
  },
  {
   "cell_type": "code",
   "execution_count": 43,
   "id": "e27d4f25",
   "metadata": {},
   "outputs": [],
   "source": [
    "data = data[data[\"Posted Date to Donation Date\"] >= 0]"
   ]
  },
  {
   "cell_type": "code",
   "execution_count": 44,
   "id": "364111be",
   "metadata": {},
   "outputs": [
    {
     "data": {
      "text/plain": [
       "Project ID                          2162865\n",
       "School ID                           2162865\n",
       "Teacher ID                          2162865\n",
       "Teacher Project Posted Sequence     2162865\n",
       "Project Type                        2162865\n",
       "Project Subject Category Tree       2162810\n",
       "Project Subject Subcategory Tree    2162810\n",
       "Project Grade Level Category        2162865\n",
       "Project Resource Category           2162799\n",
       "Project Cost                        2162865\n",
       "Project Posted Date                 2162865\n",
       "Project Expiration Date             2162863\n",
       "Project Fully Funded Date           2019778\n",
       "Donation ID                         2162865\n",
       "Donation Amount                     2162865\n",
       "Donation Received Date              2162865\n",
       "Posted Date to Donation Date        2162865\n",
       "dtype: int64"
      ]
     },
     "execution_count": 44,
     "metadata": {},
     "output_type": "execute_result"
    }
   ],
   "source": [
    "data.count()"
   ]
  },
  {
   "cell_type": "code",
   "execution_count": 45,
   "id": "1ba2a27a",
   "metadata": {},
   "outputs": [],
   "source": [
    "data[\"Total Donations In The Period\"] = data.groupby(\"Project ID\")[\"Donation Amount\"].transform(\"sum\")"
   ]
  },
  {
   "cell_type": "code",
   "execution_count": 46,
   "id": "b7c1f1c7",
   "metadata": {},
   "outputs": [],
   "source": [
    "data[\"Fund Ratio\"] = np.where(\n",
    "        data[\"Project Cost\"] > 0,\n",
    "        data[\"Total Donations In The Period\"] / data[\"Project Cost\"], 1\n",
    ")"
   ]
  },
  {
   "cell_type": "code",
   "execution_count": 47,
   "id": "2d882726",
   "metadata": {},
   "outputs": [],
   "source": [
    "data = data.drop([\"Donation ID\", \"Donation Amount\", \"Donation Received Date\", \"Total Donations In The Period\"], axis=1)"
   ]
  },
  {
   "cell_type": "code",
   "execution_count": 48,
   "id": "4a5976d9",
   "metadata": {},
   "outputs": [],
   "source": [
    "data.drop_duplicates(subset=\"Project ID\", keep=\"first\", inplace=True)"
   ]
  },
  {
   "cell_type": "code",
   "execution_count": 49,
   "id": "6ade705f",
   "metadata": {},
   "outputs": [
    {
     "data": {
      "text/plain": [
       "Project ID                          579343\n",
       "School ID                           579343\n",
       "Teacher ID                          579343\n",
       "Teacher Project Posted Sequence     579343\n",
       "Project Type                        579343\n",
       "Project Subject Category Tree       579330\n",
       "Project Subject Subcategory Tree    579330\n",
       "Project Grade Level Category        579343\n",
       "Project Resource Category           579326\n",
       "Project Cost                        579343\n",
       "Project Posted Date                 579343\n",
       "Project Expiration Date             579342\n",
       "Project Fully Funded Date           508724\n",
       "Posted Date to Donation Date        579343\n",
       "Fund Ratio                          579343\n",
       "dtype: int64"
      ]
     },
     "execution_count": 49,
     "metadata": {},
     "output_type": "execute_result"
    }
   ],
   "source": [
    "data.count()"
   ]
  },
  {
   "cell_type": "code",
   "execution_count": 50,
   "id": "87c29c9f",
   "metadata": {},
   "outputs": [],
   "source": [
    "# \"Not get funded\" is 1\n",
    "data[\"Label\"] = data.apply(lambda x: 1 if x[\"Fund Ratio\"] < 0.4 else 0, axis=1)"
   ]
  },
  {
   "cell_type": "code",
   "execution_count": 51,
   "id": "95b30a91",
   "metadata": {},
   "outputs": [
    {
     "data": {
      "text/plain": [
       "Label\n",
       "1    307492\n",
       "0    271851\n",
       "Name: count, dtype: int64"
      ]
     },
     "execution_count": 51,
     "metadata": {},
     "output_type": "execute_result"
    }
   ],
   "source": [
    "data[\"Label\"].value_counts()"
   ]
  },
  {
   "cell_type": "code",
   "execution_count": 52,
   "id": "3353eb30",
   "metadata": {},
   "outputs": [],
   "source": [
    "data_test = data[[\"Fund Ratio\", \"Label\", \"Project Fully Funded Date\"]]\n",
    "data_test = data_test[(data_test[\"Label\"] == 1) & (data_test[\"Project Fully Funded Date\"].notna())]\n",
    "# data_test \n",
    "# really_not_funded = 69954\n",
    "# really_funded = 271188\n"
   ]
  },
  {
   "cell_type": "code",
   "execution_count": 53,
   "id": "1f770a86",
   "metadata": {},
   "outputs": [],
   "source": [
    "labelled_data_p_d_d = data.drop([\"Project Fully Funded Date\", \"Posted Date to Donation Date\", \"Fund Ratio\"], axis=1)"
   ]
  },
  {
   "cell_type": "code",
   "execution_count": 54,
   "id": "3d6b25f1",
   "metadata": {},
   "outputs": [
    {
     "data": {
      "text/plain": [
       "(579343, 13)"
      ]
     },
     "execution_count": 54,
     "metadata": {},
     "output_type": "execute_result"
    }
   ],
   "source": [
    "labelled_data_p_d_d.shape"
   ]
  },
  {
   "cell_type": "code",
   "execution_count": 55,
   "id": "ec057444",
   "metadata": {},
   "outputs": [],
   "source": [
    "teachers = pd.read_csv(\"./Teachers.csv\")"
   ]
  },
  {
   "cell_type": "code",
   "execution_count": 56,
   "id": "a5dea6f1",
   "metadata": {},
   "outputs": [
    {
     "data": {
      "text/plain": [
       "Teacher ID                           402900\n",
       "Teacher Prefix                       402872\n",
       "Teacher First Project Posted Date    402900\n",
       "dtype: int64"
      ]
     },
     "execution_count": 56,
     "metadata": {},
     "output_type": "execute_result"
    }
   ],
   "source": [
    "teachers.count()"
   ]
  },
  {
   "cell_type": "code",
   "execution_count": 57,
   "id": "46682de1",
   "metadata": {},
   "outputs": [],
   "source": [
    "labelled_data_p_d_d_t = labelled_data_p_d_d.merge(teachers, on=\"Teacher ID\", how=\"left\")"
   ]
  },
  {
   "cell_type": "code",
   "execution_count": 58,
   "id": "6f5d48be",
   "metadata": {},
   "outputs": [],
   "source": [
    "schools = pd.read_csv(\"./Schools.csv\")"
   ]
  },
  {
   "cell_type": "code",
   "execution_count": 59,
   "id": "ca51906e",
   "metadata": {},
   "outputs": [
    {
     "data": {
      "text/plain": [
       "School ID                       72993\n",
       "School Name                     72993\n",
       "School Metro Type               72993\n",
       "School Percentage Free Lunch    71852\n",
       "School State                    72993\n",
       "School Zip                      72993\n",
       "School City                     72766\n",
       "School County                   72991\n",
       "School District                 72993\n",
       "dtype: int64"
      ]
     },
     "execution_count": 59,
     "metadata": {},
     "output_type": "execute_result"
    }
   ],
   "source": [
    "schools.count()"
   ]
  },
  {
   "cell_type": "code",
   "execution_count": 60,
   "id": "d8bbe772",
   "metadata": {},
   "outputs": [
    {
     "data": {
      "text/html": [
       "<div>\n",
       "<style scoped>\n",
       "    .dataframe tbody tr th:only-of-type {\n",
       "        vertical-align: middle;\n",
       "    }\n",
       "\n",
       "    .dataframe tbody tr th {\n",
       "        vertical-align: top;\n",
       "    }\n",
       "\n",
       "    .dataframe thead th {\n",
       "        text-align: right;\n",
       "    }\n",
       "</style>\n",
       "<table border=\"1\" class=\"dataframe\">\n",
       "  <thead>\n",
       "    <tr style=\"text-align: right;\">\n",
       "      <th></th>\n",
       "      <th>School ID</th>\n",
       "      <th>School Name</th>\n",
       "      <th>School Metro Type</th>\n",
       "      <th>School Percentage Free Lunch</th>\n",
       "      <th>School State</th>\n",
       "      <th>School Zip</th>\n",
       "      <th>School City</th>\n",
       "      <th>School County</th>\n",
       "      <th>School District</th>\n",
       "    </tr>\n",
       "  </thead>\n",
       "  <tbody>\n",
       "    <tr>\n",
       "      <th>0</th>\n",
       "      <td>00003e0fdd601b8ea0a6eb44057b9c5e</td>\n",
       "      <td>Capon Bridge Middle School</td>\n",
       "      <td>rural</td>\n",
       "      <td>56.0</td>\n",
       "      <td>West Virginia</td>\n",
       "      <td>26711</td>\n",
       "      <td>Capon Bridge</td>\n",
       "      <td>Hampshire</td>\n",
       "      <td>Hampshire Co School District</td>\n",
       "    </tr>\n",
       "    <tr>\n",
       "      <th>1</th>\n",
       "      <td>00004e32a448b4832e1b993500bf0731</td>\n",
       "      <td>The Woodlands College Park High School</td>\n",
       "      <td>urban</td>\n",
       "      <td>41.0</td>\n",
       "      <td>Texas</td>\n",
       "      <td>77384</td>\n",
       "      <td>The Woodlands</td>\n",
       "      <td>Montgomery</td>\n",
       "      <td>Conroe Ind School District</td>\n",
       "    </tr>\n",
       "    <tr>\n",
       "      <th>2</th>\n",
       "      <td>0002021bb799f28de224f1acc1ff08c4</td>\n",
       "      <td>Samantha Smith Elementary School</td>\n",
       "      <td>suburban</td>\n",
       "      <td>2.0</td>\n",
       "      <td>Washington</td>\n",
       "      <td>98074</td>\n",
       "      <td>Sammamish</td>\n",
       "      <td>King</td>\n",
       "      <td>Lake Washington Sch Dist 414</td>\n",
       "    </tr>\n",
       "    <tr>\n",
       "      <th>3</th>\n",
       "      <td>0004604f675212a8cac1161338265196</td>\n",
       "      <td>Kingsbury Country Day School</td>\n",
       "      <td>unknown</td>\n",
       "      <td>76.0</td>\n",
       "      <td>Michigan</td>\n",
       "      <td>48370</td>\n",
       "      <td>Oxford</td>\n",
       "      <td>Oakland</td>\n",
       "      <td>Michigan Dept Of Education</td>\n",
       "    </tr>\n",
       "    <tr>\n",
       "      <th>4</th>\n",
       "      <td>0004c9d50bcf0cea990f844e58b5e2c3</td>\n",
       "      <td>Redwater Elementary School</td>\n",
       "      <td>rural</td>\n",
       "      <td>50.0</td>\n",
       "      <td>Texas</td>\n",
       "      <td>75573</td>\n",
       "      <td>Redwater</td>\n",
       "      <td>Bowie</td>\n",
       "      <td>Redwater Ind Sch District</td>\n",
       "    </tr>\n",
       "  </tbody>\n",
       "</table>\n",
       "</div>"
      ],
      "text/plain": [
       "                          School ID                             School Name  \\\n",
       "0  00003e0fdd601b8ea0a6eb44057b9c5e              Capon Bridge Middle School   \n",
       "1  00004e32a448b4832e1b993500bf0731  The Woodlands College Park High School   \n",
       "2  0002021bb799f28de224f1acc1ff08c4        Samantha Smith Elementary School   \n",
       "3  0004604f675212a8cac1161338265196            Kingsbury Country Day School   \n",
       "4  0004c9d50bcf0cea990f844e58b5e2c3              Redwater Elementary School   \n",
       "\n",
       "  School Metro Type  School Percentage Free Lunch   School State  School Zip  \\\n",
       "0             rural                          56.0  West Virginia       26711   \n",
       "1             urban                          41.0          Texas       77384   \n",
       "2          suburban                           2.0     Washington       98074   \n",
       "3           unknown                          76.0       Michigan       48370   \n",
       "4             rural                          50.0          Texas       75573   \n",
       "\n",
       "     School City School County               School District  \n",
       "0   Capon Bridge     Hampshire  Hampshire Co School District  \n",
       "1  The Woodlands    Montgomery    Conroe Ind School District  \n",
       "2      Sammamish          King  Lake Washington Sch Dist 414  \n",
       "3         Oxford       Oakland    Michigan Dept Of Education  \n",
       "4       Redwater         Bowie     Redwater Ind Sch District  "
      ]
     },
     "execution_count": 60,
     "metadata": {},
     "output_type": "execute_result"
    }
   ],
   "source": [
    "schools.head()"
   ]
  },
  {
   "cell_type": "code",
   "execution_count": 61,
   "id": "0bd7b17f",
   "metadata": {},
   "outputs": [],
   "source": [
    "labelled_data_p_d_d_t_s = labelled_data_p_d_d_t.merge(schools, on=\"School ID\", how=\"left\").drop([\"School Zip\"], axis=1)"
   ]
  },
  {
   "cell_type": "code",
   "execution_count": 62,
   "id": "e306f246",
   "metadata": {},
   "outputs": [
    {
     "data": {
      "text/plain": [
       "Project ID                           579343\n",
       "School ID                            579343\n",
       "Teacher ID                           579343\n",
       "Teacher Project Posted Sequence      579343\n",
       "Project Type                         579343\n",
       "Project Subject Category Tree        579330\n",
       "Project Subject Subcategory Tree     579330\n",
       "Project Grade Level Category         579343\n",
       "Project Resource Category            579326\n",
       "Project Cost                         579343\n",
       "Project Posted Date                  579343\n",
       "Project Expiration Date              579342\n",
       "Label                                579343\n",
       "Teacher Prefix                       579316\n",
       "Teacher First Project Posted Date    579340\n",
       "School Name                          579342\n",
       "School Metro Type                    579342\n",
       "School Percentage Free Lunch         576993\n",
       "School State                         579342\n",
       "School City                          575604\n",
       "School County                        579339\n",
       "School District                      579342\n",
       "dtype: int64"
      ]
     },
     "execution_count": 62,
     "metadata": {},
     "output_type": "execute_result"
    }
   ],
   "source": [
    "labelled_data_p_d_d_t_s.count()"
   ]
  },
  {
   "cell_type": "code",
   "execution_count": 63,
   "id": "0b7c076b",
   "metadata": {},
   "outputs": [],
   "source": [
    "resources = pd.read_csv(\"./Resources.csv\")"
   ]
  },
  {
   "cell_type": "code",
   "execution_count": 64,
   "id": "3bdf1d37",
   "metadata": {},
   "outputs": [
    {
     "data": {
      "text/plain": [
       "(7210448, 5)"
      ]
     },
     "execution_count": 64,
     "metadata": {},
     "output_type": "execute_result"
    }
   ],
   "source": [
    "resources.shape"
   ]
  },
  {
   "cell_type": "code",
   "execution_count": 65,
   "id": "b039afd0",
   "metadata": {},
   "outputs": [
    {
     "data": {
      "text/plain": [
       "Project ID              1208649\n",
       "Resource Item Name      1073886\n",
       "Resource Quantity           341\n",
       "Resource Unit Price       50253\n",
       "Resource Vendor Name         31\n",
       "dtype: int64"
      ]
     },
     "execution_count": 65,
     "metadata": {},
     "output_type": "execute_result"
    }
   ],
   "source": [
    "resources.nunique()"
   ]
  },
  {
   "cell_type": "code",
   "execution_count": 66,
   "id": "232a26a0",
   "metadata": {},
   "outputs": [],
   "source": [
    "labelled_data_p_d_d_t_s_r = labelled_data_p_d_d_t_s.merge(resources, on=\"Project ID\", how=\"left\")"
   ]
  },
  {
   "cell_type": "code",
   "execution_count": 67,
   "id": "05d918e5",
   "metadata": {},
   "outputs": [
    {
     "data": {
      "text/plain": [
       "(3600689, 26)"
      ]
     },
     "execution_count": 67,
     "metadata": {},
     "output_type": "execute_result"
    }
   ],
   "source": [
    "labelled_data_p_d_d_t_s_r.shape"
   ]
  },
  {
   "cell_type": "code",
   "execution_count": 68,
   "id": "264e16bc",
   "metadata": {},
   "outputs": [
    {
     "data": {
      "text/plain": [
       "Project ID                           579343\n",
       "School ID                             62422\n",
       "Teacher ID                           263294\n",
       "Teacher Project Posted Sequence         478\n",
       "Project Type                              3\n",
       "Project Subject Category Tree            51\n",
       "Project Subject Subcategory Tree        426\n",
       "Project Grade Level Category              5\n",
       "Project Resource Category                17\n",
       "Project Cost                         122033\n",
       "Project Posted Date                    1825\n",
       "Project Expiration Date                1952\n",
       "Label                                     2\n",
       "Teacher Prefix                            6\n",
       "Teacher First Project Posted Date      4494\n",
       "School Name                           49066\n",
       "School Metro Type                         5\n",
       "School Percentage Free Lunch            101\n",
       "School State                             51\n",
       "School City                            9421\n",
       "School County                          1717\n",
       "School District                        9723\n",
       "Resource Item Name                   684557\n",
       "Resource Quantity                       281\n",
       "Resource Unit Price                   36893\n",
       "Resource Vendor Name                     28\n",
       "dtype: int64"
      ]
     },
     "execution_count": 68,
     "metadata": {},
     "output_type": "execute_result"
    }
   ],
   "source": [
    "labelled_data_p_d_d_t_s_r.nunique()"
   ]
  },
  {
   "cell_type": "code",
   "execution_count": 69,
   "id": "bbc5a998",
   "metadata": {},
   "outputs": [],
   "source": [
    "labelled_data_p_d_d_t_s_r = labelled_data_p_d_d_t_s_r.drop([\"Resource Item Name\", \"Resource Quantity\", \"Resource Unit Price\"], axis=1)"
   ]
  },
  {
   "cell_type": "code",
   "execution_count": 70,
   "id": "9b7b348d",
   "metadata": {},
   "outputs": [
    {
     "data": {
      "text/html": [
       "<div>\n",
       "<style scoped>\n",
       "    .dataframe tbody tr th:only-of-type {\n",
       "        vertical-align: middle;\n",
       "    }\n",
       "\n",
       "    .dataframe tbody tr th {\n",
       "        vertical-align: top;\n",
       "    }\n",
       "\n",
       "    .dataframe thead th {\n",
       "        text-align: right;\n",
       "    }\n",
       "</style>\n",
       "<table border=\"1\" class=\"dataframe\">\n",
       "  <thead>\n",
       "    <tr style=\"text-align: right;\">\n",
       "      <th></th>\n",
       "      <th>Project ID</th>\n",
       "      <th>School ID</th>\n",
       "      <th>Teacher ID</th>\n",
       "      <th>Teacher Project Posted Sequence</th>\n",
       "      <th>Project Type</th>\n",
       "      <th>Project Subject Category Tree</th>\n",
       "      <th>Project Subject Subcategory Tree</th>\n",
       "      <th>Project Grade Level Category</th>\n",
       "      <th>Project Resource Category</th>\n",
       "      <th>Project Cost</th>\n",
       "      <th>...</th>\n",
       "      <th>Label</th>\n",
       "      <th>Teacher Prefix</th>\n",
       "      <th>Teacher First Project Posted Date</th>\n",
       "      <th>School Name</th>\n",
       "      <th>School Metro Type</th>\n",
       "      <th>School Percentage Free Lunch</th>\n",
       "      <th>School State</th>\n",
       "      <th>School City</th>\n",
       "      <th>School County</th>\n",
       "      <th>School District</th>\n",
       "    </tr>\n",
       "  </thead>\n",
       "  <tbody>\n",
       "    <tr>\n",
       "      <th>400877</th>\n",
       "      <td>b2304d2fed2cdb4aecea50c1e35171b4</td>\n",
       "      <td>31ecec9ba81af3076ed6916537068355</td>\n",
       "      <td>7f8cbd9fff1b0a3d801fac6e7dc11d5d</td>\n",
       "      <td>59</td>\n",
       "      <td>Teacher-Led</td>\n",
       "      <td>Literacy &amp; Language, Special Needs</td>\n",
       "      <td>Literacy, Special Needs</td>\n",
       "      <td>Grades 3-5</td>\n",
       "      <td>Books</td>\n",
       "      <td>10041.91</td>\n",
       "      <td>...</td>\n",
       "      <td>1</td>\n",
       "      <td>Mrs.</td>\n",
       "      <td>2013-08-11</td>\n",
       "      <td>Hollingers Island Elementary School</td>\n",
       "      <td>urban</td>\n",
       "      <td>72.0</td>\n",
       "      <td>Alabama</td>\n",
       "      <td>Mobile</td>\n",
       "      <td>Mobile</td>\n",
       "      <td>Mobile Co Public School Dist</td>\n",
       "    </tr>\n",
       "  </tbody>\n",
       "</table>\n",
       "<p>1 rows × 22 columns</p>\n",
       "</div>"
      ],
      "text/plain": [
       "                              Project ID                         School ID  \\\n",
       "400877  b2304d2fed2cdb4aecea50c1e35171b4  31ecec9ba81af3076ed6916537068355   \n",
       "\n",
       "                              Teacher ID  Teacher Project Posted Sequence  \\\n",
       "400877  7f8cbd9fff1b0a3d801fac6e7dc11d5d                               59   \n",
       "\n",
       "       Project Type       Project Subject Category Tree  \\\n",
       "400877  Teacher-Led  Literacy & Language, Special Needs   \n",
       "\n",
       "       Project Subject Subcategory Tree Project Grade Level Category  \\\n",
       "400877          Literacy, Special Needs                   Grades 3-5   \n",
       "\n",
       "       Project Resource Category  Project Cost  ... Label Teacher Prefix  \\\n",
       "400877                     Books      10041.91  ...     1           Mrs.   \n",
       "\n",
       "        Teacher First Project Posted Date  \\\n",
       "400877                         2013-08-11   \n",
       "\n",
       "                                School Name School Metro Type  \\\n",
       "400877  Hollingers Island Elementary School             urban   \n",
       "\n",
       "       School Percentage Free Lunch School State  School City School County  \\\n",
       "400877                         72.0      Alabama       Mobile        Mobile   \n",
       "\n",
       "                     School District  \n",
       "400877  Mobile Co Public School Dist  \n",
       "\n",
       "[1 rows x 22 columns]"
      ]
     },
     "execution_count": 70,
     "metadata": {},
     "output_type": "execute_result"
    }
   ],
   "source": [
    "labelled_data_p_d_d_t_s[labelled_data_p_d_d_t_s[\"Project ID\"] == \"b2304d2fed2cdb4aecea50c1e35171b4\"]"
   ]
  },
  {
   "cell_type": "code",
   "execution_count": 71,
   "id": "79a32deb",
   "metadata": {},
   "outputs": [],
   "source": [
    "labelled_data_p_d_d_t_s_r = labelled_data_p_d_d_t_s_r.drop_duplicates(subset=[\"Project ID\"])"
   ]
  },
  {
   "cell_type": "code",
   "execution_count": 72,
   "id": "ce8ec82d",
   "metadata": {},
   "outputs": [
    {
     "data": {
      "text/plain": [
       "Project ID                           579343\n",
       "School ID                             62422\n",
       "Teacher ID                           263294\n",
       "Teacher Project Posted Sequence         478\n",
       "Project Type                              3\n",
       "Project Subject Category Tree            51\n",
       "Project Subject Subcategory Tree        426\n",
       "Project Grade Level Category              5\n",
       "Project Resource Category                17\n",
       "Project Cost                         122033\n",
       "Project Posted Date                    1825\n",
       "Project Expiration Date                1952\n",
       "Label                                     2\n",
       "Teacher Prefix                            6\n",
       "Teacher First Project Posted Date      4494\n",
       "School Name                           49066\n",
       "School Metro Type                         5\n",
       "School Percentage Free Lunch            101\n",
       "School State                             51\n",
       "School City                            9421\n",
       "School County                          1717\n",
       "School District                        9723\n",
       "Resource Vendor Name                     28\n",
       "dtype: int64"
      ]
     },
     "execution_count": 72,
     "metadata": {},
     "output_type": "execute_result"
    }
   ],
   "source": [
    "labelled_data_p_d_d_t_s_r.nunique()"
   ]
  },
  {
   "cell_type": "markdown",
   "id": "ab62c1b1",
   "metadata": {},
   "source": [
    "labelled_data_p_d_d_t_s_r shoud be the final data df"
   ]
  },
  {
   "cell_type": "code",
   "execution_count": 73,
   "id": "d8f6527c",
   "metadata": {},
   "outputs": [],
   "source": [
    "# labelled_data_p_d_d_t_s_r = labelled_data_p_d_d_t_s_r.sort_values(by=[\"Project Posted Date\"])"
   ]
  },
  {
   "cell_type": "code",
   "execution_count": 74,
   "id": "cbb89dca",
   "metadata": {},
   "outputs": [
    {
     "data": {
      "text/html": [
       "<div>\n",
       "<style scoped>\n",
       "    .dataframe tbody tr th:only-of-type {\n",
       "        vertical-align: middle;\n",
       "    }\n",
       "\n",
       "    .dataframe tbody tr th {\n",
       "        vertical-align: top;\n",
       "    }\n",
       "\n",
       "    .dataframe thead th {\n",
       "        text-align: right;\n",
       "    }\n",
       "</style>\n",
       "<table border=\"1\" class=\"dataframe\">\n",
       "  <thead>\n",
       "    <tr style=\"text-align: right;\">\n",
       "      <th></th>\n",
       "      <th>Project ID</th>\n",
       "      <th>School ID</th>\n",
       "      <th>Teacher ID</th>\n",
       "      <th>Teacher Project Posted Sequence</th>\n",
       "      <th>Project Type</th>\n",
       "      <th>Project Subject Category Tree</th>\n",
       "      <th>Project Subject Subcategory Tree</th>\n",
       "      <th>Project Grade Level Category</th>\n",
       "      <th>Project Resource Category</th>\n",
       "      <th>Project Cost</th>\n",
       "      <th>...</th>\n",
       "      <th>Teacher Prefix</th>\n",
       "      <th>Teacher First Project Posted Date</th>\n",
       "      <th>School Name</th>\n",
       "      <th>School Metro Type</th>\n",
       "      <th>School Percentage Free Lunch</th>\n",
       "      <th>School State</th>\n",
       "      <th>School City</th>\n",
       "      <th>School County</th>\n",
       "      <th>School District</th>\n",
       "      <th>Resource Vendor Name</th>\n",
       "    </tr>\n",
       "  </thead>\n",
       "  <tbody>\n",
       "    <tr>\n",
       "      <th>0</th>\n",
       "      <td>b12c0c126c64963305a51ca60f687b53</td>\n",
       "      <td>0917cacae1d752ab5ead1cf1d9e86d59</td>\n",
       "      <td>4e8d5828adb05503f825d30d8a5c93a9</td>\n",
       "      <td>10</td>\n",
       "      <td>Teacher-Led</td>\n",
       "      <td>Math &amp; Science</td>\n",
       "      <td>Applied Sciences</td>\n",
       "      <td>Grades 6-8</td>\n",
       "      <td>Technology</td>\n",
       "      <td>527.05</td>\n",
       "      <td>...</td>\n",
       "      <td>Ms.</td>\n",
       "      <td>2011-07-07</td>\n",
       "      <td>Trevor-Wilmot School</td>\n",
       "      <td>rural</td>\n",
       "      <td>35.0</td>\n",
       "      <td>Wisconsin</td>\n",
       "      <td>Trevor</td>\n",
       "      <td>Kenosha</td>\n",
       "      <td>Trevor-Wilmot Consolidated Sd</td>\n",
       "      <td>Best Buy Education</td>\n",
       "    </tr>\n",
       "    <tr>\n",
       "      <th>1</th>\n",
       "      <td>45503329ec0026437c81a1e64505f853</td>\n",
       "      <td>886008686134c6cc871c81eeb428e64d</td>\n",
       "      <td>a52b97c6a2fbf0e035dc09d5de7c16e3</td>\n",
       "      <td>7</td>\n",
       "      <td>Teacher-Led</td>\n",
       "      <td>History &amp; Civics, Literacy &amp; Language</td>\n",
       "      <td>Economics, Literacy</td>\n",
       "      <td>Grades PreK-2</td>\n",
       "      <td>Technology</td>\n",
       "      <td>565.87</td>\n",
       "      <td>...</td>\n",
       "      <td>Mrs.</td>\n",
       "      <td>2012-06-19</td>\n",
       "      <td>Harp Elementary School</td>\n",
       "      <td>urban</td>\n",
       "      <td>74.0</td>\n",
       "      <td>Arkansas</td>\n",
       "      <td>Springdale</td>\n",
       "      <td>Washington</td>\n",
       "      <td>Springdale School District 50</td>\n",
       "      <td>Best Buy Education</td>\n",
       "    </tr>\n",
       "    <tr>\n",
       "      <th>2</th>\n",
       "      <td>7d9f823d78f59ce0b1e0a5633a21d742</td>\n",
       "      <td>af2a542b0f3dfa46a3db015596b381d1</td>\n",
       "      <td>3e3fc4aae13350f0bb04821bed088bad</td>\n",
       "      <td>1</td>\n",
       "      <td>Teacher-Led</td>\n",
       "      <td>Literacy &amp; Language</td>\n",
       "      <td>Literature &amp; Writing</td>\n",
       "      <td>Grades 3-5</td>\n",
       "      <td>Supplies</td>\n",
       "      <td>171.85</td>\n",
       "      <td>...</td>\n",
       "      <td>Mrs.</td>\n",
       "      <td>2013-01-02</td>\n",
       "      <td>Wogaman Middle School</td>\n",
       "      <td>urban</td>\n",
       "      <td>95.0</td>\n",
       "      <td>Ohio</td>\n",
       "      <td>Dayton</td>\n",
       "      <td>Montgomery</td>\n",
       "      <td>Dayton Public School District</td>\n",
       "      <td>ABC School Supply</td>\n",
       "    </tr>\n",
       "    <tr>\n",
       "      <th>4</th>\n",
       "      <td>926a87de099938949679c45ac9f45094</td>\n",
       "      <td>1456ca6cf952d8a17539d15c40277c09</td>\n",
       "      <td>ac999f73360af3d46c2d53cdd7cb7cc2</td>\n",
       "      <td>1</td>\n",
       "      <td>Teacher-Led</td>\n",
       "      <td>Math &amp; Science, History &amp; Civics</td>\n",
       "      <td>Environmental Science, History &amp; Geography</td>\n",
       "      <td>Grades PreK-2</td>\n",
       "      <td>Books</td>\n",
       "      <td>188.15</td>\n",
       "      <td>...</td>\n",
       "      <td>Mrs.</td>\n",
       "      <td>2013-01-02</td>\n",
       "      <td>Cox's Creek Elementary School</td>\n",
       "      <td>rural</td>\n",
       "      <td>45.0</td>\n",
       "      <td>Kentucky</td>\n",
       "      <td>Coxs Creek</td>\n",
       "      <td>Nelson</td>\n",
       "      <td>Nelson Co School District</td>\n",
       "      <td>AKJ Education</td>\n",
       "    </tr>\n",
       "    <tr>\n",
       "      <th>28</th>\n",
       "      <td>ce36b6be65ade42aec52049cb41f28e4</td>\n",
       "      <td>0cec312d40e429f02aaec79fbb57fa96</td>\n",
       "      <td>8f94be420256113c820e047c488b205b</td>\n",
       "      <td>1</td>\n",
       "      <td>Teacher-Led</td>\n",
       "      <td>Applied Learning, Math &amp; Science</td>\n",
       "      <td>Early Development, Mathematics</td>\n",
       "      <td>Grades PreK-2</td>\n",
       "      <td>Other</td>\n",
       "      <td>289.88</td>\n",
       "      <td>...</td>\n",
       "      <td>Mrs.</td>\n",
       "      <td>2013-01-02</td>\n",
       "      <td>North Webster Lower Elementary School</td>\n",
       "      <td>rural</td>\n",
       "      <td>67.0</td>\n",
       "      <td>Louisiana</td>\n",
       "      <td>Shongaloo</td>\n",
       "      <td>Webster</td>\n",
       "      <td>Webster Parish School Dist</td>\n",
       "      <td>Nasco</td>\n",
       "    </tr>\n",
       "  </tbody>\n",
       "</table>\n",
       "<p>5 rows × 23 columns</p>\n",
       "</div>"
      ],
      "text/plain": [
       "                          Project ID                         School ID  \\\n",
       "0   b12c0c126c64963305a51ca60f687b53  0917cacae1d752ab5ead1cf1d9e86d59   \n",
       "1   45503329ec0026437c81a1e64505f853  886008686134c6cc871c81eeb428e64d   \n",
       "2   7d9f823d78f59ce0b1e0a5633a21d742  af2a542b0f3dfa46a3db015596b381d1   \n",
       "4   926a87de099938949679c45ac9f45094  1456ca6cf952d8a17539d15c40277c09   \n",
       "28  ce36b6be65ade42aec52049cb41f28e4  0cec312d40e429f02aaec79fbb57fa96   \n",
       "\n",
       "                          Teacher ID  Teacher Project Posted Sequence  \\\n",
       "0   4e8d5828adb05503f825d30d8a5c93a9                               10   \n",
       "1   a52b97c6a2fbf0e035dc09d5de7c16e3                                7   \n",
       "2   3e3fc4aae13350f0bb04821bed088bad                                1   \n",
       "4   ac999f73360af3d46c2d53cdd7cb7cc2                                1   \n",
       "28  8f94be420256113c820e047c488b205b                                1   \n",
       "\n",
       "   Project Type          Project Subject Category Tree  \\\n",
       "0   Teacher-Led                         Math & Science   \n",
       "1   Teacher-Led  History & Civics, Literacy & Language   \n",
       "2   Teacher-Led                    Literacy & Language   \n",
       "4   Teacher-Led       Math & Science, History & Civics   \n",
       "28  Teacher-Led       Applied Learning, Math & Science   \n",
       "\n",
       "              Project Subject Subcategory Tree Project Grade Level Category  \\\n",
       "0                             Applied Sciences                   Grades 6-8   \n",
       "1                          Economics, Literacy                Grades PreK-2   \n",
       "2                         Literature & Writing                   Grades 3-5   \n",
       "4   Environmental Science, History & Geography                Grades PreK-2   \n",
       "28              Early Development, Mathematics                Grades PreK-2   \n",
       "\n",
       "   Project Resource Category  Project Cost  ... Teacher Prefix  \\\n",
       "0                 Technology        527.05  ...            Ms.   \n",
       "1                 Technology        565.87  ...           Mrs.   \n",
       "2                   Supplies        171.85  ...           Mrs.   \n",
       "4                      Books        188.15  ...           Mrs.   \n",
       "28                     Other        289.88  ...           Mrs.   \n",
       "\n",
       "   Teacher First Project Posted Date                            School Name  \\\n",
       "0                         2011-07-07                   Trevor-Wilmot School   \n",
       "1                         2012-06-19                 Harp Elementary School   \n",
       "2                         2013-01-02                 Wogaman Middle School    \n",
       "4                         2013-01-02          Cox's Creek Elementary School   \n",
       "28                        2013-01-02  North Webster Lower Elementary School   \n",
       "\n",
       "   School Metro Type School Percentage Free Lunch School State School City  \\\n",
       "0              rural                         35.0    Wisconsin      Trevor   \n",
       "1              urban                         74.0     Arkansas  Springdale   \n",
       "2              urban                         95.0         Ohio      Dayton   \n",
       "4              rural                         45.0     Kentucky  Coxs Creek   \n",
       "28             rural                         67.0    Louisiana   Shongaloo   \n",
       "\n",
       "    School County                School District Resource Vendor Name  \n",
       "0         Kenosha  Trevor-Wilmot Consolidated Sd   Best Buy Education  \n",
       "1      Washington  Springdale School District 50   Best Buy Education  \n",
       "2      Montgomery  Dayton Public School District    ABC School Supply  \n",
       "4          Nelson      Nelson Co School District        AKJ Education  \n",
       "28        Webster     Webster Parish School Dist                Nasco  \n",
       "\n",
       "[5 rows x 23 columns]"
      ]
     },
     "execution_count": 74,
     "metadata": {},
     "output_type": "execute_result"
    }
   ],
   "source": [
    "labelled_data_p_d_d_t_s_r.head()"
   ]
  },
  {
   "cell_type": "code",
   "execution_count": 75,
   "id": "f55ed208",
   "metadata": {},
   "outputs": [
    {
     "data": {
      "text/plain": [
       "Project ID                           579343\n",
       "School ID                            579343\n",
       "Teacher ID                           579343\n",
       "Teacher Project Posted Sequence      579343\n",
       "Project Type                         579343\n",
       "Project Subject Category Tree        579330\n",
       "Project Subject Subcategory Tree     579330\n",
       "Project Grade Level Category         579343\n",
       "Project Resource Category            579326\n",
       "Project Cost                         579343\n",
       "Project Posted Date                  579343\n",
       "Project Expiration Date              579342\n",
       "Label                                579343\n",
       "Teacher Prefix                       579316\n",
       "Teacher First Project Posted Date    579340\n",
       "School Name                          579342\n",
       "School Metro Type                    579342\n",
       "School Percentage Free Lunch         576993\n",
       "School State                         579342\n",
       "School City                          575604\n",
       "School County                        579339\n",
       "School District                      579342\n",
       "Resource Vendor Name                 557509\n",
       "dtype: int64"
      ]
     },
     "execution_count": 75,
     "metadata": {},
     "output_type": "execute_result"
    }
   ],
   "source": [
    "labelled_data_p_d_d_t_s_r.count()"
   ]
  },
  {
   "cell_type": "code",
   "execution_count": 76,
   "id": "65f99698",
   "metadata": {},
   "outputs": [],
   "source": [
    "labelled_data_p_d_d_t_s_r = labelled_data_p_d_d_t_s_r.drop_duplicates(subset=[\"Project ID\"])"
   ]
  },
  {
   "cell_type": "code",
   "execution_count": 77,
   "id": "aec78c91",
   "metadata": {},
   "outputs": [
    {
     "data": {
      "text/plain": [
       "Project ID                           579343\n",
       "School ID                            579343\n",
       "Teacher ID                           579343\n",
       "Teacher Project Posted Sequence      579343\n",
       "Project Type                         579343\n",
       "Project Subject Category Tree        579330\n",
       "Project Subject Subcategory Tree     579330\n",
       "Project Grade Level Category         579343\n",
       "Project Resource Category            579326\n",
       "Project Cost                         579343\n",
       "Project Posted Date                  579343\n",
       "Project Expiration Date              579342\n",
       "Label                                579343\n",
       "Teacher Prefix                       579316\n",
       "Teacher First Project Posted Date    579340\n",
       "School Name                          579342\n",
       "School Metro Type                    579342\n",
       "School Percentage Free Lunch         576993\n",
       "School State                         579342\n",
       "School City                          575604\n",
       "School County                        579339\n",
       "School District                      579342\n",
       "Resource Vendor Name                 557509\n",
       "dtype: int64"
      ]
     },
     "execution_count": 77,
     "metadata": {},
     "output_type": "execute_result"
    }
   ],
   "source": [
    "labelled_data_p_d_d_t_s_r.count()"
   ]
  },
  {
   "cell_type": "code",
   "execution_count": 78,
   "id": "af2607d7",
   "metadata": {},
   "outputs": [
    {
     "data": {
      "text/plain": [
       "Project ID                           579343\n",
       "School ID                             62422\n",
       "Teacher ID                           263294\n",
       "Teacher Project Posted Sequence         478\n",
       "Project Type                              3\n",
       "Project Subject Category Tree            51\n",
       "Project Subject Subcategory Tree        426\n",
       "Project Grade Level Category              5\n",
       "Project Resource Category                17\n",
       "Project Cost                         122033\n",
       "Project Posted Date                    1825\n",
       "Project Expiration Date                1952\n",
       "Label                                     2\n",
       "Teacher Prefix                            6\n",
       "Teacher First Project Posted Date      4494\n",
       "School Name                           49066\n",
       "School Metro Type                         5\n",
       "School Percentage Free Lunch            101\n",
       "School State                             51\n",
       "School City                            9421\n",
       "School County                          1717\n",
       "School District                        9723\n",
       "Resource Vendor Name                     28\n",
       "dtype: int64"
      ]
     },
     "execution_count": 78,
     "metadata": {},
     "output_type": "execute_result"
    }
   ],
   "source": [
    "labelled_data_p_d_d_t_s_r.nunique()"
   ]
  },
  {
   "cell_type": "code",
   "execution_count": 88,
   "id": "748c1dc6",
   "metadata": {},
   "outputs": [],
   "source": [
    "labelled_data_p_d_d_t_s_r = labelled_data_p_d_d_t_s_r.sample(frac = 1)"
   ]
  },
  {
   "cell_type": "code",
   "execution_count": 90,
   "id": "87cd337f",
   "metadata": {},
   "outputs": [],
   "source": [
    "labelled_data_p_d_d_t_s_r.to_csv(\"./Dataset.csv\", index=False)"
   ]
  },
  {
   "cell_type": "code",
   "execution_count": 89,
   "id": "f033b012",
   "metadata": {},
   "outputs": [
    {
     "data": {
      "text/plain": [
       "68378     2013-03-24\n",
       "2909410   2017-06-25\n",
       "1685147   2015-12-22\n",
       "1730771   2016-01-22\n",
       "164293    2013-08-03\n",
       "2365108   2016-10-08\n",
       "1769506   2016-02-09\n",
       "3527363   2017-12-01\n",
       "1172078   2015-03-27\n",
       "1030142   2014-12-24\n",
       "3056552   2017-08-07\n",
       "357436    2013-11-05\n",
       "198327    2013-08-21\n",
       "2142187   2016-08-12\n",
       "1408757   2015-08-29\n",
       "2965225   2017-07-17\n",
       "1620351   2015-11-22\n",
       "3292098   2017-09-29\n",
       "3523638   2017-11-29\n",
       "2328831   2016-09-25\n",
       "2837115   2017-05-15\n",
       "2922076   2017-06-30\n",
       "779282    2014-08-29\n",
       "2105579   2016-08-04\n",
       "1556829   2015-10-19\n",
       "1724787   2016-01-18\n",
       "291227    2013-09-29\n",
       "1169285   2015-03-24\n",
       "2433572   2016-11-12\n",
       "3494537   2017-11-18\n",
       "605428    2014-05-23\n",
       "412902    2013-12-08\n",
       "594339    2014-05-10\n",
       "2596767   2017-01-28\n",
       "434384    2013-12-29\n",
       "491291    2014-02-15\n",
       "1920542   2016-04-13\n",
       "3230922   2017-09-13\n",
       "2822263   2017-05-08\n",
       "2678604   2017-03-03\n",
       "1114293   2015-02-15\n",
       "3134672   2017-08-23\n",
       "1115263   2015-02-15\n",
       "964997    2014-11-08\n",
       "1561533   2015-10-22\n",
       "1680870   2015-12-20\n",
       "877099    2014-09-24\n",
       "1965853   2016-05-15\n",
       "1223996   2015-05-14\n",
       "3225516   2017-09-11\n",
       "1465507   2015-09-13\n",
       "Name: Project Posted Date, dtype: datetime64[ns]"
      ]
     },
     "execution_count": 89,
     "metadata": {},
     "output_type": "execute_result"
    }
   ],
   "source": [
    "labelled_data_p_d_d_t_s_r.iloc[99:150][\"Project Posted Date\"]"
   ]
  }
 ],
 "metadata": {
  "kernelspec": {
   "display_name": "Python 3 (ipykernel)",
   "language": "python",
   "name": "python3"
  },
  "language_info": {
   "codemirror_mode": {
    "name": "ipython",
    "version": 3
   },
   "file_extension": ".py",
   "mimetype": "text/x-python",
   "name": "python",
   "nbconvert_exporter": "python",
   "pygments_lexer": "ipython3",
   "version": "3.11.4"
  }
 },
 "nbformat": 4,
 "nbformat_minor": 5
}
