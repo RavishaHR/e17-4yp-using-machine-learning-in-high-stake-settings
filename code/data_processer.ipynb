{
 "cells": [
  {
   "cell_type": "code",
   "execution_count": 1,
   "id": "0145d873",
   "metadata": {
    "scrolled": true
   },
   "outputs": [],
   "source": [
    "import pandas as pd"
   ]
  },
  {
   "cell_type": "code",
   "execution_count": 2,
   "id": "dc8929e3",
   "metadata": {
    "scrolled": true
   },
   "outputs": [],
   "source": [
    "from pandas import Timestamp"
   ]
  },
  {
   "cell_type": "code",
   "execution_count": 3,
   "id": "1c7eb972",
   "metadata": {
    "scrolled": true
   },
   "outputs": [],
   "source": [
    "import numpy as np"
   ]
  },
  {
   "cell_type": "code",
   "execution_count": 4,
   "id": "2543fea4",
   "metadata": {
    "scrolled": true
   },
   "outputs": [],
   "source": [
    "path = \"./data\""
   ]
  },
  {
   "cell_type": "code",
   "execution_count": 5,
   "id": "6f1682ff",
   "metadata": {
    "scrolled": true
   },
   "outputs": [],
   "source": [
    "donations = pd.read_csv(path+\"/Donations.csv\")"
   ]
  },
  {
   "cell_type": "code",
   "execution_count": 6,
   "id": "944bcb7c",
   "metadata": {
    "scrolled": true
   },
   "outputs": [],
   "source": [
    "projects = pd.read_csv(path+\"/Projects.csv\")"
   ]
  },
  {
   "cell_type": "code",
   "execution_count": 7,
   "id": "5c41a563",
   "metadata": {
    "scrolled": true
   },
   "outputs": [
    {
     "name": "stderr",
     "output_type": "stream",
     "text": [
      "/var/folders/yl/9bnyyv317zx6n3nl5t7jy2n80000gn/T/ipykernel_27171/2561930728.py:1: DtypeWarning: Columns (4) have mixed types. Specify dtype option on import or set low_memory=False.\n",
      "  donors = pd.read_csv(path+\"/Donors.csv\")\n"
     ]
    }
   ],
   "source": [
    "donors = pd.read_csv(path+\"/Donors.csv\")"
   ]
  },
  {
   "cell_type": "code",
   "execution_count": 8,
   "id": "c5e32e18",
   "metadata": {
    "scrolled": true
   },
   "outputs": [
    {
     "data": {
      "text/plain": [
       "Project ID                          1110017\n",
       "School ID                           1110017\n",
       "Teacher ID                          1110017\n",
       "Teacher Project Posted Sequence     1110017\n",
       "Project Type                        1110017\n",
       "Project Title                       1110011\n",
       "Project Essay                       1110016\n",
       "Project Short Description           1110014\n",
       "Project Need Statement              1110014\n",
       "Project Subject Category Tree       1109988\n",
       "Project Subject Subcategory Tree    1109988\n",
       "Project Grade Level Category        1110017\n",
       "Project Resource Category           1109981\n",
       "Project Cost                        1110017\n",
       "Project Posted Date                 1110017\n",
       "Project Expiration Date             1110003\n",
       "Project Current Status              1110017\n",
       "Project Fully Funded Date            826764\n",
       "dtype: int64"
      ]
     },
     "execution_count": 8,
     "metadata": {},
     "output_type": "execute_result"
    }
   ],
   "source": [
    "projects.count()"
   ]
  },
  {
   "cell_type": "code",
   "execution_count": 9,
   "id": "dffcefed",
   "metadata": {
    "scrolled": true
   },
   "outputs": [],
   "source": [
    "project_max_date = Timestamp('2018-01-01')\n",
    "project_min_date = Timestamp('2013-01-01')\n",
    "donations_max_date = Timestamp('2018-05-01')\n",
    "donations_min_date = Timestamp('2013-01-01')"
   ]
  },
  {
   "cell_type": "code",
   "execution_count": null,
   "id": "129669cc",
   "metadata": {
    "scrolled": true
   },
   "outputs": [],
   "source": []
  },
  {
   "cell_type": "code",
   "execution_count": 10,
   "id": "50c8aff2",
   "metadata": {
    "scrolled": true
   },
   "outputs": [],
   "source": [
    "donations[\"Donation Received Date\"] = pd.to_datetime(donations[\"Donation Received Date\"])\n",
    "projects[\"Project Posted Date\"] = pd.to_datetime(projects[\"Project Posted Date\"])"
   ]
  },
  {
   "cell_type": "code",
   "execution_count": 11,
   "id": "b3d0316a",
   "metadata": {
    "scrolled": true
   },
   "outputs": [
    {
     "data": {
      "text/plain": [
       "Timestamp('2018-05-09 11:38:47')"
      ]
     },
     "execution_count": 11,
     "metadata": {},
     "output_type": "execute_result"
    }
   ],
   "source": [
    "donations[\"Donation Received Date\"].max()"
   ]
  },
  {
   "cell_type": "code",
   "execution_count": 12,
   "id": "9eb0c29e",
   "metadata": {
    "scrolled": true
   },
   "outputs": [
    {
     "data": {
      "text/plain": [
       "Timestamp('2018-05-01 00:00:00')"
      ]
     },
     "execution_count": 12,
     "metadata": {},
     "output_type": "execute_result"
    }
   ],
   "source": [
    "projects[\"Project Posted Date\"].max()"
   ]
  },
  {
   "cell_type": "code",
   "execution_count": 13,
   "id": "cc56e595",
   "metadata": {
    "scrolled": true
   },
   "outputs": [
    {
     "data": {
      "text/plain": [
       "Timestamp('2012-10-08 13:53:00')"
      ]
     },
     "execution_count": 13,
     "metadata": {},
     "output_type": "execute_result"
    }
   ],
   "source": [
    "donations[\"Donation Received Date\"].min()"
   ]
  },
  {
   "cell_type": "code",
   "execution_count": 14,
   "id": "6522193d",
   "metadata": {
    "scrolled": true
   },
   "outputs": [
    {
     "data": {
      "text/plain": [
       "Timestamp('2013-01-01 00:00:00')"
      ]
     },
     "execution_count": 14,
     "metadata": {},
     "output_type": "execute_result"
    }
   ],
   "source": [
    "projects[\"Project Posted Date\"].min()"
   ]
  },
  {
   "cell_type": "code",
   "execution_count": 15,
   "id": "810654df",
   "metadata": {
    "scrolled": true
   },
   "outputs": [],
   "source": [
    "donations = donations[donations[\"Donation Received Date\"] > donations_min_date]\n",
    "donations = donations[donations[\"Donation Received Date\"] < donations_max_date]\n",
    "projects = projects[projects[\"Project Posted Date\"] < project_max_date]\n",
    "projects = projects[projects[\"Project Posted Date\"] > project_min_date]"
   ]
  },
  {
   "cell_type": "code",
   "execution_count": 16,
   "id": "78ac67c5",
   "metadata": {
    "scrolled": true
   },
   "outputs": [
    {
     "data": {
      "text/plain": [
       "Project ID                             4662374\n",
       "Donation ID                            4662374\n",
       "Donor ID                               4662374\n",
       "Donation Included Optional Donation    4662374\n",
       "Donation Amount                        4662374\n",
       "Donor Cart Sequence                    4662374\n",
       "Donation Received Date                 4662374\n",
       "dtype: int64"
      ]
     },
     "execution_count": 16,
     "metadata": {},
     "output_type": "execute_result"
    }
   ],
   "source": [
    "donations.count()"
   ]
  },
  {
   "cell_type": "code",
   "execution_count": 17,
   "id": "311f8566",
   "metadata": {
    "scrolled": true
   },
   "outputs": [
    {
     "data": {
      "text/plain": [
       "Project ID                          979436\n",
       "School ID                           979436\n",
       "Teacher ID                          979436\n",
       "Teacher Project Posted Sequence     979436\n",
       "Project Type                        979436\n",
       "Project Title                       979430\n",
       "Project Essay                       979435\n",
       "Project Short Description           979433\n",
       "Project Need Statement              979433\n",
       "Project Subject Category Tree       979407\n",
       "Project Subject Subcategory Tree    979407\n",
       "Project Grade Level Category        979436\n",
       "Project Resource Category           979400\n",
       "Project Cost                        979436\n",
       "Project Posted Date                 979436\n",
       "Project Expiration Date             979427\n",
       "Project Current Status              979436\n",
       "Project Fully Funded Date           738785\n",
       "dtype: int64"
      ]
     },
     "execution_count": 17,
     "metadata": {},
     "output_type": "execute_result"
    }
   ],
   "source": [
    "projects.count()"
   ]
  },
  {
   "cell_type": "code",
   "execution_count": 18,
   "id": "508dc96d",
   "metadata": {},
   "outputs": [
    {
     "data": {
      "text/plain": [
       "Project ID                          979436\n",
       "School ID                            70603\n",
       "Teacher ID                          368423\n",
       "Teacher Project Posted Sequence        484\n",
       "Project Type                             3\n",
       "Project Title                       822806\n",
       "Project Essay                       978086\n",
       "Project Short Description           782547\n",
       "Project Need Statement              952857\n",
       "Project Subject Category Tree           51\n",
       "Project Subject Subcategory Tree       432\n",
       "Project Grade Level Category             5\n",
       "Project Resource Category               17\n",
       "Project Cost                        156818\n",
       "Project Posted Date                   1825\n",
       "Project Expiration Date               1969\n",
       "Project Current Status                   2\n",
       "Project Fully Funded Date             1911\n",
       "dtype: int64"
      ]
     },
     "execution_count": 18,
     "metadata": {},
     "output_type": "execute_result"
    }
   ],
   "source": [
    "projects.nunique()"
   ]
  },
  {
   "cell_type": "code",
   "execution_count": 19,
   "id": "beb72922",
   "metadata": {
    "scrolled": true
   },
   "outputs": [
    {
     "data": {
      "text/plain": [
       "Index(['Project ID', 'School ID', 'Teacher ID',\n",
       "       'Teacher Project Posted Sequence', 'Project Type', 'Project Title',\n",
       "       'Project Essay', 'Project Short Description', 'Project Need Statement',\n",
       "       'Project Subject Category Tree', 'Project Subject Subcategory Tree',\n",
       "       'Project Grade Level Category', 'Project Resource Category',\n",
       "       'Project Cost', 'Project Posted Date', 'Project Expiration Date',\n",
       "       'Project Current Status', 'Project Fully Funded Date'],\n",
       "      dtype='object')"
      ]
     },
     "execution_count": 19,
     "metadata": {},
     "output_type": "execute_result"
    }
   ],
   "source": [
    "projects.columns"
   ]
  },
  {
   "cell_type": "code",
   "execution_count": 20,
   "id": "0577a280",
   "metadata": {
    "scrolled": true
   },
   "outputs": [],
   "source": [
    "projects = projects.drop(['Project Title', 'Project Essay', 'Project Short Description', 'Project Need Statement', 'Project Current Status'], axis=1)"
   ]
  },
  {
   "cell_type": "code",
   "execution_count": 21,
   "id": "46b3d1f5",
   "metadata": {
    "scrolled": true
   },
   "outputs": [
    {
     "data": {
      "text/plain": [
       "13"
      ]
     },
     "execution_count": 21,
     "metadata": {},
     "output_type": "execute_result"
    }
   ],
   "source": [
    "projects.columns.size"
   ]
  },
  {
   "cell_type": "code",
   "execution_count": 22,
   "id": "d65eebdc",
   "metadata": {
    "scrolled": true
   },
   "outputs": [],
   "source": [
    "donations = donations.drop([\"Donation Included Optional Donation\", \"Donor Cart Sequence\"], axis=1)"
   ]
  },
  {
   "cell_type": "code",
   "execution_count": 23,
   "id": "f3d0c102",
   "metadata": {
    "scrolled": true
   },
   "outputs": [
    {
     "data": {
      "text/html": [
       "<div>\n",
       "<style scoped>\n",
       "    .dataframe tbody tr th:only-of-type {\n",
       "        vertical-align: middle;\n",
       "    }\n",
       "\n",
       "    .dataframe tbody tr th {\n",
       "        vertical-align: top;\n",
       "    }\n",
       "\n",
       "    .dataframe thead th {\n",
       "        text-align: right;\n",
       "    }\n",
       "</style>\n",
       "<table border=\"1\" class=\"dataframe\">\n",
       "  <thead>\n",
       "    <tr style=\"text-align: right;\">\n",
       "      <th></th>\n",
       "      <th>Project ID</th>\n",
       "      <th>Donation ID</th>\n",
       "      <th>Donor ID</th>\n",
       "      <th>Donation Amount</th>\n",
       "      <th>Donation Received Date</th>\n",
       "    </tr>\n",
       "  </thead>\n",
       "  <tbody>\n",
       "    <tr>\n",
       "      <th>0</th>\n",
       "      <td>000009891526c0ade7180f8423792063</td>\n",
       "      <td>688729120858666221208529ee3fc18e</td>\n",
       "      <td>1f4b5b6e68445c6c4a0509b3aca93f38</td>\n",
       "      <td>178.37</td>\n",
       "      <td>2016-08-23 13:15:57</td>\n",
       "    </tr>\n",
       "    <tr>\n",
       "      <th>1</th>\n",
       "      <td>000009891526c0ade7180f8423792063</td>\n",
       "      <td>dcf1071da3aa3561f91ac689d1f73dee</td>\n",
       "      <td>4aaab6d244bf3599682239ed5591af8a</td>\n",
       "      <td>25.00</td>\n",
       "      <td>2016-06-06 20:05:23</td>\n",
       "    </tr>\n",
       "    <tr>\n",
       "      <th>2</th>\n",
       "      <td>000009891526c0ade7180f8423792063</td>\n",
       "      <td>18a234b9d1e538c431761d521ea7799d</td>\n",
       "      <td>0b0765dc9c759adc48a07688ba25e94e</td>\n",
       "      <td>20.00</td>\n",
       "      <td>2016-06-06 14:08:46</td>\n",
       "    </tr>\n",
       "    <tr>\n",
       "      <th>3</th>\n",
       "      <td>000009891526c0ade7180f8423792063</td>\n",
       "      <td>38d2744bf9138b0b57ed581c76c0e2da</td>\n",
       "      <td>377944ad61f72d800b25ec1862aec363</td>\n",
       "      <td>25.00</td>\n",
       "      <td>2016-05-15 10:23:04</td>\n",
       "    </tr>\n",
       "    <tr>\n",
       "      <th>4</th>\n",
       "      <td>000009891526c0ade7180f8423792063</td>\n",
       "      <td>5a032791e31167a70206bfb86fb60035</td>\n",
       "      <td>6d5b22d39e68c656071a842732c63a0c</td>\n",
       "      <td>25.00</td>\n",
       "      <td>2016-05-17 01:23:38</td>\n",
       "    </tr>\n",
       "  </tbody>\n",
       "</table>\n",
       "</div>"
      ],
      "text/plain": [
       "                         Project ID                       Donation ID  \\\n",
       "0  000009891526c0ade7180f8423792063  688729120858666221208529ee3fc18e   \n",
       "1  000009891526c0ade7180f8423792063  dcf1071da3aa3561f91ac689d1f73dee   \n",
       "2  000009891526c0ade7180f8423792063  18a234b9d1e538c431761d521ea7799d   \n",
       "3  000009891526c0ade7180f8423792063  38d2744bf9138b0b57ed581c76c0e2da   \n",
       "4  000009891526c0ade7180f8423792063  5a032791e31167a70206bfb86fb60035   \n",
       "\n",
       "                           Donor ID  Donation Amount Donation Received Date  \n",
       "0  1f4b5b6e68445c6c4a0509b3aca93f38           178.37    2016-08-23 13:15:57  \n",
       "1  4aaab6d244bf3599682239ed5591af8a            25.00    2016-06-06 20:05:23  \n",
       "2  0b0765dc9c759adc48a07688ba25e94e            20.00    2016-06-06 14:08:46  \n",
       "3  377944ad61f72d800b25ec1862aec363            25.00    2016-05-15 10:23:04  \n",
       "4  6d5b22d39e68c656071a842732c63a0c            25.00    2016-05-17 01:23:38  "
      ]
     },
     "execution_count": 23,
     "metadata": {},
     "output_type": "execute_result"
    }
   ],
   "source": [
    "donations.head()"
   ]
  },
  {
   "cell_type": "code",
   "execution_count": 24,
   "id": "b88cde4d",
   "metadata": {
    "scrolled": true
   },
   "outputs": [
    {
     "data": {
      "text/plain": [
       "True"
      ]
     },
     "execution_count": 24,
     "metadata": {},
     "output_type": "execute_result"
    }
   ],
   "source": [
    "projects[\"Project ID\"].count() == projects[\"Project ID\"].nunique()"
   ]
  },
  {
   "cell_type": "code",
   "execution_count": 25,
   "id": "a62bf35f",
   "metadata": {
    "scrolled": true
   },
   "outputs": [
    {
     "data": {
      "text/plain": [
       "40"
      ]
     },
     "execution_count": 25,
     "metadata": {},
     "output_type": "execute_result"
    }
   ],
   "source": [
    "donations[\"Donation ID\"].count() - donations[\"Donation ID\"].nunique()"
   ]
  },
  {
   "cell_type": "code",
   "execution_count": 26,
   "id": "96363855",
   "metadata": {
    "scrolled": true
   },
   "outputs": [],
   "source": [
    "donations.sort_values(by=[\"Donation ID\", \"Donation Received Date\"], inplace=True)\n",
    "donations.drop_duplicates(subset=[\"Donation ID\"], keep=\"last\", inplace=True)"
   ]
  },
  {
   "cell_type": "code",
   "execution_count": 27,
   "id": "2cd25c07",
   "metadata": {
    "scrolled": true
   },
   "outputs": [
    {
     "data": {
      "text/plain": [
       "0"
      ]
     },
     "execution_count": 27,
     "metadata": {},
     "output_type": "execute_result"
    }
   ],
   "source": [
    "donations[\"Donation ID\"].count() - donations[\"Donation ID\"].nunique()"
   ]
  },
  {
   "cell_type": "code",
   "execution_count": 28,
   "id": "8b764265",
   "metadata": {
    "scrolled": true
   },
   "outputs": [
    {
     "name": "stdout",
     "output_type": "stream",
     "text": [
      "Project ID                          979436\n",
      "School ID                           979436\n",
      "Teacher ID                          979436\n",
      "Teacher Project Posted Sequence     979436\n",
      "Project Type                        979436\n",
      "Project Subject Category Tree       979407\n",
      "Project Subject Subcategory Tree    979407\n",
      "Project Grade Level Category        979436\n",
      "Project Resource Category           979400\n",
      "Project Cost                        979436\n",
      "Project Posted Date                 979436\n",
      "Project Expiration Date             979427\n",
      "Project Fully Funded Date           738785\n",
      "dtype: int64\n",
      "Project ID                4662334\n",
      "Donation ID               4662334\n",
      "Donor ID                  4662334\n",
      "Donation Amount           4662334\n",
      "Donation Received Date    4662334\n",
      "dtype: int64\n"
     ]
    }
   ],
   "source": [
    "print(projects.count())\n",
    "print(donations.count())"
   ]
  },
  {
   "cell_type": "code",
   "execution_count": 29,
   "id": "dae7265e",
   "metadata": {
    "scrolled": true
   },
   "outputs": [],
   "source": [
    "project_donations = projects.merge(donations, on='Project ID', how='left')"
   ]
  },
  {
   "cell_type": "code",
   "execution_count": 30,
   "id": "4d6de50c",
   "metadata": {
    "scrolled": true
   },
   "outputs": [
    {
     "data": {
      "text/plain": [
       "Project ID                          4433037\n",
       "School ID                           4433037\n",
       "Teacher ID                          4433037\n",
       "Teacher Project Posted Sequence     4433037\n",
       "Project Type                        4433037\n",
       "Project Subject Category Tree       4432916\n",
       "Project Subject Subcategory Tree    4432916\n",
       "Project Grade Level Category        4433037\n",
       "Project Resource Category           4432893\n",
       "Project Cost                        4433037\n",
       "Project Posted Date                 4433037\n",
       "Project Expiration Date             4433026\n",
       "Project Fully Funded Date           3934570\n",
       "Donation ID                         4239997\n",
       "Donor ID                            4239997\n",
       "Donation Amount                     4239997\n",
       "Donation Received Date              4239997\n",
       "dtype: int64"
      ]
     },
     "execution_count": 30,
     "metadata": {},
     "output_type": "execute_result"
    }
   ],
   "source": [
    "project_donations.count()"
   ]
  },
  {
   "cell_type": "code",
   "execution_count": 31,
   "id": "9816af38",
   "metadata": {},
   "outputs": [
    {
     "data": {
      "text/plain": [
       "Project ID                           979436\n",
       "School ID                             70603\n",
       "Teacher ID                           368423\n",
       "Teacher Project Posted Sequence         484\n",
       "Project Type                              3\n",
       "Project Subject Category Tree            51\n",
       "Project Subject Subcategory Tree        432\n",
       "Project Grade Level Category              5\n",
       "Project Resource Category                17\n",
       "Project Cost                         156818\n",
       "Project Posted Date                    1825\n",
       "Project Expiration Date                1969\n",
       "Project Fully Funded Date              1911\n",
       "Donation ID                         4239997\n",
       "Donor ID                            1881440\n",
       "Donation Amount                       74326\n",
       "Donation Received Date              3708986\n",
       "dtype: int64"
      ]
     },
     "execution_count": 31,
     "metadata": {},
     "output_type": "execute_result"
    }
   ],
   "source": [
    "project_donations.nunique()"
   ]
  },
  {
   "cell_type": "code",
   "execution_count": 32,
   "id": "40f490a8",
   "metadata": {
    "scrolled": true
   },
   "outputs": [],
   "source": [
    "donors = donors[[\"Donor ID\", \"Donor Is Teacher\"]]"
   ]
  },
  {
   "cell_type": "code",
   "execution_count": 33,
   "id": "d86e2536",
   "metadata": {
    "scrolled": true
   },
   "outputs": [],
   "source": [
    "project_donations_donors = project_donations.merge(donors, on='Donor ID', how='left')"
   ]
  },
  {
   "cell_type": "code",
   "execution_count": 34,
   "id": "b7212186",
   "metadata": {
    "scrolled": true
   },
   "outputs": [
    {
     "data": {
      "text/plain": [
       "Project ID                          4433037\n",
       "School ID                           4433037\n",
       "Teacher ID                          4433037\n",
       "Teacher Project Posted Sequence     4433037\n",
       "Project Type                        4433037\n",
       "Project Subject Category Tree       4432916\n",
       "Project Subject Subcategory Tree    4432916\n",
       "Project Grade Level Category        4433037\n",
       "Project Resource Category           4432893\n",
       "Project Cost                        4433037\n",
       "Project Posted Date                 4433037\n",
       "Project Expiration Date             4433026\n",
       "Project Fully Funded Date           3934570\n",
       "Donation ID                         4239997\n",
       "Donor ID                            4239997\n",
       "Donation Amount                     4239997\n",
       "Donation Received Date              4239997\n",
       "Donor Is Teacher                    4239992\n",
       "dtype: int64"
      ]
     },
     "execution_count": 34,
     "metadata": {},
     "output_type": "execute_result"
    }
   ],
   "source": [
    "project_donations_donors.count()"
   ]
  },
  {
   "cell_type": "code",
   "execution_count": 35,
   "id": "045556c2",
   "metadata": {},
   "outputs": [
    {
     "data": {
      "text/plain": [
       "Project ID                           979436\n",
       "School ID                             70603\n",
       "Teacher ID                           368423\n",
       "Teacher Project Posted Sequence         484\n",
       "Project Type                              3\n",
       "Project Subject Category Tree            51\n",
       "Project Subject Subcategory Tree        432\n",
       "Project Grade Level Category              5\n",
       "Project Resource Category                17\n",
       "Project Cost                         156818\n",
       "Project Posted Date                    1825\n",
       "Project Expiration Date                1969\n",
       "Project Fully Funded Date              1911\n",
       "Donation ID                         4239997\n",
       "Donor ID                            1881440\n",
       "Donation Amount                       74326\n",
       "Donation Received Date              3708986\n",
       "Donor Is Teacher                          2\n",
       "dtype: int64"
      ]
     },
     "execution_count": 35,
     "metadata": {},
     "output_type": "execute_result"
    }
   ],
   "source": [
    "project_donations_donors.nunique()"
   ]
  },
  {
   "cell_type": "code",
   "execution_count": 36,
   "id": "37de1c06",
   "metadata": {
    "scrolled": false
   },
   "outputs": [
    {
     "data": {
      "text/html": [
       "<div>\n",
       "<style scoped>\n",
       "    .dataframe tbody tr th:only-of-type {\n",
       "        vertical-align: middle;\n",
       "    }\n",
       "\n",
       "    .dataframe tbody tr th {\n",
       "        vertical-align: top;\n",
       "    }\n",
       "\n",
       "    .dataframe thead th {\n",
       "        text-align: right;\n",
       "    }\n",
       "</style>\n",
       "<table border=\"1\" class=\"dataframe\">\n",
       "  <thead>\n",
       "    <tr style=\"text-align: right;\">\n",
       "      <th></th>\n",
       "      <th>Project ID</th>\n",
       "      <th>School ID</th>\n",
       "      <th>Teacher ID</th>\n",
       "      <th>Teacher Project Posted Sequence</th>\n",
       "      <th>Project Type</th>\n",
       "      <th>Project Subject Category Tree</th>\n",
       "      <th>Project Subject Subcategory Tree</th>\n",
       "      <th>Project Grade Level Category</th>\n",
       "      <th>Project Resource Category</th>\n",
       "      <th>Project Cost</th>\n",
       "      <th>Project Posted Date</th>\n",
       "      <th>Project Expiration Date</th>\n",
       "      <th>Project Fully Funded Date</th>\n",
       "      <th>Donation ID</th>\n",
       "      <th>Donor ID</th>\n",
       "      <th>Donation Amount</th>\n",
       "      <th>Donation Received Date</th>\n",
       "      <th>Donor Is Teacher</th>\n",
       "    </tr>\n",
       "  </thead>\n",
       "  <tbody>\n",
       "    <tr>\n",
       "      <th>0</th>\n",
       "      <td>7b017fa79510998c3960ed8f3b47c7c9</td>\n",
       "      <td>9ae756303b7919428b455baae0eb1998</td>\n",
       "      <td>70c5ec84f5faae238a0b17cd755921ce</td>\n",
       "      <td>4</td>\n",
       "      <td>Teacher-Led</td>\n",
       "      <td>Literacy &amp; Language, Math &amp; Science</td>\n",
       "      <td>Literacy, Mathematics</td>\n",
       "      <td>Grades 3-5</td>\n",
       "      <td>Technology</td>\n",
       "      <td>347.93</td>\n",
       "      <td>2013-01-02</td>\n",
       "      <td>2013-05-31</td>\n",
       "      <td>NaN</td>\n",
       "      <td>0df1f587f4544de7d033d4eac68a69a1</td>\n",
       "      <td>8dd44940c567893c3f57e2534430752c</td>\n",
       "      <td>50.00</td>\n",
       "      <td>2013-05-15 15:55:53</td>\n",
       "      <td>No</td>\n",
       "    </tr>\n",
       "    <tr>\n",
       "      <th>1</th>\n",
       "      <td>b12c0c126c64963305a51ca60f687b53</td>\n",
       "      <td>0917cacae1d752ab5ead1cf1d9e86d59</td>\n",
       "      <td>4e8d5828adb05503f825d30d8a5c93a9</td>\n",
       "      <td>10</td>\n",
       "      <td>Teacher-Led</td>\n",
       "      <td>Math &amp; Science</td>\n",
       "      <td>Applied Sciences</td>\n",
       "      <td>Grades 6-8</td>\n",
       "      <td>Technology</td>\n",
       "      <td>527.05</td>\n",
       "      <td>2013-01-02</td>\n",
       "      <td>2013-06-01</td>\n",
       "      <td>NaN</td>\n",
       "      <td>a3860c0de4eff71b5421e996d23ba504</td>\n",
       "      <td>1962145118a5a9618d965044b721afd9</td>\n",
       "      <td>100.00</td>\n",
       "      <td>2013-01-03 10:57:28</td>\n",
       "      <td>No</td>\n",
       "    </tr>\n",
       "    <tr>\n",
       "      <th>2</th>\n",
       "      <td>f00d5e1740d3b36e1edbaf770d6b08c4</td>\n",
       "      <td>0737f34d03196b62fc2bc1fc2e5c2672</td>\n",
       "      <td>2d5176b68bedd91b7bde3054d6dbdf5c</td>\n",
       "      <td>3</td>\n",
       "      <td>Teacher-Led</td>\n",
       "      <td>Math &amp; Science, Literacy &amp; Language</td>\n",
       "      <td>Health &amp; Life Science, Literacy</td>\n",
       "      <td>Grades PreK-2</td>\n",
       "      <td>Books</td>\n",
       "      <td>254.85</td>\n",
       "      <td>2013-01-02</td>\n",
       "      <td>2013-05-31</td>\n",
       "      <td>2013-05-25</td>\n",
       "      <td>16d0d868e724426319f81855262a1e8e</td>\n",
       "      <td>cb0b14571e2d2c7a484e4e85d3d6b52f</td>\n",
       "      <td>50.00</td>\n",
       "      <td>2013-04-05 12:59:54</td>\n",
       "      <td>No</td>\n",
       "    </tr>\n",
       "    <tr>\n",
       "      <th>3</th>\n",
       "      <td>f00d5e1740d3b36e1edbaf770d6b08c4</td>\n",
       "      <td>0737f34d03196b62fc2bc1fc2e5c2672</td>\n",
       "      <td>2d5176b68bedd91b7bde3054d6dbdf5c</td>\n",
       "      <td>3</td>\n",
       "      <td>Teacher-Led</td>\n",
       "      <td>Math &amp; Science, Literacy &amp; Language</td>\n",
       "      <td>Health &amp; Life Science, Literacy</td>\n",
       "      <td>Grades PreK-2</td>\n",
       "      <td>Books</td>\n",
       "      <td>254.85</td>\n",
       "      <td>2013-01-02</td>\n",
       "      <td>2013-05-31</td>\n",
       "      <td>2013-05-25</td>\n",
       "      <td>93cf2f52d6197a06f6dee1103859a331</td>\n",
       "      <td>4d47f946ffdeb59d4ff30ec21b2d68fa</td>\n",
       "      <td>50.00</td>\n",
       "      <td>2013-05-10 20:25:26</td>\n",
       "      <td>No</td>\n",
       "    </tr>\n",
       "    <tr>\n",
       "      <th>4</th>\n",
       "      <td>f00d5e1740d3b36e1edbaf770d6b08c4</td>\n",
       "      <td>0737f34d03196b62fc2bc1fc2e5c2672</td>\n",
       "      <td>2d5176b68bedd91b7bde3054d6dbdf5c</td>\n",
       "      <td>3</td>\n",
       "      <td>Teacher-Led</td>\n",
       "      <td>Math &amp; Science, Literacy &amp; Language</td>\n",
       "      <td>Health &amp; Life Science, Literacy</td>\n",
       "      <td>Grades PreK-2</td>\n",
       "      <td>Books</td>\n",
       "      <td>254.85</td>\n",
       "      <td>2013-01-02</td>\n",
       "      <td>2013-05-31</td>\n",
       "      <td>2013-05-25</td>\n",
       "      <td>987b25323a4b14bb5d50fa9daf7098c4</td>\n",
       "      <td>0e345dcdef0d2a36c9bd17bf1ac3e10a</td>\n",
       "      <td>26.02</td>\n",
       "      <td>2013-05-19 00:14:10</td>\n",
       "      <td>No</td>\n",
       "    </tr>\n",
       "  </tbody>\n",
       "</table>\n",
       "</div>"
      ],
      "text/plain": [
       "                         Project ID                         School ID  \\\n",
       "0  7b017fa79510998c3960ed8f3b47c7c9  9ae756303b7919428b455baae0eb1998   \n",
       "1  b12c0c126c64963305a51ca60f687b53  0917cacae1d752ab5ead1cf1d9e86d59   \n",
       "2  f00d5e1740d3b36e1edbaf770d6b08c4  0737f34d03196b62fc2bc1fc2e5c2672   \n",
       "3  f00d5e1740d3b36e1edbaf770d6b08c4  0737f34d03196b62fc2bc1fc2e5c2672   \n",
       "4  f00d5e1740d3b36e1edbaf770d6b08c4  0737f34d03196b62fc2bc1fc2e5c2672   \n",
       "\n",
       "                         Teacher ID  Teacher Project Posted Sequence  \\\n",
       "0  70c5ec84f5faae238a0b17cd755921ce                                4   \n",
       "1  4e8d5828adb05503f825d30d8a5c93a9                               10   \n",
       "2  2d5176b68bedd91b7bde3054d6dbdf5c                                3   \n",
       "3  2d5176b68bedd91b7bde3054d6dbdf5c                                3   \n",
       "4  2d5176b68bedd91b7bde3054d6dbdf5c                                3   \n",
       "\n",
       "  Project Type        Project Subject Category Tree  \\\n",
       "0  Teacher-Led  Literacy & Language, Math & Science   \n",
       "1  Teacher-Led                       Math & Science   \n",
       "2  Teacher-Led  Math & Science, Literacy & Language   \n",
       "3  Teacher-Led  Math & Science, Literacy & Language   \n",
       "4  Teacher-Led  Math & Science, Literacy & Language   \n",
       "\n",
       "  Project Subject Subcategory Tree Project Grade Level Category  \\\n",
       "0            Literacy, Mathematics                   Grades 3-5   \n",
       "1                 Applied Sciences                   Grades 6-8   \n",
       "2  Health & Life Science, Literacy                Grades PreK-2   \n",
       "3  Health & Life Science, Literacy                Grades PreK-2   \n",
       "4  Health & Life Science, Literacy                Grades PreK-2   \n",
       "\n",
       "  Project Resource Category  Project Cost Project Posted Date  \\\n",
       "0                Technology        347.93          2013-01-02   \n",
       "1                Technology        527.05          2013-01-02   \n",
       "2                     Books        254.85          2013-01-02   \n",
       "3                     Books        254.85          2013-01-02   \n",
       "4                     Books        254.85          2013-01-02   \n",
       "\n",
       "  Project Expiration Date Project Fully Funded Date  \\\n",
       "0              2013-05-31                       NaN   \n",
       "1              2013-06-01                       NaN   \n",
       "2              2013-05-31                2013-05-25   \n",
       "3              2013-05-31                2013-05-25   \n",
       "4              2013-05-31                2013-05-25   \n",
       "\n",
       "                        Donation ID                          Donor ID  \\\n",
       "0  0df1f587f4544de7d033d4eac68a69a1  8dd44940c567893c3f57e2534430752c   \n",
       "1  a3860c0de4eff71b5421e996d23ba504  1962145118a5a9618d965044b721afd9   \n",
       "2  16d0d868e724426319f81855262a1e8e  cb0b14571e2d2c7a484e4e85d3d6b52f   \n",
       "3  93cf2f52d6197a06f6dee1103859a331  4d47f946ffdeb59d4ff30ec21b2d68fa   \n",
       "4  987b25323a4b14bb5d50fa9daf7098c4  0e345dcdef0d2a36c9bd17bf1ac3e10a   \n",
       "\n",
       "   Donation Amount Donation Received Date Donor Is Teacher  \n",
       "0            50.00    2013-05-15 15:55:53               No  \n",
       "1           100.00    2013-01-03 10:57:28               No  \n",
       "2            50.00    2013-04-05 12:59:54               No  \n",
       "3            50.00    2013-05-10 20:25:26               No  \n",
       "4            26.02    2013-05-19 00:14:10               No  "
      ]
     },
     "execution_count": 36,
     "metadata": {},
     "output_type": "execute_result"
    }
   ],
   "source": [
    "project_donations_donors.head()"
   ]
  },
  {
   "cell_type": "code",
   "execution_count": 37,
   "id": "ba448280",
   "metadata": {
    "scrolled": true
   },
   "outputs": [
    {
     "data": {
      "text/plain": [
       "(1157094, 18)"
      ]
     },
     "execution_count": 37,
     "metadata": {},
     "output_type": "execute_result"
    }
   ],
   "source": [
    "project_donations_donors[project_donations_donors['Donor Is Teacher'] == 'Yes'].shape"
   ]
  },
  {
   "cell_type": "code",
   "execution_count": 38,
   "id": "fb32d418",
   "metadata": {
    "scrolled": true
   },
   "outputs": [
    {
     "data": {
      "text/plain": [
       "(3082898, 18)"
      ]
     },
     "execution_count": 38,
     "metadata": {},
     "output_type": "execute_result"
    }
   ],
   "source": [
    "project_donations_donors[project_donations_donors['Donor Is Teacher'] == 'No'].shape"
   ]
  },
  {
   "cell_type": "code",
   "execution_count": 39,
   "id": "3ee9529f",
   "metadata": {
    "scrolled": true
   },
   "outputs": [],
   "source": [
    "# logic dropping teacher donations\n",
    "project_donations_donors = project_donations_donors[project_donations_donors['Donor Is Teacher'] != 'Yes']"
   ]
  },
  {
   "cell_type": "code",
   "execution_count": 40,
   "id": "7e69935b",
   "metadata": {
    "scrolled": true
   },
   "outputs": [
    {
     "data": {
      "text/plain": [
       "(3275943, 18)"
      ]
     },
     "execution_count": 40,
     "metadata": {},
     "output_type": "execute_result"
    }
   ],
   "source": [
    "project_donations_donors.shape"
   ]
  },
  {
   "cell_type": "code",
   "execution_count": 41,
   "id": "93e87153",
   "metadata": {
    "scrolled": true
   },
   "outputs": [],
   "source": [
    "project_donations_donors = project_donations_donors.drop(['Donor Is Teacher', 'Donor ID'], axis=1)"
   ]
  },
  {
   "cell_type": "code",
   "execution_count": 42,
   "id": "e4a6851d",
   "metadata": {},
   "outputs": [
    {
     "data": {
      "text/plain": [
       "Project ID                           915954\n",
       "School ID                             69915\n",
       "Teacher ID                           358279\n",
       "Teacher Project Posted Sequence         482\n",
       "Project Type                              3\n",
       "Project Subject Category Tree            51\n",
       "Project Subject Subcategory Tree        430\n",
       "Project Grade Level Category              5\n",
       "Project Resource Category                17\n",
       "Project Cost                         152668\n",
       "Project Posted Date                    1825\n",
       "Project Expiration Date                1963\n",
       "Project Fully Funded Date              1911\n",
       "Donation ID                         3082903\n",
       "Donation Amount                       69830\n",
       "Donation Received Date              2797689\n",
       "dtype: int64"
      ]
     },
     "execution_count": 42,
     "metadata": {},
     "output_type": "execute_result"
    }
   ],
   "source": [
    "project_donations_donors.nunique()"
   ]
  },
  {
   "cell_type": "code",
   "execution_count": 43,
   "id": "52f796ab",
   "metadata": {},
   "outputs": [],
   "source": [
    "DONATION_PERIOD = 30\n",
    "THRESHOLD_RATIO = 0.4"
   ]
  },
  {
   "cell_type": "code",
   "execution_count": 44,
   "id": "f0bf0e65",
   "metadata": {
    "scrolled": true
   },
   "outputs": [],
   "source": [
    "project_donations_donors[\"Posted Date to Donation Date\"] = project_donations_donors[\"Donation Received Date\"] - project_donations_donors[\"Project Posted Date\"]\n",
    "project_donations_donors[\"Posted Date to Donation Date\"] = project_donations_donors[\"Posted Date to Donation Date\"].dt.days"
   ]
  },
  {
   "cell_type": "code",
   "execution_count": 45,
   "id": "727c3335",
   "metadata": {
    "scrolled": false
   },
   "outputs": [
    {
     "data": {
      "text/plain": [
       "Project ID                           915954\n",
       "School ID                             69915\n",
       "Teacher ID                           358279\n",
       "Teacher Project Posted Sequence         482\n",
       "Project Type                              3\n",
       "Project Subject Category Tree            51\n",
       "Project Subject Subcategory Tree        430\n",
       "Project Grade Level Category              5\n",
       "Project Resource Category                17\n",
       "Project Cost                         152668\n",
       "Project Posted Date                    1825\n",
       "Project Expiration Date                1963\n",
       "Project Fully Funded Date              1911\n",
       "Donation ID                         3082903\n",
       "Donation Amount                       69830\n",
       "Donation Received Date              2797689\n",
       "Posted Date to Donation Date            365\n",
       "dtype: int64"
      ]
     },
     "execution_count": 45,
     "metadata": {},
     "output_type": "execute_result"
    }
   ],
   "source": [
    "project_donations_donors.nunique()"
   ]
  },
  {
   "cell_type": "code",
   "execution_count": 46,
   "id": "42a43f4b",
   "metadata": {},
   "outputs": [
    {
     "data": {
      "text/plain": [
       "Project ID                           722832\n",
       "School ID                             66285\n",
       "Teacher ID                           304189\n",
       "Teacher Project Posted Sequence         480\n",
       "Project Type                              3\n",
       "Project Subject Category Tree            51\n",
       "Project Subject Subcategory Tree        428\n",
       "Project Grade Level Category              5\n",
       "Project Resource Category                17\n",
       "Project Cost                         131928\n",
       "Project Posted Date                    1825\n",
       "Project Expiration Date                1958\n",
       "Project Fully Funded Date              1911\n",
       "Donation ID                         3079717\n",
       "Donation Amount                       69827\n",
       "Donation Received Date              2794702\n",
       "Posted Date to Donation Date            213\n",
       "dtype: int64"
      ]
     },
     "execution_count": 46,
     "metadata": {},
     "output_type": "execute_result"
    }
   ],
   "source": [
    "project_donations_donors[project_donations_donors[\"Posted Date to Donation Date\"] >= 0].nunique()"
   ]
  },
  {
   "cell_type": "code",
   "execution_count": 47,
   "id": "003bab3a",
   "metadata": {},
   "outputs": [
    {
     "data": {
      "text/plain": [
       "Project ID                          3079717\n",
       "School ID                           3079717\n",
       "Teacher ID                          3079717\n",
       "Teacher Project Posted Sequence     3079717\n",
       "Project Type                        3079717\n",
       "Project Subject Category Tree       3079640\n",
       "Project Subject Subcategory Tree    3079640\n",
       "Project Grade Level Category        3079717\n",
       "Project Resource Category           3079618\n",
       "Project Cost                        3079717\n",
       "Project Posted Date                 3079717\n",
       "Project Expiration Date             3079715\n",
       "Project Fully Funded Date           2783677\n",
       "Donation ID                         3079717\n",
       "Donation Amount                     3079717\n",
       "Donation Received Date              3079717\n",
       "Posted Date to Donation Date        3079717\n",
       "dtype: int64"
      ]
     },
     "execution_count": 47,
     "metadata": {},
     "output_type": "execute_result"
    }
   ],
   "source": [
    "project_donations_donors[project_donations_donors[\"Posted Date to Donation Date\"] >= 0].count()"
   ]
  },
  {
   "cell_type": "code",
   "execution_count": 48,
   "id": "88e92699",
   "metadata": {},
   "outputs": [],
   "source": [
    "# project_donations_donors = project_donations_donors[project_donations_donors[\"Posted Date to Donation Date\"] >= 0]"
   ]
  },
  {
   "cell_type": "code",
   "execution_count": 49,
   "id": "1649dcdd",
   "metadata": {},
   "outputs": [
    {
     "data": {
      "text/plain": [
       "Project ID                           915954\n",
       "School ID                             69915\n",
       "Teacher ID                           358279\n",
       "Teacher Project Posted Sequence         482\n",
       "Project Type                              3\n",
       "Project Subject Category Tree            51\n",
       "Project Subject Subcategory Tree        430\n",
       "Project Grade Level Category              5\n",
       "Project Resource Category                17\n",
       "Project Cost                         152668\n",
       "Project Posted Date                    1825\n",
       "Project Expiration Date                1963\n",
       "Project Fully Funded Date              1911\n",
       "Donation ID                         3082903\n",
       "Donation Amount                       69830\n",
       "Donation Received Date              2797689\n",
       "Posted Date to Donation Date            365\n",
       "dtype: int64"
      ]
     },
     "execution_count": 49,
     "metadata": {},
     "output_type": "execute_result"
    }
   ],
   "source": [
    "project_donations_donors.nunique()"
   ]
  },
  {
   "cell_type": "code",
   "execution_count": 50,
   "id": "55c4955b",
   "metadata": {},
   "outputs": [],
   "source": [
    "mask_1 = project_donations_donors[\"Posted Date to Donation Date\"] <= DONATION_PERIOD\n",
    "mask_2 = project_donations_donors[\"Posted Date to Donation Date\"] <= DONATION_PERIOD*3"
   ]
  },
  {
   "cell_type": "code",
   "execution_count": 51,
   "id": "f6090dd4",
   "metadata": {},
   "outputs": [],
   "source": [
    "# project_donations_donors.loc[mask, \"Donation Amount\"] = 0\n",
    "project_donations_donors[\"Donation in first month\"] = np.where(mask_1, project_donations_donors[\"Donation Amount\"], 0)\n",
    "project_donations_donors[\"Donation in three months\"] = np.where(mask_2, project_donations_donors[\"Donation Amount\"], 0)"
   ]
  },
  {
   "cell_type": "code",
   "execution_count": 53,
   "id": "252d82fe",
   "metadata": {
    "scrolled": true
   },
   "outputs": [
    {
     "data": {
      "text/plain": [
       "Project ID                           915954\n",
       "School ID                             69915\n",
       "Teacher ID                           358279\n",
       "Teacher Project Posted Sequence         482\n",
       "Project Type                              3\n",
       "Project Subject Category Tree            51\n",
       "Project Subject Subcategory Tree        430\n",
       "Project Grade Level Category              5\n",
       "Project Resource Category                17\n",
       "Project Cost                         152668\n",
       "Project Posted Date                    1825\n",
       "Project Expiration Date                1963\n",
       "Project Fully Funded Date              1911\n",
       "Donation ID                         3082903\n",
       "Donation Amount                       69830\n",
       "Donation Received Date              2797689\n",
       "Posted Date to Donation Date            365\n",
       "Donation in first month               53050\n",
       "Donation in three months              63829\n",
       "dtype: int64"
      ]
     },
     "execution_count": 53,
     "metadata": {},
     "output_type": "execute_result"
    }
   ],
   "source": [
    "project_donations_donors.nunique()"
   ]
  },
  {
   "cell_type": "code",
   "execution_count": 54,
   "id": "84537d68",
   "metadata": {},
   "outputs": [
    {
     "data": {
      "text/plain": [
       "Project ID                          3275943\n",
       "School ID                           3275943\n",
       "Teacher ID                          3275943\n",
       "Teacher Project Posted Sequence     3275943\n",
       "Project Type                        3275943\n",
       "Project Subject Category Tree       3275855\n",
       "Project Subject Subcategory Tree    3275855\n",
       "Project Grade Level Category        3275943\n",
       "Project Resource Category           3275833\n",
       "Project Cost                        3275943\n",
       "Project Posted Date                 3275943\n",
       "Project Expiration Date             3275933\n",
       "Project Fully Funded Date           2873527\n",
       "Donation ID                         3082903\n",
       "Donation Amount                     3082903\n",
       "Donation Received Date              3082903\n",
       "Posted Date to Donation Date        3082903\n",
       "Donation in first month             3275943\n",
       "Donation in three months            3275943\n",
       "dtype: int64"
      ]
     },
     "execution_count": 54,
     "metadata": {},
     "output_type": "execute_result"
    }
   ],
   "source": [
    "project_donations_donors.count()"
   ]
  },
  {
   "cell_type": "code",
   "execution_count": 55,
   "id": "f74edaa2",
   "metadata": {},
   "outputs": [],
   "source": [
    "grouped_1 = project_donations_donors.groupby(\"Project ID\")[\"Donation in first month\"].sum()\n",
    "grouped_2 = project_donations_donors.groupby(\"Project ID\")[\"Donation in three months\"].sum()"
   ]
  },
  {
   "cell_type": "code",
   "execution_count": 56,
   "id": "d1bd2c45",
   "metadata": {},
   "outputs": [],
   "source": [
    "data = project_donations_donors.merge(grouped_1, left_on='Project ID', right_index=True)\n",
    "data = data.merge(grouped_2, left_on='Project ID', right_index=True)"
   ]
  },
  {
   "cell_type": "code",
   "execution_count": 57,
   "id": "e2e620ed",
   "metadata": {},
   "outputs": [
    {
     "data": {
      "text/html": [
       "<div>\n",
       "<style scoped>\n",
       "    .dataframe tbody tr th:only-of-type {\n",
       "        vertical-align: middle;\n",
       "    }\n",
       "\n",
       "    .dataframe tbody tr th {\n",
       "        vertical-align: top;\n",
       "    }\n",
       "\n",
       "    .dataframe thead th {\n",
       "        text-align: right;\n",
       "    }\n",
       "</style>\n",
       "<table border=\"1\" class=\"dataframe\">\n",
       "  <thead>\n",
       "    <tr style=\"text-align: right;\">\n",
       "      <th></th>\n",
       "      <th>Project ID</th>\n",
       "      <th>School ID</th>\n",
       "      <th>Teacher ID</th>\n",
       "      <th>Teacher Project Posted Sequence</th>\n",
       "      <th>Project Type</th>\n",
       "      <th>Project Subject Category Tree</th>\n",
       "      <th>Project Subject Subcategory Tree</th>\n",
       "      <th>Project Grade Level Category</th>\n",
       "      <th>Project Resource Category</th>\n",
       "      <th>Project Cost</th>\n",
       "      <th>...</th>\n",
       "      <th>Project Expiration Date</th>\n",
       "      <th>Project Fully Funded Date</th>\n",
       "      <th>Donation ID</th>\n",
       "      <th>Donation Amount</th>\n",
       "      <th>Donation Received Date</th>\n",
       "      <th>Posted Date to Donation Date</th>\n",
       "      <th>Donation in first month_x</th>\n",
       "      <th>Donation in three months_x</th>\n",
       "      <th>Donation in first month_y</th>\n",
       "      <th>Donation in three months_y</th>\n",
       "    </tr>\n",
       "  </thead>\n",
       "  <tbody>\n",
       "    <tr>\n",
       "      <th>0</th>\n",
       "      <td>7b017fa79510998c3960ed8f3b47c7c9</td>\n",
       "      <td>9ae756303b7919428b455baae0eb1998</td>\n",
       "      <td>70c5ec84f5faae238a0b17cd755921ce</td>\n",
       "      <td>4</td>\n",
       "      <td>Teacher-Led</td>\n",
       "      <td>Literacy &amp; Language, Math &amp; Science</td>\n",
       "      <td>Literacy, Mathematics</td>\n",
       "      <td>Grades 3-5</td>\n",
       "      <td>Technology</td>\n",
       "      <td>347.93</td>\n",
       "      <td>...</td>\n",
       "      <td>2013-05-31</td>\n",
       "      <td>NaN</td>\n",
       "      <td>0df1f587f4544de7d033d4eac68a69a1</td>\n",
       "      <td>50.00</td>\n",
       "      <td>2013-05-15 15:55:53</td>\n",
       "      <td>133.0</td>\n",
       "      <td>0.0</td>\n",
       "      <td>0.0</td>\n",
       "      <td>0.0</td>\n",
       "      <td>0.0</td>\n",
       "    </tr>\n",
       "    <tr>\n",
       "      <th>1</th>\n",
       "      <td>b12c0c126c64963305a51ca60f687b53</td>\n",
       "      <td>0917cacae1d752ab5ead1cf1d9e86d59</td>\n",
       "      <td>4e8d5828adb05503f825d30d8a5c93a9</td>\n",
       "      <td>10</td>\n",
       "      <td>Teacher-Led</td>\n",
       "      <td>Math &amp; Science</td>\n",
       "      <td>Applied Sciences</td>\n",
       "      <td>Grades 6-8</td>\n",
       "      <td>Technology</td>\n",
       "      <td>527.05</td>\n",
       "      <td>...</td>\n",
       "      <td>2013-06-01</td>\n",
       "      <td>NaN</td>\n",
       "      <td>a3860c0de4eff71b5421e996d23ba504</td>\n",
       "      <td>100.00</td>\n",
       "      <td>2013-01-03 10:57:28</td>\n",
       "      <td>1.0</td>\n",
       "      <td>100.0</td>\n",
       "      <td>100.0</td>\n",
       "      <td>100.0</td>\n",
       "      <td>100.0</td>\n",
       "    </tr>\n",
       "    <tr>\n",
       "      <th>2</th>\n",
       "      <td>f00d5e1740d3b36e1edbaf770d6b08c4</td>\n",
       "      <td>0737f34d03196b62fc2bc1fc2e5c2672</td>\n",
       "      <td>2d5176b68bedd91b7bde3054d6dbdf5c</td>\n",
       "      <td>3</td>\n",
       "      <td>Teacher-Led</td>\n",
       "      <td>Math &amp; Science, Literacy &amp; Language</td>\n",
       "      <td>Health &amp; Life Science, Literacy</td>\n",
       "      <td>Grades PreK-2</td>\n",
       "      <td>Books</td>\n",
       "      <td>254.85</td>\n",
       "      <td>...</td>\n",
       "      <td>2013-05-31</td>\n",
       "      <td>2013-05-25</td>\n",
       "      <td>16d0d868e724426319f81855262a1e8e</td>\n",
       "      <td>50.00</td>\n",
       "      <td>2013-04-05 12:59:54</td>\n",
       "      <td>93.0</td>\n",
       "      <td>0.0</td>\n",
       "      <td>0.0</td>\n",
       "      <td>0.0</td>\n",
       "      <td>0.0</td>\n",
       "    </tr>\n",
       "    <tr>\n",
       "      <th>3</th>\n",
       "      <td>f00d5e1740d3b36e1edbaf770d6b08c4</td>\n",
       "      <td>0737f34d03196b62fc2bc1fc2e5c2672</td>\n",
       "      <td>2d5176b68bedd91b7bde3054d6dbdf5c</td>\n",
       "      <td>3</td>\n",
       "      <td>Teacher-Led</td>\n",
       "      <td>Math &amp; Science, Literacy &amp; Language</td>\n",
       "      <td>Health &amp; Life Science, Literacy</td>\n",
       "      <td>Grades PreK-2</td>\n",
       "      <td>Books</td>\n",
       "      <td>254.85</td>\n",
       "      <td>...</td>\n",
       "      <td>2013-05-31</td>\n",
       "      <td>2013-05-25</td>\n",
       "      <td>93cf2f52d6197a06f6dee1103859a331</td>\n",
       "      <td>50.00</td>\n",
       "      <td>2013-05-10 20:25:26</td>\n",
       "      <td>128.0</td>\n",
       "      <td>0.0</td>\n",
       "      <td>0.0</td>\n",
       "      <td>0.0</td>\n",
       "      <td>0.0</td>\n",
       "    </tr>\n",
       "    <tr>\n",
       "      <th>4</th>\n",
       "      <td>f00d5e1740d3b36e1edbaf770d6b08c4</td>\n",
       "      <td>0737f34d03196b62fc2bc1fc2e5c2672</td>\n",
       "      <td>2d5176b68bedd91b7bde3054d6dbdf5c</td>\n",
       "      <td>3</td>\n",
       "      <td>Teacher-Led</td>\n",
       "      <td>Math &amp; Science, Literacy &amp; Language</td>\n",
       "      <td>Health &amp; Life Science, Literacy</td>\n",
       "      <td>Grades PreK-2</td>\n",
       "      <td>Books</td>\n",
       "      <td>254.85</td>\n",
       "      <td>...</td>\n",
       "      <td>2013-05-31</td>\n",
       "      <td>2013-05-25</td>\n",
       "      <td>987b25323a4b14bb5d50fa9daf7098c4</td>\n",
       "      <td>26.02</td>\n",
       "      <td>2013-05-19 00:14:10</td>\n",
       "      <td>137.0</td>\n",
       "      <td>0.0</td>\n",
       "      <td>0.0</td>\n",
       "      <td>0.0</td>\n",
       "      <td>0.0</td>\n",
       "    </tr>\n",
       "  </tbody>\n",
       "</table>\n",
       "<p>5 rows × 21 columns</p>\n",
       "</div>"
      ],
      "text/plain": [
       "                         Project ID                         School ID  \\\n",
       "0  7b017fa79510998c3960ed8f3b47c7c9  9ae756303b7919428b455baae0eb1998   \n",
       "1  b12c0c126c64963305a51ca60f687b53  0917cacae1d752ab5ead1cf1d9e86d59   \n",
       "2  f00d5e1740d3b36e1edbaf770d6b08c4  0737f34d03196b62fc2bc1fc2e5c2672   \n",
       "3  f00d5e1740d3b36e1edbaf770d6b08c4  0737f34d03196b62fc2bc1fc2e5c2672   \n",
       "4  f00d5e1740d3b36e1edbaf770d6b08c4  0737f34d03196b62fc2bc1fc2e5c2672   \n",
       "\n",
       "                         Teacher ID  Teacher Project Posted Sequence  \\\n",
       "0  70c5ec84f5faae238a0b17cd755921ce                                4   \n",
       "1  4e8d5828adb05503f825d30d8a5c93a9                               10   \n",
       "2  2d5176b68bedd91b7bde3054d6dbdf5c                                3   \n",
       "3  2d5176b68bedd91b7bde3054d6dbdf5c                                3   \n",
       "4  2d5176b68bedd91b7bde3054d6dbdf5c                                3   \n",
       "\n",
       "  Project Type        Project Subject Category Tree  \\\n",
       "0  Teacher-Led  Literacy & Language, Math & Science   \n",
       "1  Teacher-Led                       Math & Science   \n",
       "2  Teacher-Led  Math & Science, Literacy & Language   \n",
       "3  Teacher-Led  Math & Science, Literacy & Language   \n",
       "4  Teacher-Led  Math & Science, Literacy & Language   \n",
       "\n",
       "  Project Subject Subcategory Tree Project Grade Level Category  \\\n",
       "0            Literacy, Mathematics                   Grades 3-5   \n",
       "1                 Applied Sciences                   Grades 6-8   \n",
       "2  Health & Life Science, Literacy                Grades PreK-2   \n",
       "3  Health & Life Science, Literacy                Grades PreK-2   \n",
       "4  Health & Life Science, Literacy                Grades PreK-2   \n",
       "\n",
       "  Project Resource Category  Project Cost  ... Project Expiration Date  \\\n",
       "0                Technology        347.93  ...              2013-05-31   \n",
       "1                Technology        527.05  ...              2013-06-01   \n",
       "2                     Books        254.85  ...              2013-05-31   \n",
       "3                     Books        254.85  ...              2013-05-31   \n",
       "4                     Books        254.85  ...              2013-05-31   \n",
       "\n",
       "  Project Fully Funded Date                       Donation ID Donation Amount  \\\n",
       "0                       NaN  0df1f587f4544de7d033d4eac68a69a1           50.00   \n",
       "1                       NaN  a3860c0de4eff71b5421e996d23ba504          100.00   \n",
       "2                2013-05-25  16d0d868e724426319f81855262a1e8e           50.00   \n",
       "3                2013-05-25  93cf2f52d6197a06f6dee1103859a331           50.00   \n",
       "4                2013-05-25  987b25323a4b14bb5d50fa9daf7098c4           26.02   \n",
       "\n",
       "   Donation Received Date Posted Date to Donation Date  \\\n",
       "0     2013-05-15 15:55:53                        133.0   \n",
       "1     2013-01-03 10:57:28                          1.0   \n",
       "2     2013-04-05 12:59:54                         93.0   \n",
       "3     2013-05-10 20:25:26                        128.0   \n",
       "4     2013-05-19 00:14:10                        137.0   \n",
       "\n",
       "   Donation in first month_x  Donation in three months_x  \\\n",
       "0                        0.0                         0.0   \n",
       "1                      100.0                       100.0   \n",
       "2                        0.0                         0.0   \n",
       "3                        0.0                         0.0   \n",
       "4                        0.0                         0.0   \n",
       "\n",
       "   Donation in first month_y  Donation in three months_y  \n",
       "0                        0.0                         0.0  \n",
       "1                      100.0                       100.0  \n",
       "2                        0.0                         0.0  \n",
       "3                        0.0                         0.0  \n",
       "4                        0.0                         0.0  \n",
       "\n",
       "[5 rows x 21 columns]"
      ]
     },
     "execution_count": 57,
     "metadata": {},
     "output_type": "execute_result"
    }
   ],
   "source": [
    "data.head()"
   ]
  },
  {
   "cell_type": "code",
   "execution_count": 59,
   "id": "feb32551",
   "metadata": {},
   "outputs": [],
   "source": [
    "data.drop_duplicates(subset=\"Project ID\", keep=\"first\", inplace=True)"
   ]
  },
  {
   "cell_type": "code",
   "execution_count": 60,
   "id": "d372d4e3",
   "metadata": {},
   "outputs": [
    {
     "data": {
      "text/plain": [
       "Project ID                          915954\n",
       "School ID                           915954\n",
       "Teacher ID                          915954\n",
       "Teacher Project Posted Sequence     915954\n",
       "Project Type                        915954\n",
       "Project Subject Category Tree       915926\n",
       "Project Subject Subcategory Tree    915926\n",
       "Project Grade Level Category        915954\n",
       "Project Resource Category           915920\n",
       "Project Cost                        915954\n",
       "Project Posted Date                 915954\n",
       "Project Expiration Date             915945\n",
       "Project Fully Funded Date           692487\n",
       "Donation ID                         722914\n",
       "Donation Amount                     722914\n",
       "Donation Received Date              722914\n",
       "Posted Date to Donation Date        722914\n",
       "Donation in first month_x           915954\n",
       "Donation in three months_x          915954\n",
       "Donation in first month_y           915954\n",
       "Donation in three months_y          915954\n",
       "dtype: int64"
      ]
     },
     "execution_count": 60,
     "metadata": {},
     "output_type": "execute_result"
    }
   ],
   "source": [
    "data.count()"
   ]
  },
  {
   "cell_type": "code",
   "execution_count": 61,
   "id": "5072107d",
   "metadata": {},
   "outputs": [],
   "source": [
    "data.rename(columns={'Donation in first month_y': 'Total Donations In 1 Month'}, inplace=True)\n",
    "data.rename(columns={'Donation in three months_y': 'Total Donations In 3 Months'}, inplace=True)"
   ]
  },
  {
   "cell_type": "code",
   "execution_count": 62,
   "id": "3d810dc9",
   "metadata": {},
   "outputs": [
    {
     "data": {
      "text/plain": [
       "Project ID                          915954\n",
       "School ID                            69915\n",
       "Teacher ID                          358279\n",
       "Teacher Project Posted Sequence        482\n",
       "Project Type                             3\n",
       "Project Subject Category Tree           51\n",
       "Project Subject Subcategory Tree       430\n",
       "Project Grade Level Category             5\n",
       "Project Resource Category               17\n",
       "Project Cost                        152668\n",
       "Project Posted Date                   1825\n",
       "Project Expiration Date               1963\n",
       "Project Fully Funded Date             1911\n",
       "Donation ID                         722914\n",
       "Donation Amount                      58053\n",
       "Donation Received Date              670370\n",
       "Posted Date to Donation Date           276\n",
       "Donation in first month_x            45115\n",
       "Donation in three months_x           53578\n",
       "Total Donations In 1 Month           85991\n",
       "Total Donations In 3 Months         102660\n",
       "dtype: int64"
      ]
     },
     "execution_count": 62,
     "metadata": {},
     "output_type": "execute_result"
    }
   ],
   "source": [
    "data.nunique()"
   ]
  },
  {
   "cell_type": "code",
   "execution_count": 63,
   "id": "c199cf65",
   "metadata": {},
   "outputs": [
    {
     "data": {
      "text/html": [
       "<div>\n",
       "<style scoped>\n",
       "    .dataframe tbody tr th:only-of-type {\n",
       "        vertical-align: middle;\n",
       "    }\n",
       "\n",
       "    .dataframe tbody tr th {\n",
       "        vertical-align: top;\n",
       "    }\n",
       "\n",
       "    .dataframe thead th {\n",
       "        text-align: right;\n",
       "    }\n",
       "</style>\n",
       "<table border=\"1\" class=\"dataframe\">\n",
       "  <thead>\n",
       "    <tr style=\"text-align: right;\">\n",
       "      <th></th>\n",
       "      <th>Total Donations In 1 Month</th>\n",
       "      <th>Total Donations In 3 Months</th>\n",
       "    </tr>\n",
       "  </thead>\n",
       "  <tbody>\n",
       "    <tr>\n",
       "      <th>0</th>\n",
       "      <td>0.00</td>\n",
       "      <td>0.00</td>\n",
       "    </tr>\n",
       "    <tr>\n",
       "      <th>1</th>\n",
       "      <td>100.00</td>\n",
       "      <td>100.00</td>\n",
       "    </tr>\n",
       "    <tr>\n",
       "      <th>2</th>\n",
       "      <td>0.00</td>\n",
       "      <td>0.00</td>\n",
       "    </tr>\n",
       "    <tr>\n",
       "      <th>6</th>\n",
       "      <td>76.79</td>\n",
       "      <td>76.79</td>\n",
       "    </tr>\n",
       "    <tr>\n",
       "      <th>46</th>\n",
       "      <td>0.00</td>\n",
       "      <td>25.00</td>\n",
       "    </tr>\n",
       "    <tr>\n",
       "      <th>...</th>\n",
       "      <td>...</td>\n",
       "      <td>...</td>\n",
       "    </tr>\n",
       "    <tr>\n",
       "      <th>4433026</th>\n",
       "      <td>0.00</td>\n",
       "      <td>0.00</td>\n",
       "    </tr>\n",
       "    <tr>\n",
       "      <th>4433027</th>\n",
       "      <td>0.00</td>\n",
       "      <td>751.75</td>\n",
       "    </tr>\n",
       "    <tr>\n",
       "      <th>4433028</th>\n",
       "      <td>0.00</td>\n",
       "      <td>0.00</td>\n",
       "    </tr>\n",
       "    <tr>\n",
       "      <th>4433029</th>\n",
       "      <td>262.89</td>\n",
       "      <td>262.89</td>\n",
       "    </tr>\n",
       "    <tr>\n",
       "      <th>4433031</th>\n",
       "      <td>160.00</td>\n",
       "      <td>298.26</td>\n",
       "    </tr>\n",
       "  </tbody>\n",
       "</table>\n",
       "<p>915954 rows × 2 columns</p>\n",
       "</div>"
      ],
      "text/plain": [
       "         Total Donations In 1 Month  Total Donations In 3 Months\n",
       "0                              0.00                         0.00\n",
       "1                            100.00                       100.00\n",
       "2                              0.00                         0.00\n",
       "6                             76.79                        76.79\n",
       "46                             0.00                        25.00\n",
       "...                             ...                          ...\n",
       "4433026                        0.00                         0.00\n",
       "4433027                        0.00                       751.75\n",
       "4433028                        0.00                         0.00\n",
       "4433029                      262.89                       262.89\n",
       "4433031                      160.00                       298.26\n",
       "\n",
       "[915954 rows x 2 columns]"
      ]
     },
     "execution_count": 63,
     "metadata": {},
     "output_type": "execute_result"
    }
   ],
   "source": [
    "data[['Total Donations In 1 Month', 'Total Donations In 3 Months']]"
   ]
  },
  {
   "cell_type": "code",
   "execution_count": 64,
   "id": "4e19aa38",
   "metadata": {},
   "outputs": [],
   "source": [
    "data[\"Fund Ratio 1 month\"] = np.where(\n",
    "        data[\"Project Cost\"] > 0,\n",
    "        np.round(data['Total Donations In 1 Month'] / data[\"Project Cost\"], decimals=2), 1\n",
    ")\n",
    "data[\"Fund Ratio 3 months\"] = np.where(\n",
    "        data[\"Project Cost\"] > 0,\n",
    "        np.round(data['Total Donations In 3 Months'] / data[\"Project Cost\"], decimals=2), 1\n",
    ")"
   ]
  },
  {
   "cell_type": "code",
   "execution_count": 75,
   "id": "e77f8038",
   "metadata": {},
   "outputs": [
    {
     "data": {
      "text/plain": [
       "Project ID                          49891\n",
       "School ID                           49891\n",
       "Teacher ID                          49891\n",
       "Teacher Project Posted Sequence     49891\n",
       "Project Type                        49891\n",
       "Project Subject Category Tree       49890\n",
       "Project Subject Subcategory Tree    49890\n",
       "Project Grade Level Category        49891\n",
       "Project Resource Category           49890\n",
       "Project Cost                        49891\n",
       "Project Posted Date                 49891\n",
       "Project Expiration Date             49891\n",
       "Project Fully Funded Date           49891\n",
       "Donation ID                         49891\n",
       "Donation Amount                     49891\n",
       "Donation Received Date              49891\n",
       "Posted Date to Donation Date        49891\n",
       "Donation in first month_x           49891\n",
       "Donation in three months_x          49891\n",
       "Total Donations In 1 Month          49891\n",
       "Total Donations In 3 Months         49891\n",
       "Fund Ratio 1 month                  49891\n",
       "Fund Ratio 3 months                 49891\n",
       "dtype: int64"
      ]
     },
     "execution_count": 75,
     "metadata": {},
     "output_type": "execute_result"
    }
   ],
   "source": [
    "data[data[\"Fund Ratio 1 month\"] >= 0.95].count()"
   ]
  },
  {
   "cell_type": "code",
   "execution_count": 74,
   "id": "dafbcd94",
   "metadata": {},
   "outputs": [
    {
     "data": {
      "text/plain": [
       "Project ID                          58292\n",
       "School ID                           58292\n",
       "Teacher ID                          58292\n",
       "Teacher Project Posted Sequence     58292\n",
       "Project Type                        58292\n",
       "Project Subject Category Tree       58290\n",
       "Project Subject Subcategory Tree    58290\n",
       "Project Grade Level Category        58292\n",
       "Project Resource Category           58290\n",
       "Project Cost                        58292\n",
       "Project Posted Date                 58292\n",
       "Project Expiration Date             58292\n",
       "Project Fully Funded Date           58292\n",
       "Donation ID                         58292\n",
       "Donation Amount                     58292\n",
       "Donation Received Date              58292\n",
       "Posted Date to Donation Date        58292\n",
       "Donation in first month_x           58292\n",
       "Donation in three months_x          58292\n",
       "Total Donations In 1 Month          58292\n",
       "Total Donations In 3 Months         58292\n",
       "Fund Ratio 1 month                  58292\n",
       "Fund Ratio 3 months                 58292\n",
       "dtype: int64"
      ]
     },
     "execution_count": 74,
     "metadata": {},
     "output_type": "execute_result"
    }
   ],
   "source": [
    "data[data[\"Fund Ratio 3 months\"] >= 1].count()"
   ]
  },
  {
   "cell_type": "code",
   "execution_count": null,
   "id": "025b0721",
   "metadata": {},
   "outputs": [],
   "source": [
    "data.count()\n",
    "label 1 - \n",
    "label 0 - "
   ]
  },
  {
   "cell_type": "code",
   "execution_count": null,
   "id": "66d012c3",
   "metadata": {},
   "outputs": [],
   "source": [
    "data[\"Donation Propotion\"] = np.where(data['Fund Ratio 3 months'] > 0, \n",
    "                                      np.round(data['Fund Ratio 1 month']/ data['Fund Ratio 3 months'], decimals=2),\n",
    "                                      -1)"
   ]
  },
  {
   "cell_type": "code",
   "execution_count": null,
   "id": "e668b6b4",
   "metadata": {},
   "outputs": [],
   "source": [
    "data[['Project ID', 'Total Donations In 1 Month', 'Total Donations In 3 Months', 'Fund Ratio 1 month', 'Fund Ratio 3 months', \"Donation Propotion\"]]"
   ]
  },
  {
   "cell_type": "code",
   "execution_count": null,
   "id": "7771e70b",
   "metadata": {},
   "outputs": [],
   "source": [
    "data[\"Donation Propotion\"].value_counts()"
   ]
  },
  {
   "cell_type": "code",
   "execution_count": null,
   "id": "20add654",
   "metadata": {},
   "outputs": [],
   "source": [
    "data[\"Donation Propotion\"].plot(x=\"Donation Propotion\", kind=\"kde\")"
   ]
  },
  {
   "cell_type": "code",
   "execution_count": null,
   "id": "7fd865a7",
   "metadata": {},
   "outputs": [],
   "source": [
    "data[\"Not Fully Funded in 3 Months\"] = data.apply(lambda x: 1 if x[\"Fund Ratio 3 months\"] < 1 else 0, axis=1)"
   ]
  },
  {
   "cell_type": "code",
   "execution_count": null,
   "id": "90fe1ae9",
   "metadata": {},
   "outputs": [],
   "source": [
    "data[\"Not Fully Funded in 1 Month Ratio\"] = data[\"Not Fully Funded in 3 Months\"] * data['Fund Ratio 1 month']"
   ]
  },
  {
   "cell_type": "code",
   "execution_count": null,
   "id": "a04d9f63",
   "metadata": {},
   "outputs": [],
   "source": [
    "data[\"Not Fully Funded in 1 Month Ratio\"].value_counts()"
   ]
  },
  {
   "cell_type": "code",
   "execution_count": null,
   "id": "cd10f461",
   "metadata": {},
   "outputs": [],
   "source": [
    "data[\"Not Fully Funded in 1 Month Ratio\"].mean()"
   ]
  },
  {
   "cell_type": "code",
   "execution_count": null,
   "id": "dc1d3afc",
   "metadata": {},
   "outputs": [],
   "source": [
    "data.plot(x = \"Project Posted Date\", y = ['Fund Ratio 1 month', 'Fund Ratio 3 months'])"
   ]
  },
  {
   "cell_type": "code",
   "execution_count": null,
   "id": "cb343a03",
   "metadata": {
    "scrolled": true
   },
   "outputs": [],
   "source": [
    "# data = project_donations_donors[project_donations_donors[\"Posted Date to Donation Date\"] < DONATION_PERIOD]"
   ]
  },
  {
   "cell_type": "code",
   "execution_count": null,
   "id": "705cd1d9",
   "metadata": {
    "scrolled": true
   },
   "outputs": [],
   "source": [
    "# # data.sort_values(by=\"Posted Date to Donation Date\", inplace=True)\n",
    "# project | don id | post-don days\n",
    "# adsd        213     12\n",
    "# sdae        222     32      0       1    \n",
    "# sdas        223     23      400     0\n",
    "# sdas        224     14      400     0\n"
   ]
  },
  {
   "cell_type": "code",
   "execution_count": null,
   "id": "9af75f10",
   "metadata": {
    "scrolled": true
   },
   "outputs": [],
   "source": [
    "data[data[\"Posted Date to Donation Date\"] < 0].count()"
   ]
  },
  {
   "cell_type": "code",
   "execution_count": null,
   "id": "364111be",
   "metadata": {
    "scrolled": true
   },
   "outputs": [],
   "source": [
    "data.count()"
   ]
  },
  {
   "cell_type": "code",
   "execution_count": null,
   "id": "b7c1f1c7",
   "metadata": {
    "scrolled": true
   },
   "outputs": [],
   "source": [
    "data[\"Fund Ratio\"] = np.where(\n",
    "        data[\"Project Cost\"] > 0,\n",
    "        data[\"Total Donations In The Period\"] / data[\"Project Cost\"], 1\n",
    ")"
   ]
  },
  {
   "cell_type": "code",
   "execution_count": null,
   "id": "f08e26f9",
   "metadata": {},
   "outputs": [],
   "source": [
    "data[\"Fund Ratio\"].max()"
   ]
  },
  {
   "cell_type": "code",
   "execution_count": null,
   "id": "923faa08",
   "metadata": {},
   "outputs": [],
   "source": [
    "data[data[\"Fund Ratio\"]<0.6].nunique()"
   ]
  },
  {
   "cell_type": "code",
   "execution_count": null,
   "id": "3927177b",
   "metadata": {},
   "outputs": [],
   "source": [
    "data[\"Fund Ratio\"].mean()"
   ]
  },
  {
   "cell_type": "code",
   "execution_count": null,
   "id": "addc59bf",
   "metadata": {},
   "outputs": [],
   "source": [
    "data[\"Fund Ratio\"].plot(kind='kde')"
   ]
  },
  {
   "cell_type": "code",
   "execution_count": null,
   "id": "2d882726",
   "metadata": {
    "scrolled": true
   },
   "outputs": [],
   "source": [
    "data = data.drop([\"Donation ID\", \"Donation Amount_x\", \"Donation Received Date\", \"Total Donations In The Period\"], axis=1)"
   ]
  },
  {
   "cell_type": "code",
   "execution_count": null,
   "id": "de74682d",
   "metadata": {},
   "outputs": [],
   "source": [
    "data.nunique()"
   ]
  },
  {
   "cell_type": "code",
   "execution_count": null,
   "id": "4a5976d9",
   "metadata": {
    "scrolled": true
   },
   "outputs": [],
   "source": [
    "data.drop_duplicates(subset=\"Project ID\", keep=\"first\", inplace=True)"
   ]
  },
  {
   "cell_type": "code",
   "execution_count": null,
   "id": "6ade705f",
   "metadata": {
    "scrolled": true
   },
   "outputs": [],
   "source": [
    "data.count()"
   ]
  },
  {
   "cell_type": "code",
   "execution_count": null,
   "id": "c9b47337",
   "metadata": {},
   "outputs": [],
   "source": [
    "data.nunique()"
   ]
  },
  {
   "cell_type": "code",
   "execution_count": null,
   "id": "87c29c9f",
   "metadata": {
    "scrolled": true
   },
   "outputs": [],
   "source": [
    "# \"Not get funded\" is 1\n",
    "data[\"Label\"] = data.apply(lambda x: 1 if x['Fund Ratio 1 month'] < 0.2 else 0, axis=1)"
   ]
  },
  {
   "cell_type": "code",
   "execution_count": null,
   "id": "95b30a91",
   "metadata": {
    "scrolled": true
   },
   "outputs": [],
   "source": [
    "data[\"Label\"].value_counts()"
   ]
  },
  {
   "cell_type": "code",
   "execution_count": null,
   "id": "4b2ac0e9",
   "metadata": {},
   "outputs": [],
   "source": [
    "pos_perc = data[\"Label\"].value_counts()"
   ]
  },
  {
   "cell_type": "code",
   "execution_count": null,
   "id": "3353eb30",
   "metadata": {
    "scrolled": true
   },
   "outputs": [],
   "source": [
    "data_test = data[[\"Fund Ratio\", \"Label\", \"Project Fully Funded Date\"]]\n",
    "data_test = data_test[(data_test[\"Label\"] == 1) & (data_test[\"Project Fully Funded Date\"].notna())]\n",
    "# data_test \n",
    "# really_not_funded = 69954\n",
    "# really_funded = 271188\n"
   ]
  },
  {
   "cell_type": "code",
   "execution_count": null,
   "id": "1f770a86",
   "metadata": {
    "scrolled": true
   },
   "outputs": [],
   "source": [
    "labelled_data_p_d_d = data.drop([\"Project Fully Funded Date\", \"Posted Date to Donation Date\", \"Fund Ratio\"], axis=1)"
   ]
  },
  {
   "cell_type": "code",
   "execution_count": null,
   "id": "3d6b25f1",
   "metadata": {
    "scrolled": true
   },
   "outputs": [],
   "source": [
    "labelled_data_p_d_d.shape"
   ]
  },
  {
   "cell_type": "code",
   "execution_count": null,
   "id": "ec057444",
   "metadata": {
    "scrolled": true
   },
   "outputs": [],
   "source": [
    "teachers = pd.read_csv(path+\"/Teachers.csv\")"
   ]
  },
  {
   "cell_type": "code",
   "execution_count": null,
   "id": "a5dea6f1",
   "metadata": {
    "scrolled": true
   },
   "outputs": [],
   "source": [
    "teachers.count()"
   ]
  },
  {
   "cell_type": "code",
   "execution_count": null,
   "id": "46682de1",
   "metadata": {
    "scrolled": true
   },
   "outputs": [],
   "source": [
    "labelled_data_p_d_d_t = labelled_data_p_d_d.merge(teachers, on=\"Teacher ID\", how=\"left\")"
   ]
  },
  {
   "cell_type": "code",
   "execution_count": null,
   "id": "6f5d48be",
   "metadata": {
    "scrolled": true
   },
   "outputs": [],
   "source": [
    "schools = pd.read_csv(path+\"/Schools.csv\")"
   ]
  },
  {
   "cell_type": "code",
   "execution_count": null,
   "id": "ca51906e",
   "metadata": {
    "scrolled": true
   },
   "outputs": [],
   "source": [
    "schools.count()"
   ]
  },
  {
   "cell_type": "code",
   "execution_count": null,
   "id": "d8bbe772",
   "metadata": {
    "scrolled": true
   },
   "outputs": [],
   "source": [
    "schools.head()"
   ]
  },
  {
   "cell_type": "code",
   "execution_count": null,
   "id": "0bd7b17f",
   "metadata": {
    "scrolled": true
   },
   "outputs": [],
   "source": [
    "labelled_data_p_d_d_t_s = labelled_data_p_d_d_t.merge(schools, on=\"School ID\", how=\"left\").drop([\"School Zip\"], axis=1)"
   ]
  },
  {
   "cell_type": "code",
   "execution_count": null,
   "id": "e306f246",
   "metadata": {
    "scrolled": true
   },
   "outputs": [],
   "source": [
    "labelled_data_p_d_d_t_s.count()"
   ]
  },
  {
   "cell_type": "code",
   "execution_count": null,
   "id": "0b7c076b",
   "metadata": {
    "scrolled": true
   },
   "outputs": [],
   "source": [
    "resources = pd.read_csv(path+\"/Resources.csv\")"
   ]
  },
  {
   "cell_type": "code",
   "execution_count": null,
   "id": "3bdf1d37",
   "metadata": {
    "scrolled": true
   },
   "outputs": [],
   "source": [
    "resources.shape"
   ]
  },
  {
   "cell_type": "code",
   "execution_count": null,
   "id": "b039afd0",
   "metadata": {
    "scrolled": true
   },
   "outputs": [],
   "source": [
    "resources.nunique()"
   ]
  },
  {
   "cell_type": "code",
   "execution_count": null,
   "id": "232a26a0",
   "metadata": {
    "scrolled": true
   },
   "outputs": [],
   "source": [
    "labelled_data_p_d_d_t_s_r = labelled_data_p_d_d_t_s.merge(resources, on=\"Project ID\", how=\"left\")"
   ]
  },
  {
   "cell_type": "code",
   "execution_count": null,
   "id": "05d918e5",
   "metadata": {
    "scrolled": true
   },
   "outputs": [],
   "source": [
    "labelled_data_p_d_d_t_s_r.shape"
   ]
  },
  {
   "cell_type": "code",
   "execution_count": null,
   "id": "264e16bc",
   "metadata": {
    "scrolled": true
   },
   "outputs": [],
   "source": [
    "labelled_data_p_d_d_t_s_r.nunique()"
   ]
  },
  {
   "cell_type": "code",
   "execution_count": null,
   "id": "bbc5a998",
   "metadata": {
    "scrolled": true
   },
   "outputs": [],
   "source": [
    "labelled_data_p_d_d_t_s_r = labelled_data_p_d_d_t_s_r.drop([\"Resource Item Name\", \"Resource Quantity\", \"Resource Unit Price\"], axis=1)"
   ]
  },
  {
   "cell_type": "code",
   "execution_count": null,
   "id": "9b7b348d",
   "metadata": {
    "scrolled": true
   },
   "outputs": [],
   "source": [
    "labelled_data_p_d_d_t_s[labelled_data_p_d_d_t_s[\"Project ID\"] == \"b2304d2fed2cdb4aecea50c1e35171b4\"]"
   ]
  },
  {
   "cell_type": "code",
   "execution_count": null,
   "id": "79a32deb",
   "metadata": {
    "scrolled": true
   },
   "outputs": [],
   "source": [
    "labelled_data_p_d_d_t_s_r = labelled_data_p_d_d_t_s_r.drop_duplicates(subset=[\"Project ID\"])"
   ]
  },
  {
   "cell_type": "code",
   "execution_count": null,
   "id": "ce8ec82d",
   "metadata": {
    "scrolled": true
   },
   "outputs": [],
   "source": [
    "labelled_data_p_d_d_t_s_r.nunique()"
   ]
  },
  {
   "cell_type": "markdown",
   "id": "ab62c1b1",
   "metadata": {},
   "source": [
    "labelled_data_p_d_d_t_s_r shoud be the final data df"
   ]
  },
  {
   "cell_type": "code",
   "execution_count": null,
   "id": "d8f6527c",
   "metadata": {
    "scrolled": true
   },
   "outputs": [],
   "source": [
    "# labelled_data_p_d_d_t_s_r = labelled_data_p_d_d_t_s_r.sort_values(by=[\"Project Posted Date\"])"
   ]
  },
  {
   "cell_type": "code",
   "execution_count": null,
   "id": "cbb89dca",
   "metadata": {
    "scrolled": true
   },
   "outputs": [],
   "source": [
    "labelled_data_p_d_d_t_s_r.head()"
   ]
  },
  {
   "cell_type": "code",
   "execution_count": null,
   "id": "f55ed208",
   "metadata": {
    "scrolled": true
   },
   "outputs": [],
   "source": [
    "labelled_data_p_d_d_t_s_r.count()"
   ]
  },
  {
   "cell_type": "code",
   "execution_count": null,
   "id": "65f99698",
   "metadata": {
    "scrolled": true
   },
   "outputs": [],
   "source": [
    "labelled_data_p_d_d_t_s_r = labelled_data_p_d_d_t_s_r.drop_duplicates(subset=[\"Project ID\"])"
   ]
  },
  {
   "cell_type": "code",
   "execution_count": null,
   "id": "aec78c91",
   "metadata": {
    "scrolled": true
   },
   "outputs": [],
   "source": [
    "labelled_data_p_d_d_t_s_r.count()"
   ]
  },
  {
   "cell_type": "code",
   "execution_count": null,
   "id": "af2607d7",
   "metadata": {
    "scrolled": true
   },
   "outputs": [],
   "source": [
    "labelled_data_p_d_d_t_s_r.nunique()"
   ]
  },
  {
   "cell_type": "code",
   "execution_count": null,
   "id": "748c1dc6",
   "metadata": {
    "scrolled": true
   },
   "outputs": [],
   "source": [
    "labelled_data_p_d_d_t_s_r = labelled_data_p_d_d_t_s_r.sample(frac = 1)"
   ]
  },
  {
   "cell_type": "code",
   "execution_count": null,
   "id": "87cd337f",
   "metadata": {
    "scrolled": true
   },
   "outputs": [],
   "source": [
    "labelled_data_p_d_d_t_s_r.to_csv(path+\"/Dataset.csv\", index=False)"
   ]
  },
  {
   "cell_type": "code",
   "execution_count": null,
   "id": "f033b012",
   "metadata": {
    "scrolled": true
   },
   "outputs": [],
   "source": [
    "labelled_data_p_d_d_t_s_r.iloc[99:150][\"Project Posted Date\"]"
   ]
  }
 ],
 "metadata": {
  "kernelspec": {
   "display_name": "Python 3 (ipykernel)",
   "language": "python",
   "name": "python3"
  },
  "language_info": {
   "codemirror_mode": {
    "name": "ipython",
    "version": 3
   },
   "file_extension": ".py",
   "mimetype": "text/x-python",
   "name": "python",
   "nbconvert_exporter": "python",
   "pygments_lexer": "ipython3",
   "version": "3.11.4"
  }
 },
 "nbformat": 4,
 "nbformat_minor": 5
}
