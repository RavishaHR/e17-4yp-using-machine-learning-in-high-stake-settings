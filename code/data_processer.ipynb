{
 "cells": [
  {
   "cell_type": "code",
   "execution_count": 252,
   "id": "0145d873",
   "metadata": {},
   "outputs": [],
   "source": [
    "import pandas as pd"
   ]
  },
  {
   "cell_type": "code",
   "execution_count": 253,
   "id": "dc8929e3",
   "metadata": {},
   "outputs": [],
   "source": [
    "from pandas import Timestamp"
   ]
  },
  {
   "cell_type": "code",
   "execution_count": 254,
   "id": "1c7eb972",
   "metadata": {},
   "outputs": [],
   "source": [
    "import numpy as np"
   ]
  },
  {
   "cell_type": "code",
   "execution_count": 255,
   "id": "6f1682ff",
   "metadata": {},
   "outputs": [],
   "source": [
    "donations = pd.read_csv(\"./Donations.csv\")"
   ]
  },
  {
   "cell_type": "code",
   "execution_count": 256,
   "id": "944bcb7c",
   "metadata": {},
   "outputs": [],
   "source": [
    "projects = pd.read_csv(\"./Projects.csv\")"
   ]
  },
  {
   "cell_type": "code",
   "execution_count": 257,
   "id": "5c41a563",
   "metadata": {},
   "outputs": [
    {
     "name": "stderr",
     "output_type": "stream",
     "text": [
      "/var/folders/yl/9bnyyv317zx6n3nl5t7jy2n80000gn/T/ipykernel_9029/3144490450.py:1: DtypeWarning: Columns (4) have mixed types. Specify dtype option on import or set low_memory=False.\n",
      "  donors = pd.read_csv(\"./Donors.csv\")\n"
     ]
    }
   ],
   "source": [
    "donors = pd.read_csv(\"./Donors.csv\")"
   ]
  },
  {
   "cell_type": "code",
   "execution_count": 258,
   "id": "c5e32e18",
   "metadata": {},
   "outputs": [
    {
     "data": {
      "text/plain": [
       "Project ID                          1110017\n",
       "School ID                           1110017\n",
       "Teacher ID                          1110017\n",
       "Teacher Project Posted Sequence     1110017\n",
       "Project Type                        1110017\n",
       "Project Title                       1110011\n",
       "Project Essay                       1110016\n",
       "Project Short Description           1110014\n",
       "Project Need Statement              1110014\n",
       "Project Subject Category Tree       1109988\n",
       "Project Subject Subcategory Tree    1109988\n",
       "Project Grade Level Category        1110017\n",
       "Project Resource Category           1109981\n",
       "Project Cost                        1110017\n",
       "Project Posted Date                 1110017\n",
       "Project Expiration Date             1110003\n",
       "Project Current Status              1110017\n",
       "Project Fully Funded Date            826764\n",
       "dtype: int64"
      ]
     },
     "execution_count": 258,
     "metadata": {},
     "output_type": "execute_result"
    }
   ],
   "source": [
    "projects.count()"
   ]
  },
  {
   "cell_type": "code",
   "execution_count": 259,
   "id": "dffcefed",
   "metadata": {},
   "outputs": [],
   "source": [
    "project_max_date = Timestamp('2018-01-01')\n",
    "project_min_date = Timestamp('2013-01-01')\n",
    "donations_max_date = Timestamp('2018-05-01')\n",
    "donations_min_date = Timestamp('2013-01-01')"
   ]
  },
  {
   "cell_type": "code",
   "execution_count": null,
   "id": "129669cc",
   "metadata": {},
   "outputs": [],
   "source": []
  },
  {
   "cell_type": "code",
   "execution_count": 260,
   "id": "50c8aff2",
   "metadata": {},
   "outputs": [],
   "source": [
    "donations[\"Donation Received Date\"] = pd.to_datetime(donations[\"Donation Received Date\"])\n",
    "projects[\"Project Posted Date\"] = pd.to_datetime(projects[\"Project Posted Date\"])"
   ]
  },
  {
   "cell_type": "code",
   "execution_count": 261,
   "id": "b3d0316a",
   "metadata": {},
   "outputs": [
    {
     "data": {
      "text/plain": [
       "Timestamp('2018-05-09 11:38:47')"
      ]
     },
     "execution_count": 261,
     "metadata": {},
     "output_type": "execute_result"
    }
   ],
   "source": [
    "donations[\"Donation Received Date\"].max()"
   ]
  },
  {
   "cell_type": "code",
   "execution_count": 262,
   "id": "9eb0c29e",
   "metadata": {},
   "outputs": [
    {
     "data": {
      "text/plain": [
       "Timestamp('2018-05-01 00:00:00')"
      ]
     },
     "execution_count": 262,
     "metadata": {},
     "output_type": "execute_result"
    }
   ],
   "source": [
    "projects[\"Project Posted Date\"].max()"
   ]
  },
  {
   "cell_type": "code",
   "execution_count": 263,
   "id": "cc56e595",
   "metadata": {},
   "outputs": [
    {
     "data": {
      "text/plain": [
       "Timestamp('2012-10-08 13:53:00')"
      ]
     },
     "execution_count": 263,
     "metadata": {},
     "output_type": "execute_result"
    }
   ],
   "source": [
    "donations[\"Donation Received Date\"].min()"
   ]
  },
  {
   "cell_type": "code",
   "execution_count": 264,
   "id": "6522193d",
   "metadata": {},
   "outputs": [
    {
     "data": {
      "text/plain": [
       "Timestamp('2013-01-01 00:00:00')"
      ]
     },
     "execution_count": 264,
     "metadata": {},
     "output_type": "execute_result"
    }
   ],
   "source": [
    "projects[\"Project Posted Date\"].min()"
   ]
  },
  {
   "cell_type": "code",
   "execution_count": 265,
   "id": "810654df",
   "metadata": {},
   "outputs": [],
   "source": [
    "donations = donations[donations[\"Donation Received Date\"] > donations_min_date]\n",
    "donations = donations[donations[\"Donation Received Date\"] < donations_max_date]\n",
    "projects = projects[projects[\"Project Posted Date\"] < project_max_date]\n",
    "projects = projects[projects[\"Project Posted Date\"] > project_min_date]"
   ]
  },
  {
   "cell_type": "code",
   "execution_count": 266,
   "id": "78ac67c5",
   "metadata": {},
   "outputs": [
    {
     "data": {
      "text/plain": [
       "Project ID                             4662374\n",
       "Donation ID                            4662374\n",
       "Donor ID                               4662374\n",
       "Donation Included Optional Donation    4662374\n",
       "Donation Amount                        4662374\n",
       "Donor Cart Sequence                    4662374\n",
       "Donation Received Date                 4662374\n",
       "dtype: int64"
      ]
     },
     "execution_count": 266,
     "metadata": {},
     "output_type": "execute_result"
    }
   ],
   "source": [
    "donations.count()"
   ]
  },
  {
   "cell_type": "code",
   "execution_count": 267,
   "id": "311f8566",
   "metadata": {},
   "outputs": [
    {
     "data": {
      "text/plain": [
       "Project ID                          979436\n",
       "School ID                           979436\n",
       "Teacher ID                          979436\n",
       "Teacher Project Posted Sequence     979436\n",
       "Project Type                        979436\n",
       "Project Title                       979430\n",
       "Project Essay                       979435\n",
       "Project Short Description           979433\n",
       "Project Need Statement              979433\n",
       "Project Subject Category Tree       979407\n",
       "Project Subject Subcategory Tree    979407\n",
       "Project Grade Level Category        979436\n",
       "Project Resource Category           979400\n",
       "Project Cost                        979436\n",
       "Project Posted Date                 979436\n",
       "Project Expiration Date             979427\n",
       "Project Current Status              979436\n",
       "Project Fully Funded Date           738785\n",
       "dtype: int64"
      ]
     },
     "execution_count": 267,
     "metadata": {},
     "output_type": "execute_result"
    }
   ],
   "source": [
    "projects.count()"
   ]
  },
  {
   "cell_type": "code",
   "execution_count": 268,
   "id": "beb72922",
   "metadata": {},
   "outputs": [
    {
     "data": {
      "text/plain": [
       "Index(['Project ID', 'School ID', 'Teacher ID',\n",
       "       'Teacher Project Posted Sequence', 'Project Type', 'Project Title',\n",
       "       'Project Essay', 'Project Short Description', 'Project Need Statement',\n",
       "       'Project Subject Category Tree', 'Project Subject Subcategory Tree',\n",
       "       'Project Grade Level Category', 'Project Resource Category',\n",
       "       'Project Cost', 'Project Posted Date', 'Project Expiration Date',\n",
       "       'Project Current Status', 'Project Fully Funded Date'],\n",
       "      dtype='object')"
      ]
     },
     "execution_count": 268,
     "metadata": {},
     "output_type": "execute_result"
    }
   ],
   "source": [
    "projects.columns"
   ]
  },
  {
   "cell_type": "code",
   "execution_count": 269,
   "id": "0577a280",
   "metadata": {},
   "outputs": [],
   "source": [
    "projects = projects.drop(['Project Title', 'Project Essay', 'Project Short Description', 'Project Need Statement', 'Project Current Status'], axis=1)"
   ]
  },
  {
   "cell_type": "code",
   "execution_count": 270,
   "id": "46b3d1f5",
   "metadata": {},
   "outputs": [
    {
     "data": {
      "text/plain": [
       "13"
      ]
     },
     "execution_count": 270,
     "metadata": {},
     "output_type": "execute_result"
    }
   ],
   "source": [
    "projects.columns.size"
   ]
  },
  {
   "cell_type": "code",
   "execution_count": 271,
   "id": "d65eebdc",
   "metadata": {},
   "outputs": [],
   "source": [
    "donations = donations.drop([\"Donation Included Optional Donation\", \"Donor Cart Sequence\"], axis=1)"
   ]
  },
  {
   "cell_type": "code",
   "execution_count": 272,
   "id": "f3d0c102",
   "metadata": {},
   "outputs": [
    {
     "data": {
      "text/html": [
       "<div>\n",
       "<style scoped>\n",
       "    .dataframe tbody tr th:only-of-type {\n",
       "        vertical-align: middle;\n",
       "    }\n",
       "\n",
       "    .dataframe tbody tr th {\n",
       "        vertical-align: top;\n",
       "    }\n",
       "\n",
       "    .dataframe thead th {\n",
       "        text-align: right;\n",
       "    }\n",
       "</style>\n",
       "<table border=\"1\" class=\"dataframe\">\n",
       "  <thead>\n",
       "    <tr style=\"text-align: right;\">\n",
       "      <th></th>\n",
       "      <th>Project ID</th>\n",
       "      <th>Donation ID</th>\n",
       "      <th>Donor ID</th>\n",
       "      <th>Donation Amount</th>\n",
       "      <th>Donation Received Date</th>\n",
       "    </tr>\n",
       "  </thead>\n",
       "  <tbody>\n",
       "    <tr>\n",
       "      <th>0</th>\n",
       "      <td>000009891526c0ade7180f8423792063</td>\n",
       "      <td>688729120858666221208529ee3fc18e</td>\n",
       "      <td>1f4b5b6e68445c6c4a0509b3aca93f38</td>\n",
       "      <td>178.37</td>\n",
       "      <td>2016-08-23 13:15:57</td>\n",
       "    </tr>\n",
       "    <tr>\n",
       "      <th>1</th>\n",
       "      <td>000009891526c0ade7180f8423792063</td>\n",
       "      <td>dcf1071da3aa3561f91ac689d1f73dee</td>\n",
       "      <td>4aaab6d244bf3599682239ed5591af8a</td>\n",
       "      <td>25.00</td>\n",
       "      <td>2016-06-06 20:05:23</td>\n",
       "    </tr>\n",
       "    <tr>\n",
       "      <th>2</th>\n",
       "      <td>000009891526c0ade7180f8423792063</td>\n",
       "      <td>18a234b9d1e538c431761d521ea7799d</td>\n",
       "      <td>0b0765dc9c759adc48a07688ba25e94e</td>\n",
       "      <td>20.00</td>\n",
       "      <td>2016-06-06 14:08:46</td>\n",
       "    </tr>\n",
       "    <tr>\n",
       "      <th>3</th>\n",
       "      <td>000009891526c0ade7180f8423792063</td>\n",
       "      <td>38d2744bf9138b0b57ed581c76c0e2da</td>\n",
       "      <td>377944ad61f72d800b25ec1862aec363</td>\n",
       "      <td>25.00</td>\n",
       "      <td>2016-05-15 10:23:04</td>\n",
       "    </tr>\n",
       "    <tr>\n",
       "      <th>4</th>\n",
       "      <td>000009891526c0ade7180f8423792063</td>\n",
       "      <td>5a032791e31167a70206bfb86fb60035</td>\n",
       "      <td>6d5b22d39e68c656071a842732c63a0c</td>\n",
       "      <td>25.00</td>\n",
       "      <td>2016-05-17 01:23:38</td>\n",
       "    </tr>\n",
       "  </tbody>\n",
       "</table>\n",
       "</div>"
      ],
      "text/plain": [
       "                         Project ID                       Donation ID  \\\n",
       "0  000009891526c0ade7180f8423792063  688729120858666221208529ee3fc18e   \n",
       "1  000009891526c0ade7180f8423792063  dcf1071da3aa3561f91ac689d1f73dee   \n",
       "2  000009891526c0ade7180f8423792063  18a234b9d1e538c431761d521ea7799d   \n",
       "3  000009891526c0ade7180f8423792063  38d2744bf9138b0b57ed581c76c0e2da   \n",
       "4  000009891526c0ade7180f8423792063  5a032791e31167a70206bfb86fb60035   \n",
       "\n",
       "                           Donor ID  Donation Amount Donation Received Date  \n",
       "0  1f4b5b6e68445c6c4a0509b3aca93f38           178.37    2016-08-23 13:15:57  \n",
       "1  4aaab6d244bf3599682239ed5591af8a            25.00    2016-06-06 20:05:23  \n",
       "2  0b0765dc9c759adc48a07688ba25e94e            20.00    2016-06-06 14:08:46  \n",
       "3  377944ad61f72d800b25ec1862aec363            25.00    2016-05-15 10:23:04  \n",
       "4  6d5b22d39e68c656071a842732c63a0c            25.00    2016-05-17 01:23:38  "
      ]
     },
     "execution_count": 272,
     "metadata": {},
     "output_type": "execute_result"
    }
   ],
   "source": [
    "donations.head()"
   ]
  },
  {
   "cell_type": "code",
   "execution_count": 273,
   "id": "b88cde4d",
   "metadata": {},
   "outputs": [
    {
     "data": {
      "text/plain": [
       "True"
      ]
     },
     "execution_count": 273,
     "metadata": {},
     "output_type": "execute_result"
    }
   ],
   "source": [
    "projects[\"Project ID\"].count() == projects[\"Project ID\"].nunique()"
   ]
  },
  {
   "cell_type": "code",
   "execution_count": 274,
   "id": "a62bf35f",
   "metadata": {},
   "outputs": [
    {
     "data": {
      "text/plain": [
       "40"
      ]
     },
     "execution_count": 274,
     "metadata": {},
     "output_type": "execute_result"
    }
   ],
   "source": [
    "donations[\"Donation ID\"].count() - donations[\"Donation ID\"].nunique()"
   ]
  },
  {
   "cell_type": "code",
   "execution_count": 275,
   "id": "96363855",
   "metadata": {},
   "outputs": [],
   "source": [
    "donations.sort_values(by=[\"Donation ID\", \"Donation Received Date\"], inplace=True)\n",
    "donations.drop_duplicates(subset=[\"Donation ID\"], keep=\"last\", inplace=True)"
   ]
  },
  {
   "cell_type": "code",
   "execution_count": 276,
   "id": "2cd25c07",
   "metadata": {},
   "outputs": [
    {
     "data": {
      "text/plain": [
       "0"
      ]
     },
     "execution_count": 276,
     "metadata": {},
     "output_type": "execute_result"
    }
   ],
   "source": [
    "donations[\"Donation ID\"].count() - donations[\"Donation ID\"].nunique()"
   ]
  },
  {
   "cell_type": "code",
   "execution_count": 277,
   "id": "8b764265",
   "metadata": {},
   "outputs": [
    {
     "name": "stdout",
     "output_type": "stream",
     "text": [
      "Project ID                          979436\n",
      "School ID                           979436\n",
      "Teacher ID                          979436\n",
      "Teacher Project Posted Sequence     979436\n",
      "Project Type                        979436\n",
      "Project Subject Category Tree       979407\n",
      "Project Subject Subcategory Tree    979407\n",
      "Project Grade Level Category        979436\n",
      "Project Resource Category           979400\n",
      "Project Cost                        979436\n",
      "Project Posted Date                 979436\n",
      "Project Expiration Date             979427\n",
      "Project Fully Funded Date           738785\n",
      "dtype: int64\n",
      "Project ID                4662334\n",
      "Donation ID               4662334\n",
      "Donor ID                  4662334\n",
      "Donation Amount           4662334\n",
      "Donation Received Date    4662334\n",
      "dtype: int64\n"
     ]
    }
   ],
   "source": [
    "print(projects.count())\n",
    "print(donations.count())"
   ]
  },
  {
   "cell_type": "code",
   "execution_count": 278,
   "id": "dae7265e",
   "metadata": {},
   "outputs": [],
   "source": [
    "project_donations = projects.merge(donations, on='Project ID', how='left')"
   ]
  },
  {
   "cell_type": "code",
   "execution_count": 279,
   "id": "4d6de50c",
   "metadata": {},
   "outputs": [
    {
     "data": {
      "text/plain": [
       "Project ID                          4433037\n",
       "School ID                           4433037\n",
       "Teacher ID                          4433037\n",
       "Teacher Project Posted Sequence     4433037\n",
       "Project Type                        4433037\n",
       "Project Subject Category Tree       4432916\n",
       "Project Subject Subcategory Tree    4432916\n",
       "Project Grade Level Category        4433037\n",
       "Project Resource Category           4432893\n",
       "Project Cost                        4433037\n",
       "Project Posted Date                 4433037\n",
       "Project Expiration Date             4433026\n",
       "Project Fully Funded Date           3934570\n",
       "Donation ID                         4239997\n",
       "Donor ID                            4239997\n",
       "Donation Amount                     4239997\n",
       "Donation Received Date              4239997\n",
       "dtype: int64"
      ]
     },
     "execution_count": 279,
     "metadata": {},
     "output_type": "execute_result"
    }
   ],
   "source": [
    "project_donations.count()"
   ]
  },
  {
   "cell_type": "code",
   "execution_count": 280,
   "id": "40f490a8",
   "metadata": {},
   "outputs": [],
   "source": [
    "donors = donors[[\"Donor ID\", \"Donor Is Teacher\"]]"
   ]
  },
  {
   "cell_type": "code",
   "execution_count": 281,
   "id": "d86e2536",
   "metadata": {},
   "outputs": [],
   "source": [
    "project_donations_donors = project_donations.merge(donors, on='Donor ID', how='left')"
   ]
  },
  {
   "cell_type": "code",
   "execution_count": 282,
   "id": "b7212186",
   "metadata": {},
   "outputs": [
    {
     "data": {
      "text/plain": [
       "Project ID                          4433037\n",
       "School ID                           4433037\n",
       "Teacher ID                          4433037\n",
       "Teacher Project Posted Sequence     4433037\n",
       "Project Type                        4433037\n",
       "Project Subject Category Tree       4432916\n",
       "Project Subject Subcategory Tree    4432916\n",
       "Project Grade Level Category        4433037\n",
       "Project Resource Category           4432893\n",
       "Project Cost                        4433037\n",
       "Project Posted Date                 4433037\n",
       "Project Expiration Date             4433026\n",
       "Project Fully Funded Date           3934570\n",
       "Donation ID                         4239997\n",
       "Donor ID                            4239997\n",
       "Donation Amount                     4239997\n",
       "Donation Received Date              4239997\n",
       "Donor Is Teacher                    4239992\n",
       "dtype: int64"
      ]
     },
     "execution_count": 282,
     "metadata": {},
     "output_type": "execute_result"
    }
   ],
   "source": [
    "project_donations_donors.count()"
   ]
  },
  {
   "cell_type": "code",
   "execution_count": 283,
   "id": "37de1c06",
   "metadata": {},
   "outputs": [
    {
     "data": {
      "text/html": [
       "<div>\n",
       "<style scoped>\n",
       "    .dataframe tbody tr th:only-of-type {\n",
       "        vertical-align: middle;\n",
       "    }\n",
       "\n",
       "    .dataframe tbody tr th {\n",
       "        vertical-align: top;\n",
       "    }\n",
       "\n",
       "    .dataframe thead th {\n",
       "        text-align: right;\n",
       "    }\n",
       "</style>\n",
       "<table border=\"1\" class=\"dataframe\">\n",
       "  <thead>\n",
       "    <tr style=\"text-align: right;\">\n",
       "      <th></th>\n",
       "      <th>Project ID</th>\n",
       "      <th>School ID</th>\n",
       "      <th>Teacher ID</th>\n",
       "      <th>Teacher Project Posted Sequence</th>\n",
       "      <th>Project Type</th>\n",
       "      <th>Project Subject Category Tree</th>\n",
       "      <th>Project Subject Subcategory Tree</th>\n",
       "      <th>Project Grade Level Category</th>\n",
       "      <th>Project Resource Category</th>\n",
       "      <th>Project Cost</th>\n",
       "      <th>Project Posted Date</th>\n",
       "      <th>Project Expiration Date</th>\n",
       "      <th>Project Fully Funded Date</th>\n",
       "      <th>Donation ID</th>\n",
       "      <th>Donor ID</th>\n",
       "      <th>Donation Amount</th>\n",
       "      <th>Donation Received Date</th>\n",
       "      <th>Donor Is Teacher</th>\n",
       "    </tr>\n",
       "  </thead>\n",
       "  <tbody>\n",
       "    <tr>\n",
       "      <th>0</th>\n",
       "      <td>7b017fa79510998c3960ed8f3b47c7c9</td>\n",
       "      <td>9ae756303b7919428b455baae0eb1998</td>\n",
       "      <td>70c5ec84f5faae238a0b17cd755921ce</td>\n",
       "      <td>4</td>\n",
       "      <td>Teacher-Led</td>\n",
       "      <td>Literacy &amp; Language, Math &amp; Science</td>\n",
       "      <td>Literacy, Mathematics</td>\n",
       "      <td>Grades 3-5</td>\n",
       "      <td>Technology</td>\n",
       "      <td>347.93</td>\n",
       "      <td>2013-01-02</td>\n",
       "      <td>2013-05-31</td>\n",
       "      <td>NaN</td>\n",
       "      <td>0df1f587f4544de7d033d4eac68a69a1</td>\n",
       "      <td>8dd44940c567893c3f57e2534430752c</td>\n",
       "      <td>50.00</td>\n",
       "      <td>2013-05-15 15:55:53</td>\n",
       "      <td>No</td>\n",
       "    </tr>\n",
       "    <tr>\n",
       "      <th>1</th>\n",
       "      <td>b12c0c126c64963305a51ca60f687b53</td>\n",
       "      <td>0917cacae1d752ab5ead1cf1d9e86d59</td>\n",
       "      <td>4e8d5828adb05503f825d30d8a5c93a9</td>\n",
       "      <td>10</td>\n",
       "      <td>Teacher-Led</td>\n",
       "      <td>Math &amp; Science</td>\n",
       "      <td>Applied Sciences</td>\n",
       "      <td>Grades 6-8</td>\n",
       "      <td>Technology</td>\n",
       "      <td>527.05</td>\n",
       "      <td>2013-01-02</td>\n",
       "      <td>2013-06-01</td>\n",
       "      <td>NaN</td>\n",
       "      <td>a3860c0de4eff71b5421e996d23ba504</td>\n",
       "      <td>1962145118a5a9618d965044b721afd9</td>\n",
       "      <td>100.00</td>\n",
       "      <td>2013-01-03 10:57:28</td>\n",
       "      <td>No</td>\n",
       "    </tr>\n",
       "    <tr>\n",
       "      <th>2</th>\n",
       "      <td>f00d5e1740d3b36e1edbaf770d6b08c4</td>\n",
       "      <td>0737f34d03196b62fc2bc1fc2e5c2672</td>\n",
       "      <td>2d5176b68bedd91b7bde3054d6dbdf5c</td>\n",
       "      <td>3</td>\n",
       "      <td>Teacher-Led</td>\n",
       "      <td>Math &amp; Science, Literacy &amp; Language</td>\n",
       "      <td>Health &amp; Life Science, Literacy</td>\n",
       "      <td>Grades PreK-2</td>\n",
       "      <td>Books</td>\n",
       "      <td>254.85</td>\n",
       "      <td>2013-01-02</td>\n",
       "      <td>2013-05-31</td>\n",
       "      <td>2013-05-25</td>\n",
       "      <td>16d0d868e724426319f81855262a1e8e</td>\n",
       "      <td>cb0b14571e2d2c7a484e4e85d3d6b52f</td>\n",
       "      <td>50.00</td>\n",
       "      <td>2013-04-05 12:59:54</td>\n",
       "      <td>No</td>\n",
       "    </tr>\n",
       "    <tr>\n",
       "      <th>3</th>\n",
       "      <td>f00d5e1740d3b36e1edbaf770d6b08c4</td>\n",
       "      <td>0737f34d03196b62fc2bc1fc2e5c2672</td>\n",
       "      <td>2d5176b68bedd91b7bde3054d6dbdf5c</td>\n",
       "      <td>3</td>\n",
       "      <td>Teacher-Led</td>\n",
       "      <td>Math &amp; Science, Literacy &amp; Language</td>\n",
       "      <td>Health &amp; Life Science, Literacy</td>\n",
       "      <td>Grades PreK-2</td>\n",
       "      <td>Books</td>\n",
       "      <td>254.85</td>\n",
       "      <td>2013-01-02</td>\n",
       "      <td>2013-05-31</td>\n",
       "      <td>2013-05-25</td>\n",
       "      <td>93cf2f52d6197a06f6dee1103859a331</td>\n",
       "      <td>4d47f946ffdeb59d4ff30ec21b2d68fa</td>\n",
       "      <td>50.00</td>\n",
       "      <td>2013-05-10 20:25:26</td>\n",
       "      <td>No</td>\n",
       "    </tr>\n",
       "    <tr>\n",
       "      <th>4</th>\n",
       "      <td>f00d5e1740d3b36e1edbaf770d6b08c4</td>\n",
       "      <td>0737f34d03196b62fc2bc1fc2e5c2672</td>\n",
       "      <td>2d5176b68bedd91b7bde3054d6dbdf5c</td>\n",
       "      <td>3</td>\n",
       "      <td>Teacher-Led</td>\n",
       "      <td>Math &amp; Science, Literacy &amp; Language</td>\n",
       "      <td>Health &amp; Life Science, Literacy</td>\n",
       "      <td>Grades PreK-2</td>\n",
       "      <td>Books</td>\n",
       "      <td>254.85</td>\n",
       "      <td>2013-01-02</td>\n",
       "      <td>2013-05-31</td>\n",
       "      <td>2013-05-25</td>\n",
       "      <td>987b25323a4b14bb5d50fa9daf7098c4</td>\n",
       "      <td>0e345dcdef0d2a36c9bd17bf1ac3e10a</td>\n",
       "      <td>26.02</td>\n",
       "      <td>2013-05-19 00:14:10</td>\n",
       "      <td>No</td>\n",
       "    </tr>\n",
       "  </tbody>\n",
       "</table>\n",
       "</div>"
      ],
      "text/plain": [
       "                         Project ID                         School ID  \\\n",
       "0  7b017fa79510998c3960ed8f3b47c7c9  9ae756303b7919428b455baae0eb1998   \n",
       "1  b12c0c126c64963305a51ca60f687b53  0917cacae1d752ab5ead1cf1d9e86d59   \n",
       "2  f00d5e1740d3b36e1edbaf770d6b08c4  0737f34d03196b62fc2bc1fc2e5c2672   \n",
       "3  f00d5e1740d3b36e1edbaf770d6b08c4  0737f34d03196b62fc2bc1fc2e5c2672   \n",
       "4  f00d5e1740d3b36e1edbaf770d6b08c4  0737f34d03196b62fc2bc1fc2e5c2672   \n",
       "\n",
       "                         Teacher ID  Teacher Project Posted Sequence  \\\n",
       "0  70c5ec84f5faae238a0b17cd755921ce                                4   \n",
       "1  4e8d5828adb05503f825d30d8a5c93a9                               10   \n",
       "2  2d5176b68bedd91b7bde3054d6dbdf5c                                3   \n",
       "3  2d5176b68bedd91b7bde3054d6dbdf5c                                3   \n",
       "4  2d5176b68bedd91b7bde3054d6dbdf5c                                3   \n",
       "\n",
       "  Project Type        Project Subject Category Tree  \\\n",
       "0  Teacher-Led  Literacy & Language, Math & Science   \n",
       "1  Teacher-Led                       Math & Science   \n",
       "2  Teacher-Led  Math & Science, Literacy & Language   \n",
       "3  Teacher-Led  Math & Science, Literacy & Language   \n",
       "4  Teacher-Led  Math & Science, Literacy & Language   \n",
       "\n",
       "  Project Subject Subcategory Tree Project Grade Level Category  \\\n",
       "0            Literacy, Mathematics                   Grades 3-5   \n",
       "1                 Applied Sciences                   Grades 6-8   \n",
       "2  Health & Life Science, Literacy                Grades PreK-2   \n",
       "3  Health & Life Science, Literacy                Grades PreK-2   \n",
       "4  Health & Life Science, Literacy                Grades PreK-2   \n",
       "\n",
       "  Project Resource Category  Project Cost Project Posted Date  \\\n",
       "0                Technology        347.93          2013-01-02   \n",
       "1                Technology        527.05          2013-01-02   \n",
       "2                     Books        254.85          2013-01-02   \n",
       "3                     Books        254.85          2013-01-02   \n",
       "4                     Books        254.85          2013-01-02   \n",
       "\n",
       "  Project Expiration Date Project Fully Funded Date  \\\n",
       "0              2013-05-31                       NaN   \n",
       "1              2013-06-01                       NaN   \n",
       "2              2013-05-31                2013-05-25   \n",
       "3              2013-05-31                2013-05-25   \n",
       "4              2013-05-31                2013-05-25   \n",
       "\n",
       "                        Donation ID                          Donor ID  \\\n",
       "0  0df1f587f4544de7d033d4eac68a69a1  8dd44940c567893c3f57e2534430752c   \n",
       "1  a3860c0de4eff71b5421e996d23ba504  1962145118a5a9618d965044b721afd9   \n",
       "2  16d0d868e724426319f81855262a1e8e  cb0b14571e2d2c7a484e4e85d3d6b52f   \n",
       "3  93cf2f52d6197a06f6dee1103859a331  4d47f946ffdeb59d4ff30ec21b2d68fa   \n",
       "4  987b25323a4b14bb5d50fa9daf7098c4  0e345dcdef0d2a36c9bd17bf1ac3e10a   \n",
       "\n",
       "   Donation Amount Donation Received Date Donor Is Teacher  \n",
       "0            50.00    2013-05-15 15:55:53               No  \n",
       "1           100.00    2013-01-03 10:57:28               No  \n",
       "2            50.00    2013-04-05 12:59:54               No  \n",
       "3            50.00    2013-05-10 20:25:26               No  \n",
       "4            26.02    2013-05-19 00:14:10               No  "
      ]
     },
     "execution_count": 283,
     "metadata": {},
     "output_type": "execute_result"
    }
   ],
   "source": [
    "project_donations_donors.head()"
   ]
  },
  {
   "cell_type": "code",
   "execution_count": 284,
   "id": "ba448280",
   "metadata": {},
   "outputs": [
    {
     "data": {
      "text/plain": [
       "(1157094, 18)"
      ]
     },
     "execution_count": 284,
     "metadata": {},
     "output_type": "execute_result"
    }
   ],
   "source": [
    "project_donations_donors[project_donations_donors['Donor Is Teacher'] == 'Yes'].shape"
   ]
  },
  {
   "cell_type": "code",
   "execution_count": 285,
   "id": "fb32d418",
   "metadata": {},
   "outputs": [
    {
     "data": {
      "text/plain": [
       "(3082898, 18)"
      ]
     },
     "execution_count": 285,
     "metadata": {},
     "output_type": "execute_result"
    }
   ],
   "source": [
    "project_donations_donors[project_donations_donors['Donor Is Teacher'] == 'No'].shape"
   ]
  },
  {
   "cell_type": "code",
   "execution_count": 286,
   "id": "3ee9529f",
   "metadata": {},
   "outputs": [],
   "source": [
    "# logic dropping teacher donations\n",
    "project_donations_donors = project_donations_donors[project_donations_donors['Donor Is Teacher'] != 'Yes']"
   ]
  },
  {
   "cell_type": "code",
   "execution_count": 287,
   "id": "7e69935b",
   "metadata": {},
   "outputs": [
    {
     "data": {
      "text/plain": [
       "(3275943, 18)"
      ]
     },
     "execution_count": 287,
     "metadata": {},
     "output_type": "execute_result"
    }
   ],
   "source": [
    "project_donations_donors.shape"
   ]
  },
  {
   "cell_type": "code",
   "execution_count": 288,
   "id": "93e87153",
   "metadata": {},
   "outputs": [],
   "source": [
    "project_donations_donors = project_donations_donors.drop(['Donor Is Teacher', 'Donor ID'], axis=1)"
   ]
  },
  {
   "cell_type": "code",
   "execution_count": 289,
   "id": "f0bf0e65",
   "metadata": {},
   "outputs": [],
   "source": [
    "DONATION_PERIOD = 30\n",
    "THRESHOLD_RATIO = 0.4\n",
    "project_donations_donors[\"Posted Date to Donation Date\"] = project_donations_donors[\"Donation Received Date\"] - project_donations_donors[\"Project Posted Date\"]\n",
    "project_donations_donors[\"Posted Date to Donation Date\"] = project_donations_donors[\"Posted Date to Donation Date\"].dt.days"
   ]
  },
  {
   "cell_type": "code",
   "execution_count": 290,
   "id": "cb343a03",
   "metadata": {},
   "outputs": [],
   "source": [
    "data = project_donations_donors[project_donations_donors[\"Posted Date to Donation Date\"] < DONATION_PERIOD]"
   ]
  },
  {
   "cell_type": "code",
   "execution_count": 291,
   "id": "705cd1d9",
   "metadata": {},
   "outputs": [
    {
     "name": "stderr",
     "output_type": "stream",
     "text": [
      "/var/folders/yl/9bnyyv317zx6n3nl5t7jy2n80000gn/T/ipykernel_9029/3204795139.py:1: SettingWithCopyWarning: \n",
      "A value is trying to be set on a copy of a slice from a DataFrame\n",
      "\n",
      "See the caveats in the documentation: https://pandas.pydata.org/pandas-docs/stable/user_guide/indexing.html#returning-a-view-versus-a-copy\n",
      "  data.sort_values(by=\"Posted Date to Donation Date\", inplace=True)\n"
     ]
    }
   ],
   "source": [
    "data.sort_values(by=\"Posted Date to Donation Date\", inplace=True)"
   ]
  },
  {
   "cell_type": "code",
   "execution_count": 292,
   "id": "008f59a0",
   "metadata": {},
   "outputs": [
    {
     "data": {
      "text/html": [
       "<div>\n",
       "<style scoped>\n",
       "    .dataframe tbody tr th:only-of-type {\n",
       "        vertical-align: middle;\n",
       "    }\n",
       "\n",
       "    .dataframe tbody tr th {\n",
       "        vertical-align: top;\n",
       "    }\n",
       "\n",
       "    .dataframe thead th {\n",
       "        text-align: right;\n",
       "    }\n",
       "</style>\n",
       "<table border=\"1\" class=\"dataframe\">\n",
       "  <thead>\n",
       "    <tr style=\"text-align: right;\">\n",
       "      <th></th>\n",
       "      <th>Project ID</th>\n",
       "      <th>School ID</th>\n",
       "      <th>Teacher ID</th>\n",
       "      <th>Teacher Project Posted Sequence</th>\n",
       "      <th>Project Type</th>\n",
       "      <th>Project Subject Category Tree</th>\n",
       "      <th>Project Subject Subcategory Tree</th>\n",
       "      <th>Project Grade Level Category</th>\n",
       "      <th>Project Resource Category</th>\n",
       "      <th>Project Cost</th>\n",
       "      <th>Project Posted Date</th>\n",
       "      <th>Project Expiration Date</th>\n",
       "      <th>Project Fully Funded Date</th>\n",
       "      <th>Donation ID</th>\n",
       "      <th>Donation Amount</th>\n",
       "      <th>Donation Received Date</th>\n",
       "      <th>Posted Date to Donation Date</th>\n",
       "    </tr>\n",
       "  </thead>\n",
       "  <tbody>\n",
       "    <tr>\n",
       "      <th>341008</th>\n",
       "      <td>4f921539c0a89df04b8a946fc31fb9b2</td>\n",
       "      <td>fac41b2a71520e04220a0fb6f347ced7</td>\n",
       "      <td>7b9f69d6686d1fcc0b68dc737a07a2eb</td>\n",
       "      <td>3</td>\n",
       "      <td>Teacher-Led</td>\n",
       "      <td>Applied Learning</td>\n",
       "      <td>College &amp; Career Prep</td>\n",
       "      <td>Grades 9-12</td>\n",
       "      <td>Technology</td>\n",
       "      <td>4201.89</td>\n",
       "      <td>2013-08-28</td>\n",
       "      <td>2013-12-28</td>\n",
       "      <td>2013-08-29</td>\n",
       "      <td>29eb746d5c4856db21a6fa0d3639b0c9</td>\n",
       "      <td>50.0</td>\n",
       "      <td>2013-01-10 20:18:23</td>\n",
       "      <td>-230.0</td>\n",
       "    </tr>\n",
       "    <tr>\n",
       "      <th>341022</th>\n",
       "      <td>4f921539c0a89df04b8a946fc31fb9b2</td>\n",
       "      <td>fac41b2a71520e04220a0fb6f347ced7</td>\n",
       "      <td>7b9f69d6686d1fcc0b68dc737a07a2eb</td>\n",
       "      <td>3</td>\n",
       "      <td>Teacher-Led</td>\n",
       "      <td>Applied Learning</td>\n",
       "      <td>College &amp; Career Prep</td>\n",
       "      <td>Grades 9-12</td>\n",
       "      <td>Technology</td>\n",
       "      <td>4201.89</td>\n",
       "      <td>2013-08-28</td>\n",
       "      <td>2013-12-28</td>\n",
       "      <td>2013-08-29</td>\n",
       "      <td>eab8a4e8ef210f8ffaaed18f93ef05ad</td>\n",
       "      <td>50.0</td>\n",
       "      <td>2013-02-12 13:33:29</td>\n",
       "      <td>-197.0</td>\n",
       "    </tr>\n",
       "    <tr>\n",
       "      <th>341013</th>\n",
       "      <td>4f921539c0a89df04b8a946fc31fb9b2</td>\n",
       "      <td>fac41b2a71520e04220a0fb6f347ced7</td>\n",
       "      <td>7b9f69d6686d1fcc0b68dc737a07a2eb</td>\n",
       "      <td>3</td>\n",
       "      <td>Teacher-Led</td>\n",
       "      <td>Applied Learning</td>\n",
       "      <td>College &amp; Career Prep</td>\n",
       "      <td>Grades 9-12</td>\n",
       "      <td>Technology</td>\n",
       "      <td>4201.89</td>\n",
       "      <td>2013-08-28</td>\n",
       "      <td>2013-12-28</td>\n",
       "      <td>2013-08-29</td>\n",
       "      <td>741eefc5fe96522d2003b70c6c7d076c</td>\n",
       "      <td>50.0</td>\n",
       "      <td>2013-02-12 14:54:24</td>\n",
       "      <td>-197.0</td>\n",
       "    </tr>\n",
       "    <tr>\n",
       "      <th>341014</th>\n",
       "      <td>4f921539c0a89df04b8a946fc31fb9b2</td>\n",
       "      <td>fac41b2a71520e04220a0fb6f347ced7</td>\n",
       "      <td>7b9f69d6686d1fcc0b68dc737a07a2eb</td>\n",
       "      <td>3</td>\n",
       "      <td>Teacher-Led</td>\n",
       "      <td>Applied Learning</td>\n",
       "      <td>College &amp; Career Prep</td>\n",
       "      <td>Grades 9-12</td>\n",
       "      <td>Technology</td>\n",
       "      <td>4201.89</td>\n",
       "      <td>2013-08-28</td>\n",
       "      <td>2013-12-28</td>\n",
       "      <td>2013-08-29</td>\n",
       "      <td>78574cab123de199e9b7ec6ae598d858</td>\n",
       "      <td>20.0</td>\n",
       "      <td>2013-02-12 21:45:08</td>\n",
       "      <td>-197.0</td>\n",
       "    </tr>\n",
       "    <tr>\n",
       "      <th>341017</th>\n",
       "      <td>4f921539c0a89df04b8a946fc31fb9b2</td>\n",
       "      <td>fac41b2a71520e04220a0fb6f347ced7</td>\n",
       "      <td>7b9f69d6686d1fcc0b68dc737a07a2eb</td>\n",
       "      <td>3</td>\n",
       "      <td>Teacher-Led</td>\n",
       "      <td>Applied Learning</td>\n",
       "      <td>College &amp; Career Prep</td>\n",
       "      <td>Grades 9-12</td>\n",
       "      <td>Technology</td>\n",
       "      <td>4201.89</td>\n",
       "      <td>2013-08-28</td>\n",
       "      <td>2013-12-28</td>\n",
       "      <td>2013-08-29</td>\n",
       "      <td>827715cbbca25521edb189aa584a3b46</td>\n",
       "      <td>25.0</td>\n",
       "      <td>2013-02-12 11:15:20</td>\n",
       "      <td>-197.0</td>\n",
       "    </tr>\n",
       "  </tbody>\n",
       "</table>\n",
       "</div>"
      ],
      "text/plain": [
       "                              Project ID                         School ID  \\\n",
       "341008  4f921539c0a89df04b8a946fc31fb9b2  fac41b2a71520e04220a0fb6f347ced7   \n",
       "341022  4f921539c0a89df04b8a946fc31fb9b2  fac41b2a71520e04220a0fb6f347ced7   \n",
       "341013  4f921539c0a89df04b8a946fc31fb9b2  fac41b2a71520e04220a0fb6f347ced7   \n",
       "341014  4f921539c0a89df04b8a946fc31fb9b2  fac41b2a71520e04220a0fb6f347ced7   \n",
       "341017  4f921539c0a89df04b8a946fc31fb9b2  fac41b2a71520e04220a0fb6f347ced7   \n",
       "\n",
       "                              Teacher ID  Teacher Project Posted Sequence  \\\n",
       "341008  7b9f69d6686d1fcc0b68dc737a07a2eb                                3   \n",
       "341022  7b9f69d6686d1fcc0b68dc737a07a2eb                                3   \n",
       "341013  7b9f69d6686d1fcc0b68dc737a07a2eb                                3   \n",
       "341014  7b9f69d6686d1fcc0b68dc737a07a2eb                                3   \n",
       "341017  7b9f69d6686d1fcc0b68dc737a07a2eb                                3   \n",
       "\n",
       "       Project Type Project Subject Category Tree  \\\n",
       "341008  Teacher-Led              Applied Learning   \n",
       "341022  Teacher-Led              Applied Learning   \n",
       "341013  Teacher-Led              Applied Learning   \n",
       "341014  Teacher-Led              Applied Learning   \n",
       "341017  Teacher-Led              Applied Learning   \n",
       "\n",
       "       Project Subject Subcategory Tree Project Grade Level Category  \\\n",
       "341008            College & Career Prep                  Grades 9-12   \n",
       "341022            College & Career Prep                  Grades 9-12   \n",
       "341013            College & Career Prep                  Grades 9-12   \n",
       "341014            College & Career Prep                  Grades 9-12   \n",
       "341017            College & Career Prep                  Grades 9-12   \n",
       "\n",
       "       Project Resource Category  Project Cost Project Posted Date  \\\n",
       "341008                Technology       4201.89          2013-08-28   \n",
       "341022                Technology       4201.89          2013-08-28   \n",
       "341013                Technology       4201.89          2013-08-28   \n",
       "341014                Technology       4201.89          2013-08-28   \n",
       "341017                Technology       4201.89          2013-08-28   \n",
       "\n",
       "       Project Expiration Date Project Fully Funded Date  \\\n",
       "341008              2013-12-28                2013-08-29   \n",
       "341022              2013-12-28                2013-08-29   \n",
       "341013              2013-12-28                2013-08-29   \n",
       "341014              2013-12-28                2013-08-29   \n",
       "341017              2013-12-28                2013-08-29   \n",
       "\n",
       "                             Donation ID  Donation Amount  \\\n",
       "341008  29eb746d5c4856db21a6fa0d3639b0c9             50.0   \n",
       "341022  eab8a4e8ef210f8ffaaed18f93ef05ad             50.0   \n",
       "341013  741eefc5fe96522d2003b70c6c7d076c             50.0   \n",
       "341014  78574cab123de199e9b7ec6ae598d858             20.0   \n",
       "341017  827715cbbca25521edb189aa584a3b46             25.0   \n",
       "\n",
       "       Donation Received Date  Posted Date to Donation Date  \n",
       "341008    2013-01-10 20:18:23                        -230.0  \n",
       "341022    2013-02-12 13:33:29                        -197.0  \n",
       "341013    2013-02-12 14:54:24                        -197.0  \n",
       "341014    2013-02-12 21:45:08                        -197.0  \n",
       "341017    2013-02-12 11:15:20                        -197.0  "
      ]
     },
     "execution_count": 292,
     "metadata": {},
     "output_type": "execute_result"
    }
   ],
   "source": [
    "data.head()"
   ]
  },
  {
   "cell_type": "code",
   "execution_count": 293,
   "id": "9af75f10",
   "metadata": {},
   "outputs": [
    {
     "data": {
      "text/plain": [
       "Project ID                          3186\n",
       "School ID                           3186\n",
       "Teacher ID                          3186\n",
       "Teacher Project Posted Sequence     3186\n",
       "Project Type                        3186\n",
       "Project Subject Category Tree       3185\n",
       "Project Subject Subcategory Tree    3185\n",
       "Project Grade Level Category        3186\n",
       "Project Resource Category           3185\n",
       "Project Cost                        3186\n",
       "Project Posted Date                 3186\n",
       "Project Expiration Date             3186\n",
       "Project Fully Funded Date           3076\n",
       "Donation ID                         3186\n",
       "Donation Amount                     3186\n",
       "Donation Received Date              3186\n",
       "Posted Date to Donation Date        3186\n",
       "dtype: int64"
      ]
     },
     "execution_count": 293,
     "metadata": {},
     "output_type": "execute_result"
    }
   ],
   "source": [
    "data[data[\"Posted Date to Donation Date\"] < 0].count()"
   ]
  },
  {
   "cell_type": "code",
   "execution_count": 294,
   "id": "e27d4f25",
   "metadata": {},
   "outputs": [],
   "source": [
    "data = data[data[\"Posted Date to Donation Date\"] >= 0]"
   ]
  },
  {
   "cell_type": "code",
   "execution_count": 295,
   "id": "364111be",
   "metadata": {},
   "outputs": [
    {
     "data": {
      "text/plain": [
       "Project ID                          2162865\n",
       "School ID                           2162865\n",
       "Teacher ID                          2162865\n",
       "Teacher Project Posted Sequence     2162865\n",
       "Project Type                        2162865\n",
       "Project Subject Category Tree       2162810\n",
       "Project Subject Subcategory Tree    2162810\n",
       "Project Grade Level Category        2162865\n",
       "Project Resource Category           2162799\n",
       "Project Cost                        2162865\n",
       "Project Posted Date                 2162865\n",
       "Project Expiration Date             2162863\n",
       "Project Fully Funded Date           2019778\n",
       "Donation ID                         2162865\n",
       "Donation Amount                     2162865\n",
       "Donation Received Date              2162865\n",
       "Posted Date to Donation Date        2162865\n",
       "dtype: int64"
      ]
     },
     "execution_count": 295,
     "metadata": {},
     "output_type": "execute_result"
    }
   ],
   "source": [
    "data.count()"
   ]
  },
  {
   "cell_type": "code",
   "execution_count": 296,
   "id": "1ba2a27a",
   "metadata": {},
   "outputs": [],
   "source": [
    "data[\"Total Donations In The Period\"] = data.groupby(\"Project ID\")[\"Donation Amount\"].transform(\"sum\")"
   ]
  },
  {
   "cell_type": "code",
   "execution_count": 297,
   "id": "b7c1f1c7",
   "metadata": {},
   "outputs": [],
   "source": [
    "data[\"Fund Ratio\"] = np.where(\n",
    "        data[\"Project Cost\"] > 0,\n",
    "        data[\"Total Donations In The Period\"] / data[\"Project Cost\"], 1\n",
    ")"
   ]
  },
  {
   "cell_type": "code",
   "execution_count": 298,
   "id": "2d882726",
   "metadata": {},
   "outputs": [],
   "source": [
    "data = data.drop([\"Donation ID\", \"Donation Amount\", \"Donation Received Date\", \"Total Donations In The Period\"], axis=1)"
   ]
  },
  {
   "cell_type": "code",
   "execution_count": 299,
   "id": "4a5976d9",
   "metadata": {},
   "outputs": [],
   "source": [
    "data.drop_duplicates(subset=\"Project ID\", keep=\"first\", inplace=True)"
   ]
  },
  {
   "cell_type": "code",
   "execution_count": 300,
   "id": "6ade705f",
   "metadata": {},
   "outputs": [
    {
     "data": {
      "text/plain": [
       "Project ID                          579343\n",
       "School ID                           579343\n",
       "Teacher ID                          579343\n",
       "Teacher Project Posted Sequence     579343\n",
       "Project Type                        579343\n",
       "Project Subject Category Tree       579330\n",
       "Project Subject Subcategory Tree    579330\n",
       "Project Grade Level Category        579343\n",
       "Project Resource Category           579326\n",
       "Project Cost                        579343\n",
       "Project Posted Date                 579343\n",
       "Project Expiration Date             579342\n",
       "Project Fully Funded Date           508724\n",
       "Posted Date to Donation Date        579343\n",
       "Fund Ratio                          579343\n",
       "dtype: int64"
      ]
     },
     "execution_count": 300,
     "metadata": {},
     "output_type": "execute_result"
    }
   ],
   "source": [
    "data.count()"
   ]
  },
  {
   "cell_type": "code",
   "execution_count": 301,
   "id": "87c29c9f",
   "metadata": {},
   "outputs": [],
   "source": [
    "# \"Not get funded\" is 1\n",
    "data[\"Label\"] = data.apply(lambda x: 1 if x[\"Fund Ratio\"] < 0.4 else 0, axis=1)"
   ]
  },
  {
   "cell_type": "code",
   "execution_count": 302,
   "id": "95b30a91",
   "metadata": {},
   "outputs": [
    {
     "data": {
      "text/plain": [
       "Label\n",
       "1    307492\n",
       "0    271851\n",
       "Name: count, dtype: int64"
      ]
     },
     "execution_count": 302,
     "metadata": {},
     "output_type": "execute_result"
    }
   ],
   "source": [
    "data[\"Label\"].value_counts()"
   ]
  },
  {
   "cell_type": "code",
   "execution_count": 303,
   "id": "3353eb30",
   "metadata": {},
   "outputs": [],
   "source": [
    "data_test = data[[\"Fund Ratio\", \"Label\", \"Project Fully Funded Date\"]]\n",
    "data_test = data_test[(data_test[\"Label\"] == 1) & (data_test[\"Project Fully Funded Date\"].notna())]\n",
    "# data_test \n",
    "# really_not_funded = 69954\n",
    "# really_funded = 271188\n"
   ]
  },
  {
   "cell_type": "code",
   "execution_count": 304,
   "id": "1f770a86",
   "metadata": {},
   "outputs": [],
   "source": [
    "labelled_data_p_d_d = data.drop([\"Project Fully Funded Date\", \"Posted Date to Donation Date\", \"Fund Ratio\"], axis=1)"
   ]
  },
  {
   "cell_type": "code",
   "execution_count": 305,
   "id": "3d6b25f1",
   "metadata": {},
   "outputs": [
    {
     "data": {
      "text/plain": [
       "(579343, 13)"
      ]
     },
     "execution_count": 305,
     "metadata": {},
     "output_type": "execute_result"
    }
   ],
   "source": [
    "labelled_data_p_d_d.shape"
   ]
  },
  {
   "cell_type": "code",
   "execution_count": 306,
   "id": "ec057444",
   "metadata": {},
   "outputs": [],
   "source": [
    "teachers = pd.read_csv(\"./Teachers.csv\")"
   ]
  },
  {
   "cell_type": "code",
   "execution_count": 307,
   "id": "a5dea6f1",
   "metadata": {},
   "outputs": [
    {
     "data": {
      "text/plain": [
       "Teacher ID                           402900\n",
       "Teacher Prefix                       402872\n",
       "Teacher First Project Posted Date    402900\n",
       "dtype: int64"
      ]
     },
     "execution_count": 307,
     "metadata": {},
     "output_type": "execute_result"
    }
   ],
   "source": [
    "teachers.count()"
   ]
  },
  {
   "cell_type": "code",
   "execution_count": 308,
   "id": "46682de1",
   "metadata": {},
   "outputs": [],
   "source": [
    "labelled_data_p_d_d_t = labelled_data_p_d_d.merge(teachers, on=\"Teacher ID\", how=\"left\")"
   ]
  },
  {
   "cell_type": "code",
   "execution_count": 309,
   "id": "6f5d48be",
   "metadata": {},
   "outputs": [],
   "source": [
    "schools = pd.read_csv(\"./Schools.csv\")"
   ]
  },
  {
   "cell_type": "code",
   "execution_count": 310,
   "id": "ca51906e",
   "metadata": {},
   "outputs": [
    {
     "data": {
      "text/plain": [
       "School ID                       72993\n",
       "School Name                     72993\n",
       "School Metro Type               72993\n",
       "School Percentage Free Lunch    71852\n",
       "School State                    72993\n",
       "School Zip                      72993\n",
       "School City                     72766\n",
       "School County                   72991\n",
       "School District                 72993\n",
       "dtype: int64"
      ]
     },
     "execution_count": 310,
     "metadata": {},
     "output_type": "execute_result"
    }
   ],
   "source": [
    "schools.count()"
   ]
  },
  {
   "cell_type": "code",
   "execution_count": 311,
   "id": "d8bbe772",
   "metadata": {},
   "outputs": [
    {
     "data": {
      "text/html": [
       "<div>\n",
       "<style scoped>\n",
       "    .dataframe tbody tr th:only-of-type {\n",
       "        vertical-align: middle;\n",
       "    }\n",
       "\n",
       "    .dataframe tbody tr th {\n",
       "        vertical-align: top;\n",
       "    }\n",
       "\n",
       "    .dataframe thead th {\n",
       "        text-align: right;\n",
       "    }\n",
       "</style>\n",
       "<table border=\"1\" class=\"dataframe\">\n",
       "  <thead>\n",
       "    <tr style=\"text-align: right;\">\n",
       "      <th></th>\n",
       "      <th>School ID</th>\n",
       "      <th>School Name</th>\n",
       "      <th>School Metro Type</th>\n",
       "      <th>School Percentage Free Lunch</th>\n",
       "      <th>School State</th>\n",
       "      <th>School Zip</th>\n",
       "      <th>School City</th>\n",
       "      <th>School County</th>\n",
       "      <th>School District</th>\n",
       "    </tr>\n",
       "  </thead>\n",
       "  <tbody>\n",
       "    <tr>\n",
       "      <th>0</th>\n",
       "      <td>00003e0fdd601b8ea0a6eb44057b9c5e</td>\n",
       "      <td>Capon Bridge Middle School</td>\n",
       "      <td>rural</td>\n",
       "      <td>56.0</td>\n",
       "      <td>West Virginia</td>\n",
       "      <td>26711</td>\n",
       "      <td>Capon Bridge</td>\n",
       "      <td>Hampshire</td>\n",
       "      <td>Hampshire Co School District</td>\n",
       "    </tr>\n",
       "    <tr>\n",
       "      <th>1</th>\n",
       "      <td>00004e32a448b4832e1b993500bf0731</td>\n",
       "      <td>The Woodlands College Park High School</td>\n",
       "      <td>urban</td>\n",
       "      <td>41.0</td>\n",
       "      <td>Texas</td>\n",
       "      <td>77384</td>\n",
       "      <td>The Woodlands</td>\n",
       "      <td>Montgomery</td>\n",
       "      <td>Conroe Ind School District</td>\n",
       "    </tr>\n",
       "    <tr>\n",
       "      <th>2</th>\n",
       "      <td>0002021bb799f28de224f1acc1ff08c4</td>\n",
       "      <td>Samantha Smith Elementary School</td>\n",
       "      <td>suburban</td>\n",
       "      <td>2.0</td>\n",
       "      <td>Washington</td>\n",
       "      <td>98074</td>\n",
       "      <td>Sammamish</td>\n",
       "      <td>King</td>\n",
       "      <td>Lake Washington Sch Dist 414</td>\n",
       "    </tr>\n",
       "    <tr>\n",
       "      <th>3</th>\n",
       "      <td>0004604f675212a8cac1161338265196</td>\n",
       "      <td>Kingsbury Country Day School</td>\n",
       "      <td>unknown</td>\n",
       "      <td>76.0</td>\n",
       "      <td>Michigan</td>\n",
       "      <td>48370</td>\n",
       "      <td>Oxford</td>\n",
       "      <td>Oakland</td>\n",
       "      <td>Michigan Dept Of Education</td>\n",
       "    </tr>\n",
       "    <tr>\n",
       "      <th>4</th>\n",
       "      <td>0004c9d50bcf0cea990f844e58b5e2c3</td>\n",
       "      <td>Redwater Elementary School</td>\n",
       "      <td>rural</td>\n",
       "      <td>50.0</td>\n",
       "      <td>Texas</td>\n",
       "      <td>75573</td>\n",
       "      <td>Redwater</td>\n",
       "      <td>Bowie</td>\n",
       "      <td>Redwater Ind Sch District</td>\n",
       "    </tr>\n",
       "  </tbody>\n",
       "</table>\n",
       "</div>"
      ],
      "text/plain": [
       "                          School ID                             School Name  \\\n",
       "0  00003e0fdd601b8ea0a6eb44057b9c5e              Capon Bridge Middle School   \n",
       "1  00004e32a448b4832e1b993500bf0731  The Woodlands College Park High School   \n",
       "2  0002021bb799f28de224f1acc1ff08c4        Samantha Smith Elementary School   \n",
       "3  0004604f675212a8cac1161338265196            Kingsbury Country Day School   \n",
       "4  0004c9d50bcf0cea990f844e58b5e2c3              Redwater Elementary School   \n",
       "\n",
       "  School Metro Type  School Percentage Free Lunch   School State  School Zip  \\\n",
       "0             rural                          56.0  West Virginia       26711   \n",
       "1             urban                          41.0          Texas       77384   \n",
       "2          suburban                           2.0     Washington       98074   \n",
       "3           unknown                          76.0       Michigan       48370   \n",
       "4             rural                          50.0          Texas       75573   \n",
       "\n",
       "     School City School County               School District  \n",
       "0   Capon Bridge     Hampshire  Hampshire Co School District  \n",
       "1  The Woodlands    Montgomery    Conroe Ind School District  \n",
       "2      Sammamish          King  Lake Washington Sch Dist 414  \n",
       "3         Oxford       Oakland    Michigan Dept Of Education  \n",
       "4       Redwater         Bowie     Redwater Ind Sch District  "
      ]
     },
     "execution_count": 311,
     "metadata": {},
     "output_type": "execute_result"
    }
   ],
   "source": [
    "schools.head()"
   ]
  },
  {
   "cell_type": "code",
   "execution_count": 312,
   "id": "0bd7b17f",
   "metadata": {},
   "outputs": [],
   "source": [
    "labelled_data_p_d_d_t_s = labelled_data_p_d_d_t.merge(schools, on=\"School ID\", how=\"left\").drop([\"School Zip\"], axis=1)"
   ]
  },
  {
   "cell_type": "code",
   "execution_count": 313,
   "id": "e306f246",
   "metadata": {},
   "outputs": [
    {
     "data": {
      "text/plain": [
       "Project ID                           579343\n",
       "School ID                            579343\n",
       "Teacher ID                           579343\n",
       "Teacher Project Posted Sequence      579343\n",
       "Project Type                         579343\n",
       "Project Subject Category Tree        579330\n",
       "Project Subject Subcategory Tree     579330\n",
       "Project Grade Level Category         579343\n",
       "Project Resource Category            579326\n",
       "Project Cost                         579343\n",
       "Project Posted Date                  579343\n",
       "Project Expiration Date              579342\n",
       "Label                                579343\n",
       "Teacher Prefix                       579316\n",
       "Teacher First Project Posted Date    579340\n",
       "School Name                          579342\n",
       "School Metro Type                    579342\n",
       "School Percentage Free Lunch         576993\n",
       "School State                         579342\n",
       "School City                          575604\n",
       "School County                        579339\n",
       "School District                      579342\n",
       "dtype: int64"
      ]
     },
     "execution_count": 313,
     "metadata": {},
     "output_type": "execute_result"
    }
   ],
   "source": [
    "labelled_data_p_d_d_t_s.count()"
   ]
  },
  {
   "cell_type": "code",
   "execution_count": 314,
   "id": "0b7c076b",
   "metadata": {},
   "outputs": [],
   "source": [
    "resources = pd.read_csv(\"./Resources.csv\")"
   ]
  },
  {
   "cell_type": "code",
   "execution_count": 315,
   "id": "3bdf1d37",
   "metadata": {},
   "outputs": [
    {
     "data": {
      "text/plain": [
       "(7210448, 5)"
      ]
     },
     "execution_count": 315,
     "metadata": {},
     "output_type": "execute_result"
    }
   ],
   "source": [
    "resources.shape"
   ]
  },
  {
   "cell_type": "code",
   "execution_count": 316,
   "id": "b039afd0",
   "metadata": {},
   "outputs": [
    {
     "data": {
      "text/plain": [
       "Project ID              1208649\n",
       "Resource Item Name      1073886\n",
       "Resource Quantity           341\n",
       "Resource Unit Price       50253\n",
       "Resource Vendor Name         31\n",
       "dtype: int64"
      ]
     },
     "execution_count": 316,
     "metadata": {},
     "output_type": "execute_result"
    }
   ],
   "source": [
    "resources.nunique()"
   ]
  },
  {
   "cell_type": "code",
   "execution_count": 317,
   "id": "232a26a0",
   "metadata": {},
   "outputs": [],
   "source": [
    "labelled_data_p_d_d_t_s_r = labelled_data_p_d_d_t_s.merge(resources, on=\"Project ID\", how=\"left\")"
   ]
  },
  {
   "cell_type": "code",
   "execution_count": 318,
   "id": "05d918e5",
   "metadata": {},
   "outputs": [
    {
     "data": {
      "text/plain": [
       "(3600689, 26)"
      ]
     },
     "execution_count": 318,
     "metadata": {},
     "output_type": "execute_result"
    }
   ],
   "source": [
    "labelled_data_p_d_d_t_s_r.shape"
   ]
  },
  {
   "cell_type": "code",
   "execution_count": 319,
   "id": "264e16bc",
   "metadata": {},
   "outputs": [
    {
     "data": {
      "text/plain": [
       "Project ID                           579343\n",
       "School ID                             62422\n",
       "Teacher ID                           263294\n",
       "Teacher Project Posted Sequence         478\n",
       "Project Type                              3\n",
       "Project Subject Category Tree            51\n",
       "Project Subject Subcategory Tree        426\n",
       "Project Grade Level Category              5\n",
       "Project Resource Category                17\n",
       "Project Cost                         122033\n",
       "Project Posted Date                    1825\n",
       "Project Expiration Date                1952\n",
       "Label                                     2\n",
       "Teacher Prefix                            6\n",
       "Teacher First Project Posted Date      4494\n",
       "School Name                           49066\n",
       "School Metro Type                         5\n",
       "School Percentage Free Lunch            101\n",
       "School State                             51\n",
       "School City                            9421\n",
       "School County                          1717\n",
       "School District                        9723\n",
       "Resource Item Name                   684557\n",
       "Resource Quantity                       281\n",
       "Resource Unit Price                   36893\n",
       "Resource Vendor Name                     28\n",
       "dtype: int64"
      ]
     },
     "execution_count": 319,
     "metadata": {},
     "output_type": "execute_result"
    }
   ],
   "source": [
    "labelled_data_p_d_d_t_s_r.nunique()"
   ]
  },
  {
   "cell_type": "code",
   "execution_count": 320,
   "id": "bbc5a998",
   "metadata": {},
   "outputs": [],
   "source": [
    "labelled_data_p_d_d_t_s_r = labelled_data_p_d_d_t_s_r.drop([\"Resource Item Name\", \"Resource Quantity\", \"Resource Unit Price\"], axis=1)"
   ]
  },
  {
   "cell_type": "code",
   "execution_count": 321,
   "id": "9b7b348d",
   "metadata": {},
   "outputs": [
    {
     "data": {
      "text/html": [
       "<div>\n",
       "<style scoped>\n",
       "    .dataframe tbody tr th:only-of-type {\n",
       "        vertical-align: middle;\n",
       "    }\n",
       "\n",
       "    .dataframe tbody tr th {\n",
       "        vertical-align: top;\n",
       "    }\n",
       "\n",
       "    .dataframe thead th {\n",
       "        text-align: right;\n",
       "    }\n",
       "</style>\n",
       "<table border=\"1\" class=\"dataframe\">\n",
       "  <thead>\n",
       "    <tr style=\"text-align: right;\">\n",
       "      <th></th>\n",
       "      <th>Project ID</th>\n",
       "      <th>School ID</th>\n",
       "      <th>Teacher ID</th>\n",
       "      <th>Teacher Project Posted Sequence</th>\n",
       "      <th>Project Type</th>\n",
       "      <th>Project Subject Category Tree</th>\n",
       "      <th>Project Subject Subcategory Tree</th>\n",
       "      <th>Project Grade Level Category</th>\n",
       "      <th>Project Resource Category</th>\n",
       "      <th>Project Cost</th>\n",
       "      <th>...</th>\n",
       "      <th>Label</th>\n",
       "      <th>Teacher Prefix</th>\n",
       "      <th>Teacher First Project Posted Date</th>\n",
       "      <th>School Name</th>\n",
       "      <th>School Metro Type</th>\n",
       "      <th>School Percentage Free Lunch</th>\n",
       "      <th>School State</th>\n",
       "      <th>School City</th>\n",
       "      <th>School County</th>\n",
       "      <th>School District</th>\n",
       "    </tr>\n",
       "  </thead>\n",
       "  <tbody>\n",
       "    <tr>\n",
       "      <th>456876</th>\n",
       "      <td>b2304d2fed2cdb4aecea50c1e35171b4</td>\n",
       "      <td>31ecec9ba81af3076ed6916537068355</td>\n",
       "      <td>7f8cbd9fff1b0a3d801fac6e7dc11d5d</td>\n",
       "      <td>59</td>\n",
       "      <td>Teacher-Led</td>\n",
       "      <td>Literacy &amp; Language, Special Needs</td>\n",
       "      <td>Literacy, Special Needs</td>\n",
       "      <td>Grades 3-5</td>\n",
       "      <td>Books</td>\n",
       "      <td>10041.91</td>\n",
       "      <td>...</td>\n",
       "      <td>1</td>\n",
       "      <td>Mrs.</td>\n",
       "      <td>2013-08-11</td>\n",
       "      <td>Hollingers Island Elementary School</td>\n",
       "      <td>urban</td>\n",
       "      <td>72.0</td>\n",
       "      <td>Alabama</td>\n",
       "      <td>Mobile</td>\n",
       "      <td>Mobile</td>\n",
       "      <td>Mobile Co Public School Dist</td>\n",
       "    </tr>\n",
       "  </tbody>\n",
       "</table>\n",
       "<p>1 rows × 22 columns</p>\n",
       "</div>"
      ],
      "text/plain": [
       "                              Project ID                         School ID  \\\n",
       "456876  b2304d2fed2cdb4aecea50c1e35171b4  31ecec9ba81af3076ed6916537068355   \n",
       "\n",
       "                              Teacher ID  Teacher Project Posted Sequence  \\\n",
       "456876  7f8cbd9fff1b0a3d801fac6e7dc11d5d                               59   \n",
       "\n",
       "       Project Type       Project Subject Category Tree  \\\n",
       "456876  Teacher-Led  Literacy & Language, Special Needs   \n",
       "\n",
       "       Project Subject Subcategory Tree Project Grade Level Category  \\\n",
       "456876          Literacy, Special Needs                   Grades 3-5   \n",
       "\n",
       "       Project Resource Category  Project Cost  ... Label Teacher Prefix  \\\n",
       "456876                     Books      10041.91  ...     1           Mrs.   \n",
       "\n",
       "        Teacher First Project Posted Date  \\\n",
       "456876                         2013-08-11   \n",
       "\n",
       "                                School Name School Metro Type  \\\n",
       "456876  Hollingers Island Elementary School             urban   \n",
       "\n",
       "       School Percentage Free Lunch School State  School City School County  \\\n",
       "456876                         72.0      Alabama       Mobile        Mobile   \n",
       "\n",
       "                     School District  \n",
       "456876  Mobile Co Public School Dist  \n",
       "\n",
       "[1 rows x 22 columns]"
      ]
     },
     "execution_count": 321,
     "metadata": {},
     "output_type": "execute_result"
    }
   ],
   "source": [
    "labelled_data_p_d_d_t_s[labelled_data_p_d_d_t_s[\"Project ID\"] == \"b2304d2fed2cdb4aecea50c1e35171b4\"]"
   ]
  },
  {
   "cell_type": "code",
   "execution_count": 322,
   "id": "79a32deb",
   "metadata": {},
   "outputs": [],
   "source": [
    "labelled_data_p_d_d_t_s_r = labelled_data_p_d_d_t_s_r.drop_duplicates(subset=[\"Project ID\"])"
   ]
  },
  {
   "cell_type": "code",
   "execution_count": 323,
   "id": "ce8ec82d",
   "metadata": {},
   "outputs": [
    {
     "data": {
      "text/plain": [
       "Project ID                           579343\n",
       "School ID                             62422\n",
       "Teacher ID                           263294\n",
       "Teacher Project Posted Sequence         478\n",
       "Project Type                              3\n",
       "Project Subject Category Tree            51\n",
       "Project Subject Subcategory Tree        426\n",
       "Project Grade Level Category              5\n",
       "Project Resource Category                17\n",
       "Project Cost                         122033\n",
       "Project Posted Date                    1825\n",
       "Project Expiration Date                1952\n",
       "Label                                     2\n",
       "Teacher Prefix                            6\n",
       "Teacher First Project Posted Date      4494\n",
       "School Name                           49066\n",
       "School Metro Type                         5\n",
       "School Percentage Free Lunch            101\n",
       "School State                             51\n",
       "School City                            9421\n",
       "School County                          1717\n",
       "School District                        9723\n",
       "Resource Vendor Name                     28\n",
       "dtype: int64"
      ]
     },
     "execution_count": 323,
     "metadata": {},
     "output_type": "execute_result"
    }
   ],
   "source": [
    "labelled_data_p_d_d_t_s_r.nunique()"
   ]
  },
  {
   "cell_type": "markdown",
   "id": "ab62c1b1",
   "metadata": {},
   "source": [
    "labelled_data_p_d_d_t_s_r shoud be the final data df"
   ]
  },
  {
   "cell_type": "code",
   "execution_count": 324,
   "id": "d8f6527c",
   "metadata": {},
   "outputs": [],
   "source": [
    "labelled_data_p_d_d_t_s_r = labelled_data_p_d_d_t_s_r.sort_values(by=[\"Project Posted Date\"])"
   ]
  },
  {
   "cell_type": "code",
   "execution_count": 325,
   "id": "cbb89dca",
   "metadata": {},
   "outputs": [
    {
     "data": {
      "text/html": [
       "<div>\n",
       "<style scoped>\n",
       "    .dataframe tbody tr th:only-of-type {\n",
       "        vertical-align: middle;\n",
       "    }\n",
       "\n",
       "    .dataframe tbody tr th {\n",
       "        vertical-align: top;\n",
       "    }\n",
       "\n",
       "    .dataframe thead th {\n",
       "        text-align: right;\n",
       "    }\n",
       "</style>\n",
       "<table border=\"1\" class=\"dataframe\">\n",
       "  <thead>\n",
       "    <tr style=\"text-align: right;\">\n",
       "      <th></th>\n",
       "      <th>Project ID</th>\n",
       "      <th>School ID</th>\n",
       "      <th>Teacher ID</th>\n",
       "      <th>Teacher Project Posted Sequence</th>\n",
       "      <th>Project Type</th>\n",
       "      <th>Project Subject Category Tree</th>\n",
       "      <th>Project Subject Subcategory Tree</th>\n",
       "      <th>Project Grade Level Category</th>\n",
       "      <th>Project Resource Category</th>\n",
       "      <th>Project Cost</th>\n",
       "      <th>...</th>\n",
       "      <th>Teacher Prefix</th>\n",
       "      <th>Teacher First Project Posted Date</th>\n",
       "      <th>School Name</th>\n",
       "      <th>School Metro Type</th>\n",
       "      <th>School Percentage Free Lunch</th>\n",
       "      <th>School State</th>\n",
       "      <th>School City</th>\n",
       "      <th>School County</th>\n",
       "      <th>School District</th>\n",
       "      <th>Resource Vendor Name</th>\n",
       "    </tr>\n",
       "  </thead>\n",
       "  <tbody>\n",
       "    <tr>\n",
       "      <th>1794873</th>\n",
       "      <td>2f5dc731f6d178951e19e45abee43c7c</td>\n",
       "      <td>5031037d03c06ceff9ba022792740b8e</td>\n",
       "      <td>dff7c4c8d4ead22c65b0b6bc9707be2a</td>\n",
       "      <td>29</td>\n",
       "      <td>Teacher-Led</td>\n",
       "      <td>Special Needs</td>\n",
       "      <td>Special Needs</td>\n",
       "      <td>Grades PreK-2</td>\n",
       "      <td>Technology</td>\n",
       "      <td>257.88</td>\n",
       "      <td>...</td>\n",
       "      <td>Ms.</td>\n",
       "      <td>2012-01-17</td>\n",
       "      <td>South Park Elementary School</td>\n",
       "      <td>urban</td>\n",
       "      <td>73.0</td>\n",
       "      <td>California</td>\n",
       "      <td>Los Angeles</td>\n",
       "      <td>Los Angeles</td>\n",
       "      <td>Los Angeles Unif Sch Dist</td>\n",
       "      <td>NaN</td>\n",
       "    </tr>\n",
       "    <tr>\n",
       "      <th>2714273</th>\n",
       "      <td>775e57c1a2d7264253fc011b8b04fc90</td>\n",
       "      <td>c9043943a34e071507d18afa2a223344</td>\n",
       "      <td>4d043e9726cc06ce36c0a7b2a7dae806</td>\n",
       "      <td>122</td>\n",
       "      <td>Teacher-Led</td>\n",
       "      <td>Literacy &amp; Language, Applied Learning</td>\n",
       "      <td>Literacy, Parent Involvement</td>\n",
       "      <td>Grades PreK-2</td>\n",
       "      <td>Books</td>\n",
       "      <td>167.29</td>\n",
       "      <td>...</td>\n",
       "      <td>Mr.</td>\n",
       "      <td>2009-08-18</td>\n",
       "      <td>Aspire Monarch Academy</td>\n",
       "      <td>urban</td>\n",
       "      <td>95.0</td>\n",
       "      <td>California</td>\n",
       "      <td>Oakland</td>\n",
       "      <td>Alameda</td>\n",
       "      <td>Oakland Unified School Dist</td>\n",
       "      <td>AKJ Education</td>\n",
       "    </tr>\n",
       "    <tr>\n",
       "      <th>2714260</th>\n",
       "      <td>5d5c656453577e7f34d130a6377f0b26</td>\n",
       "      <td>f0f15aa4d4af999c15b3e20c528cdf10</td>\n",
       "      <td>f33deb0bb1093084fe217003c7744994</td>\n",
       "      <td>11</td>\n",
       "      <td>Teacher-Led</td>\n",
       "      <td>Literacy &amp; Language, Music &amp; The Arts</td>\n",
       "      <td>Literature &amp; Writing, Performing Arts</td>\n",
       "      <td>Grades 3-5</td>\n",
       "      <td>Technology</td>\n",
       "      <td>464.94</td>\n",
       "      <td>...</td>\n",
       "      <td>Mrs.</td>\n",
       "      <td>2008-02-02</td>\n",
       "      <td>Mountainview Elementary School</td>\n",
       "      <td>rural</td>\n",
       "      <td>8.0</td>\n",
       "      <td>California</td>\n",
       "      <td>Saugus</td>\n",
       "      <td>Los Angeles</td>\n",
       "      <td>Saugus Union Sch District</td>\n",
       "      <td>School Specialty</td>\n",
       "    </tr>\n",
       "    <tr>\n",
       "      <th>674444</th>\n",
       "      <td>7d9f823d78f59ce0b1e0a5633a21d742</td>\n",
       "      <td>af2a542b0f3dfa46a3db015596b381d1</td>\n",
       "      <td>3e3fc4aae13350f0bb04821bed088bad</td>\n",
       "      <td>1</td>\n",
       "      <td>Teacher-Led</td>\n",
       "      <td>Literacy &amp; Language</td>\n",
       "      <td>Literature &amp; Writing</td>\n",
       "      <td>Grades 3-5</td>\n",
       "      <td>Supplies</td>\n",
       "      <td>171.85</td>\n",
       "      <td>...</td>\n",
       "      <td>Mrs.</td>\n",
       "      <td>2013-01-02</td>\n",
       "      <td>Wogaman Middle School</td>\n",
       "      <td>urban</td>\n",
       "      <td>95.0</td>\n",
       "      <td>Ohio</td>\n",
       "      <td>Dayton</td>\n",
       "      <td>Montgomery</td>\n",
       "      <td>Dayton Public School District</td>\n",
       "      <td>ABC School Supply</td>\n",
       "    </tr>\n",
       "    <tr>\n",
       "      <th>674385</th>\n",
       "      <td>8df55925b7dac804b477812d1579db7f</td>\n",
       "      <td>47d58e1df9e7d6c4a94eca77d9e30176</td>\n",
       "      <td>7ed859daf2d3024f73767d9e4c94b9f0</td>\n",
       "      <td>9</td>\n",
       "      <td>Teacher-Led</td>\n",
       "      <td>Literacy &amp; Language</td>\n",
       "      <td>ESL, Literacy</td>\n",
       "      <td>Grades 3-5</td>\n",
       "      <td>Technology</td>\n",
       "      <td>333.59</td>\n",
       "      <td>...</td>\n",
       "      <td>Mr.</td>\n",
       "      <td>2010-08-01</td>\n",
       "      <td>Woodview Elementary School</td>\n",
       "      <td>unknown</td>\n",
       "      <td>88.0</td>\n",
       "      <td>Texas</td>\n",
       "      <td>Houston</td>\n",
       "      <td>Harris</td>\n",
       "      <td>Spring Branch Ind Sch District</td>\n",
       "      <td>Lakeshore Learning Materials</td>\n",
       "    </tr>\n",
       "  </tbody>\n",
       "</table>\n",
       "<p>5 rows × 23 columns</p>\n",
       "</div>"
      ],
      "text/plain": [
       "                               Project ID                         School ID  \\\n",
       "1794873  2f5dc731f6d178951e19e45abee43c7c  5031037d03c06ceff9ba022792740b8e   \n",
       "2714273  775e57c1a2d7264253fc011b8b04fc90  c9043943a34e071507d18afa2a223344   \n",
       "2714260  5d5c656453577e7f34d130a6377f0b26  f0f15aa4d4af999c15b3e20c528cdf10   \n",
       "674444   7d9f823d78f59ce0b1e0a5633a21d742  af2a542b0f3dfa46a3db015596b381d1   \n",
       "674385   8df55925b7dac804b477812d1579db7f  47d58e1df9e7d6c4a94eca77d9e30176   \n",
       "\n",
       "                               Teacher ID  Teacher Project Posted Sequence  \\\n",
       "1794873  dff7c4c8d4ead22c65b0b6bc9707be2a                               29   \n",
       "2714273  4d043e9726cc06ce36c0a7b2a7dae806                              122   \n",
       "2714260  f33deb0bb1093084fe217003c7744994                               11   \n",
       "674444   3e3fc4aae13350f0bb04821bed088bad                                1   \n",
       "674385   7ed859daf2d3024f73767d9e4c94b9f0                                9   \n",
       "\n",
       "        Project Type          Project Subject Category Tree  \\\n",
       "1794873  Teacher-Led                          Special Needs   \n",
       "2714273  Teacher-Led  Literacy & Language, Applied Learning   \n",
       "2714260  Teacher-Led  Literacy & Language, Music & The Arts   \n",
       "674444   Teacher-Led                    Literacy & Language   \n",
       "674385   Teacher-Led                    Literacy & Language   \n",
       "\n",
       "              Project Subject Subcategory Tree Project Grade Level Category  \\\n",
       "1794873                          Special Needs                Grades PreK-2   \n",
       "2714273           Literacy, Parent Involvement                Grades PreK-2   \n",
       "2714260  Literature & Writing, Performing Arts                   Grades 3-5   \n",
       "674444                    Literature & Writing                   Grades 3-5   \n",
       "674385                           ESL, Literacy                   Grades 3-5   \n",
       "\n",
       "        Project Resource Category  Project Cost  ... Teacher Prefix  \\\n",
       "1794873                Technology        257.88  ...            Ms.   \n",
       "2714273                     Books        167.29  ...            Mr.   \n",
       "2714260                Technology        464.94  ...           Mrs.   \n",
       "674444                   Supplies        171.85  ...           Mrs.   \n",
       "674385                 Technology        333.59  ...            Mr.   \n",
       "\n",
       "        Teacher First Project Posted Date                     School Name  \\\n",
       "1794873                        2012-01-17    South Park Elementary School   \n",
       "2714273                        2009-08-18          Aspire Monarch Academy   \n",
       "2714260                        2008-02-02  Mountainview Elementary School   \n",
       "674444                         2013-01-02          Wogaman Middle School    \n",
       "674385                         2010-08-01      Woodview Elementary School   \n",
       "\n",
       "        School Metro Type School Percentage Free Lunch School State  \\\n",
       "1794873             urban                         73.0   California   \n",
       "2714273             urban                         95.0   California   \n",
       "2714260             rural                          8.0   California   \n",
       "674444              urban                         95.0         Ohio   \n",
       "674385            unknown                         88.0        Texas   \n",
       "\n",
       "         School City  School County                 School District  \\\n",
       "1794873  Los Angeles    Los Angeles       Los Angeles Unif Sch Dist   \n",
       "2714273      Oakland        Alameda     Oakland Unified School Dist   \n",
       "2714260       Saugus    Los Angeles       Saugus Union Sch District   \n",
       "674444        Dayton     Montgomery   Dayton Public School District   \n",
       "674385       Houston         Harris  Spring Branch Ind Sch District   \n",
       "\n",
       "                 Resource Vendor Name  \n",
       "1794873                           NaN  \n",
       "2714273                 AKJ Education  \n",
       "2714260              School Specialty  \n",
       "674444              ABC School Supply  \n",
       "674385   Lakeshore Learning Materials  \n",
       "\n",
       "[5 rows x 23 columns]"
      ]
     },
     "execution_count": 325,
     "metadata": {},
     "output_type": "execute_result"
    }
   ],
   "source": [
    "labelled_data_p_d_d_t_s_r.head()"
   ]
  },
  {
   "cell_type": "code",
   "execution_count": 327,
   "id": "f55ed208",
   "metadata": {},
   "outputs": [
    {
     "data": {
      "text/plain": [
       "Project ID                           579343\n",
       "School ID                            579343\n",
       "Teacher ID                           579343\n",
       "Teacher Project Posted Sequence      579343\n",
       "Project Type                         579343\n",
       "Project Subject Category Tree        579330\n",
       "Project Subject Subcategory Tree     579330\n",
       "Project Grade Level Category         579343\n",
       "Project Resource Category            579326\n",
       "Project Cost                         579343\n",
       "Project Posted Date                  579343\n",
       "Project Expiration Date              579342\n",
       "Label                                579343\n",
       "Teacher Prefix                       579316\n",
       "Teacher First Project Posted Date    579340\n",
       "School Name                          579342\n",
       "School Metro Type                    579342\n",
       "School Percentage Free Lunch         576993\n",
       "School State                         579342\n",
       "School City                          575604\n",
       "School County                        579339\n",
       "School District                      579342\n",
       "Resource Vendor Name                 557509\n",
       "dtype: int64"
      ]
     },
     "execution_count": 327,
     "metadata": {},
     "output_type": "execute_result"
    }
   ],
   "source": [
    "labelled_data_p_d_d_t_s_r.count()"
   ]
  },
  {
   "cell_type": "code",
   "execution_count": 328,
   "id": "65f99698",
   "metadata": {},
   "outputs": [],
   "source": [
    "labelled_data_p_d_d_t_s_r = labelled_data_p_d_d_t_s_r.drop_duplicates(subset=[\"Project ID\"])"
   ]
  },
  {
   "cell_type": "code",
   "execution_count": 329,
   "id": "aec78c91",
   "metadata": {},
   "outputs": [
    {
     "data": {
      "text/plain": [
       "Project ID                           579343\n",
       "School ID                            579343\n",
       "Teacher ID                           579343\n",
       "Teacher Project Posted Sequence      579343\n",
       "Project Type                         579343\n",
       "Project Subject Category Tree        579330\n",
       "Project Subject Subcategory Tree     579330\n",
       "Project Grade Level Category         579343\n",
       "Project Resource Category            579326\n",
       "Project Cost                         579343\n",
       "Project Posted Date                  579343\n",
       "Project Expiration Date              579342\n",
       "Label                                579343\n",
       "Teacher Prefix                       579316\n",
       "Teacher First Project Posted Date    579340\n",
       "School Name                          579342\n",
       "School Metro Type                    579342\n",
       "School Percentage Free Lunch         576993\n",
       "School State                         579342\n",
       "School City                          575604\n",
       "School County                        579339\n",
       "School District                      579342\n",
       "Resource Vendor Name                 557509\n",
       "dtype: int64"
      ]
     },
     "execution_count": 329,
     "metadata": {},
     "output_type": "execute_result"
    }
   ],
   "source": [
    "labelled_data_p_d_d_t_s_r.count()"
   ]
  },
  {
   "cell_type": "code",
   "execution_count": 330,
   "id": "af2607d7",
   "metadata": {},
   "outputs": [
    {
     "data": {
      "text/plain": [
       "Project ID                           579343\n",
       "School ID                             62422\n",
       "Teacher ID                           263294\n",
       "Teacher Project Posted Sequence         478\n",
       "Project Type                              3\n",
       "Project Subject Category Tree            51\n",
       "Project Subject Subcategory Tree        426\n",
       "Project Grade Level Category              5\n",
       "Project Resource Category                17\n",
       "Project Cost                         122033\n",
       "Project Posted Date                    1825\n",
       "Project Expiration Date                1952\n",
       "Label                                     2\n",
       "Teacher Prefix                            6\n",
       "Teacher First Project Posted Date      4494\n",
       "School Name                           49066\n",
       "School Metro Type                         5\n",
       "School Percentage Free Lunch            101\n",
       "School State                             51\n",
       "School City                            9421\n",
       "School County                          1717\n",
       "School District                        9723\n",
       "Resource Vendor Name                     28\n",
       "dtype: int64"
      ]
     },
     "execution_count": 330,
     "metadata": {},
     "output_type": "execute_result"
    }
   ],
   "source": [
    "labelled_data_p_d_d_t_s_r.nunique()"
   ]
  },
  {
   "cell_type": "code",
   "execution_count": 332,
   "id": "87cd337f",
   "metadata": {},
   "outputs": [],
   "source": [
    "labelled_data_p_d_d_t_s_r.to_csv(\"./Dataset.csv\", index=False)"
   ]
  }
 ],
 "metadata": {
  "kernelspec": {
   "display_name": "Python 3 (ipykernel)",
   "language": "python",
   "name": "python3"
  },
  "language_info": {
   "codemirror_mode": {
    "name": "ipython",
    "version": 3
   },
   "file_extension": ".py",
   "mimetype": "text/x-python",
   "name": "python",
   "nbconvert_exporter": "python",
   "pygments_lexer": "ipython3",
   "version": "3.11.4"
  }
 },
 "nbformat": 4,
 "nbformat_minor": 5
}
